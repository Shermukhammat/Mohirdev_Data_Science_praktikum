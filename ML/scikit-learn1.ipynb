{
  "nbformat": 4,
  "nbformat_minor": 0,
  "metadata": {
    "colab": {
      "provenance": [],
      "authorship_tag": "ABX9TyPXK6BFa1gbCgIlZmyPMLmp",
      "include_colab_link": true
    },
    "kernelspec": {
      "name": "python3",
      "display_name": "Python 3"
    },
    "language_info": {
      "name": "python"
    }
  },
  "cells": [
    {
      "cell_type": "markdown",
      "metadata": {
        "id": "view-in-github",
        "colab_type": "text"
      },
      "source": [
        "<a href=\"https://colab.research.google.com/github/SHermukhammadjon/Mohirdev_Data_Science_praktikum/blob/main/ML/scikit-learn1.ipynb\" target=\"_parent\"><img src=\"https://colab.research.google.com/assets/colab-badge.svg\" alt=\"Open In Colab\"/></a>"
      ]
    },
    {
      "cell_type": "code",
      "execution_count": 114,
      "metadata": {
        "id": "s2Yu3RU9SlQd"
      },
      "outputs": [],
      "source": [
        "import pandas as pd\n",
        "import numpy as np\n",
        "from sklearn.metrics import mean_absolute_error\n",
        "from sklearn.metrics import mean_squared_error\n",
        "from IPython.display import display\n",
        "import sklearn # Scikit-learn kutubxonasi"
      ]
    },
    {
      "cell_type": "code",
      "source": [
        "y_test = np.array([600, 6953, 6364, 6643, 45365, 3654, 11564])\n",
        "y_pred = np.array([500, 1953, 7364, 8643, 65365, 1654, 11064])"
      ],
      "metadata": {
        "id": "grUNNuj-gsl4"
      },
      "execution_count": 49,
      "outputs": []
    },
    {
      "cell_type": "markdown",
      "source": [
        "# mean_absolute_error"
      ],
      "metadata": {
        "id": "ElO3aK7hlwiB"
      }
    },
    {
      "cell_type": "code",
      "source": [
        "mean_absolute_error(y_test, y_pred)"
      ],
      "metadata": {
        "id": "VB7zpp1jUk6Z",
        "colab": {
          "base_uri": "https://localhost:8080/"
        },
        "outputId": "4dc187b4-8fdd-4eb4-cbf3-bfc9767b66a8"
      },
      "execution_count": 50,
      "outputs": [
        {
          "output_type": "execute_result",
          "data": {
            "text/plain": [
              "4371.428571428572"
            ]
          },
          "metadata": {},
          "execution_count": 50
        }
      ]
    },
    {
      "cell_type": "code",
      "source": [
        "def my_mean_absolute_error(y_test, y_pred):\n",
        "  m = len(y_pred)\n",
        "  hipotes = abs(y_pred - y_test).sum()\n",
        "  return hipotes / m "
      ],
      "metadata": {
        "id": "dlHNWxh1iO8q"
      },
      "execution_count": 63,
      "outputs": []
    },
    {
      "cell_type": "code",
      "source": [
        "my_mean_absolute_error(y_test, y_pred)"
      ],
      "metadata": {
        "colab": {
          "base_uri": "https://localhost:8080/"
        },
        "id": "JxbOqFUCjALA",
        "outputId": "a394baf0-9acd-47ba-bf55-08e472848da5"
      },
      "execution_count": 64,
      "outputs": [
        {
          "output_type": "execute_result",
          "data": {
            "text/plain": [
              "4371.428571428572"
            ]
          },
          "metadata": {},
          "execution_count": 64
        }
      ]
    },
    {
      "cell_type": "markdown",
      "source": [
        "# mean_squared_error"
      ],
      "metadata": {
        "id": "BCAGqFvMlzTf"
      }
    },
    {
      "cell_type": "code",
      "source": [
        "mean_squared_error(y_test, y_pred)"
      ],
      "metadata": {
        "id": "LCpH0pmJSsHt",
        "colab": {
          "base_uri": "https://localhost:8080/"
        },
        "outputId": "df69c36e-d3ae-43ad-c25e-7e7427fc50ec"
      },
      "execution_count": 101,
      "outputs": [
        {
          "output_type": "execute_result",
          "data": {
            "text/plain": [
              "62037142.85714286"
            ]
          },
          "metadata": {},
          "execution_count": 101
        }
      ]
    },
    {
      "cell_type": "code",
      "source": [
        "def my_mean_squared_error(y_test, y_pred):\n",
        "  m = len(y_pred)\n",
        "  return sum((y_test - y_pred)**2) / m"
      ],
      "metadata": {
        "id": "PTMVUsh3jANl"
      },
      "execution_count": 111,
      "outputs": []
    },
    {
      "cell_type": "code",
      "source": [
        "my_mean_squared_error(y_test, y_pred)"
      ],
      "metadata": {
        "colab": {
          "base_uri": "https://localhost:8080/"
        },
        "id": "edMp8hhwiWLV",
        "outputId": "16ae9ce7-a929-4e40-e1a8-084ef639aa6c"
      },
      "execution_count": 112,
      "outputs": [
        {
          "output_type": "execute_result",
          "data": {
            "text/plain": [
              "62037142.85714286"
            ]
          },
          "metadata": {},
          "execution_count": 112
        }
      ]
    },
    {
      "cell_type": "code",
      "source": [],
      "metadata": {
        "id": "MfRzn4zLmjcp"
      },
      "execution_count": null,
      "outputs": []
    },
    {
      "cell_type": "code",
      "source": [],
      "metadata": {
        "id": "sPKr4DgFqa4x"
      },
      "execution_count": null,
      "outputs": []
    },
    {
      "cell_type": "code",
      "source": [],
      "metadata": {
        "id": "P4stW6_-qa7n"
      },
      "execution_count": null,
      "outputs": []
    },
    {
      "cell_type": "code",
      "source": [],
      "metadata": {
        "id": "LTjcTJvsqa-e"
      },
      "execution_count": null,
      "outputs": []
    }
  ]
}