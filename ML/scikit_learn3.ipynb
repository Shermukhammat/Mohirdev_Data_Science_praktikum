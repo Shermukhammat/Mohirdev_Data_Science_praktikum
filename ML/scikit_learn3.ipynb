{
  "nbformat": 4,
  "nbformat_minor": 0,
  "metadata": {
    "colab": {
      "provenance": [],
      "authorship_tag": "ABX9TyM3ZNAc5gOmnB8AU7q1weCa",
      "include_colab_link": true
    },
    "kernelspec": {
      "name": "python3",
      "display_name": "Python 3"
    },
    "language_info": {
      "name": "python"
    }
  },
  "cells": [
    {
      "cell_type": "markdown",
      "metadata": {
        "id": "view-in-github",
        "colab_type": "text"
      },
      "source": [
        "<a href=\"https://colab.research.google.com/github/SHermukhammadjon/Mohirdev_Data_Science_praktikum/blob/main/ML/scikit_learn3.ipynb\" target=\"_parent\"><img src=\"https://colab.research.google.com/assets/colab-badge.svg\" alt=\"Open In Colab\"/></a>"
      ]
    },
    {
      "cell_type": "markdown",
      "source": [
        "# Maschine Learning Loyiha qadamalri\n",
        "(3-notebook)\n",
        "\n",
        "<img src=\"https://drive.google.com/uc?id=1ZKgMJ92OMgfBHsvQmFmNhXw5aM9P9vXu\">"
      ],
      "metadata": {
        "id": "WXyo8c0ElPFy"
      }
    },
    {
      "cell_type": "code",
      "execution_count": 3,
      "metadata": {
        "id": "Se_o3ns-lAT5"
      },
      "outputs": [],
      "source": [
        "import pandas as pd\n",
        "import numpy as np"
      ]
    },
    {
      "cell_type": "code",
      "source": [],
      "metadata": {
        "id": "lM0oV5JllJya"
      },
      "execution_count": null,
      "outputs": []
    }
  ]
}