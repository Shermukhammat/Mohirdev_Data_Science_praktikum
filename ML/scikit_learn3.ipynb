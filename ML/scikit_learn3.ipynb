{
  "nbformat": 4,
  "nbformat_minor": 0,
  "metadata": {
    "colab": {
      "provenance": [],
      "authorship_tag": "ABX9TyONisAkQCSSg7CriWN71Zoh",
      "include_colab_link": true
    },
    "kernelspec": {
      "name": "python3",
      "display_name": "Python 3"
    },
    "language_info": {
      "name": "python"
    }
  },
  "cells": [
    {
      "cell_type": "markdown",
      "metadata": {
        "id": "view-in-github",
        "colab_type": "text"
      },
      "source": [
        "<a href=\"https://colab.research.google.com/github/SHermukhammadjon/Mohirdev_Data_Science_praktikum/blob/main/ML/scikit_learn3.ipynb\" target=\"_parent\"><img src=\"https://colab.research.google.com/assets/colab-badge.svg\" alt=\"Open In Colab\"/></a>"
      ]
    },
    {
      "cell_type": "markdown",
      "source": [
        "# Maschine Learning Loyiha qadamalri\n",
        "(3-notebook)\n",
        "\n",
        "<img src=\"https://drive.google.com/uc?id=1ZKgMJ92OMgfBHsvQmFmNhXw5aM9P9vXu\">"
      ],
      "metadata": {
        "id": "WXyo8c0ElPFy"
      }
    },
    {
      "cell_type": "code",
      "execution_count": 11,
      "metadata": {
        "id": "Se_o3ns-lAT5"
      },
      "outputs": [],
      "source": [
        "import pandas as pd\n",
        "import numpy as np"
      ]
    },
    {
      "cell_type": "markdown",
      "source": [
        "## 3-QADAM. MLga tayyorgarlik. Pipeline. Sonlar\n",
        "### 25.05.2023"
      ],
      "metadata": {
        "id": "U8vLkB8Gpmvz"
      }
    },
    {
      "cell_type": "code",
      "source": [
        "from sklearn.model_selection import train_test_split\n",
        "\n",
        "dataset = pd.read_csv(\"https://github.com/ageron/handson-ml2/blob/master/datasets/housing/housing.csv?raw=true\")\n",
        "train_set, test_set = train_test_split(dataset)\n",
        "\n",
        "housing = train_set.drop('median_house_value', axis = 1)\n",
        "housing_lables = train_set['median_house_value'].copy()\n",
        "\n",
        "housing_num = train_set.drop('ocean_proximity', axis = 1)"
      ],
      "metadata": {
        "id": "lM0oV5JllJya"
      },
      "execution_count": 21,
      "outputs": []
    },
    {
      "cell_type": "code",
      "source": [
        "from sklearn.base import BaseEstimator, TransformerMixin\n",
        "# we should columns indexs \n",
        "rooms_ix, bedrooms_ix, population_ix, households_ix = 3, 4, 5, 6\n",
        "\n",
        "class CombineAttributesAdder(BaseEstimator, TransformerMixin):\n",
        "  def __init__(self, add_bedrooms_per_room = False):\n",
        "    self.add_bedrooms_per_room = add_bedrooms_per_room\n",
        "  \n",
        "  def fit(self, X, y = None):\n",
        "    return self\n",
        "  \n",
        "  def transform(self, X):\n",
        "    rooms_per_household = X[:, rooms_ix] / X[:, households_ix]\n",
        "    population_per_household = X[:, population_ix] / X[:, households_ix]\n",
        "    if self.add_bedrooms_per_room:\n",
        "      bedrooms_per_room = X[:, bedrooms_ix] / X[:, rooms_ix]\n",
        "      return np.c_[X, rooms_per_household, population_per_household, bedrooms_per_room]\n",
        "    else:\n",
        "      return np.c_[X, rooms_per_household, population_per_household]"
      ],
      "metadata": {
        "id": "A5iktv1WmH9Y"
      },
      "execution_count": 8,
      "outputs": []
    },
    {
      "cell_type": "code",
      "source": [
        "from sklearn.pipeline import Pipeline\n",
        "from sklearn.impute import SimpleImputer\n",
        "from sklearn.preprocessing import OneHotEncoder, StandardScaler\n",
        "\n",
        "num_pipline = Pipeline([\n",
        "    ('imputer', SimpleImputer(strategy='median')),\n",
        "    ('atribut_adder', CombineAttributesAdder(add_bedrooms_per_room = True)),\n",
        "    ('standart_scaler', StandardScaler())\n",
        "])\n",
        "\n",
        "num_pipline.fit_transform(housing_num)"
      ],
      "metadata": {
        "id": "oou5rQXZntyr",
        "outputId": "8ae72bbc-ebcb-4b3c-93b3-e94474fcb117",
        "colab": {
          "base_uri": "https://localhost:8080/"
        }
      },
      "execution_count": 27,
      "outputs": [
        {
          "output_type": "execute_result",
          "data": {
            "text/plain": [
              "array([[ 0.66987977, -0.71345464,  0.18882375, ..., -0.03563966,\n",
              "        -0.04346022, -0.40694345],\n",
              "       [ 0.97371258, -0.73213971, -1.07702006, ...,  0.04265518,\n",
              "         0.06834618, -0.21239984],\n",
              "       [-1.42706466,  1.00090054,  1.85024374, ..., -0.03692987,\n",
              "        -0.04342158,  0.18262553],\n",
              "       ...,\n",
              "       [ 0.71470756, -0.68542703,  0.42616946, ..., -0.42502035,\n",
              "         0.06080067,  0.6138086 ],\n",
              "       [-1.2178683 ,  0.63187041,  0.10970851, ..., -0.30260504,\n",
              "        -0.07338588,  0.19071243],\n",
              "       [-1.41710293,  1.24847772, -0.83967435, ...,  0.57939663,\n",
              "        -0.04823002, -0.72637634]])"
            ]
          },
          "metadata": {},
          "execution_count": 27
        }
      ]
    },
    {
      "cell_type": "code",
      "source": [],
      "metadata": {
        "id": "wkLZx786pfoQ"
      },
      "execution_count": null,
      "outputs": []
    },
    {
      "cell_type": "code",
      "source": [],
      "metadata": {
        "id": "bh2ulToDpfs7"
      },
      "execution_count": null,
      "outputs": []
    },
    {
      "cell_type": "code",
      "source": [],
      "metadata": {
        "id": "ekcCM6LYnpoU"
      },
      "execution_count": null,
      "outputs": []
    },
    {
      "cell_type": "code",
      "source": [],
      "metadata": {
        "id": "o9tXhv5-ntqD"
      },
      "execution_count": null,
      "outputs": []
    },
    {
      "cell_type": "code",
      "source": [],
      "metadata": {
        "id": "qe19hQ9PmZGm"
      },
      "execution_count": null,
      "outputs": []
    }
  ]
}