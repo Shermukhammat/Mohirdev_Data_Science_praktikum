{
  "cells": [
    {
      "cell_type": "markdown",
      "metadata": {
        "colab_type": "text",
        "id": "view-in-github"
      },
      "source": [
        "<a href=\"https://colab.research.google.com/github/SHermukhammadjon/Mohirdev_Data_Science_praktikum/blob/main/Transposing_and_Swapping11.ipynb\" target=\"_parent\"><img src=\"https://colab.research.google.com/assets/colab-badge.svg\" alt=\"Open In Colab\"/></a>"
      ]
    },
    {
      "cell_type": "markdown",
      "metadata": {
        "id": "9LY1oPYtEBC6"
      },
      "source": [
        "# ![Imgur](https://i.imgur.com/5pXzCIu.png)\n",
        "#\\#8.11 Array o'qlarini almashtirish"
      ]
    },
    {
      "cell_type": "code",
      "execution_count": 1,
      "metadata": {
        "id": "LGX7dq25D0rz"
      },
      "outputs": [],
      "source": [
        "import numpy as np "
      ]
    },
    {
      "cell_type": "markdown",
      "metadata": {
        "id": "mH6twQOlFUt5"
      },
      "source": [
        "## Massivlarning positsiyasini ko'chirish ***Tanspose*** va o'qlar o'rnini almashtirish ***Swapping axes***.\n",
        "\n",
        "### Massivning ustun va qatorlari o'rnini almashtiri jarayon  Transpose deyladi.\n",
        "\n",
        "<img src='https://drive.google.com/uc?id=150sBCzXJgwsBXYhnPFVG4odnuJ2GnEf-'>"
      ]
    },
    {
      "cell_type": "markdown",
      "metadata": {
        "id": "lKK0JTIvJOQN"
      },
      "source": [
        "## ***reshape*** metodi:"
      ]
    },
    {
      "cell_type": "code",
      "execution_count": 11,
      "metadata": {
        "colab": {
          "base_uri": "https://localhost:8080/"
        },
        "id": "D_EuVRS5EAu4",
        "outputId": "734f4143-a399-4c6e-fb75-abe0b057ea2b"
      },
      "outputs": [
        {
          "data": {
            "text/plain": [
              "array([ 0,  1,  2,  3,  4,  5,  6,  7,  8,  9, 10, 11])"
            ]
          },
          "execution_count": 11,
          "metadata": {},
          "output_type": "execute_result"
        }
      ],
      "source": [
        "A = np.arange(12)\n",
        "A "
      ]
    },
    {
      "cell_type": "code",
      "execution_count": 12,
      "metadata": {
        "colab": {
          "base_uri": "https://localhost:8080/"
        },
        "id": "yllR0rwcJWT-",
        "outputId": "3816ea9c-ef3c-49d6-bc81-b752e6ac2e15"
      },
      "outputs": [
        {
          "data": {
            "text/plain": [
              "array([[ 0,  1,  2,  3],\n",
              "       [ 4,  5,  6,  7],\n",
              "       [ 8,  9, 10, 11]])"
            ]
          },
          "execution_count": 12,
          "metadata": {},
          "output_type": "execute_result"
        }
      ],
      "source": [
        "A = np.arange(12).reshape(3, 4)\n",
        "A "
      ]
    },
    {
      "cell_type": "markdown",
      "metadata": {
        "id": "-Li10EG9LEqa"
      },
      "source": [
        "### ***Trasnpose:***"
      ]
    },
    {
      "cell_type": "code",
      "execution_count": 13,
      "metadata": {
        "colab": {
          "base_uri": "https://localhost:8080/"
        },
        "id": "fBxF3BjSJ00a",
        "outputId": "8a33f170-940f-4ed4-e0b5-38874127d452"
      },
      "outputs": [
        {
          "data": {
            "text/plain": [
              "array([[ 0,  4,  8],\n",
              "       [ 1,  5,  9],\n",
              "       [ 2,  6, 10],\n",
              "       [ 3,  7, 11]])"
            ]
          },
          "execution_count": 13,
          "metadata": {},
          "output_type": "execute_result"
        }
      ],
      "source": [
        "A.T # A massivning Transpose ko'rinishini beradi"
      ]
    },
    {
      "cell_type": "markdown",
      "metadata": {
        "id": "U-KM8n6qLoFq"
      },
      "source": [
        "## ***Swapping axes*** usluli yordamda massivning o'qlarni almashtrish"
      ]
    },
    {
      "cell_type": "code",
      "execution_count": 18,
      "metadata": {
        "colab": {
          "base_uri": "https://localhost:8080/"
        },
        "id": "AOMxEi5MLYcr",
        "outputId": "9aa85c1b-7554-4467-f938-bcb813c4bb72"
      },
      "outputs": [
        {
          "data": {
            "text/plain": [
              "array([[ 0,  1,  2,  3],\n",
              "       [ 4,  5,  6,  7],\n",
              "       [ 8,  9, 10, 11]])"
            ]
          },
          "execution_count": 18,
          "metadata": {},
          "output_type": "execute_result"
        }
      ],
      "source": [
        "A"
      ]
    },
    {
      "cell_type": "code",
      "execution_count": 21,
      "metadata": {
        "colab": {
          "base_uri": "https://localhost:8080/"
        },
        "id": "SrDzfFHqL88E",
        "outputId": "a93e2df9-d0bf-44f9-e014-7e0b1cbc100e"
      },
      "outputs": [
        {
          "data": {
            "text/plain": [
              "array([[ 0,  4,  8],\n",
              "       [ 1,  5,  9],\n",
              "       [ 2,  6, 10],\n",
              "       [ 3,  7, 11]])"
            ]
          },
          "execution_count": 21,
          "metadata": {},
          "output_type": "execute_result"
        }
      ],
      "source": [
        "A.swapaxes(1, 0) #Ther is sawaping indiex 0 and 1 "
      ]
    },
    {
      "cell_type": "markdown",
      "metadata": {
        "id": "G3eqsgluM7f1"
      },
      "source": [
        "## ***Transpose***ning ishlatilshga misollar: A*A^T"
      ]
    },
    {
      "cell_type": "code",
      "execution_count": 22,
      "metadata": {
        "colab": {
          "base_uri": "https://localhost:8080/"
        },
        "id": "HzS1Ov7EMJyM",
        "outputId": "dfcdd049-e8c4-47a9-da90-4b218827a4d8"
      },
      "outputs": [
        {
          "data": {
            "text/plain": [
              "array([[0, 1, 2],\n",
              "       [3, 4, 5],\n",
              "       [6, 7, 8]])"
            ]
          },
          "execution_count": 22,
          "metadata": {},
          "output_type": "execute_result"
        }
      ],
      "source": [
        "A = np.arange(9).reshape(3, 3)\n",
        "A"
      ]
    },
    {
      "cell_type": "code",
      "execution_count": 23,
      "metadata": {
        "colab": {
          "base_uri": "https://localhost:8080/"
        },
        "id": "DEDFrLZgNG17",
        "outputId": "f2fa0121-84a1-4c34-deec-47432d42fa8b"
      },
      "outputs": [
        {
          "data": {
            "text/plain": [
              "array([[0, 3, 6],\n",
              "       [1, 4, 7],\n",
              "       [2, 5, 8]])"
            ]
          },
          "execution_count": 23,
          "metadata": {},
          "output_type": "execute_result"
        }
      ],
      "source": [
        "A.T "
      ]
    },
    {
      "cell_type": "code",
      "execution_count": 24,
      "metadata": {
        "colab": {
          "base_uri": "https://localhost:8080/"
        },
        "id": "SVCP6DxLNIFj",
        "outputId": "a7994941-633c-40bf-912f-be5600e3d293"
      },
      "outputs": [
        {
          "data": {
            "text/plain": [
              "array([[  5,  14,  23],\n",
              "       [ 14,  50,  86],\n",
              "       [ 23,  86, 149]])"
            ]
          },
          "execution_count": 24,
          "metadata": {},
          "output_type": "execute_result"
        }
      ],
      "source": [
        "np.dot(A, A.T)"
      ]
    },
    {
      "cell_type": "code",
      "execution_count": 25,
      "metadata": {
        "colab": {
          "base_uri": "https://localhost:8080/"
        },
        "id": "agGeJwSgNM7G",
        "outputId": "d86b7e6d-e188-4497-844d-f6fe84638065"
      },
      "outputs": [
        {
          "data": {
            "text/plain": [
              "array([-0.03001818,  1.36846717, -0.42666696, -1.04532661, -0.3750973 ,\n",
              "        1.08288433,  0.17027733, -0.24105425, -0.46854767,  0.77114961])"
            ]
          },
          "execution_count": 25,
          "metadata": {},
          "output_type": "execute_result"
        }
      ],
      "source": [
        "np.random.randn(10)"
      ]
    },
    {
      "cell_type": "code",
      "execution_count": null,
      "metadata": {
        "id": "IeTvbPIuPkdq"
      },
      "outputs": [],
      "source": []
    }
  ],
  "metadata": {
    "colab": {
      "authorship_tag": "ABX9TyNooLgL4bTpY810MkBS3vDw",
      "include_colab_link": true,
      "provenance": []
    },
    "kernelspec": {
      "display_name": ".venv",
      "language": "python",
      "name": "python3"
    },
    "language_info": {
      "codemirror_mode": {
        "name": "ipython",
        "version": 3
      },
      "file_extension": ".py",
      "mimetype": "text/x-python",
      "name": "python",
      "nbconvert_exporter": "python",
      "pygments_lexer": "ipython3",
      "version": "3.11.9"
    }
  },
  "nbformat": 4,
  "nbformat_minor": 0
}
