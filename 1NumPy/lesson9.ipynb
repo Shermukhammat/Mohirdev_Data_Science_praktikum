{
  "cells": [
    {
      "cell_type": "markdown",
      "metadata": {
        "colab_type": "text",
        "id": "view-in-github"
      },
      "source": [
        "<a href=\"https://colab.research.google.com/github/SHermukhammadjon/Mohirdev_Data_Science_praktikum/blob/main/matematik_va_statistik_ammallar16.ipynb\" target=\"_parent\"><img src=\"https://colab.research.google.com/assets/colab-badge.svg\" alt=\"Open In Colab\"/></a>"
      ]
    },
    {
      "cell_type": "markdown",
      "metadata": {
        "id": "yCoQJjVQW8EC"
      },
      "source": [
        "# ![Imgur](https://i.imgur.com/5pXzCIu.png)\n",
        "#\\#8.15 Matematik va statistik amallar"
      ]
    },
    {
      "cell_type": "code",
      "execution_count": 1,
      "metadata": {
        "id": "YKxelI6pWyq7"
      },
      "outputs": [],
      "source": [
        "import numpy as np"
      ]
    },
    {
      "cell_type": "markdown",
      "metadata": {
        "id": "cIY6uMNUX4EV"
      },
      "source": [
        "## Statistik metodlar\n",
        "<img src='https://drive.google.com/uc?id=1H0HMoW5_xT5IuowjtpTjGD9JGLAbDTDY'>"
      ]
    },
    {
      "cell_type": "code",
      "execution_count": 7,
      "metadata": {
        "colab": {
          "base_uri": "https://localhost:8080/"
        },
        "id": "nS1cDX-_XVvz",
        "outputId": "7fa8d823-6105-4b9b-c0d2-e44dea842b08"
      },
      "outputs": [
        {
          "data": {
            "text/plain": [
              "array([[-0.17352178,  1.31728761,  0.38041688,  0.72811909],\n",
              "       [ 0.59103671,  0.21140591,  0.33817306,  0.56691841],\n",
              "       [ 1.01730818, -2.08579683, -0.36187096,  0.04112   ],\n",
              "       [-0.12584712, -0.40173316, -0.50246007, -0.72880766],\n",
              "       [-0.22623026, -1.04606223, -0.48880839, -0.81916829]])"
            ]
          },
          "execution_count": 7,
          "metadata": {},
          "output_type": "execute_result"
        }
      ],
      "source": [
        "# data\n",
        "arr = np.random.randn(5, 4) # 5ga 4 o'lchamli taxminy elementlardan tashkil topgan array\n",
        "arr"
      ]
    },
    {
      "cell_type": "markdown",
      "metadata": {
        "id": "qPs8fILhZBNB"
      },
      "source": [
        "## ***Sum*** metodi"
      ]
    },
    {
      "cell_type": "code",
      "execution_count": 9,
      "metadata": {
        "colab": {
          "base_uri": "https://localhost:8080/"
        },
        "id": "cAQienp9YoXz",
        "outputId": "04a95dc0-1248-47c7-b213-5bd23f13aa85"
      },
      "outputs": [
        {
          "data": {
            "text/plain": [
              "np.float64(-1.768520915662883)"
            ]
          },
          "execution_count": 9,
          "metadata": {},
          "output_type": "execute_result"
        }
      ],
      "source": [
        "arr.sum() # arrayning barcha elementlarni yig'ndsini qaytaradi"
      ]
    },
    {
      "cell_type": "code",
      "execution_count": 10,
      "metadata": {
        "colab": {
          "base_uri": "https://localhost:8080/"
        },
        "id": "49q3ImCkYrPz",
        "outputId": "c4865ed0-31cd-4b26-e5e2-2635a8c15afe"
      },
      "outputs": [
        {
          "data": {
            "text/plain": [
              "np.float64(-1.768520915662883)"
            ]
          },
          "execution_count": 10,
          "metadata": {},
          "output_type": "execute_result"
        }
      ],
      "source": [
        "np.sum(arr)"
      ]
    },
    {
      "cell_type": "code",
      "execution_count": 11,
      "metadata": {
        "colab": {
          "base_uri": "https://localhost:8080/"
        },
        "id": "lob2csl-Y2e8",
        "outputId": "aefa1720-8e88-4002-b53f-49814edb9ac8"
      },
      "outputs": [
        {
          "data": {
            "text/plain": [
              "array([ 2.2523018 ,  1.70753408, -1.38923961, -1.75884801, -2.58026917])"
            ]
          },
          "execution_count": 11,
          "metadata": {},
          "output_type": "execute_result"
        }
      ],
      "source": [
        "arr.sum(axis=1) # axis 1 bo'ycha harbir listni elementlarni yigndsi"
      ]
    },
    {
      "cell_type": "code",
      "execution_count": 12,
      "metadata": {
        "colab": {
          "base_uri": "https://localhost:8080/"
        },
        "id": "Pr_1yMnOY9jl",
        "outputId": "db1e7491-00df-4f13-fc8a-c20f24ee0d14"
      },
      "outputs": [
        {
          "data": {
            "text/plain": [
              "array([ 1.08274572, -2.00489871, -0.63454948, -0.21181846])"
            ]
          },
          "execution_count": 12,
          "metadata": {},
          "output_type": "execute_result"
        }
      ],
      "source": [
        "arr.sum(axis=0) # ustun bo'ycha yig'ndi"
      ]
    },
    {
      "cell_type": "markdown",
      "metadata": {
        "id": "ybpSgJDvZqBS"
      },
      "source": [
        "## ***mean*** metodi"
      ]
    },
    {
      "cell_type": "code",
      "execution_count": 13,
      "metadata": {
        "colab": {
          "base_uri": "https://localhost:8080/"
        },
        "id": "xEOVIcRiZnsa",
        "outputId": "530eafcd-5400-4c2c-a7b0-662832b07575"
      },
      "outputs": [
        {
          "data": {
            "text/plain": [
              "array([0, 1, 2, 3, 4])"
            ]
          },
          "execution_count": 13,
          "metadata": {},
          "output_type": "execute_result"
        }
      ],
      "source": [
        "# sodda ma'lumot\n",
        "data = np.arange(5) # 0->5gacha tashkil topgan array\n",
        "data"
      ]
    },
    {
      "cell_type": "code",
      "execution_count": 14,
      "metadata": {
        "colab": {
          "base_uri": "https://localhost:8080/"
        },
        "id": "5pQFtLVrZ9lY",
        "outputId": "807bed33-2421-4a21-84d7-37c1277d9ec7"
      },
      "outputs": [
        {
          "data": {
            "text/plain": [
              "np.float64(2.0)"
            ]
          },
          "execution_count": 14,
          "metadata": {},
          "output_type": "execute_result"
        }
      ],
      "source": [
        "mean = np.sum(data)/len(data)\n",
        "mean"
      ]
    },
    {
      "cell_type": "code",
      "execution_count": 15,
      "metadata": {
        "colab": {
          "base_uri": "https://localhost:8080/"
        },
        "id": "YmWQx-NKaF3t",
        "outputId": "2c8b354b-a064-4493-c122-b0458bc19969"
      },
      "outputs": [
        {
          "data": {
            "text/plain": [
              "np.float64(2.0)"
            ]
          },
          "execution_count": 15,
          "metadata": {},
          "output_type": "execute_result"
        }
      ],
      "source": [
        "# Numpy mean\n",
        "np.mean(data)\n"
      ]
    },
    {
      "cell_type": "code",
      "execution_count": 16,
      "metadata": {
        "colab": {
          "base_uri": "https://localhost:8080/"
        },
        "id": "OVxX7gQCaNwu",
        "outputId": "e5c9c237-dfb6-4b12-e75f-d4a6b74f4ebb"
      },
      "outputs": [
        {
          "data": {
            "text/plain": [
              "np.float64(2.0)"
            ]
          },
          "execution_count": 16,
          "metadata": {},
          "output_type": "execute_result"
        }
      ],
      "source": [
        "data.mean()"
      ]
    },
    {
      "cell_type": "code",
      "execution_count": 17,
      "metadata": {
        "colab": {
          "base_uri": "https://localhost:8080/"
        },
        "id": "JhofqkCranI7",
        "outputId": "db6a40b3-71ea-4650-e53d-a541f96ba3cd"
      },
      "outputs": [
        {
          "data": {
            "text/plain": [
              "array([[-0.17352178,  1.31728761,  0.38041688,  0.72811909],\n",
              "       [ 0.59103671,  0.21140591,  0.33817306,  0.56691841],\n",
              "       [ 1.01730818, -2.08579683, -0.36187096,  0.04112   ],\n",
              "       [-0.12584712, -0.40173316, -0.50246007, -0.72880766],\n",
              "       [-0.22623026, -1.04606223, -0.48880839, -0.81916829]])"
            ]
          },
          "execution_count": 17,
          "metadata": {},
          "output_type": "execute_result"
        }
      ],
      "source": [
        "arr"
      ]
    },
    {
      "cell_type": "code",
      "execution_count": 18,
      "metadata": {
        "colab": {
          "base_uri": "https://localhost:8080/"
        },
        "id": "krFdr6ZDaSgS",
        "outputId": "c08fe7c7-e89f-4f7c-d3cc-3d11b58cb8a1"
      },
      "outputs": [
        {
          "data": {
            "text/plain": [
              "np.float64(-0.08842604578314414)"
            ]
          },
          "execution_count": 18,
          "metadata": {},
          "output_type": "execute_result"
        }
      ],
      "source": [
        "arr.mean() # arrayning barcha o'rtacha  elementlarni qiymati "
      ]
    },
    {
      "cell_type": "code",
      "execution_count": 19,
      "metadata": {
        "colab": {
          "base_uri": "https://localhost:8080/"
        },
        "id": "QNX-SNK5aV_M",
        "outputId": "62d2ea93-3f85-4a1f-c074-b6bd8f688b41"
      },
      "outputs": [
        {
          "data": {
            "text/plain": [
              "array([ 0.56307545,  0.42688352, -0.3473099 , -0.439712  , -0.64506729])"
            ]
          },
          "execution_count": 19,
          "metadata": {},
          "output_type": "execute_result"
        }
      ],
      "source": [
        "np.mean(arr, axis=1) #Qator bo'ycha o'rtacha qiymatni qaytaradi"
      ]
    },
    {
      "cell_type": "code",
      "execution_count": 20,
      "metadata": {
        "colab": {
          "base_uri": "https://localhost:8080/"
        },
        "id": "GPK6avEhcJfn",
        "outputId": "316e9ca8-389e-4aa2-c42c-f8b7c81894eb"
      },
      "outputs": [
        {
          "data": {
            "text/plain": [
              "array([ 0.21654914, -0.40097974, -0.1269099 , -0.04236369])"
            ]
          },
          "execution_count": 20,
          "metadata": {},
          "output_type": "execute_result"
        }
      ],
      "source": [
        "np.mean(arr, axis = 0) #Ustunlar bo'ycha o'rtacha qiymatni qaytaradi"
      ]
    },
    {
      "cell_type": "markdown",
      "metadata": {
        "id": "J4B4aqFucoXW"
      },
      "source": [
        "## ***cumsum*** metodi"
      ]
    },
    {
      "cell_type": "code",
      "execution_count": 21,
      "metadata": {
        "colab": {
          "base_uri": "https://localhost:8080/"
        },
        "id": "_G08NNn-cjbP",
        "outputId": "8200ad8c-324c-4773-9b87-3caafa33375b"
      },
      "outputs": [
        {
          "data": {
            "text/plain": [
              "array([0, 1, 2, 3, 4])"
            ]
          },
          "execution_count": 21,
          "metadata": {},
          "output_type": "execute_result"
        }
      ],
      "source": [
        "data"
      ]
    },
    {
      "cell_type": "code",
      "execution_count": 22,
      "metadata": {
        "colab": {
          "base_uri": "https://localhost:8080/"
        },
        "id": "ZmEulOV2cZLq",
        "outputId": "ab619291-779e-42e6-a715-16834f233de0"
      },
      "outputs": [
        {
          "data": {
            "text/plain": [
              "array([ 0,  1,  3,  6, 10])"
            ]
          },
          "execution_count": 22,
          "metadata": {},
          "output_type": "execute_result"
        }
      ],
      "source": [
        "data.cumsum() # o'zidan oldin kelgan barcha elementlarni qo'shadi"
      ]
    },
    {
      "cell_type": "code",
      "execution_count": null,
      "metadata": {
        "id": "I8gkn6nHcv13"
      },
      "outputs": [],
      "source": []
    }
  ],
  "metadata": {
    "colab": {
      "authorship_tag": "ABX9TyNEt8oiUDlfHZ9EPxITVMZR",
      "include_colab_link": true,
      "provenance": []
    },
    "kernelspec": {
      "display_name": ".venv",
      "language": "python",
      "name": "python3"
    },
    "language_info": {
      "codemirror_mode": {
        "name": "ipython",
        "version": 3
      },
      "file_extension": ".py",
      "mimetype": "text/x-python",
      "name": "python",
      "nbconvert_exporter": "python",
      "pygments_lexer": "ipython3",
      "version": "3.11.9"
    }
  },
  "nbformat": 4,
  "nbformat_minor": 0
}
