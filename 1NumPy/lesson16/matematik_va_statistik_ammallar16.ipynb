{
  "nbformat": 4,
  "nbformat_minor": 0,
  "metadata": {
    "colab": {
      "provenance": [],
      "authorship_tag": "ABX9TyNEt8oiUDlfHZ9EPxITVMZR",
      "include_colab_link": true
    },
    "kernelspec": {
      "name": "python3",
      "display_name": "Python 3"
    },
    "language_info": {
      "name": "python"
    }
  },
  "cells": [
    {
      "cell_type": "markdown",
      "metadata": {
        "id": "view-in-github",
        "colab_type": "text"
      },
      "source": [
        "<a href=\"https://colab.research.google.com/github/SHermukhammadjon/Mohirdev_Data_Science_praktikum/blob/main/matematik_va_statistik_ammallar16.ipynb\" target=\"_parent\"><img src=\"https://colab.research.google.com/assets/colab-badge.svg\" alt=\"Open In Colab\"/></a>"
      ]
    },
    {
      "cell_type": "markdown",
      "source": [
        "# ![Imgur](https://i.imgur.com/5pXzCIu.png)\n",
        "#\\#8.15 Matematik va statistik amallar"
      ],
      "metadata": {
        "id": "yCoQJjVQW8EC"
      }
    },
    {
      "cell_type": "code",
      "execution_count": 1,
      "metadata": {
        "id": "YKxelI6pWyq7"
      },
      "outputs": [],
      "source": [
        "import numpy as np"
      ]
    },
    {
      "cell_type": "markdown",
      "source": [
        "## Statistik metodlar\n",
        "<img src='https://drive.google.com/uc?id=1H0HMoW5_xT5IuowjtpTjGD9JGLAbDTDY'>"
      ],
      "metadata": {
        "id": "cIY6uMNUX4EV"
      }
    },
    {
      "cell_type": "code",
      "source": [
        "# data\n",
        "arr = np.random.randn(5, 4) # 5ga 4 o'lchamli taxminy elementlardan tashkil topgan array\n",
        "arr"
      ],
      "metadata": {
        "colab": {
          "base_uri": "https://localhost:8080/"
        },
        "id": "nS1cDX-_XVvz",
        "outputId": "7fa8d823-6105-4b9b-c0d2-e44dea842b08"
      },
      "execution_count": 25,
      "outputs": [
        {
          "output_type": "execute_result",
          "data": {
            "text/plain": [
              "array([[-0.35271207,  0.03354282,  1.24614883,  0.18188206],\n",
              "       [-2.47567823, -0.43683808, -0.21133212,  0.58962136],\n",
              "       [-1.38473099,  0.5150724 ,  0.00350982, -0.26911913],\n",
              "       [ 1.92068018,  0.91802588, -0.54112696, -0.97963381],\n",
              "       [-1.43171176, -0.40174143, -0.54067727,  0.24116031]])"
            ]
          },
          "metadata": {},
          "execution_count": 25
        }
      ]
    },
    {
      "cell_type": "markdown",
      "source": [
        "## ***Sum*** metodi"
      ],
      "metadata": {
        "id": "qPs8fILhZBNB"
      }
    },
    {
      "cell_type": "code",
      "source": [
        "arr.sum() # arrayning barcha elementlarni yig'ndsini qaytaradi"
      ],
      "metadata": {
        "colab": {
          "base_uri": "https://localhost:8080/"
        },
        "id": "cAQienp9YoXz",
        "outputId": "04a95dc0-1248-47c7-b213-5bd23f13aa85"
      },
      "execution_count": 26,
      "outputs": [
        {
          "output_type": "execute_result",
          "data": {
            "text/plain": [
              "-3.3756582010309044"
            ]
          },
          "metadata": {},
          "execution_count": 26
        }
      ]
    },
    {
      "cell_type": "code",
      "source": [
        "np.sum(arr)"
      ],
      "metadata": {
        "colab": {
          "base_uri": "https://localhost:8080/"
        },
        "id": "49q3ImCkYrPz",
        "outputId": "c4865ed0-31cd-4b26-e5e2-2635a8c15afe"
      },
      "execution_count": 27,
      "outputs": [
        {
          "output_type": "execute_result",
          "data": {
            "text/plain": [
              "-3.3756582010309044"
            ]
          },
          "metadata": {},
          "execution_count": 27
        }
      ]
    },
    {
      "cell_type": "code",
      "source": [
        "arr.sum(axis=1) # axis 1 bo'ycha harbir listni elementlarni yigndsi"
      ],
      "metadata": {
        "colab": {
          "base_uri": "https://localhost:8080/"
        },
        "id": "lob2csl-Y2e8",
        "outputId": "aefa1720-8e88-4002-b53f-49814edb9ac8"
      },
      "execution_count": 28,
      "outputs": [
        {
          "output_type": "execute_result",
          "data": {
            "text/plain": [
              "array([ 1.10886163, -2.53422708, -1.13526789,  1.31794528, -2.13297015])"
            ]
          },
          "metadata": {},
          "execution_count": 28
        }
      ]
    },
    {
      "cell_type": "code",
      "source": [
        "arr.sum(axis=0) # ustun bo'ycha yig'ndi"
      ],
      "metadata": {
        "colab": {
          "base_uri": "https://localhost:8080/"
        },
        "id": "Pr_1yMnOY9jl",
        "outputId": "db1e7491-00df-4f13-fc8a-c20f24ee0d14"
      },
      "execution_count": 29,
      "outputs": [
        {
          "output_type": "execute_result",
          "data": {
            "text/plain": [
              "array([-3.72415287,  0.6280616 , -0.04347771, -0.23608922])"
            ]
          },
          "metadata": {},
          "execution_count": 29
        }
      ]
    },
    {
      "cell_type": "markdown",
      "source": [
        "## ***mean*** metodi"
      ],
      "metadata": {
        "id": "ybpSgJDvZqBS"
      }
    },
    {
      "cell_type": "code",
      "source": [
        "# sodda ma'lumot\n",
        "data = np.arange(5) # 0->5gacha tashkil topgan array\n",
        "data"
      ],
      "metadata": {
        "colab": {
          "base_uri": "https://localhost:8080/"
        },
        "id": "xEOVIcRiZnsa",
        "outputId": "530eafcd-5400-4c2c-a7b0-662832b07575"
      },
      "execution_count": 30,
      "outputs": [
        {
          "output_type": "execute_result",
          "data": {
            "text/plain": [
              "array([0, 1, 2, 3, 4])"
            ]
          },
          "metadata": {},
          "execution_count": 30
        }
      ]
    },
    {
      "cell_type": "code",
      "source": [
        "mean = np.sum(data)/len(data)\n",
        "mean"
      ],
      "metadata": {
        "colab": {
          "base_uri": "https://localhost:8080/"
        },
        "id": "5pQFtLVrZ9lY",
        "outputId": "807bed33-2421-4a21-84d7-37c1277d9ec7"
      },
      "execution_count": 31,
      "outputs": [
        {
          "output_type": "execute_result",
          "data": {
            "text/plain": [
              "2.0"
            ]
          },
          "metadata": {},
          "execution_count": 31
        }
      ]
    },
    {
      "cell_type": "code",
      "source": [
        "# Numpy mean\n",
        "np.mean(data)\n"
      ],
      "metadata": {
        "colab": {
          "base_uri": "https://localhost:8080/"
        },
        "id": "YmWQx-NKaF3t",
        "outputId": "2c8b354b-a064-4493-c122-b0458bc19969"
      },
      "execution_count": 32,
      "outputs": [
        {
          "output_type": "execute_result",
          "data": {
            "text/plain": [
              "2.0"
            ]
          },
          "metadata": {},
          "execution_count": 32
        }
      ]
    },
    {
      "cell_type": "code",
      "source": [
        "data.mean()"
      ],
      "metadata": {
        "colab": {
          "base_uri": "https://localhost:8080/"
        },
        "id": "OVxX7gQCaNwu",
        "outputId": "e5c9c237-dfb6-4b12-e75f-d4a6b74f4ebb"
      },
      "execution_count": 33,
      "outputs": [
        {
          "output_type": "execute_result",
          "data": {
            "text/plain": [
              "2.0"
            ]
          },
          "metadata": {},
          "execution_count": 33
        }
      ]
    },
    {
      "cell_type": "code",
      "source": [
        "arr"
      ],
      "metadata": {
        "colab": {
          "base_uri": "https://localhost:8080/"
        },
        "id": "JhofqkCranI7",
        "outputId": "db6a40b3-71ea-4650-e53d-a541f96ba3cd"
      },
      "execution_count": 35,
      "outputs": [
        {
          "output_type": "execute_result",
          "data": {
            "text/plain": [
              "array([[-0.35271207,  0.03354282,  1.24614883,  0.18188206],\n",
              "       [-2.47567823, -0.43683808, -0.21133212,  0.58962136],\n",
              "       [-1.38473099,  0.5150724 ,  0.00350982, -0.26911913],\n",
              "       [ 1.92068018,  0.91802588, -0.54112696, -0.97963381],\n",
              "       [-1.43171176, -0.40174143, -0.54067727,  0.24116031]])"
            ]
          },
          "metadata": {},
          "execution_count": 35
        }
      ]
    },
    {
      "cell_type": "code",
      "source": [
        "arr.mean() # arrayning barcha o'rtacha  elementlarni qiymati "
      ],
      "metadata": {
        "colab": {
          "base_uri": "https://localhost:8080/"
        },
        "id": "krFdr6ZDaSgS",
        "outputId": "c08fe7c7-e89f-4f7c-d3cc-3d11b58cb8a1"
      },
      "execution_count": 37,
      "outputs": [
        {
          "output_type": "execute_result",
          "data": {
            "text/plain": [
              "-0.16878291005154522"
            ]
          },
          "metadata": {},
          "execution_count": 37
        }
      ]
    },
    {
      "cell_type": "code",
      "source": [
        "np.mean(arr, axis=1) #Qator bo'ycha o'rtacha qiymatni qaytaradi"
      ],
      "metadata": {
        "colab": {
          "base_uri": "https://localhost:8080/"
        },
        "id": "QNX-SNK5aV_M",
        "outputId": "62d2ea93-3f85-4a1f-c074-b6bd8f688b41"
      },
      "execution_count": 39,
      "outputs": [
        {
          "output_type": "execute_result",
          "data": {
            "text/plain": [
              "array([ 0.27721541, -0.63355677, -0.28381697,  0.32948632, -0.53324254])"
            ]
          },
          "metadata": {},
          "execution_count": 39
        }
      ]
    },
    {
      "cell_type": "code",
      "source": [
        "np.mean(arr, axis = 0) #Ustunlar bo'ycha o'rtacha qiymatni qaytaradi"
      ],
      "metadata": {
        "colab": {
          "base_uri": "https://localhost:8080/"
        },
        "id": "GPK6avEhcJfn",
        "outputId": "316e9ca8-389e-4aa2-c42c-f8b7c81894eb"
      },
      "execution_count": 40,
      "outputs": [
        {
          "output_type": "execute_result",
          "data": {
            "text/plain": [
              "array([-0.74483057,  0.12561232, -0.00869554, -0.04721784])"
            ]
          },
          "metadata": {},
          "execution_count": 40
        }
      ]
    },
    {
      "cell_type": "markdown",
      "source": [
        "## ***cumsum*** metodi"
      ],
      "metadata": {
        "id": "J4B4aqFucoXW"
      }
    },
    {
      "cell_type": "code",
      "source": [
        "data"
      ],
      "metadata": {
        "colab": {
          "base_uri": "https://localhost:8080/"
        },
        "id": "_G08NNn-cjbP",
        "outputId": "8200ad8c-324c-4773-9b87-3caafa33375b"
      },
      "execution_count": 42,
      "outputs": [
        {
          "output_type": "execute_result",
          "data": {
            "text/plain": [
              "array([0, 1, 2, 3, 4])"
            ]
          },
          "metadata": {},
          "execution_count": 42
        }
      ]
    },
    {
      "cell_type": "code",
      "source": [
        "data.cumsum() # o'zidan oldin kelgan barcha elementlarni qo'shadi"
      ],
      "metadata": {
        "colab": {
          "base_uri": "https://localhost:8080/"
        },
        "id": "ZmEulOV2cZLq",
        "outputId": "ab619291-779e-42e6-a715-16834f233de0"
      },
      "execution_count": 44,
      "outputs": [
        {
          "output_type": "execute_result",
          "data": {
            "text/plain": [
              "array([ 0,  1,  3,  6, 10])"
            ]
          },
          "metadata": {},
          "execution_count": 44
        }
      ]
    },
    {
      "cell_type": "code",
      "source": [],
      "metadata": {
        "id": "I8gkn6nHcv13"
      },
      "execution_count": null,
      "outputs": []
    }
  ]
}