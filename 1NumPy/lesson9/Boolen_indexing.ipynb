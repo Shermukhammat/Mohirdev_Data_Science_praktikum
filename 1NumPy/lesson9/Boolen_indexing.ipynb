{
  "nbformat": 4,
  "nbformat_minor": 0,
  "metadata": {
    "colab": {
      "provenance": [],
      "authorship_tag": "ABX9TyNwjC/m1/wJAsLKycajX9IR",
      "include_colab_link": true
    },
    "kernelspec": {
      "name": "python3",
      "display_name": "Python 3"
    },
    "language_info": {
      "name": "python"
    }
  },
  "cells": [
    {
      "cell_type": "markdown",
      "metadata": {
        "id": "view-in-github",
        "colab_type": "text"
      },
      "source": [
        "<a href=\"https://colab.research.google.com/github/SHermukhammadjon/Mohirdev_Data_Science_praktikum/blob/main/NumPy/lesson9/Boolen_indexing.ipynb\" target=\"_parent\"><img src=\"https://colab.research.google.com/assets/colab-badge.svg\" alt=\"Open In Colab\"/></a>"
      ]
    },
    {
      "cell_type": "markdown",
      "source": [
        "# ![Imgur](https://i.imgur.com/5pXzCIu.png)\n",
        "#\\#8.9 Boolen Indekslash"
      ],
      "metadata": {
        "id": "6d7BHJ9YEkQG"
      }
    },
    {
      "cell_type": "code",
      "execution_count": null,
      "metadata": {
        "id": "47fzBoDxEg7i"
      },
      "outputs": [],
      "source": [
        "import numpy as np"
      ]
    },
    {
      "cell_type": "code",
      "source": [
        "# Names\n",
        "names = np.array(['Hasan', 'Husan', 'Mirzabek', 'Eliyor', 'Husan', 'Javohir', 'Elyor'])\n",
        "names "
      ],
      "metadata": {
        "colab": {
          "base_uri": "https://localhost:8080/"
        },
        "id": "IPfGlGPlEvLj",
        "outputId": "59feb69e-1aa7-4d5d-beec-f1ab5d147ae3"
      },
      "execution_count": null,
      "outputs": [
        {
          "output_type": "execute_result",
          "data": {
            "text/plain": [
              "array(['Hasan', 'Husan', 'Mirzabek', 'Eliyor', 'Husan', 'Javohir',\n",
              "       'Elyor'], dtype='<U8')"
            ]
          },
          "metadata": {},
          "execution_count": 2
        }
      ]
    },
    {
      "cell_type": "code",
      "source": [
        "# data\n",
        "data = np.random.randn(7, 4)\n",
        "data"
      ],
      "metadata": {
        "colab": {
          "base_uri": "https://localhost:8080/"
        },
        "id": "VVvpOXXEFmoO",
        "outputId": "0632cb1e-e978-42e3-802f-f4428fcd0151"
      },
      "execution_count": null,
      "outputs": [
        {
          "output_type": "execute_result",
          "data": {
            "text/plain": [
              "array([[ 0.22774024, -0.52538032,  1.29370588, -1.44939186],\n",
              "       [-0.9606766 ,  1.15412137,  1.13095992,  0.72052436],\n",
              "       [ 0.38801841,  0.25756965, -1.54714528, -0.33565941],\n",
              "       [ 1.2444704 , -1.0639033 , -0.46154527, -0.34253584],\n",
              "       [ 0.85633228,  2.06317809, -1.18795069, -2.50848049],\n",
              "       [-0.45341714,  1.0229531 ,  0.48998246, -0.30288869],\n",
              "       [-0.23037936, -0.98629285,  0.72612536,  1.62208579]])"
            ]
          },
          "metadata": {},
          "execution_count": 53
        }
      ]
    },
    {
      "cell_type": "code",
      "source": [
        "names == 'Husan'"
      ],
      "metadata": {
        "colab": {
          "base_uri": "https://localhost:8080/"
        },
        "id": "gvqJbGr_GA5X",
        "outputId": "e7c4b364-78d3-4fbd-ee18-237efd57db4c"
      },
      "execution_count": null,
      "outputs": [
        {
          "output_type": "execute_result",
          "data": {
            "text/plain": [
              "array([False,  True, False, False,  True, False, False])"
            ]
          },
          "metadata": {},
          "execution_count": 18
        }
      ]
    },
    {
      "cell_type": "code",
      "source": [
        "data[names == 'Husan']  # Husanga tegishli barcha ma'lumotlarni ajratib olish"
      ],
      "metadata": {
        "colab": {
          "base_uri": "https://localhost:8080/"
        },
        "id": "QDDgWTAuGgHn",
        "outputId": "21afb32c-2a23-4126-ed35-f530ff89206b"
      },
      "execution_count": null,
      "outputs": [
        {
          "output_type": "execute_result",
          "data": {
            "text/plain": [
              "array([[0.46843864, 0.75428028, 0.16095116, 0.8053179 ],\n",
              "       [0.55556903, 0.69958229, 0.38313171, 0.80725761]])"
            ]
          },
          "metadata": {},
          "execution_count": 9
        }
      ]
    },
    {
      "cell_type": "code",
      "source": [
        "data[names == 'Eliyor']  # Eliyor tegishli barcha ma'lumotlarni ajratib olish"
      ],
      "metadata": {
        "colab": {
          "base_uri": "https://localhost:8080/"
        },
        "id": "gL62hxgaKtF8",
        "outputId": "e62bfc45-9de0-4cb8-fc58-8792923101e2"
      },
      "execution_count": null,
      "outputs": [
        {
          "output_type": "execute_result",
          "data": {
            "text/plain": [
              "array([[0.9323085 , 0.68913447, 0.67000096, 0.35065415]])"
            ]
          },
          "metadata": {},
          "execution_count": 10
        }
      ]
    },
    {
      "cell_type": "code",
      "source": [
        "data[names == 'Husan', 2:] # Hasanga tegishli oxirgi ustudagit 2ta istunni ajratib olish"
      ],
      "metadata": {
        "colab": {
          "base_uri": "https://localhost:8080/"
        },
        "id": "PaZHNwI5K3lH",
        "outputId": "c087c6fa-9fe7-4ca8-8e06-ff3e8cc86a22"
      },
      "execution_count": null,
      "outputs": [
        {
          "output_type": "execute_result",
          "data": {
            "text/plain": [
              "array([[0.16095116, 0.8053179 ],\n",
              "       [0.38313171, 0.80725761]])"
            ]
          },
          "metadata": {},
          "execution_count": 12
        }
      ]
    },
    {
      "cell_type": "code",
      "source": [
        "data[names != 'Husan', 2:] #Husanda tashqari hamma odamlarning ma'umotlari"
      ],
      "metadata": {
        "colab": {
          "base_uri": "https://localhost:8080/"
        },
        "id": "TwKJMofiLIGF",
        "outputId": "c4153c0b-41ac-4f87-a364-5fc92af43f4e"
      },
      "execution_count": null,
      "outputs": [
        {
          "output_type": "execute_result",
          "data": {
            "text/plain": [
              "array([[0.29080096, 0.45814313],\n",
              "       [0.63540178, 0.34074485],\n",
              "       [0.76357986, 0.48787945],\n",
              "       [0.98024487, 0.89821955],\n",
              "       [0.9819636 , 0.73016724]])"
            ]
          },
          "metadata": {},
          "execution_count": 20
        }
      ]
    },
    {
      "cell_type": "code",
      "source": [
        "data[~(names == 'Husan')] # yuqoridagi cell bilan bir xil natijani beradi"
      ],
      "metadata": {
        "colab": {
          "base_uri": "https://localhost:8080/"
        },
        "id": "dX_N68S8Lmu7",
        "outputId": "6c3a102f-a0e6-4594-bdaa-3b175ef2c74c"
      },
      "execution_count": null,
      "outputs": [
        {
          "output_type": "execute_result",
          "data": {
            "text/plain": [
              "array([[0.71711391, 0.76126307, 0.29080096, 0.45814313],\n",
              "       [0.1132639 , 0.07892818, 0.63540178, 0.34074485],\n",
              "       [0.08006617, 0.52855225, 0.76357986, 0.48787945],\n",
              "       [0.20578582, 0.13888541, 0.98024487, 0.89821955],\n",
              "       [0.01444612, 0.37829796, 0.9819636 , 0.73016724]])"
            ]
          },
          "metadata": {},
          "execution_count": 23
        }
      ]
    },
    {
      "cell_type": "markdown",
      "source": [
        "## \\#vazifa\n",
        "## Datadan araydan 2 ta ismmi ma'lumotlarni ajratib oling"
      ],
      "metadata": {
        "id": "ndUhtmxaMjhG"
      }
    },
    {
      "cell_type": "code",
      "source": [
        "print(names)\n",
        "print(data)"
      ],
      "metadata": {
        "id": "uS6OFlv5OZY4",
        "outputId": "dd073624-80af-4e86-83f2-702f804f824b",
        "colab": {
          "base_uri": "https://localhost:8080/"
        }
      },
      "execution_count": null,
      "outputs": [
        {
          "output_type": "stream",
          "name": "stdout",
          "text": [
            "['Hasan' 'Husan' 'Mirzabek' 'Eliyor' 'Husan' 'Javohir' 'Elyor']\n",
            "[[0.71711391 0.76126307 0.29080096 0.45814313]\n",
            " [0.24570515 0.45938023 0.55147155 0.90741936]\n",
            " [0.1132639  0.07892818 0.63540178 0.34074485]\n",
            " [0.08006617 0.52855225 0.76357986 0.48787945]\n",
            " [0.47734707 0.38807453 0.38325857 0.65479627]\n",
            " [0.20578582 0.13888541 0.98024487 0.89821955]\n",
            " [0.01444612 0.37829796 0.9819636  0.73016724]]\n"
          ]
        }
      ]
    },
    {
      "cell_type": "code",
      "source": [
        "mask = (names == 'Hasan') | (names == 'Husan')  # or ==  | == yoki\n",
        "mask"
      ],
      "metadata": {
        "colab": {
          "base_uri": "https://localhost:8080/"
        },
        "id": "8vS09J4lL1NH",
        "outputId": "6c931f4f-7d22-4811-af85-ec5f72cd9700"
      },
      "execution_count": null,
      "outputs": [
        {
          "output_type": "execute_result",
          "data": {
            "text/plain": [
              "array([ True,  True, False, False,  True, False, False])"
            ]
          },
          "metadata": {},
          "execution_count": 44
        }
      ]
    },
    {
      "cell_type": "code",
      "source": [
        "data[mask]"
      ],
      "metadata": {
        "id": "7ziitJAtNGia",
        "outputId": "6b000db3-f765-4ee1-c96f-23676a57a369",
        "colab": {
          "base_uri": "https://localhost:8080/"
        }
      },
      "execution_count": null,
      "outputs": [
        {
          "output_type": "execute_result",
          "data": {
            "text/plain": [
              "array([[0.71711391, 0.76126307, 0.29080096, 0.45814313],\n",
              "       [0.24570515, 0.45938023, 0.55147155, 0.90741936],\n",
              "       [0.47734707, 0.38807453, 0.38325857, 0.65479627]])"
            ]
          },
          "metadata": {},
          "execution_count": 45
        }
      ]
    },
    {
      "cell_type": "code",
      "source": [
        "print(data[data < 0])\n",
        "data[data < 0] = 0"
      ],
      "metadata": {
        "id": "ZD3hWJnhM0o_",
        "outputId": "6df66429-69bd-4e23-93a5-93645520eaf3",
        "colab": {
          "base_uri": "https://localhost:8080/"
        }
      },
      "execution_count": null,
      "outputs": [
        {
          "output_type": "stream",
          "name": "stdout",
          "text": [
            "[-0.52538032 -1.44939186 -0.9606766  -1.54714528 -0.33565941 -1.0639033\n",
            " -0.46154527 -0.34253584 -1.18795069 -2.50848049 -0.45341714 -0.30288869\n",
            " -0.23037936 -0.98629285]\n"
          ]
        }
      ]
    },
    {
      "cell_type": "code",
      "source": [
        "data"
      ],
      "metadata": {
        "id": "P5fGaDGRPGEA",
        "outputId": "f6fe85a0-c9b1-4295-f2fb-d17e029d768c",
        "colab": {
          "base_uri": "https://localhost:8080/"
        }
      },
      "execution_count": null,
      "outputs": [
        {
          "output_type": "execute_result",
          "data": {
            "text/plain": [
              "array([[0.22774024, 0.        , 1.29370588, 0.        ],\n",
              "       [0.        , 1.15412137, 1.13095992, 0.72052436],\n",
              "       [0.38801841, 0.25756965, 0.        , 0.        ],\n",
              "       [1.2444704 , 0.        , 0.        , 0.        ],\n",
              "       [0.85633228, 2.06317809, 0.        , 0.        ],\n",
              "       [0.        , 1.0229531 , 0.48998246, 0.        ],\n",
              "       [0.        , 0.        , 0.72612536, 1.62208579]])"
            ]
          },
          "metadata": {},
          "execution_count": 55
        }
      ]
    },
    {
      "cell_type": "code",
      "source": [],
      "metadata": {
        "id": "9azbB7r0PlvJ"
      },
      "execution_count": null,
      "outputs": []
    }
  ]
}