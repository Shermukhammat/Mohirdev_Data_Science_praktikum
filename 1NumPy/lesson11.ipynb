{
  "cells": [
    {
      "cell_type": "markdown",
      "metadata": {
        "colab_type": "text",
        "id": "view-in-github"
      },
      "source": [
        "<a href=\"https://colab.research.google.com/github/SHermukhammadjon/Mohirdev_Data_Science_praktikum/blob/main/unique18.ipynb\" target=\"_parent\"><img src=\"https://colab.research.google.com/assets/colab-badge.svg\" alt=\"Open In Colab\"/></a>"
      ]
    },
    {
      "cell_type": "markdown",
      "metadata": {
        "id": "FhIRNB5sqL1K"
      },
      "source": [
        "# ![Imgur](https://i.imgur.com/5pXzCIu.png)\n",
        "# \\#8.18 Takrorlanmas va boshqa amallar"
      ]
    },
    {
      "cell_type": "code",
      "execution_count": 2,
      "metadata": {
        "id": "bmrnwQMYookY"
      },
      "outputs": [],
      "source": [
        "import numpy as np"
      ]
    },
    {
      "cell_type": "markdown",
      "metadata": {
        "id": "nw48_G1fqZzR"
      },
      "source": [
        "## ***unique*** va ***in1d***, **setdiff1d** usullar"
      ]
    },
    {
      "cell_type": "code",
      "execution_count": 3,
      "metadata": {
        "id": "OBDnno8NqXMi"
      },
      "outputs": [],
      "source": [
        "# data\n",
        "names = np.array(['Sarvar', 'Abdurahmon', 'Hasan', 'Temur', 'Sarvar', 'Temur'])\n",
        "ints = np.array([3, 3, 3, 2, 2, 1, 1, 4, 4])"
      ]
    },
    {
      "cell_type": "code",
      "execution_count": 5,
      "metadata": {
        "colab": {
          "base_uri": "https://localhost:8080/"
        },
        "id": "H_fN3gQerL_c",
        "outputId": "bb137a6a-8bd1-4708-c80e-8db216559be5"
      },
      "outputs": [
        {
          "data": {
            "text/plain": [
              "array(['Abdurahmon', 'Hasan', 'Sarvar', 'Temur'], dtype='<U10')"
            ]
          },
          "execution_count": 5,
          "metadata": {},
          "output_type": "execute_result"
        }
      ],
      "source": [
        "# unique \n",
        "np.unique(names) #namesdagi birxil elementlarni faqat 1tasini qaytaradi"
      ]
    },
    {
      "cell_type": "code",
      "execution_count": 6,
      "metadata": {
        "colab": {
          "base_uri": "https://localhost:8080/"
        },
        "id": "IBdW391bbkBI",
        "outputId": "956aa0ff-b9d6-45e8-8748-2ef88e0d08a2"
      },
      "outputs": [
        {
          "data": {
            "text/plain": [
              "{np.str_('Abdurahmon'), np.str_('Hasan'), np.str_('Sarvar'), np.str_('Temur')}"
            ]
          },
          "execution_count": 6,
          "metadata": {},
          "output_type": "execute_result"
        }
      ],
      "source": [
        "set(names) # namesdagi takrorlanmas elementlarni qaytaradi "
      ]
    },
    {
      "cell_type": "markdown",
      "metadata": {
        "id": "yvwzk11_cJlN"
      },
      "source": [
        "## ***in1d*** usuli haiqda"
      ]
    },
    {
      "cell_type": "code",
      "execution_count": 7,
      "metadata": {
        "id": "tA3cVkh5cF4Y"
      },
      "outputs": [],
      "source": [
        "# data\n",
        "arr1 = np.array([6, 0, 0, 3, 2, 5, 6])\n",
        "arr2 = np.array([0, 2, 3])"
      ]
    },
    {
      "cell_type": "code",
      "execution_count": 11,
      "metadata": {
        "colab": {
          "base_uri": "https://localhost:8080/"
        },
        "id": "Zu_51wcGc0O4",
        "outputId": "330e9106-9565-4497-b051-79876c0aaba0"
      },
      "outputs": [
        {
          "data": {
            "text/plain": [
              "array([False,  True,  True,  True,  True, False, False])"
            ]
          },
          "execution_count": 11,
          "metadata": {},
          "output_type": "execute_result"
        }
      ],
      "source": [
        "np.isin(arr1, arr2) # array2 elementlarni arr1 da mavjudligni tekshirish\n"
      ]
    },
    {
      "cell_type": "markdown",
      "metadata": {
        "id": "rQlomtj5dQrK"
      },
      "source": [
        "## ***setdiff1d*** usuli haqida"
      ]
    },
    {
      "cell_type": "code",
      "execution_count": 10,
      "metadata": {
        "id": "0umkn1iec4MA"
      },
      "outputs": [],
      "source": [
        "#data\n",
        "names1 = np.array(['Jasur', 'Abdurahmon', 'Hasan',  'Muhammad', 'Sarvar', 'Temur'])\n",
        "names2 = np.array(['Sarvar', 'Abdurahmon', 'Hasan',  'Temur', 'Sarvar', 'Temur'])"
      ]
    },
    {
      "cell_type": "code",
      "execution_count": 12,
      "metadata": {
        "colab": {
          "base_uri": "https://localhost:8080/"
        },
        "id": "pCCTP1VRdviZ",
        "outputId": "9e1323f3-278b-4b62-949e-c01b527ba848"
      },
      "outputs": [
        {
          "data": {
            "text/plain": [
              "array(['Jasur', 'Muhammad'], dtype='<U10')"
            ]
          },
          "execution_count": 12,
          "metadata": {},
          "output_type": "execute_result"
        }
      ],
      "source": [
        "np.setdiff1d(names1, names2) # names1 massivining names2 massivda takrorlanmas elementlarni qaytardi\n"
      ]
    },
    {
      "cell_type": "code",
      "execution_count": 13,
      "metadata": {
        "colab": {
          "base_uri": "https://localhost:8080/"
        },
        "id": "3lFXv5ZRd9tl",
        "outputId": "2532c722-d768-4288-e9f6-f04fbdc3c5f7"
      },
      "outputs": [
        {
          "data": {
            "text/plain": [
              "array(['Jasur', 'Abdurahmon', 'Hasan', 'Muhammad', 'Sarvar', 'Temur'],\n",
              "      dtype='<U10')"
            ]
          },
          "execution_count": 13,
          "metadata": {},
          "output_type": "execute_result"
        }
      ],
      "source": [
        "names1 "
      ]
    },
    {
      "cell_type": "code",
      "execution_count": null,
      "metadata": {
        "id": "f9sv4d0yeCGI"
      },
      "outputs": [],
      "source": []
    }
  ],
  "metadata": {
    "colab": {
      "authorship_tag": "ABX9TyOAe3PEmIr14LkDMRPgz4G6",
      "include_colab_link": true,
      "provenance": []
    },
    "kernelspec": {
      "display_name": ".venv",
      "language": "python",
      "name": "python3"
    },
    "language_info": {
      "codemirror_mode": {
        "name": "ipython",
        "version": 3
      },
      "file_extension": ".py",
      "mimetype": "text/x-python",
      "name": "python",
      "nbconvert_exporter": "python",
      "pygments_lexer": "ipython3",
      "version": "3.11.9"
    }
  },
  "nbformat": 4,
  "nbformat_minor": 0
}
