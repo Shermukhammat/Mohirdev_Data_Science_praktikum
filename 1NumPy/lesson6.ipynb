{
  "cells": [
    {
      "cell_type": "markdown",
      "metadata": {
        "colab_type": "text",
        "id": "view-in-github"
      },
      "source": [
        "<a href=\"https://colab.research.google.com/github/SHermukhammadjon/Mohirdev_Data_Science_praktikum/blob/main/unversal_funksyalar12.ipynb\" target=\"_parent\"><img src=\"https://colab.research.google.com/assets/colab-badge.svg\" alt=\"Open In Colab\"/></a>"
      ]
    },
    {
      "cell_type": "markdown",
      "metadata": {
        "id": "xY2nz_iGTlOo"
      },
      "source": [
        "# ![Imgur](https://i.imgur.com/5pXzCIu.png)\n",
        "# \\#8.12 Unversal funksyalar"
      ]
    },
    {
      "cell_type": "code",
      "execution_count": 1,
      "metadata": {
        "id": "ht5brJIpTax_"
      },
      "outputs": [],
      "source": [
        "import numpy as np "
      ]
    },
    {
      "cell_type": "markdown",
      "metadata": {
        "id": "EHo9c4L5UEsm"
      },
      "source": [
        "##### Unversal funksyalar 2 turga bo'lnad va bulardan birinchisi ***Unary*** yani 1ta argument qabul qiluvchi funksyalardir.\n",
        "\n",
        "##### ***sqrt***, ***square***, ***exp***, ***log***, ***modf***, ***sign***, ***isna*** "
      ]
    },
    {
      "cell_type": "code",
      "execution_count": null,
      "metadata": {
        "id": "UchQmes3WlVa"
      },
      "outputs": [],
      "source": []
    },
    {
      "cell_type": "code",
      "execution_count": 2,
      "metadata": {
        "colab": {
          "base_uri": "https://localhost:8080/"
        },
        "id": "bZ6J6rbTTnWV",
        "outputId": "e1ca3c32-58ee-4f82-c507-0cf94046d02d"
      },
      "outputs": [
        {
          "data": {
            "text/plain": [
              "array([0, 1, 2, 3, 4, 5, 6, 7, 8, 9])"
            ]
          },
          "execution_count": 2,
          "metadata": {},
          "output_type": "execute_result"
        }
      ],
      "source": [
        "arr = np.arange(10)\n",
        "arr"
      ]
    },
    {
      "cell_type": "markdown",
      "metadata": {
        "id": "2wX_YFucVwYi"
      },
      "source": [
        "## ***sqrt*** massivning harbir elementini kvadrat ildizga  oshruvchi funksya:"
      ]
    },
    {
      "cell_type": "code",
      "execution_count": 3,
      "metadata": {
        "colab": {
          "base_uri": "https://localhost:8080/"
        },
        "id": "HBZYfJ94VqOJ",
        "outputId": "059134ae-2d2b-4eb2-8832-6e21001641fb"
      },
      "outputs": [
        {
          "data": {
            "text/plain": [
              "array([0.        , 1.        , 1.41421356, 1.73205081, 2.        ,\n",
              "       2.23606798, 2.44948974, 2.64575131, 2.82842712, 3.        ])"
            ]
          },
          "execution_count": 3,
          "metadata": {},
          "output_type": "execute_result"
        }
      ],
      "source": [
        "np.sqrt(arr)"
      ]
    },
    {
      "cell_type": "markdown",
      "metadata": {
        "id": "iII7f50VWbE8"
      },
      "source": [
        "## ***square*** Massivning elementlarni kvadratga oshruvchi funksya"
      ]
    },
    {
      "cell_type": "code",
      "execution_count": 4,
      "metadata": {
        "colab": {
          "base_uri": "https://localhost:8080/"
        },
        "id": "pwGgtdFiV1DD",
        "outputId": "33d7638d-9abb-42c8-ce51-13241d36a50e"
      },
      "outputs": [
        {
          "data": {
            "text/plain": [
              "array([ 0,  1,  4,  9, 16, 25, 36, 49, 64, 81])"
            ]
          },
          "execution_count": 4,
          "metadata": {},
          "output_type": "execute_result"
        }
      ],
      "source": [
        "np.square(arr)"
      ]
    },
    {
      "cell_type": "markdown",
      "metadata": {
        "id": "UWaS2cNRamEN"
      },
      "source": [
        "## ***exp*** funksyasi arraynin barcha elementlarni eksponesiyalaydi"
      ]
    },
    {
      "cell_type": "code",
      "execution_count": 5,
      "metadata": {
        "colab": {
          "base_uri": "https://localhost:8080/"
        },
        "id": "eaFP99idbUga",
        "outputId": "0f847f0c-2f65-4178-ac61-226365a7dcf0"
      },
      "outputs": [
        {
          "data": {
            "text/plain": [
              "array([0, 1, 2, 3, 4, 5, 6, 7, 8, 9])"
            ]
          },
          "execution_count": 5,
          "metadata": {},
          "output_type": "execute_result"
        }
      ],
      "source": [
        "arr"
      ]
    },
    {
      "cell_type": "code",
      "execution_count": 6,
      "metadata": {
        "colab": {
          "base_uri": "https://localhost:8080/"
        },
        "id": "RwPTejVaWWEQ",
        "outputId": "b9ab57af-df0c-40da-dcc3-9e01ea0e5e67"
      },
      "outputs": [
        {
          "data": {
            "text/plain": [
              "array([1.00000000e+00, 2.71828183e+00, 7.38905610e+00, 2.00855369e+01,\n",
              "       5.45981500e+01, 1.48413159e+02, 4.03428793e+02, 1.09663316e+03,\n",
              "       2.98095799e+03, 8.10308393e+03])"
            ]
          },
          "execution_count": 6,
          "metadata": {},
          "output_type": "execute_result"
        }
      ],
      "source": [
        "np.exp(arr) "
      ]
    },
    {
      "cell_type": "markdown",
      "metadata": {
        "id": "hoS8Nl6-b6ie"
      },
      "source": [
        "### ***log*** massivning harbir logarifmni qaytaradi"
      ]
    },
    {
      "cell_type": "code",
      "execution_count": 7,
      "metadata": {
        "colab": {
          "base_uri": "https://localhost:8080/"
        },
        "id": "-_mfNY_Wa4SI",
        "outputId": "bb97042e-0339-4c7d-e721-33a042e8e444"
      },
      "outputs": [
        {
          "data": {
            "text/plain": [
              "array([0.        , 0.69314718, 1.09861229, 1.38629436, 1.60943791,\n",
              "       1.79175947, 1.94591015, 2.07944154, 2.19722458])"
            ]
          },
          "execution_count": 7,
          "metadata": {},
          "output_type": "execute_result"
        }
      ],
      "source": [
        "np.log(arr[1:])"
      ]
    },
    {
      "cell_type": "markdown",
      "metadata": {
        "id": "eAkBygj2cUMy"
      },
      "source": [
        "## ***modf*** bu funksya qoldiq sonlarni butun va qoldiq qismnilarga ajratib beruvchi funksya"
      ]
    },
    {
      "cell_type": "code",
      "execution_count": 8,
      "metadata": {
        "colab": {
          "base_uri": "https://localhost:8080/"
        },
        "id": "RkIHmYstbFC_",
        "outputId": "af43d47a-a066-4f1a-f942-6192e0646dd0"
      },
      "outputs": [
        {
          "data": {
            "text/plain": [
              "array([0, 1, 2, 3, 4, 5, 6, 7, 8, 9])"
            ]
          },
          "execution_count": 8,
          "metadata": {},
          "output_type": "execute_result"
        }
      ],
      "source": [
        "arr"
      ]
    },
    {
      "cell_type": "code",
      "execution_count": 9,
      "metadata": {
        "colab": {
          "base_uri": "https://localhost:8080/"
        },
        "id": "j-YYWda8c72f",
        "outputId": "7c2ea60f-f897-4a35-ba5e-46926c772985"
      },
      "outputs": [
        {
          "data": {
            "text/plain": [
              "array([ 0.53188262, -1.4574459 , -0.626828  , -1.7432651 , -2.84124199,\n",
              "        0.04246243])"
            ]
          },
          "execution_count": 9,
          "metadata": {},
          "output_type": "execute_result"
        }
      ],
      "source": [
        "arr1 = np.random.randn(6) # 6ta elementdan iborat taxminiy qiymatlarga ega massiv\n",
        "arr1"
      ]
    },
    {
      "cell_type": "code",
      "execution_count": 10,
      "metadata": {
        "id": "NJz9wzWGdIqh"
      },
      "outputs": [],
      "source": [
        "qoldiq, butun = np.modf(arr1)"
      ]
    },
    {
      "cell_type": "code",
      "execution_count": 11,
      "metadata": {
        "colab": {
          "base_uri": "https://localhost:8080/"
        },
        "id": "_Ukuu2wVdUah",
        "outputId": "0f0da08a-b97b-4352-9a1a-ad48efe7eba1"
      },
      "outputs": [
        {
          "name": "stdout",
          "output_type": "stream",
          "text": [
            "[ 0. -1. -0. -1. -2.  0.]\n",
            "[ 0.53188262 -0.4574459  -0.626828   -0.7432651  -0.84124199  0.04246243]\n"
          ]
        }
      ],
      "source": [
        "print(butun)\n",
        "print(qoldiq)"
      ]
    },
    {
      "cell_type": "code",
      "execution_count": 12,
      "metadata": {
        "colab": {
          "base_uri": "https://localhost:8080/"
        },
        "id": "g4wP4rQPdWyC",
        "outputId": "d6049594-c9b9-413d-f01e-cad303e434d4"
      },
      "outputs": [
        {
          "data": {
            "text/plain": [
              "(array([ 0.53188262, -0.4574459 , -0.626828  , -0.7432651 , -0.84124199,\n",
              "         0.04246243]),\n",
              " array([ 0., -1., -0., -1., -2.,  0.]))"
            ]
          },
          "execution_count": 12,
          "metadata": {},
          "output_type": "execute_result"
        }
      ],
      "source": [
        "np.modf(arr1)"
      ]
    },
    {
      "cell_type": "markdown",
      "metadata": {
        "id": "gd_BB-NkdunH"
      },
      "source": [
        "## ***sign*** funksyasi massiv elementlari manfiy bo'lsa ***-1*** va aksincha musbat bo'lsa ***1*** joylab qaytaradi"
      ]
    },
    {
      "cell_type": "code",
      "execution_count": 13,
      "metadata": {
        "colab": {
          "base_uri": "https://localhost:8080/"
        },
        "id": "Y3KCuwZKeOqT",
        "outputId": "95be31ae-5fbb-4bd3-a5d9-918cee675e61"
      },
      "outputs": [
        {
          "data": {
            "text/plain": [
              "array([ 0.53188262, -1.4574459 , -0.626828  , -1.7432651 , -2.84124199,\n",
              "        0.04246243])"
            ]
          },
          "execution_count": 13,
          "metadata": {},
          "output_type": "execute_result"
        }
      ],
      "source": [
        "arr1"
      ]
    },
    {
      "cell_type": "code",
      "execution_count": 14,
      "metadata": {
        "colab": {
          "base_uri": "https://localhost:8080/"
        },
        "id": "suSHnf6tdXMC",
        "outputId": "6b8d6556-4d91-4aeb-91bf-b55b176cf6a5"
      },
      "outputs": [
        {
          "data": {
            "text/plain": [
              "array([ 1., -1., -1., -1., -1.,  1.])"
            ]
          },
          "execution_count": 14,
          "metadata": {},
          "output_type": "execute_result"
        }
      ],
      "source": [
        "np.sign(arr1)"
      ]
    },
    {
      "cell_type": "markdown",
      "metadata": {
        "id": "gquU-Pu2ejkg"
      },
      "source": [
        "## ***isnan*** massivning ichda NaN qiymat bo'lsa ***True*** va aksincha bo'lsa ***False*** qaytaradi"
      ]
    },
    {
      "cell_type": "code",
      "execution_count": 15,
      "metadata": {
        "colab": {
          "base_uri": "https://localhost:8080/"
        },
        "id": "ClX3gOHQeM2T",
        "outputId": "a07af000-90a3-47ff-9bb6-7437f1c76de8"
      },
      "outputs": [
        {
          "data": {
            "text/plain": [
              "array([ 0.53188262, -1.4574459 , -0.626828  , -1.7432651 , -2.84124199,\n",
              "        0.04246243])"
            ]
          },
          "execution_count": 15,
          "metadata": {},
          "output_type": "execute_result"
        }
      ],
      "source": [
        "arr1"
      ]
    },
    {
      "cell_type": "code",
      "execution_count": 16,
      "metadata": {
        "colab": {
          "base_uri": "https://localhost:8080/"
        },
        "id": "fhQL3L-XfX9w",
        "outputId": "295c24ff-4774-4c66-be3b-dbc71b254dc5"
      },
      "outputs": [
        {
          "data": {
            "text/plain": [
              "array([False, False, False, False, False, False])"
            ]
          },
          "execution_count": 16,
          "metadata": {},
          "output_type": "execute_result"
        }
      ],
      "source": [
        "np.isnan(arr1)"
      ]
    },
    {
      "cell_type": "code",
      "execution_count": 18,
      "metadata": {
        "colab": {
          "base_uri": "https://localhost:8080/"
        },
        "id": "XwQ6vjEyfcDU",
        "outputId": "37313ee6-eacd-4de4-d217-7b75f0f5ee44"
      },
      "outputs": [
        {
          "data": {
            "text/plain": [
              "array([ 0.53188262, -1.4574459 ,         nan, -1.7432651 , -2.84124199,\n",
              "        0.04246243])"
            ]
          },
          "execution_count": 18,
          "metadata": {},
          "output_type": "execute_result"
        }
      ],
      "source": [
        "arr1[2] = np.nan\n",
        "arr1"
      ]
    },
    {
      "cell_type": "code",
      "execution_count": 19,
      "metadata": {
        "colab": {
          "base_uri": "https://localhost:8080/"
        },
        "id": "IZp_qF-Afkcr",
        "outputId": "1196c9f1-588e-4734-895e-aca50b220958"
      },
      "outputs": [
        {
          "data": {
            "text/plain": [
              "array([False, False,  True, False, False, False])"
            ]
          },
          "execution_count": 19,
          "metadata": {},
          "output_type": "execute_result"
        }
      ],
      "source": [
        "np.isnan(arr1)"
      ]
    },
    {
      "cell_type": "markdown",
      "metadata": {
        "id": "-f0y0tC1gOQg"
      },
      "source": [
        "## Unary funksyalariga missollar:\n",
        "<img src='https://drive.google.com/uc?id=1vqrg5hdDx3IMhuXJLqYo2dlYkPxYZ2ys'>"
      ]
    },
    {
      "cell_type": "code",
      "execution_count": null,
      "metadata": {
        "id": "1VJw2LaXfpID"
      },
      "outputs": [],
      "source": []
    }
  ],
  "metadata": {
    "colab": {
      "authorship_tag": "ABX9TyMB4+LYlu058KsQ04Vd3+eY",
      "include_colab_link": true,
      "provenance": []
    },
    "kernelspec": {
      "display_name": ".venv",
      "language": "python",
      "name": "python3"
    },
    "language_info": {
      "codemirror_mode": {
        "name": "ipython",
        "version": 3
      },
      "file_extension": ".py",
      "mimetype": "text/x-python",
      "name": "python",
      "nbconvert_exporter": "python",
      "pygments_lexer": "ipython3",
      "version": "3.11.9"
    }
  },
  "nbformat": 4,
  "nbformat_minor": 0
}
