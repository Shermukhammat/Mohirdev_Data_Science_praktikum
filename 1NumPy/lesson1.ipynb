{
  "nbformat": 4,
  "nbformat_minor": 0,
  "metadata": {
    "colab": {
      "provenance": []
    },
    "kernelspec": {
      "name": "python3",
      "display_name": "Python 3"
    },
    "language_info": {
      "name": "python"
    }
  },
  "cells": [
    {
      "cell_type": "markdown",
      "source": [
        "#\\#8.2 List and array"
      ],
      "metadata": {
        "id": "mdEdcBR_PFvE"
      }
    },
    {
      "cell_type": "code",
      "execution_count": 131,
      "metadata": {
        "id": "Ceo204wnhrjF"
      },
      "outputs": [],
      "source": [
        "import numpy as np "
      ]
    },
    {
      "cell_type": "code",
      "source": [
        "python_list = list(range(100_000))\n",
        "numpy_array = np.array(python_list)"
      ],
      "metadata": {
        "id": "oFz87v-ThyQZ"
      },
      "execution_count": 97,
      "outputs": []
    },
    {
      "cell_type": "code",
      "source": [
        "python_list[-1]"
      ],
      "metadata": {
        "colab": {
          "base_uri": "https://localhost:8080/"
        },
        "id": "BIBhDhMKxBmi",
        "outputId": "7820407d-1901-4943-ca39-3f91328f4ff5"
      },
      "execution_count": 98,
      "outputs": [
        {
          "output_type": "execute_result",
          "data": {
            "text/plain": [
              "99999"
            ]
          },
          "metadata": {},
          "execution_count": 98
        }
      ]
    },
    {
      "cell_type": "code",
      "source": [
        "numpy_array "
      ],
      "metadata": {
        "colab": {
          "base_uri": "https://localhost:8080/"
        },
        "id": "lv_3EJ1dQC4b",
        "outputId": "9bb27642-7895-48c2-c174-810d1360d25d"
      },
      "execution_count": 99,
      "outputs": [
        {
          "output_type": "execute_result",
          "data": {
            "text/plain": [
              "array([    0,     1,     2, ..., 99997, 99998, 99999])"
            ]
          },
          "metadata": {},
          "execution_count": 99
        }
      ]
    },
    {
      "cell_type": "code",
      "source": [
        "%time for _ in range(10): [x*2 for x in python_list] #Normal xisoblash"
      ],
      "metadata": {
        "colab": {
          "base_uri": "https://localhost:8080/"
        },
        "id": "bO_2R0a3S-W4",
        "outputId": "226692f6-96da-4261-d08e-f8d875b932c0"
      },
      "execution_count": 100,
      "outputs": [
        {
          "output_type": "stream",
          "name": "stdout",
          "text": [
            "CPU times: user 137 ms, sys: 21.3 ms, total: 158 ms\n",
            "Wall time: 185 ms\n"
          ]
        }
      ]
    },
    {
      "cell_type": "code",
      "source": [
        "%time for _ in range(10): numpy_array*2 # Vektorlashgan xisoblash"
      ],
      "metadata": {
        "colab": {
          "base_uri": "https://localhost:8080/"
        },
        "id": "EvkxDhTAT0ma",
        "outputId": "f7f0d6f6-5c11-4489-9b71-cb28434922c3"
      },
      "execution_count": 101,
      "outputs": [
        {
          "output_type": "stream",
          "name": "stdout",
          "text": [
            "CPU times: user 2.29 ms, sys: 9 µs, total: 2.29 ms\n",
            "Wall time: 2.2 ms\n"
          ]
        }
      ]
    },
    {
      "cell_type": "markdown",
      "source": [
        "#\\#8.3 Numpy array"
      ],
      "metadata": {
        "id": "I5OK1-71WXl4"
      }
    },
    {
      "cell_type": "code",
      "source": [
        "data1 = [1, 2, 3, 4, 5, 6, 7, 1, 0, -1]\n",
        "array1 = np.array(data1)"
      ],
      "metadata": {
        "id": "35VScA9_Uj3j"
      },
      "execution_count": 102,
      "outputs": []
    },
    {
      "cell_type": "code",
      "source": [
        "print(type(array1))\n",
        "print(type(data1))"
      ],
      "metadata": {
        "colab": {
          "base_uri": "https://localhost:8080/"
        },
        "id": "3SJgJ5eyWyOp",
        "outputId": "ffa122f8-9316-44e9-b0cf-8c12fd14c994"
      },
      "execution_count": 103,
      "outputs": [
        {
          "output_type": "stream",
          "name": "stdout",
          "text": [
            "<class 'numpy.ndarray'>\n",
            "<class 'list'>\n"
          ]
        }
      ]
    },
    {
      "cell_type": "code",
      "source": [
        "data2 = (1, 2, 3, 4, 5, 6, 7, 1, 0, -1)\n",
        "array2 = np.array(data1)"
      ],
      "metadata": {
        "id": "hDsIgkLQW2O7"
      },
      "execution_count": 104,
      "outputs": []
    },
    {
      "cell_type": "code",
      "source": [
        "print(type(array2))\n",
        "print(type(data2))"
      ],
      "metadata": {
        "colab": {
          "base_uri": "https://localhost:8080/"
        },
        "id": "6L6Do0AYWzRx",
        "outputId": "8f803124-0e0e-41fb-c164-86097d9f49e2"
      },
      "execution_count": 105,
      "outputs": [
        {
          "output_type": "stream",
          "name": "stdout",
          "text": [
            "<class 'numpy.ndarray'>\n",
            "<class 'tuple'>\n"
          ]
        }
      ]
    },
    {
      "cell_type": "code",
      "source": [
        "array2 "
      ],
      "metadata": {
        "colab": {
          "base_uri": "https://localhost:8080/"
        },
        "id": "BV-qlpCsXR6Y",
        "outputId": "25a0662d-0830-48d7-a9ba-dd39ec4e0f17"
      },
      "execution_count": 106,
      "outputs": [
        {
          "output_type": "execute_result",
          "data": {
            "text/plain": [
              "array([ 1,  2,  3,  4,  5,  6,  7,  1,  0, -1])"
            ]
          },
          "metadata": {},
          "execution_count": 106
        }
      ]
    },
    {
      "cell_type": "markdown",
      "source": [
        "### Massiv o'lchami"
      ],
      "metadata": {
        "id": "UUDl0MuvXkR6"
      }
    },
    {
      "cell_type": "markdown",
      "source": [
        "### 1D array"
      ],
      "metadata": {
        "id": "uqNi_3ZfZ0vH"
      }
    },
    {
      "cell_type": "code",
      "source": [
        "array1.ndim"
      ],
      "metadata": {
        "colab": {
          "base_uri": "https://localhost:8080/"
        },
        "id": "DS2OmjDDXVP8",
        "outputId": "ed3254b3-b9d8-480e-d75b-624f0435034b"
      },
      "execution_count": 107,
      "outputs": [
        {
          "output_type": "execute_result",
          "data": {
            "text/plain": [
              "1"
            ]
          },
          "metadata": {},
          "execution_count": 107
        }
      ]
    },
    {
      "cell_type": "code",
      "source": [
        "array2.ndim"
      ],
      "metadata": {
        "colab": {
          "base_uri": "https://localhost:8080/"
        },
        "id": "x1h7q7CiX88O",
        "outputId": "1e269759-c48b-4cdb-d6c0-e813c9c3106e"
      },
      "execution_count": 108,
      "outputs": [
        {
          "output_type": "execute_result",
          "data": {
            "text/plain": [
              "1"
            ]
          },
          "metadata": {},
          "execution_count": 108
        }
      ]
    },
    {
      "cell_type": "code",
      "source": [
        "two_dimensional_list = [[1, 2, 3, 4], [5, 6, 7, 8]] #list ichidagi list 2d"
      ],
      "metadata": {
        "id": "t0YBPcLCX-69"
      },
      "execution_count": 109,
      "outputs": []
    },
    {
      "cell_type": "markdown",
      "source": [
        "### 2D array"
      ],
      "metadata": {
        "id": "j2sCSV4wYoGo"
      }
    },
    {
      "cell_type": "code",
      "source": [
        "array3 = np.array(two_dimensional_list)"
      ],
      "metadata": {
        "id": "bFK7rpHmYUyf"
      },
      "execution_count": 110,
      "outputs": []
    },
    {
      "cell_type": "code",
      "source": [
        "array3.ndim"
      ],
      "metadata": {
        "colab": {
          "base_uri": "https://localhost:8080/"
        },
        "id": "VYle_e9MYfYR",
        "outputId": "d9c56625-5c31-404a-8ac8-8c8e3c4793e0"
      },
      "execution_count": 111,
      "outputs": [
        {
          "output_type": "execute_result",
          "data": {
            "text/plain": [
              "2"
            ]
          },
          "metadata": {},
          "execution_count": 111
        }
      ]
    },
    {
      "cell_type": "markdown",
      "source": [
        "### 3D array"
      ],
      "metadata": {
        "id": "bdcSfR51aBBn"
      }
    },
    {
      "cell_type": "code",
      "source": [
        "three_dimensional_list = [[data2, data2], [data2, data2], [data2, data2]] # 3 o'lchamli list"
      ],
      "metadata": {
        "id": "dedFkfInY-YQ"
      },
      "execution_count": 112,
      "outputs": []
    },
    {
      "cell_type": "code",
      "source": [
        "array4 = np.array(three_dimensional_list) # 3 o'lchamli massiv"
      ],
      "metadata": {
        "id": "BWr8Gl3XYnD7"
      },
      "execution_count": 113,
      "outputs": []
    },
    {
      "cell_type": "code",
      "source": [
        "array4.ndim "
      ],
      "metadata": {
        "colab": {
          "base_uri": "https://localhost:8080/"
        },
        "id": "VdE8g-rLY684",
        "outputId": "b5236c72-cfd8-47ab-ca5c-e6c0e97a8b08"
      },
      "execution_count": 114,
      "outputs": [
        {
          "output_type": "execute_result",
          "data": {
            "text/plain": [
              "3"
            ]
          },
          "metadata": {},
          "execution_count": 114
        }
      ]
    },
    {
      "cell_type": "markdown",
      "source": [
        "### .shape va .size argumentlari"
      ],
      "metadata": {
        "id": "GsNzwI8VaOdT"
      }
    },
    {
      "cell_type": "code",
      "source": [
        "array2 "
      ],
      "metadata": {
        "colab": {
          "base_uri": "https://localhost:8080/"
        },
        "id": "2WVAp0SKZjNB",
        "outputId": "386aefd7-9679-4a54-ce5d-b2e2a8b24ba5"
      },
      "execution_count": 115,
      "outputs": [
        {
          "output_type": "execute_result",
          "data": {
            "text/plain": [
              "array([ 1,  2,  3,  4,  5,  6,  7,  1,  0, -1])"
            ]
          },
          "metadata": {},
          "execution_count": 115
        }
      ]
    },
    {
      "cell_type": "code",
      "source": [
        "array2.shape  # Qator va ustunlar sonini chiqarib beradi"
      ],
      "metadata": {
        "colab": {
          "base_uri": "https://localhost:8080/"
        },
        "id": "dFL5_JJCaLR6",
        "outputId": "702a2e64-317e-424f-a6d8-69774396c38b"
      },
      "execution_count": 116,
      "outputs": [
        {
          "output_type": "execute_result",
          "data": {
            "text/plain": [
              "(10,)"
            ]
          },
          "metadata": {},
          "execution_count": 116
        }
      ]
    },
    {
      "cell_type": "code",
      "source": [
        "array4"
      ],
      "metadata": {
        "colab": {
          "base_uri": "https://localhost:8080/"
        },
        "id": "xNHPZJSWajuI",
        "outputId": "ac26a04d-fa70-4b5d-d5cb-65770961488a"
      },
      "execution_count": 117,
      "outputs": [
        {
          "output_type": "execute_result",
          "data": {
            "text/plain": [
              "array([[[ 1,  2,  3,  4,  5,  6,  7,  1,  0, -1],\n",
              "        [ 1,  2,  3,  4,  5,  6,  7,  1,  0, -1]],\n",
              "\n",
              "       [[ 1,  2,  3,  4,  5,  6,  7,  1,  0, -1],\n",
              "        [ 1,  2,  3,  4,  5,  6,  7,  1,  0, -1]],\n",
              "\n",
              "       [[ 1,  2,  3,  4,  5,  6,  7,  1,  0, -1],\n",
              "        [ 1,  2,  3,  4,  5,  6,  7,  1,  0, -1]]])"
            ]
          },
          "metadata": {},
          "execution_count": 117
        }
      ]
    },
    {
      "cell_type": "code",
      "source": [
        "array4.shape "
      ],
      "metadata": {
        "colab": {
          "base_uri": "https://localhost:8080/"
        },
        "id": "5RrbQtG-bD5T",
        "outputId": "a8aa06ea-68b7-4af6-87ee-c028da55159f"
      },
      "execution_count": 118,
      "outputs": [
        {
          "output_type": "execute_result",
          "data": {
            "text/plain": [
              "(3, 2, 10)"
            ]
          },
          "metadata": {},
          "execution_count": 118
        }
      ]
    },
    {
      "cell_type": "code",
      "source": [
        "array4.size # Arrayni ichda nechta element borligni aytaradi"
      ],
      "metadata": {
        "colab": {
          "base_uri": "https://localhost:8080/"
        },
        "id": "NW7KNUjDbHZy",
        "outputId": "94eeecb7-fa16-44e3-fca3-ddf8384a1c00"
      },
      "execution_count": 119,
      "outputs": [
        {
          "output_type": "execute_result",
          "data": {
            "text/plain": [
              "60"
            ]
          },
          "metadata": {},
          "execution_count": 119
        }
      ]
    },
    {
      "cell_type": "markdown",
      "source": [
        "## N-o'lcho'vli numpy arraylarni yaratishning boshqa usullari\n",
        "\n",
        "#### zeros va ones funksyalari yordamida massivlar yaratish"
      ],
      "metadata": {
        "id": "DzhpI4Ydbz6A"
      }
    },
    {
      "cell_type": "code",
      "source": [
        "array = np.zeros((2, 4)) # Baracha elementlari 0ga teng (2, 4)\n",
        "array"
      ],
      "metadata": {
        "colab": {
          "base_uri": "https://localhost:8080/"
        },
        "id": "XAjEE48lbpoR",
        "outputId": "482d0919-7cd8-4276-b7f8-633629efb533"
      },
      "execution_count": 120,
      "outputs": [
        {
          "output_type": "execute_result",
          "data": {
            "text/plain": [
              "array([[0., 0., 0., 0.],\n",
              "       [0., 0., 0., 0.]])"
            ]
          },
          "metadata": {},
          "execution_count": 120
        }
      ]
    },
    {
      "cell_type": "code",
      "source": [
        "array = np.ones((2, 4)) # Baracha elementlari 0ga teng (2, 4)\n",
        "array"
      ],
      "metadata": {
        "colab": {
          "base_uri": "https://localhost:8080/"
        },
        "id": "apZw7woabcU1",
        "outputId": "a604be2c-9834-409f-df4f-25f5b9e10f62"
      },
      "execution_count": 121,
      "outputs": [
        {
          "output_type": "execute_result",
          "data": {
            "text/plain": [
              "array([[1., 1., 1., 1.],\n",
              "       [1., 1., 1., 1.]])"
            ]
          },
          "metadata": {},
          "execution_count": 121
        }
      ]
    },
    {
      "cell_type": "code",
      "source": [
        "array = np.arange(4, 20, 2) # 4 dan 20gacha massivga 2 qadam bilan np aray xosil qiladi\n",
        "array"
      ],
      "metadata": {
        "colab": {
          "base_uri": "https://localhost:8080/"
        },
        "id": "4OoCrhyfb28a",
        "outputId": "ef4f12ef-2b60-4f85-aa0c-34f5890acafb"
      },
      "execution_count": 122,
      "outputs": [
        {
          "output_type": "execute_result",
          "data": {
            "text/plain": [
              "array([ 4,  6,  8, 10, 12, 14, 16, 18])"
            ]
          },
          "metadata": {},
          "execution_count": 122
        }
      ]
    },
    {
      "cell_type": "code",
      "source": [
        "array = np.arange(20) # 0dan 20gacha qiymatlar qadam bilan\n",
        "array"
      ],
      "metadata": {
        "colab": {
          "base_uri": "https://localhost:8080/"
        },
        "id": "yC8p2Zkjb3Ev",
        "outputId": "c639d8cb-af07-4b09-81af-985649228639"
      },
      "execution_count": 123,
      "outputs": [
        {
          "output_type": "execute_result",
          "data": {
            "text/plain": [
              "array([ 0,  1,  2,  3,  4,  5,  6,  7,  8,  9, 10, 11, 12, 13, 14, 15, 16,\n",
              "       17, 18, 19])"
            ]
          },
          "metadata": {},
          "execution_count": 123
        }
      ]
    },
    {
      "cell_type": "markdown",
      "source": [
        "## Qo'shimcha:"
      ],
      "metadata": {
        "id": "M5n3udps0mt9"
      }
    },
    {
      "cell_type": "code",
      "source": [
        "array = np.random.rand(2, 4) # (2, 4) o'lchamli --> elementlar (0 ~ 1) oraliqdagi tqxminiy qiymatlardan tashkil topgan\n",
        "array"
      ],
      "metadata": {
        "colab": {
          "base_uri": "https://localhost:8080/"
        },
        "id": "gNTEWEr_gKAn",
        "outputId": "ec4dfb95-aa8d-4040-9ea3-96cdc325bb28"
      },
      "execution_count": 132,
      "outputs": [
        {
          "output_type": "execute_result",
          "data": {
            "text/plain": [
              "array([[0.91443145, 0.92898777, 0.20062998, 0.23937115],\n",
              "       [0.85540614, 0.1726851 , 0.99013225, 0.99974548]])"
            ]
          },
          "metadata": {},
          "execution_count": 132
        }
      ]
    },
    {
      "cell_type": "code",
      "source": [
        "array = np.random.randint(10, size=(2, 4)) #O'lchami 2, 4 va max qiymati 10gacha bo'lgan sonlar\n",
        "array"
      ],
      "metadata": {
        "id": "wg2LzQTj1W7I",
        "outputId": "53e71a3e-7367-4c38-96d2-2f4a4402adc6",
        "colab": {
          "base_uri": "https://localhost:8080/"
        }
      },
      "execution_count": 133,
      "outputs": [
        {
          "output_type": "execute_result",
          "data": {
            "text/plain": [
              "array([[3, 1, 8, 7],\n",
              "       [3, 0, 4, 1]])"
            ]
          },
          "metadata": {},
          "execution_count": 133
        }
      ]
    },
    {
      "cell_type": "code",
      "source": [],
      "metadata": {
        "id": "kBL3Jkuf2qAM"
      },
      "execution_count": null,
      "outputs": []
    }
  ]
}