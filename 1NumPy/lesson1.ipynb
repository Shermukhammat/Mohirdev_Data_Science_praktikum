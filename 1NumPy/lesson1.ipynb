{
 "cells": [
  {
   "cell_type": "markdown",
   "metadata": {
    "id": "mdEdcBR_PFvE"
   },
   "source": [
    "# ![Imgur](https://i.imgur.com/5pXzCIu.png)\n",
    "# \\#1 List and array"
   ]
  },
  {
   "cell_type": "code",
   "execution_count": 2,
   "metadata": {
    "id": "Ceo204wnhrjF"
   },
   "outputs": [],
   "source": [
    "# ! pip install numpy\n",
    "import numpy as np "
   ]
  },
  {
   "cell_type": "code",
   "execution_count": 4,
   "metadata": {
    "id": "oFz87v-ThyQZ"
   },
   "outputs": [],
   "source": [
    "python_list = list(range(100_000))\n",
    "numpy_array = np.array(python_list)"
   ]
  },
  {
   "cell_type": "code",
   "execution_count": 7,
   "metadata": {
    "colab": {
     "base_uri": "https://localhost:8080/"
    },
    "id": "BIBhDhMKxBmi",
    "outputId": "7820407d-1901-4943-ca39-3f91328f4ff5"
   },
   "outputs": [
    {
     "data": {
      "text/plain": [
       "99999"
      ]
     },
     "execution_count": 7,
     "metadata": {},
     "output_type": "execute_result"
    }
   ],
   "source": [
    "python_list[-1]"
   ]
  },
  {
   "cell_type": "code",
   "execution_count": 9,
   "metadata": {
    "colab": {
     "base_uri": "https://localhost:8080/"
    },
    "id": "lv_3EJ1dQC4b",
    "outputId": "9bb27642-7895-48c2-c174-810d1360d25d"
   },
   "outputs": [
    {
     "data": {
      "text/plain": [
       "array([    0,     1,     2, ..., 99997, 99998, 99999], shape=(100000,))"
      ]
     },
     "execution_count": 9,
     "metadata": {},
     "output_type": "execute_result"
    }
   ],
   "source": [
    "numpy_array"
   ]
  },
  {
   "cell_type": "code",
   "execution_count": 11,
   "metadata": {},
   "outputs": [
    {
     "name": "stdout",
     "output_type": "stream",
     "text": [
      "CPU times: total: 31.2 ms\n",
      "Wall time: 104 ms\n"
     ]
    }
   ],
   "source": [
    "%time  for _ in range(10): [x*2 for x in python_list] #Normal xisoblash"
   ]
  },
  {
   "cell_type": "code",
   "execution_count": 12,
   "metadata": {
    "colab": {
     "base_uri": "https://localhost:8080/"
    },
    "id": "EvkxDhTAT0ma",
    "outputId": "f7f0d6f6-5c11-4489-9b71-cb28434922c3"
   },
   "outputs": [
    {
     "name": "stdout",
     "output_type": "stream",
     "text": [
      "CPU times: total: 0 ns\n",
      "Wall time: 1.11 ms\n"
     ]
    }
   ],
   "source": [
    "%time for _ in range(10): numpy_array*2 # Vektorlashgan xisoblash"
   ]
  },
  {
   "cell_type": "markdown",
   "metadata": {
    "id": "I5OK1-71WXl4"
   },
   "source": [
    "# \\#2 Numpy array"
   ]
  },
  {
   "cell_type": "markdown",
   "metadata": {},
   "source": [
    "### Massiv yaratish"
   ]
  },
  {
   "cell_type": "code",
   "execution_count": 16,
   "metadata": {
    "id": "35VScA9_Uj3j"
   },
   "outputs": [],
   "source": [
    "python_list = [1, 2, 3, 4, 5, 6, 7, 1, 0, -1]\n",
    "numpy_array = np.array(python_list)"
   ]
  },
  {
   "cell_type": "code",
   "execution_count": 17,
   "metadata": {
    "colab": {
     "base_uri": "https://localhost:8080/"
    },
    "id": "3SJgJ5eyWyOp",
    "outputId": "ffa122f8-9316-44e9-b0cf-8c12fd14c994"
   },
   "outputs": [
    {
     "name": "stdout",
     "output_type": "stream",
     "text": [
      "<class 'numpy.ndarray'>\n",
      "<class 'list'>\n"
     ]
    }
   ],
   "source": [
    "print(type(numpy_array))\n",
    "print(type(python_list))"
   ]
  },
  {
   "cell_type": "code",
   "execution_count": 18,
   "metadata": {
    "id": "hDsIgkLQW2O7"
   },
   "outputs": [],
   "source": [
    "python_tuple = (1, 2, 3, 4, 5, 6, 7, 1, 0, -1)\n",
    "numpy_array2 = np.array(python_list)"
   ]
  },
  {
   "cell_type": "code",
   "execution_count": 19,
   "metadata": {
    "colab": {
     "base_uri": "https://localhost:8080/"
    },
    "id": "6L6Do0AYWzRx",
    "outputId": "8f803124-0e0e-41fb-c164-86097d9f49e2"
   },
   "outputs": [
    {
     "name": "stdout",
     "output_type": "stream",
     "text": [
      "<class 'numpy.ndarray'>\n",
      "<class 'tuple'>\n"
     ]
    }
   ],
   "source": [
    "print(type(numpy_array2))\n",
    "print(type(python_tuple))"
   ]
  },
  {
   "cell_type": "code",
   "execution_count": 20,
   "metadata": {
    "colab": {
     "base_uri": "https://localhost:8080/"
    },
    "id": "BV-qlpCsXR6Y",
    "outputId": "25a0662d-0830-48d7-a9ba-dd39ec4e0f17"
   },
   "outputs": [
    {
     "data": {
      "text/plain": [
       "array([ 1,  2,  3,  4,  5,  6,  7,  1,  0, -1])"
      ]
     },
     "execution_count": 20,
     "metadata": {},
     "output_type": "execute_result"
    }
   ],
   "source": [
    "numpy_array2 "
   ]
  },
  {
   "cell_type": "markdown",
   "metadata": {
    "id": "UUDl0MuvXkR6"
   },
   "source": [
    "### Massiv o'lchami"
   ]
  },
  {
   "cell_type": "markdown",
   "metadata": {
    "id": "uqNi_3ZfZ0vH"
   },
   "source": [
    "#### 1D array"
   ]
  },
  {
   "cell_type": "code",
   "execution_count": 21,
   "metadata": {
    "colab": {
     "base_uri": "https://localhost:8080/"
    },
    "id": "DS2OmjDDXVP8",
    "outputId": "ed3254b3-b9d8-480e-d75b-624f0435034b"
   },
   "outputs": [
    {
     "data": {
      "text/plain": [
       "1"
      ]
     },
     "execution_count": 21,
     "metadata": {},
     "output_type": "execute_result"
    }
   ],
   "source": [
    "numpy_array.ndim # array o'lchamni chiqarib beradi"
   ]
  },
  {
   "cell_type": "code",
   "execution_count": 56,
   "metadata": {
    "colab": {
     "base_uri": "https://localhost:8080/"
    },
    "id": "x1h7q7CiX88O",
    "outputId": "1e269759-c48b-4cdb-d6c0-e813c9c3106e"
   },
   "outputs": [
    {
     "data": {
      "text/plain": [
       "1"
      ]
     },
     "execution_count": 56,
     "metadata": {},
     "output_type": "execute_result"
    }
   ],
   "source": [
    "numpy_array2.ndim"
   ]
  },
  {
   "cell_type": "markdown",
   "metadata": {
    "id": "j2sCSV4wYoGo"
   },
   "source": [
    "### 2D array"
   ]
  },
  {
   "cell_type": "code",
   "execution_count": 22,
   "metadata": {
    "id": "bFK7rpHmYUyf"
   },
   "outputs": [],
   "source": [
    "two_dimensional_list = [[1, 2, 3, 4], [5, 6, 7, 8]] #list ichidagi list 2d\n",
    "array3 = np.array(two_dimensional_list)"
   ]
  },
  {
   "cell_type": "code",
   "execution_count": 23,
   "metadata": {
    "colab": {
     "base_uri": "https://localhost:8080/"
    },
    "id": "VYle_e9MYfYR",
    "outputId": "d9c56625-5c31-404a-8ac8-8c8e3c4793e0"
   },
   "outputs": [
    {
     "data": {
      "text/plain": [
       "2"
      ]
     },
     "execution_count": 23,
     "metadata": {},
     "output_type": "execute_result"
    }
   ],
   "source": [
    "array3.ndim"
   ]
  },
  {
   "cell_type": "markdown",
   "metadata": {
    "id": "bdcSfR51aBBn"
   },
   "source": [
    "### 3D array"
   ]
  },
  {
   "cell_type": "code",
   "execution_count": 24,
   "metadata": {
    "id": "dedFkfInY-YQ"
   },
   "outputs": [],
   "source": [
    "three_dimensional_list = [[python_tuple, python_tuple], [python_tuple, python_tuple], [python_tuple, python_tuple]] # 3 o'lchamli list"
   ]
  },
  {
   "cell_type": "code",
   "execution_count": 25,
   "metadata": {
    "id": "BWr8Gl3XYnD7"
   },
   "outputs": [
    {
     "data": {
      "text/plain": [
       "3"
      ]
     },
     "execution_count": 25,
     "metadata": {},
     "output_type": "execute_result"
    }
   ],
   "source": [
    "array4 = np.array(three_dimensional_list) # 3 o'lchamli massiv\n",
    "array4.ndim "
   ]
  },
  {
   "cell_type": "markdown",
   "metadata": {
    "id": "GsNzwI8VaOdT"
   },
   "source": [
    "### .shape va .size argumentlari"
   ]
  },
  {
   "cell_type": "code",
   "execution_count": 26,
   "metadata": {
    "colab": {
     "base_uri": "https://localhost:8080/"
    },
    "id": "2WVAp0SKZjNB",
    "outputId": "386aefd7-9679-4a54-ce5d-b2e2a8b24ba5"
   },
   "outputs": [
    {
     "data": {
      "text/plain": [
       "array([ 1,  2,  3,  4,  5,  6,  7,  1,  0, -1])"
      ]
     },
     "execution_count": 26,
     "metadata": {},
     "output_type": "execute_result"
    }
   ],
   "source": [
    "numpy_array2 "
   ]
  },
  {
   "cell_type": "code",
   "execution_count": 27,
   "metadata": {
    "colab": {
     "base_uri": "https://localhost:8080/"
    },
    "id": "dFL5_JJCaLR6",
    "outputId": "702a2e64-317e-424f-a6d8-69774396c38b"
   },
   "outputs": [
    {
     "data": {
      "text/plain": [
       "(10,)"
      ]
     },
     "execution_count": 27,
     "metadata": {},
     "output_type": "execute_result"
    }
   ],
   "source": [
    "numpy_array2.shape  # Qator va ustunlar sonini chiqarib beradi"
   ]
  },
  {
   "cell_type": "code",
   "execution_count": 28,
   "metadata": {
    "colab": {
     "base_uri": "https://localhost:8080/"
    },
    "id": "xNHPZJSWajuI",
    "outputId": "ac26a04d-fa70-4b5d-d5cb-65770961488a"
   },
   "outputs": [
    {
     "data": {
      "text/plain": [
       "array([[[ 1,  2,  3,  4,  5,  6,  7,  1,  0, -1],\n",
       "        [ 1,  2,  3,  4,  5,  6,  7,  1,  0, -1]],\n",
       "\n",
       "       [[ 1,  2,  3,  4,  5,  6,  7,  1,  0, -1],\n",
       "        [ 1,  2,  3,  4,  5,  6,  7,  1,  0, -1]],\n",
       "\n",
       "       [[ 1,  2,  3,  4,  5,  6,  7,  1,  0, -1],\n",
       "        [ 1,  2,  3,  4,  5,  6,  7,  1,  0, -1]]])"
      ]
     },
     "execution_count": 28,
     "metadata": {},
     "output_type": "execute_result"
    }
   ],
   "source": [
    "array4"
   ]
  },
  {
   "cell_type": "code",
   "execution_count": 29,
   "metadata": {
    "colab": {
     "base_uri": "https://localhost:8080/"
    },
    "id": "5RrbQtG-bD5T",
    "outputId": "a8aa06ea-68b7-4af6-87ee-c028da55159f"
   },
   "outputs": [
    {
     "data": {
      "text/plain": [
       "(3, 2, 10)"
      ]
     },
     "execution_count": 29,
     "metadata": {},
     "output_type": "execute_result"
    }
   ],
   "source": [
    "array4.shape "
   ]
  },
  {
   "cell_type": "code",
   "execution_count": 30,
   "metadata": {
    "colab": {
     "base_uri": "https://localhost:8080/"
    },
    "id": "NW7KNUjDbHZy",
    "outputId": "94eeecb7-fa16-44e3-fca3-ddf8384a1c00"
   },
   "outputs": [
    {
     "data": {
      "text/plain": [
       "60"
      ]
     },
     "execution_count": 30,
     "metadata": {},
     "output_type": "execute_result"
    }
   ],
   "source": [
    "array4.size # Arrayni ichda nechta element borligni qaytaradi"
   ]
  },
  {
   "cell_type": "markdown",
   "metadata": {
    "id": "DzhpI4Ydbz6A"
   },
   "source": [
    "## N-o'lcho'vli numpy arraylarni yaratishning boshqa usullari\n",
    "\n",
    "#### zeros va ones funksyalari yordamida massivlar yaratish"
   ]
  },
  {
   "cell_type": "code",
   "execution_count": 31,
   "metadata": {
    "colab": {
     "base_uri": "https://localhost:8080/"
    },
    "id": "XAjEE48lbpoR",
    "outputId": "482d0919-7cd8-4276-b7f8-633629efb533"
   },
   "outputs": [
    {
     "data": {
      "text/plain": [
       "array([[0., 0., 0., 0.],\n",
       "       [0., 0., 0., 0.]])"
      ]
     },
     "execution_count": 31,
     "metadata": {},
     "output_type": "execute_result"
    }
   ],
   "source": [
    "array = np.zeros((2, 4)) # Baracha elementlari 0ga teng (2, 4)\n",
    "array"
   ]
  },
  {
   "cell_type": "code",
   "execution_count": 121,
   "metadata": {
    "colab": {
     "base_uri": "https://localhost:8080/"
    },
    "id": "apZw7woabcU1",
    "outputId": "a604be2c-9834-409f-df4f-25f5b9e10f62"
   },
   "outputs": [
    {
     "data": {
      "text/plain": [
       "array([[1., 1., 1., 1.],\n",
       "       [1., 1., 1., 1.]])"
      ]
     },
     "execution_count": 121,
     "metadata": {},
     "output_type": "execute_result"
    }
   ],
   "source": [
    "array = np.ones((2, 4)) # Baracha elementlari 0ga teng (2, 4)\n",
    "array"
   ]
  },
  {
   "cell_type": "code",
   "execution_count": 122,
   "metadata": {
    "colab": {
     "base_uri": "https://localhost:8080/"
    },
    "id": "4OoCrhyfb28a",
    "outputId": "ef4f12ef-2b60-4f85-aa0c-34f5890acafb"
   },
   "outputs": [
    {
     "data": {
      "text/plain": [
       "array([ 4,  6,  8, 10, 12, 14, 16, 18])"
      ]
     },
     "execution_count": 122,
     "metadata": {},
     "output_type": "execute_result"
    }
   ],
   "source": [
    "array = np.arange(4, 20, 2) # 4 dan 20gacha massivga 2 qadam bilan np aray xosil qiladi\n",
    "array"
   ]
  },
  {
   "cell_type": "code",
   "execution_count": 123,
   "metadata": {
    "colab": {
     "base_uri": "https://localhost:8080/"
    },
    "id": "yC8p2Zkjb3Ev",
    "outputId": "c639d8cb-af07-4b09-81af-985649228639"
   },
   "outputs": [
    {
     "data": {
      "text/plain": [
       "array([ 0,  1,  2,  3,  4,  5,  6,  7,  8,  9, 10, 11, 12, 13, 14, 15, 16,\n",
       "       17, 18, 19])"
      ]
     },
     "execution_count": 123,
     "metadata": {},
     "output_type": "execute_result"
    }
   ],
   "source": [
    "array = np.arange(20) # 0dan 20gacha qiymatlar qadam bilan\n",
    "array"
   ]
  },
  {
   "cell_type": "markdown",
   "metadata": {
    "id": "M5n3udps0mt9"
   },
   "source": [
    "## Qo'shimcha:"
   ]
  },
  {
   "cell_type": "code",
   "execution_count": 132,
   "metadata": {
    "colab": {
     "base_uri": "https://localhost:8080/"
    },
    "id": "gNTEWEr_gKAn",
    "outputId": "ec4dfb95-aa8d-4040-9ea3-96cdc325bb28"
   },
   "outputs": [
    {
     "data": {
      "text/plain": [
       "array([[0.91443145, 0.92898777, 0.20062998, 0.23937115],\n",
       "       [0.85540614, 0.1726851 , 0.99013225, 0.99974548]])"
      ]
     },
     "execution_count": 132,
     "metadata": {},
     "output_type": "execute_result"
    }
   ],
   "source": [
    "array = np.random.rand(2, 4) # (2, 4) o'lchamli --> elementlar (0 ~ 1) oraliqdagi tqxminiy qiymatlardan tashkil topgan\n",
    "array"
   ]
  },
  {
   "cell_type": "code",
   "execution_count": 38,
   "metadata": {
    "colab": {
     "base_uri": "https://localhost:8080/"
    },
    "id": "wg2LzQTj1W7I",
    "outputId": "53e71a3e-7367-4c38-96d2-2f4a4402adc6"
   },
   "outputs": [
    {
     "data": {
      "text/plain": [
       "array([[5, 2, 0, 5],\n",
       "       [9, 8, 3, 3]], dtype=int32)"
      ]
     },
     "execution_count": 38,
     "metadata": {},
     "output_type": "execute_result"
    }
   ],
   "source": [
    "array = np.random.randint(10, size=(2, 4)) #O'lchami 2, 4 va max qiymati 10gacha bo'lgan sonlar\n",
    "array"
   ]
  },
  {
   "cell_type": "code",
   "execution_count": null,
   "metadata": {
    "id": "kBL3Jkuf2qAM"
   },
   "outputs": [],
   "source": []
  }
 ],
 "metadata": {
  "colab": {
   "provenance": []
  },
  "kernelspec": {
   "display_name": ".venv",
   "language": "python",
   "name": "python3"
  },
  "language_info": {
   "codemirror_mode": {
    "name": "ipython",
    "version": 3
   },
   "file_extension": ".py",
   "mimetype": "text/x-python",
   "name": "python",
   "nbconvert_exporter": "python",
   "pygments_lexer": "ipython3",
   "version": "3.11.9"
  }
 },
 "nbformat": 4,
 "nbformat_minor": 4
}
