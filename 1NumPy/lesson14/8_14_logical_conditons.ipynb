{
  "nbformat": 4,
  "nbformat_minor": 0,
  "metadata": {
    "colab": {
      "provenance": [],
      "authorship_tag": "ABX9TyOvrxnoXc5K2fSfUhRv+L0T",
      "include_colab_link": true
    },
    "kernelspec": {
      "name": "python3",
      "display_name": "Python 3"
    },
    "language_info": {
      "name": "python"
    }
  },
  "cells": [
    {
      "cell_type": "markdown",
      "metadata": {
        "id": "view-in-github",
        "colab_type": "text"
      },
      "source": [
        "<a href=\"https://colab.research.google.com/github/SHermukhammadjon/Mohirdev_Data_Science_praktikum/blob/main/8_14_logical_conditons.ipynb\" target=\"_parent\"><img src=\"https://colab.research.google.com/assets/colab-badge.svg\" alt=\"Open In Colab\"/></a>"
      ]
    },
    {
      "cell_type": "markdown",
      "source": [
        "# ![Imgur](https://i.imgur.com/5pXzCIu.png)\n",
        "#\\#8.14 Mantiqiy shart operatorlari"
      ],
      "metadata": {
        "id": "QC6HH92HFG05"
      }
    },
    {
      "cell_type": "code",
      "execution_count": 10,
      "metadata": {
        "id": "pbC06dIXCYjV"
      },
      "outputs": [],
      "source": [
        "import numpy as np"
      ]
    },
    {
      "cell_type": "markdown",
      "source": [
        "## Masala: \n",
        "### Bizta 2ta malumot (massivlar) bor : x_arr ava y_arr. Va ushbu arraylarni\n",
        "### uzunligi bilan teng condition_array True va False qiymatlaridan iborat massivimiz bor \n",
        "### agarshar True bo'ls  x_arr elementlarni False bo'lsa y_arr elementlarni qabul qiluvchi yangi massiv xosil qiling"
      ],
      "metadata": {
        "id": "NI66eH8nFvhX"
      }
    },
    {
      "cell_type": "code",
      "source": [
        "x_arr = np.array([1.1, 1.2, 1.3, 1.4, 1.5])\n",
        "y_arr = np.array([2.1, 2.2, 2.3, 2.4, 2.5])"
      ],
      "metadata": {
        "id": "bfQfd-Y7DBiR"
      },
      "execution_count": 25,
      "outputs": []
    },
    {
      "cell_type": "code",
      "source": [
        "#conditon\n",
        "cond = np.array([True, False, True, True, False])\n",
        "cond"
      ],
      "metadata": {
        "colab": {
          "base_uri": "https://localhost:8080/"
        },
        "id": "eot1nAPeDEIP",
        "outputId": "8abe19c4-98ed-4468-de43-935709b9dda7"
      },
      "execution_count": 26,
      "outputs": [
        {
          "output_type": "execute_result",
          "data": {
            "text/plain": [
              "array([ True, False,  True,  True, False])"
            ]
          },
          "metadata": {},
          "execution_count": 26
        }
      ]
    },
    {
      "cell_type": "markdown",
      "source": [
        "## where funksyasi"
      ],
      "metadata": {
        "id": "LS8RV07mLb62"
      }
    },
    {
      "cell_type": "code",
      "source": [
        "# where\n",
        "result = np.where(cond, x_arr, y_arr) #agar shara cond massivda True bolsa x arrayn fals bo'lsa y arrayni mos elementlarni olib yang numpy array qaytaradi\n",
        "result"
      ],
      "metadata": {
        "id": "GWwO9x6dDNZr",
        "colab": {
          "base_uri": "https://localhost:8080/"
        },
        "outputId": "ec255ba4-2959-49a4-d106-d5524082eaa7"
      },
      "execution_count": 30,
      "outputs": [
        {
          "output_type": "execute_result",
          "data": {
            "text/plain": [
              "array([1.1, 2.2, 1.3, 1.4, 2.5])"
            ]
          },
          "metadata": {},
          "execution_count": 30
        }
      ]
    },
    {
      "cell_type": "code",
      "source": [
        "arr = np.random.randn(4, 4) #4 ga 4 o'lchamli taxminiy elementlar\n",
        "arr "
      ],
      "metadata": {
        "colab": {
          "base_uri": "https://localhost:8080/"
        },
        "id": "RtYDVmbwItTX",
        "outputId": "1f655b1d-1f00-436d-b709-998e85396404"
      },
      "execution_count": 32,
      "outputs": [
        {
          "output_type": "execute_result",
          "data": {
            "text/plain": [
              "array([[ 1.07066044, -0.5396034 ,  0.2731266 , -2.05044122],\n",
              "       [-0.61677516, -1.28329387,  0.87395302, -2.30983641],\n",
              "       [-0.29097327,  0.49640213, -0.07262849, -0.45520755],\n",
              "       [ 0.13328128,  0.56856816,  1.15643492,  0.74592602]])"
            ]
          },
          "metadata": {},
          "execution_count": 32
        }
      ]
    },
    {
      "cell_type": "code",
      "source": [
        "#where\n",
        "resolts = np.where(arr<0, -2, 2) # arrayning manfiy elementlarni -2 ga musbaltarni esa 2ga almashtrish\n",
        "resolts"
      ],
      "metadata": {
        "colab": {
          "base_uri": "https://localhost:8080/"
        },
        "id": "xAsh_o-WJ6J-",
        "outputId": "e3abc7b8-5e52-473f-bf1b-eccdd74c668f"
      },
      "execution_count": 36,
      "outputs": [
        {
          "output_type": "execute_result",
          "data": {
            "text/plain": [
              "array([[ 2, -2,  2, -2],\n",
              "       [-2, -2,  2, -2],\n",
              "       [-2,  2, -2, -2],\n",
              "       [ 2,  2,  2,  2]])"
            ]
          },
          "metadata": {},
          "execution_count": 36
        }
      ]
    },
    {
      "cell_type": "code",
      "source": [
        "np.where(arr<0, 0, arr)"
      ],
      "metadata": {
        "colab": {
          "base_uri": "https://localhost:8080/"
        },
        "id": "PLCCFoqMLFuU",
        "outputId": "9e40f6b7-48db-4615-96da-3c3c9604d2dc"
      },
      "execution_count": 39,
      "outputs": [
        {
          "output_type": "execute_result",
          "data": {
            "text/plain": [
              "array([[1.07066044, 0.        , 0.2731266 , 0.        ],\n",
              "       [0.        , 0.        , 0.87395302, 0.        ],\n",
              "       [0.        , 0.49640213, 0.        , 0.        ],\n",
              "       [0.13328128, 0.56856816, 1.15643492, 0.74592602]])"
            ]
          },
          "metadata": {},
          "execution_count": 39
        }
      ]
    },
    {
      "cell_type": "code",
      "source": [],
      "metadata": {
        "id": "aaylR-QePBxW"
      },
      "execution_count": null,
      "outputs": []
    }
  ]
}