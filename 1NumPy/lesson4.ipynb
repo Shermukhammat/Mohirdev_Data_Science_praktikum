{
  "cells": [
    {
      "cell_type": "markdown",
      "metadata": {
        "colab_type": "text",
        "id": "view-in-github"
      },
      "source": [
        "<a href=\"https://colab.research.google.com/github/SHermukhammadjon/Mohirdev_Data_Science_praktikum/blob/main/NumPy/lesson9/Boolen_indexing.ipynb\" target=\"_parent\"><img src=\"https://colab.research.google.com/assets/colab-badge.svg\" alt=\"Open In Colab\"/></a>"
      ]
    },
    {
      "cell_type": "markdown",
      "metadata": {
        "id": "6d7BHJ9YEkQG"
      },
      "source": [
        "# ![Imgur](https://i.imgur.com/5pXzCIu.png)\n",
        "# \\#8.9 Boolen Indekslash"
      ]
    },
    {
      "cell_type": "code",
      "execution_count": 3,
      "metadata": {
        "id": "47fzBoDxEg7i"
      },
      "outputs": [],
      "source": [
        "import numpy as np"
      ]
    },
    {
      "cell_type": "code",
      "execution_count": 4,
      "metadata": {
        "colab": {
          "base_uri": "https://localhost:8080/"
        },
        "id": "IPfGlGPlEvLj",
        "outputId": "59feb69e-1aa7-4d5d-beec-f1ab5d147ae3"
      },
      "outputs": [
        {
          "data": {
            "text/plain": [
              "array(['Hasan', 'Husan', 'Mirzabek', 'Eliyor', 'Husan', 'Javohir',\n",
              "       'Elyor'], dtype='<U8')"
            ]
          },
          "execution_count": 4,
          "metadata": {},
          "output_type": "execute_result"
        }
      ],
      "source": [
        "# Names\n",
        "names = np.array(['Hasan', 'Husan', 'Mirzabek', 'Eliyor', 'Husan', 'Javohir', 'Elyor'])\n",
        "names "
      ]
    },
    {
      "cell_type": "code",
      "execution_count": 9,
      "metadata": {
        "colab": {
          "base_uri": "https://localhost:8080/"
        },
        "id": "VVvpOXXEFmoO",
        "outputId": "0632cb1e-e978-42e3-802f-f4428fcd0151"
      },
      "outputs": [
        {
          "data": {
            "text/plain": [
              "array([[ 0.44960755,  0.67878484,  1.69631115,  0.19536205],\n",
              "       [-1.32579122,  0.29706654,  0.04237544, -0.64315423],\n",
              "       [ 1.96707579, -0.44159752,  1.4027406 ,  0.24712587],\n",
              "       [-0.62267387,  0.33272436,  0.66485015,  0.43777453],\n",
              "       [-0.54535583, -1.53796866,  0.63700045, -0.36690265],\n",
              "       [-1.07994845, -0.15061689, -0.10048911,  1.68794784],\n",
              "       [-0.86172963,  0.441732  , -1.50833612, -0.18838745]])"
            ]
          },
          "execution_count": 9,
          "metadata": {},
          "output_type": "execute_result"
        }
      ],
      "source": [
        "# data\n",
        "data = np.random.randn(7, 4)\n",
        "data"
      ]
    },
    {
      "cell_type": "code",
      "execution_count": 10,
      "metadata": {
        "colab": {
          "base_uri": "https://localhost:8080/"
        },
        "id": "gvqJbGr_GA5X",
        "outputId": "e7c4b364-78d3-4fbd-ee18-237efd57db4c"
      },
      "outputs": [
        {
          "data": {
            "text/plain": [
              "array([False,  True, False, False,  True, False, False])"
            ]
          },
          "execution_count": 10,
          "metadata": {},
          "output_type": "execute_result"
        }
      ],
      "source": [
        "names == 'Husan'"
      ]
    },
    {
      "cell_type": "code",
      "execution_count": 11,
      "metadata": {
        "colab": {
          "base_uri": "https://localhost:8080/"
        },
        "id": "QDDgWTAuGgHn",
        "outputId": "21afb32c-2a23-4126-ed35-f530ff89206b"
      },
      "outputs": [
        {
          "data": {
            "text/plain": [
              "array([[-1.32579122,  0.29706654,  0.04237544, -0.64315423],\n",
              "       [-0.54535583, -1.53796866,  0.63700045, -0.36690265]])"
            ]
          },
          "execution_count": 11,
          "metadata": {},
          "output_type": "execute_result"
        }
      ],
      "source": [
        "data[names == 'Husan']  # Husanga tegishli barcha ma'lumotlarni ajratib olish"
      ]
    },
    {
      "cell_type": "code",
      "execution_count": 12,
      "metadata": {
        "colab": {
          "base_uri": "https://localhost:8080/"
        },
        "id": "gL62hxgaKtF8",
        "outputId": "e62bfc45-9de0-4cb8-fc58-8792923101e2"
      },
      "outputs": [
        {
          "data": {
            "text/plain": [
              "array([[-0.62267387,  0.33272436,  0.66485015,  0.43777453]])"
            ]
          },
          "execution_count": 12,
          "metadata": {},
          "output_type": "execute_result"
        }
      ],
      "source": [
        "data[names == 'Eliyor']  # Eliyor tegishli barcha ma'lumotlarni ajratib olish"
      ]
    },
    {
      "cell_type": "code",
      "execution_count": 13,
      "metadata": {
        "colab": {
          "base_uri": "https://localhost:8080/"
        },
        "id": "PaZHNwI5K3lH",
        "outputId": "c087c6fa-9fe7-4ca8-8e06-ff3e8cc86a22"
      },
      "outputs": [
        {
          "data": {
            "text/plain": [
              "array([[ 0.04237544, -0.64315423],\n",
              "       [ 0.63700045, -0.36690265]])"
            ]
          },
          "execution_count": 13,
          "metadata": {},
          "output_type": "execute_result"
        }
      ],
      "source": [
        "data[names == 'Husan', 2:] # Hasanga tegishli oxirgi ustudagit 2ta istunni ajratib olish"
      ]
    },
    {
      "cell_type": "code",
      "execution_count": 14,
      "metadata": {
        "colab": {
          "base_uri": "https://localhost:8080/"
        },
        "id": "TwKJMofiLIGF",
        "outputId": "c4153c0b-41ac-4f87-a364-5fc92af43f4e"
      },
      "outputs": [
        {
          "data": {
            "text/plain": [
              "array([[ 1.69631115,  0.19536205],\n",
              "       [ 1.4027406 ,  0.24712587],\n",
              "       [ 0.66485015,  0.43777453],\n",
              "       [-0.10048911,  1.68794784],\n",
              "       [-1.50833612, -0.18838745]])"
            ]
          },
          "execution_count": 14,
          "metadata": {},
          "output_type": "execute_result"
        }
      ],
      "source": [
        "data[names != 'Husan', 2:] #Husanda tashqari hamma odamlarning ma'umotlari"
      ]
    },
    {
      "cell_type": "code",
      "execution_count": null,
      "metadata": {
        "colab": {
          "base_uri": "https://localhost:8080/"
        },
        "id": "dX_N68S8Lmu7",
        "outputId": "6c3a102f-a0e6-4594-bdaa-3b175ef2c74c"
      },
      "outputs": [
        {
          "data": {
            "text/plain": [
              "array([[0.71711391, 0.76126307, 0.29080096, 0.45814313],\n",
              "       [0.1132639 , 0.07892818, 0.63540178, 0.34074485],\n",
              "       [0.08006617, 0.52855225, 0.76357986, 0.48787945],\n",
              "       [0.20578582, 0.13888541, 0.98024487, 0.89821955],\n",
              "       [0.01444612, 0.37829796, 0.9819636 , 0.73016724]])"
            ]
          },
          "execution_count": 23,
          "metadata": {},
          "output_type": "execute_result"
        }
      ],
      "source": [
        "data[~(names == 'Husan')] # yuqoridagi cell bilan bir xil natijani beradi"
      ]
    },
    {
      "cell_type": "markdown",
      "metadata": {
        "id": "ndUhtmxaMjhG"
      },
      "source": [
        "## \\#vazifa\n",
        "## Datadan araydan 2 ta ismmi ma'lumotlarni ajratib oling"
      ]
    },
    {
      "cell_type": "code",
      "execution_count": 15,
      "metadata": {
        "colab": {
          "base_uri": "https://localhost:8080/"
        },
        "id": "uS6OFlv5OZY4",
        "outputId": "dd073624-80af-4e86-83f2-702f804f824b"
      },
      "outputs": [
        {
          "name": "stdout",
          "output_type": "stream",
          "text": [
            "['Hasan' 'Husan' 'Mirzabek' 'Eliyor' 'Husan' 'Javohir' 'Elyor']\n",
            "[[ 0.44960755  0.67878484  1.69631115  0.19536205]\n",
            " [-1.32579122  0.29706654  0.04237544 -0.64315423]\n",
            " [ 1.96707579 -0.44159752  1.4027406   0.24712587]\n",
            " [-0.62267387  0.33272436  0.66485015  0.43777453]\n",
            " [-0.54535583 -1.53796866  0.63700045 -0.36690265]\n",
            " [-1.07994845 -0.15061689 -0.10048911  1.68794784]\n",
            " [-0.86172963  0.441732   -1.50833612 -0.18838745]]\n"
          ]
        }
      ],
      "source": [
        "print(names)\n",
        "print(data)"
      ]
    },
    {
      "cell_type": "code",
      "execution_count": 16,
      "metadata": {
        "colab": {
          "base_uri": "https://localhost:8080/"
        },
        "id": "8vS09J4lL1NH",
        "outputId": "6c931f4f-7d22-4811-af85-ec5f72cd9700"
      },
      "outputs": [
        {
          "data": {
            "text/plain": [
              "array([ True,  True, False, False,  True, False, False])"
            ]
          },
          "execution_count": 16,
          "metadata": {},
          "output_type": "execute_result"
        }
      ],
      "source": [
        "mask = (names == 'Hasan') | (names == 'Husan')  # or ==  | == yoki\n",
        "mask"
      ]
    },
    {
      "cell_type": "code",
      "execution_count": null,
      "metadata": {
        "colab": {
          "base_uri": "https://localhost:8080/"
        },
        "id": "7ziitJAtNGia",
        "outputId": "6b000db3-f765-4ee1-c96f-23676a57a369"
      },
      "outputs": [
        {
          "data": {
            "text/plain": [
              "array([[0.71711391, 0.76126307, 0.29080096, 0.45814313],\n",
              "       [0.24570515, 0.45938023, 0.55147155, 0.90741936],\n",
              "       [0.47734707, 0.38807453, 0.38325857, 0.65479627]])"
            ]
          },
          "execution_count": 45,
          "metadata": {},
          "output_type": "execute_result"
        }
      ],
      "source": [
        "data[mask]"
      ]
    },
    {
      "cell_type": "code",
      "execution_count": null,
      "metadata": {
        "colab": {
          "base_uri": "https://localhost:8080/"
        },
        "id": "ZD3hWJnhM0o_",
        "outputId": "6df66429-69bd-4e23-93a5-93645520eaf3"
      },
      "outputs": [
        {
          "name": "stdout",
          "output_type": "stream",
          "text": [
            "[-0.52538032 -1.44939186 -0.9606766  -1.54714528 -0.33565941 -1.0639033\n",
            " -0.46154527 -0.34253584 -1.18795069 -2.50848049 -0.45341714 -0.30288869\n",
            " -0.23037936 -0.98629285]\n"
          ]
        }
      ],
      "source": [
        "print(data[data < 0])\n",
        "data[data < 0] = 0"
      ]
    },
    {
      "cell_type": "code",
      "execution_count": null,
      "metadata": {
        "colab": {
          "base_uri": "https://localhost:8080/"
        },
        "id": "P5fGaDGRPGEA",
        "outputId": "f6fe85a0-c9b1-4295-f2fb-d17e029d768c"
      },
      "outputs": [
        {
          "data": {
            "text/plain": [
              "array([[0.22774024, 0.        , 1.29370588, 0.        ],\n",
              "       [0.        , 1.15412137, 1.13095992, 0.72052436],\n",
              "       [0.38801841, 0.25756965, 0.        , 0.        ],\n",
              "       [1.2444704 , 0.        , 0.        , 0.        ],\n",
              "       [0.85633228, 2.06317809, 0.        , 0.        ],\n",
              "       [0.        , 1.0229531 , 0.48998246, 0.        ],\n",
              "       [0.        , 0.        , 0.72612536, 1.62208579]])"
            ]
          },
          "execution_count": 55,
          "metadata": {},
          "output_type": "execute_result"
        }
      ],
      "source": [
        "data"
      ]
    },
    {
      "cell_type": "code",
      "execution_count": null,
      "metadata": {
        "id": "9azbB7r0PlvJ"
      },
      "outputs": [],
      "source": []
    }
  ],
  "metadata": {
    "colab": {
      "authorship_tag": "ABX9TyNwjC/m1/wJAsLKycajX9IR",
      "include_colab_link": true,
      "provenance": []
    },
    "kernelspec": {
      "display_name": ".venv",
      "language": "python",
      "name": "python3"
    },
    "language_info": {
      "codemirror_mode": {
        "name": "ipython",
        "version": 3
      },
      "file_extension": ".py",
      "mimetype": "text/x-python",
      "name": "python",
      "nbconvert_exporter": "python",
      "pygments_lexer": "ipython3",
      "version": "3.11.9"
    }
  },
  "nbformat": 4,
  "nbformat_minor": 0
}
