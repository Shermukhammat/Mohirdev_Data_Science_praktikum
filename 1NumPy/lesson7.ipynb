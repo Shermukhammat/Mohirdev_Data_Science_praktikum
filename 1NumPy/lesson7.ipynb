{
  "cells": [
    {
      "cell_type": "markdown",
      "metadata": {
        "colab_type": "text",
        "id": "view-in-github"
      },
      "source": [
        "<a href=\"https://colab.research.google.com/github/SHermukhammadjon/Mohirdev_Data_Science_praktikum/blob/main/8_14_logical_conditons.ipynb\" target=\"_parent\"><img src=\"https://colab.research.google.com/assets/colab-badge.svg\" alt=\"Open In Colab\"/></a>"
      ]
    },
    {
      "cell_type": "markdown",
      "metadata": {
        "id": "QC6HH92HFG05"
      },
      "source": [
        "# ![Imgur](https://i.imgur.com/5pXzCIu.png)\n",
        "# \\#8.14 Mantiqiy shart operatorlari"
      ]
    },
    {
      "cell_type": "code",
      "execution_count": 1,
      "metadata": {
        "id": "pbC06dIXCYjV"
      },
      "outputs": [],
      "source": [
        "import numpy as np"
      ]
    },
    {
      "cell_type": "markdown",
      "metadata": {
        "id": "NI66eH8nFvhX"
      },
      "source": [
        "#### Masala: \n",
        "##### Bizta 2ta malumot (massivlar) bor : x_arr ava y_arr. Va ushbu arraylarni\n",
        "##### uzunligi bilan teng condition_array True va False qiymatlaridan iborat massivimiz bor \n",
        "##### agar shart True bo'ls  x_arr elementlarni False bo'lsa y_arr elementlarni qabul qiluvchi yangi massiv xosil qiling"
      ]
    },
    {
      "cell_type": "code",
      "execution_count": 2,
      "metadata": {
        "id": "bfQfd-Y7DBiR"
      },
      "outputs": [],
      "source": [
        "x_arr = np.array([1.1, 1.2, 1.3, 1.4, 1.5])\n",
        "y_arr = np.array([2.1, 2.2, 2.3, 2.4, 2.5])"
      ]
    },
    {
      "cell_type": "code",
      "execution_count": 3,
      "metadata": {
        "colab": {
          "base_uri": "https://localhost:8080/"
        },
        "id": "eot1nAPeDEIP",
        "outputId": "8abe19c4-98ed-4468-de43-935709b9dda7"
      },
      "outputs": [
        {
          "data": {
            "text/plain": [
              "array([ True, False,  True,  True, False])"
            ]
          },
          "execution_count": 3,
          "metadata": {},
          "output_type": "execute_result"
        }
      ],
      "source": [
        "#conditon\n",
        "cond = np.array([True, False, True, True, False])\n",
        "cond"
      ]
    },
    {
      "cell_type": "markdown",
      "metadata": {
        "id": "LS8RV07mLb62"
      },
      "source": [
        "## where funksyasi"
      ]
    },
    {
      "cell_type": "code",
      "execution_count": 4,
      "metadata": {
        "colab": {
          "base_uri": "https://localhost:8080/"
        },
        "id": "GWwO9x6dDNZr",
        "outputId": "ec255ba4-2959-49a4-d106-d5524082eaa7"
      },
      "outputs": [
        {
          "data": {
            "text/plain": [
              "array([1.1, 2.2, 1.3, 1.4, 2.5])"
            ]
          },
          "execution_count": 4,
          "metadata": {},
          "output_type": "execute_result"
        }
      ],
      "source": [
        "# where\n",
        "result = np.where(cond, x_arr, y_arr) #agar shara cond massivda True bolsa x arrayn fals bo'lsa y arrayni mos elementlarni olib yang numpy array qaytaradi\n",
        "result"
      ]
    },
    {
      "cell_type": "code",
      "execution_count": 5,
      "metadata": {
        "colab": {
          "base_uri": "https://localhost:8080/"
        },
        "id": "RtYDVmbwItTX",
        "outputId": "1f655b1d-1f00-436d-b709-998e85396404"
      },
      "outputs": [
        {
          "data": {
            "text/plain": [
              "array([[-0.52833025, -1.02351093, -0.01008862, -0.15230301],\n",
              "       [ 0.93688601, -0.13616801, -0.76498759, -0.31582689],\n",
              "       [-1.80350113, -1.17537273,  0.19867857,  0.44509331],\n",
              "       [-0.04749129, -2.82664336, -0.72536411,  2.12744134]])"
            ]
          },
          "execution_count": 5,
          "metadata": {},
          "output_type": "execute_result"
        }
      ],
      "source": [
        "arr = np.random.randn(4, 4) #4 ga 4 o'lchamli taxminiy elementlar\n",
        "arr "
      ]
    },
    {
      "cell_type": "code",
      "execution_count": 7,
      "metadata": {
        "colab": {
          "base_uri": "https://localhost:8080/"
        },
        "id": "xAsh_o-WJ6J-",
        "outputId": "e3abc7b8-5e52-473f-bf1b-eccdd74c668f"
      },
      "outputs": [
        {
          "data": {
            "text/plain": [
              "array([[-2, -2, -2, -2],\n",
              "       [ 2, -2, -2, -2],\n",
              "       [-2, -2,  2,  2],\n",
              "       [-2, -2, -2,  2]])"
            ]
          },
          "execution_count": 7,
          "metadata": {},
          "output_type": "execute_result"
        }
      ],
      "source": [
        "#where\n",
        "resolts = np.where(arr<0, -2, 2) # arrayning manfiy elementlarni -2 ga musbaltarni esa 2ga almashtrish\n",
        "resolts "
      ]
    },
    {
      "cell_type": "code",
      "execution_count": 8,
      "metadata": {
        "colab": {
          "base_uri": "https://localhost:8080/"
        },
        "id": "PLCCFoqMLFuU",
        "outputId": "9e40f6b7-48db-4615-96da-3c3c9604d2dc"
      },
      "outputs": [
        {
          "data": {
            "text/plain": [
              "array([[0.        , 0.        , 0.        , 0.        ],\n",
              "       [0.93688601, 0.        , 0.        , 0.        ],\n",
              "       [0.        , 0.        , 0.19867857, 0.44509331],\n",
              "       [0.        , 0.        , 0.        , 2.12744134]])"
            ]
          },
          "execution_count": 8,
          "metadata": {},
          "output_type": "execute_result"
        }
      ],
      "source": [
        "np.where(arr<0, 0, arr)"
      ]
    },
    {
      "cell_type": "code",
      "execution_count": null,
      "metadata": {
        "id": "aaylR-QePBxW"
      },
      "outputs": [],
      "source": []
    }
  ],
  "metadata": {
    "colab": {
      "authorship_tag": "ABX9TyOvrxnoXc5K2fSfUhRv+L0T",
      "include_colab_link": true,
      "provenance": []
    },
    "kernelspec": {
      "display_name": ".venv",
      "language": "python",
      "name": "python3"
    },
    "language_info": {
      "codemirror_mode": {
        "name": "ipython",
        "version": 3
      },
      "file_extension": ".py",
      "mimetype": "text/x-python",
      "name": "python",
      "nbconvert_exporter": "python",
      "pygments_lexer": "ipython3",
      "version": "3.11.9"
    }
  },
  "nbformat": 4,
  "nbformat_minor": 0
}
