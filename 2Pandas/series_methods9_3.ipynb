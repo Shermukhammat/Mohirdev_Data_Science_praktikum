{
  "nbformat": 4,
  "nbformat_minor": 0,
  "metadata": {
    "colab": {
      "provenance": [],
      "authorship_tag": "ABX9TyOs4qPOnM0CrB7o+ats9lHl",
      "include_colab_link": true
    },
    "kernelspec": {
      "name": "python3",
      "display_name": "Python 3"
    },
    "language_info": {
      "name": "python"
    }
  },
  "cells": [
    {
      "cell_type": "markdown",
      "metadata": {
        "id": "view-in-github",
        "colab_type": "text"
      },
      "source": [
        "<a href=\"https://colab.research.google.com/github/SHermukhammadjon/Mohirdev_Data_Science_praktikum/blob/main/series_methods9_3.ipynb\" target=\"_parent\"><img src=\"https://colab.research.google.com/assets/colab-badge.svg\" alt=\"Open In Colab\"/></a>"
      ]
    },
    {
      "cell_type": "markdown",
      "source": [
        "# ![Imgur](https://i.imgur.com/5pXzCIu.png)\n",
        "# Data Science va Sun'iy Intlekt Praktikum\n",
        "## Pandas kutubxonasi\n",
        "\n",
        "### 9.3 Series metodlari"
      ],
      "metadata": {
        "id": "1F2oASfFuYbI"
      }
    },
    {
      "cell_type": "code",
      "execution_count": 33,
      "metadata": {
        "id": "YUSfV-GltEkq"
      },
      "outputs": [],
      "source": [
        "import numpy as np\n",
        "import pandas as pd"
      ]
    },
    {
      "cell_type": "code",
      "source": [
        "from pandas import Series"
      ],
      "metadata": {
        "id": "Qn4p7oINvJlX"
      },
      "execution_count": 34,
      "outputs": []
    },
    {
      "cell_type": "code",
      "source": [
        "cars = {'BMW': 60_000, 'Nexia 3': 80_000, 'Malibu 2': 400_000, 'Tico' : 1700}\n",
        "print(type(cars))\n",
        "cars"
      ],
      "metadata": {
        "colab": {
          "base_uri": "https://localhost:8080/"
        },
        "id": "8GZaFJI-ybL9",
        "outputId": "022a5055-305f-43c1-b907-0ca186ec62c6"
      },
      "execution_count": 35,
      "outputs": [
        {
          "output_type": "stream",
          "name": "stdout",
          "text": [
            "<class 'dict'>\n"
          ]
        },
        {
          "output_type": "execute_result",
          "data": {
            "text/plain": [
              "{'BMW': 60000, 'Nexia 3': 80000, 'Malibu 2': 400000, 'Tico': 1700}"
            ]
          },
          "metadata": {},
          "execution_count": 35
        }
      ]
    },
    {
      "cell_type": "code",
      "source": [
        "cars1 = Series(cars)\n",
        "print(type(cars1))\n",
        "cars1"
      ],
      "metadata": {
        "colab": {
          "base_uri": "https://localhost:8080/"
        },
        "id": "VIQhir6VzTCN",
        "outputId": "1cd2a1a8-8307-433d-c816-cd0025c70306"
      },
      "execution_count": 36,
      "outputs": [
        {
          "output_type": "stream",
          "name": "stdout",
          "text": [
            "<class 'pandas.core.series.Series'>\n"
          ]
        },
        {
          "output_type": "execute_result",
          "data": {
            "text/plain": [
              "BMW          60000\n",
              "Nexia 3      80000\n",
              "Malibu 2    400000\n",
              "Tico          1700\n",
              "dtype: int64"
            ]
          },
          "metadata": {},
          "execution_count": 36
        }
      ]
    },
    {
      "cell_type": "code",
      "source": [
        "cars1 = Series({'BMW': 60_000, 'Nexia 3': 80_000, 'Malibu 2': 400_000, 'Tico' : 1700})\n",
        "cars1"
      ],
      "metadata": {
        "colab": {
          "base_uri": "https://localhost:8080/"
        },
        "id": "dpDLcDDIzj9k",
        "outputId": "2def44bf-f241-4a7b-a197-57d6f46e56bf"
      },
      "execution_count": 37,
      "outputs": [
        {
          "output_type": "execute_result",
          "data": {
            "text/plain": [
              "BMW          60000\n",
              "Nexia 3      80000\n",
              "Malibu 2    400000\n",
              "Tico          1700\n",
              "dtype: int64"
            ]
          },
          "metadata": {},
          "execution_count": 37
        }
      ]
    },
    {
      "cell_type": "code",
      "source": [
        "'Malibu 2' in cars1"
      ],
      "metadata": {
        "colab": {
          "base_uri": "https://localhost:8080/"
        },
        "id": "a5oSVkqNzwJH",
        "outputId": "c143e9d7-b58a-4e5d-d7ee-ad63692cc1d6"
      },
      "execution_count": 38,
      "outputs": [
        {
          "output_type": "execute_result",
          "data": {
            "text/plain": [
              "True"
            ]
          },
          "metadata": {},
          "execution_count": 38
        }
      ]
    },
    {
      "cell_type": "code",
      "source": [
        "'Labo' in cars1"
      ],
      "metadata": {
        "colab": {
          "base_uri": "https://localhost:8080/"
        },
        "id": "xc7G1jUizz9G",
        "outputId": "bcade5e3-3ab9-4392-c390-007d2a5e575b"
      },
      "execution_count": 39,
      "outputs": [
        {
          "output_type": "execute_result",
          "data": {
            "text/plain": [
              "False"
            ]
          },
          "metadata": {},
          "execution_count": 39
        }
      ]
    },
    {
      "cell_type": "code",
      "source": [
        "cars1['Tico']"
      ],
      "metadata": {
        "colab": {
          "base_uri": "https://localhost:8080/"
        },
        "id": "L-1y3EbKz5NM",
        "outputId": "e0366a09-50c1-479a-a846-cc20e36979dc"
      },
      "execution_count": 40,
      "outputs": [
        {
          "output_type": "execute_result",
          "data": {
            "text/plain": [
              "1700"
            ]
          },
          "metadata": {},
          "execution_count": 40
        }
      ]
    },
    {
      "cell_type": "code",
      "source": [
        "cars"
      ],
      "metadata": {
        "colab": {
          "base_uri": "https://localhost:8080/"
        },
        "id": "3xK4P5Ci1CqA",
        "outputId": "9360a109-5d14-4d2b-9fd5-b3c18f40d59b"
      },
      "execution_count": 41,
      "outputs": [
        {
          "output_type": "execute_result",
          "data": {
            "text/plain": [
              "{'BMW': 60000, 'Nexia 3': 80000, 'Malibu 2': 400000, 'Tico': 1700}"
            ]
          },
          "metadata": {},
          "execution_count": 41
        }
      ]
    },
    {
      "cell_type": "code",
      "source": [
        "models = ['Tico', 'Malibu 2', 'BMW', 'Nexia 3', 'matiz', 0]\n",
        "models"
      ],
      "metadata": {
        "colab": {
          "base_uri": "https://localhost:8080/"
        },
        "id": "YNxbQu0A0ADt",
        "outputId": "23dcb16b-582d-4680-b532-c1e8923b1dbf"
      },
      "execution_count": 42,
      "outputs": [
        {
          "output_type": "execute_result",
          "data": {
            "text/plain": [
              "['Tico', 'Malibu 2', 'BMW', 'Nexia 3', 'matiz', 0]"
            ]
          },
          "metadata": {},
          "execution_count": 42
        }
      ]
    },
    {
      "cell_type": "code",
      "source": [
        "cars2 = Series(cars, index = models)\n",
        "cars2"
      ],
      "metadata": {
        "colab": {
          "base_uri": "https://localhost:8080/"
        },
        "id": "AHiKFV-306g1",
        "outputId": "954b126b-8629-4b1c-f334-7b15b19128a0"
      },
      "execution_count": 43,
      "outputs": [
        {
          "output_type": "execute_result",
          "data": {
            "text/plain": [
              "Tico          1700.0\n",
              "Malibu 2    400000.0\n",
              "BMW          60000.0\n",
              "Nexia 3      80000.0\n",
              "matiz            NaN\n",
              "0                NaN\n",
              "dtype: float64"
            ]
          },
          "metadata": {},
          "execution_count": 43
        }
      ]
    },
    {
      "cell_type": "code",
      "source": [
        "cars2"
      ],
      "metadata": {
        "colab": {
          "base_uri": "https://localhost:8080/"
        },
        "id": "MXN4bN771HXe",
        "outputId": "957a448d-c817-46f0-ece3-9fad3331acfc"
      },
      "execution_count": 44,
      "outputs": [
        {
          "output_type": "execute_result",
          "data": {
            "text/plain": [
              "Tico          1700.0\n",
              "Malibu 2    400000.0\n",
              "BMW          60000.0\n",
              "Nexia 3      80000.0\n",
              "matiz            NaN\n",
              "0                NaN\n",
              "dtype: float64"
            ]
          },
          "metadata": {},
          "execution_count": 44
        }
      ]
    },
    {
      "cell_type": "code",
      "source": [
        "cars2.isnull()"
      ],
      "metadata": {
        "colab": {
          "base_uri": "https://localhost:8080/"
        },
        "id": "aRwOydgN6NEK",
        "outputId": "30cb4fc3-cf94-4f8a-9e17-786be750a8b8"
      },
      "execution_count": 46,
      "outputs": [
        {
          "output_type": "execute_result",
          "data": {
            "text/plain": [
              "Tico        False\n",
              "Malibu 2    False\n",
              "BMW         False\n",
              "Nexia 3     False\n",
              "matiz        True\n",
              "0            True\n",
              "dtype: bool"
            ]
          },
          "metadata": {},
          "execution_count": 46
        }
      ]
    },
    {
      "cell_type": "code",
      "source": [
        "cars2.notnull()"
      ],
      "metadata": {
        "colab": {
          "base_uri": "https://localhost:8080/"
        },
        "id": "7AJDR8D27OGd",
        "outputId": "0ce9e5bc-7264-447e-f6a4-a88bc58901d2"
      },
      "execution_count": 47,
      "outputs": [
        {
          "output_type": "execute_result",
          "data": {
            "text/plain": [
              "Tico         True\n",
              "Malibu 2     True\n",
              "BMW          True\n",
              "Nexia 3      True\n",
              "matiz       False\n",
              "0           False\n",
              "dtype: bool"
            ]
          },
          "metadata": {},
          "execution_count": 47
        }
      ]
    },
    {
      "cell_type": "code",
      "source": [
        "cars2"
      ],
      "metadata": {
        "colab": {
          "base_uri": "https://localhost:8080/"
        },
        "id": "760vGYT77Vtv",
        "outputId": "acfb7d0d-0809-48cd-fe3c-05021385c740"
      },
      "execution_count": 50,
      "outputs": [
        {
          "output_type": "execute_result",
          "data": {
            "text/plain": [
              "Tico          1700.0\n",
              "Malibu 2    400000.0\n",
              "BMW          60000.0\n",
              "Nexia 3      80000.0\n",
              "matiz            NaN\n",
              "0                NaN\n",
              "dtype: float64"
            ]
          },
          "metadata": {},
          "execution_count": 50
        }
      ]
    },
    {
      "cell_type": "code",
      "source": [
        "cars1"
      ],
      "metadata": {
        "colab": {
          "base_uri": "https://localhost:8080/"
        },
        "id": "WduAGrRG7ZMo",
        "outputId": "c292b4f2-018c-44dc-e2c2-1ebd7d079ef6"
      },
      "execution_count": 51,
      "outputs": [
        {
          "output_type": "execute_result",
          "data": {
            "text/plain": [
              "BMW          60000\n",
              "Nexia 3      80000\n",
              "Malibu 2    400000\n",
              "Tico          1700\n",
              "dtype: int64"
            ]
          },
          "metadata": {},
          "execution_count": 51
        }
      ]
    },
    {
      "cell_type": "code",
      "source": [
        "cars1 + cars2"
      ],
      "metadata": {
        "colab": {
          "base_uri": "https://localhost:8080/"
        },
        "id": "WYt8Hu1d7bwO",
        "outputId": "3fa0a2a7-6d1a-4e76-e4e4-62e269211c74"
      },
      "execution_count": 52,
      "outputs": [
        {
          "output_type": "execute_result",
          "data": {
            "text/plain": [
              "0                NaN\n",
              "BMW         120000.0\n",
              "Malibu 2    800000.0\n",
              "Nexia 3     160000.0\n",
              "Tico          3400.0\n",
              "matiz            NaN\n",
              "dtype: float64"
            ]
          },
          "metadata": {},
          "execution_count": 52
        }
      ]
    },
    {
      "cell_type": "code",
      "source": [
        "cars2.name = 'avto salon'"
      ],
      "metadata": {
        "id": "nGWE-P247-mV"
      },
      "execution_count": 53,
      "outputs": []
    },
    {
      "cell_type": "code",
      "source": [
        "cars2.index.name =  'modellar'"
      ],
      "metadata": {
        "id": "gDlnkElo8F8u"
      },
      "execution_count": 54,
      "outputs": []
    },
    {
      "cell_type": "code",
      "source": [
        "cars2"
      ],
      "metadata": {
        "colab": {
          "base_uri": "https://localhost:8080/"
        },
        "id": "O4Th8VeP8Mot",
        "outputId": "51bae03d-c608-46c6-a8c8-9fefe6e7569a"
      },
      "execution_count": 55,
      "outputs": [
        {
          "output_type": "execute_result",
          "data": {
            "text/plain": [
              "modellar\n",
              "Tico          1700.0\n",
              "Malibu 2    400000.0\n",
              "BMW          60000.0\n",
              "Nexia 3      80000.0\n",
              "matiz            NaN\n",
              "0                NaN\n",
              "Name: avto salon, dtype: float64"
            ]
          },
          "metadata": {},
          "execution_count": 55
        }
      ]
    },
    {
      "cell_type": "code",
      "source": [],
      "metadata": {
        "id": "Ga8kA3Tf8OSp"
      },
      "execution_count": null,
      "outputs": []
    }
  ]
}