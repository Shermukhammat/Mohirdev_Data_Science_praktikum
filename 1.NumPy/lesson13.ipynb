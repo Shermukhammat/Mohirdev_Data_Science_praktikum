{
  "cells": [
    {
      "cell_type": "markdown",
      "metadata": {
        "colab_type": "text",
        "id": "view-in-github"
      },
      "source": [
        "<a href=\"https://colab.research.google.com/github/SHermukhammadjon/Mohirdev_Data_Science_praktikum/blob/main/linere_algebr20.ipynb\" target=\"_parent\"><img src=\"https://colab.research.google.com/assets/colab-badge.svg\" alt=\"Open In Colab\"/></a>"
      ]
    },
    {
      "cell_type": "markdown",
      "metadata": {
        "id": "CS4Q0Nv9SXLT"
      },
      "source": [
        "# ![Imgur](https://i.imgur.com/5pXzCIu.png)\n",
        "# \\#8.20 CHiziqli algebra "
      ]
    },
    {
      "cell_type": "code",
      "execution_count": 3,
      "metadata": {
        "id": "mz7uJ__rSTzG"
      },
      "outputs": [],
      "source": [
        "import numpy as np"
      ]
    },
    {
      "cell_type": "code",
      "execution_count": 4,
      "metadata": {
        "colab": {
          "base_uri": "https://localhost:8080/"
        },
        "id": "Hobf2wRASWuN",
        "outputId": "76682da5-b467-41b3-ec51-1f244131d5bc"
      },
      "outputs": [
        {
          "data": {
            "text/plain": [
              "array([[1., 2., 3.],\n",
              "       [4., 5., 6.]])"
            ]
          },
          "execution_count": 4,
          "metadata": {},
          "output_type": "execute_result"
        }
      ],
      "source": [
        "x = np.array([[1., 2., 3.,], [4., 5., 6]])\n",
        "x"
      ]
    },
    {
      "cell_type": "code",
      "execution_count": 5,
      "metadata": {
        "colab": {
          "base_uri": "https://localhost:8080/"
        },
        "id": "NpBan-OdTwwZ",
        "outputId": "25524c54-e443-420d-cdad-0f0d5f29c82c"
      },
      "outputs": [
        {
          "data": {
            "text/plain": [
              "array([[5., 5., 5.],\n",
              "       [4., 4., 4.]])"
            ]
          },
          "execution_count": 5,
          "metadata": {},
          "output_type": "execute_result"
        }
      ],
      "source": [
        "y = np.array([[5., 5., 5.,], [4., 4., 4.]])\n",
        "y"
      ]
    },
    {
      "cell_type": "code",
      "execution_count": 6,
      "metadata": {
        "colab": {
          "base_uri": "https://localhost:8080/"
        },
        "id": "5cHoUKYnT8kE",
        "outputId": "5a8f7899-44ef-4a71-c9a0-8a2ad513845f"
      },
      "outputs": [
        {
          "data": {
            "text/plain": [
              "array([[ 6.,  7.,  8.],\n",
              "       [ 8.,  9., 10.]])"
            ]
          },
          "execution_count": 6,
          "metadata": {},
          "output_type": "execute_result"
        }
      ],
      "source": [
        "x+y"
      ]
    },
    {
      "cell_type": "code",
      "execution_count": 7,
      "metadata": {
        "colab": {
          "base_uri": "https://localhost:8080/"
        },
        "id": "c5oRUxCiUIio",
        "outputId": "8225c729-2a73-4f23-d91d-c713ae1e3d6f"
      },
      "outputs": [
        {
          "data": {
            "text/plain": [
              "array([[ 4.,  3.,  2.],\n",
              "       [ 0., -1., -2.]])"
            ]
          },
          "execution_count": 7,
          "metadata": {},
          "output_type": "execute_result"
        }
      ],
      "source": [
        "y-x"
      ]
    },
    {
      "cell_type": "code",
      "execution_count": 8,
      "metadata": {
        "colab": {
          "base_uri": "https://localhost:8080/"
        },
        "id": "A8MnajRcULRA",
        "outputId": "10ef0e21-049c-4c8a-a38c-59ce7dea88ac"
      },
      "outputs": [
        {
          "data": {
            "text/plain": [
              "array([[ 5., 10., 15.],\n",
              "       [20., 25., 30.]])"
            ]
          },
          "execution_count": 8,
          "metadata": {},
          "output_type": "execute_result"
        }
      ],
      "source": [
        "x*5 #skalyar ko'paytmasi yani bitta soni matritsani harbir elementiga ko'paytrib chiqish\n"
      ]
    },
    {
      "cell_type": "code",
      "execution_count": 9,
      "metadata": {
        "colab": {
          "base_uri": "https://localhost:8080/"
        },
        "id": "666dtWtnURuE",
        "outputId": "42ffb839-fee3-4c77-d1a5-07867c2ac88c"
      },
      "outputs": [
        {
          "data": {
            "text/plain": [
              "array([[1., 2., 3.],\n",
              "       [4., 5., 6.]])"
            ]
          },
          "execution_count": 9,
          "metadata": {},
          "output_type": "execute_result"
        }
      ],
      "source": [
        "x = np.array([[1., 2., 3.,], [4., 5., 6]])\n",
        "x"
      ]
    },
    {
      "cell_type": "code",
      "execution_count": 10,
      "metadata": {
        "colab": {
          "base_uri": "https://localhost:8080/"
        },
        "id": "KZvT-imSWQR-",
        "outputId": "7b9eaf06-5202-4074-8d63-025dee54a536"
      },
      "outputs": [
        {
          "data": {
            "text/plain": [
              "array([[ 6., 23.],\n",
              "       [-1.,  7.],\n",
              "       [ 8.,  9.]])"
            ]
          },
          "execution_count": 10,
          "metadata": {},
          "output_type": "execute_result"
        }
      ],
      "source": [
        "y = np.array([[6., 23.], [-1, 7], [8, 9]])\n",
        "y"
      ]
    },
    {
      "cell_type": "code",
      "execution_count": 11,
      "metadata": {
        "colab": {
          "base_uri": "https://localhost:8080/"
        },
        "id": "gwI1_x1JWdEQ",
        "outputId": "0f91593f-680b-48d8-fd76-c109e295da8e"
      },
      "outputs": [
        {
          "data": {
            "text/plain": [
              "array([[ 28.,  64.],\n",
              "       [ 67., 181.]])"
            ]
          },
          "execution_count": 11,
          "metadata": {},
          "output_type": "execute_result"
        }
      ],
      "source": [
        "x.dot(y)"
      ]
    },
    {
      "cell_type": "code",
      "execution_count": 12,
      "metadata": {
        "colab": {
          "base_uri": "https://localhost:8080/"
        },
        "id": "nhV5P2s9Wjjy",
        "outputId": "f72a83f5-dc79-410b-f40a-51a5d0b2374e"
      },
      "outputs": [
        {
          "data": {
            "text/plain": [
              "array([[ 98., 127., 156.],\n",
              "       [ 27.,  33.,  39.],\n",
              "       [ 44.,  61.,  78.]])"
            ]
          },
          "execution_count": 12,
          "metadata": {},
          "output_type": "execute_result"
        }
      ],
      "source": [
        "y.dot(x)"
      ]
    },
    {
      "cell_type": "code",
      "execution_count": 13,
      "metadata": {
        "id": "gRWNMPT3W02V"
      },
      "outputs": [],
      "source": [
        "# Liner Algebra\n",
        "from numpy.linalg import inv"
      ]
    },
    {
      "cell_type": "code",
      "execution_count": null,
      "metadata": {
        "id": "IEKTfe74d82d"
      },
      "outputs": [],
      "source": []
    }
  ],
  "metadata": {
    "colab": {
      "authorship_tag": "ABX9TyMvLvDHadSdJyNCVFSkSvet",
      "include_colab_link": true,
      "provenance": []
    },
    "kernelspec": {
      "display_name": ".venv",
      "language": "python",
      "name": "python3"
    },
    "language_info": {
      "codemirror_mode": {
        "name": "ipython",
        "version": 3
      },
      "file_extension": ".py",
      "mimetype": "text/x-python",
      "name": "python",
      "nbconvert_exporter": "python",
      "pygments_lexer": "ipython3",
      "version": "3.11.9"
    }
  },
  "nbformat": 4,
  "nbformat_minor": 0
}
