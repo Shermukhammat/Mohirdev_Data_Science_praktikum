{
  "cells": [
    {
      "cell_type": "markdown",
      "metadata": {
        "colab_type": "text",
        "id": "view-in-github"
      },
      "source": [
        "<a href=\"https://colab.research.google.com/github/SHermukhammadjon/Mohirdev_Data_Science_praktikum/blob/main/sorting17.ipynb\" target=\"_parent\"><img src=\"https://colab.research.google.com/assets/colab-badge.svg\" alt=\"Open In Colab\"/></a>"
      ]
    },
    {
      "cell_type": "markdown",
      "metadata": {
        "id": "atdJIsNLhGRK"
      },
      "source": [
        "# ![Imgur](https://i.imgur.com/5pXzCIu.png)\n",
        "# \\#8.17 Tartiblash (Sorting)"
      ]
    },
    {
      "cell_type": "code",
      "execution_count": 1,
      "metadata": {
        "id": "tM3rg08ZhA7l"
      },
      "outputs": [],
      "source": [
        "import numpy as np"
      ]
    },
    {
      "cell_type": "code",
      "execution_count": 2,
      "metadata": {
        "colab": {
          "base_uri": "https://localhost:8080/"
        },
        "id": "LasFKNqkhgkx",
        "outputId": "80424b90-a1ea-4503-b51c-e789cd5f75e2"
      },
      "outputs": [
        {
          "data": {
            "text/plain": [
              "array([0.01444621, 0.17876907, 0.87109045, 0.33931818])"
            ]
          },
          "execution_count": 2,
          "metadata": {},
          "output_type": "execute_result"
        }
      ],
      "source": [
        "#data\n",
        "arr = np.random.rand(4)\n",
        "arr"
      ]
    },
    {
      "cell_type": "markdown",
      "metadata": {
        "id": "ivI4HHZzmJFz"
      },
      "source": [
        "## ***sort*** funksyasi"
      ]
    },
    {
      "cell_type": "code",
      "execution_count": 5,
      "metadata": {
        "colab": {
          "base_uri": "https://localhost:8080/"
        },
        "id": "m0UfFBAqmGX_",
        "outputId": "352292df-2848-4cfa-b3e4-ee543c491355"
      },
      "outputs": [
        {
          "data": {
            "text/plain": [
              "array([0.01444621, 0.17876907, 0.33931818, 0.87109045])"
            ]
          },
          "execution_count": 5,
          "metadata": {},
          "output_type": "execute_result"
        }
      ],
      "source": [
        "# 1-usul\n",
        "sorted_arr = np.sort(arr)  #arrni tartiblangan varyanti o'sish tartibda\n",
        "sorted_arr "
      ]
    },
    {
      "cell_type": "code",
      "execution_count": 6,
      "metadata": {
        "colab": {
          "base_uri": "https://localhost:8080/"
        },
        "id": "uYdA-aXJmP8b",
        "outputId": "52f9e272-fbe6-4375-b0db-4f7b429e1826"
      },
      "outputs": [
        {
          "data": {
            "text/plain": [
              "array([0.01444621, 0.17876907, 0.33931818, 0.87109045])"
            ]
          },
          "execution_count": 6,
          "metadata": {},
          "output_type": "execute_result"
        }
      ],
      "source": [
        "# 2-usul\n",
        "arr.sort() # arrayni o'zni tartiblash\n",
        "arr"
      ]
    },
    {
      "cell_type": "code",
      "execution_count": 9,
      "metadata": {
        "colab": {
          "base_uri": "https://localhost:8080/"
        },
        "id": "yTat6uZXmwLE",
        "outputId": "f8f7fc05-411d-4f7a-ce8f-43150a4faa56"
      },
      "outputs": [
        {
          "data": {
            "text/plain": [
              "array([0.87109045, 0.33931818, 0.17876907, 0.01444621])"
            ]
          },
          "execution_count": 9,
          "metadata": {},
          "output_type": "execute_result"
        }
      ],
      "source": [
        "# Teskari tartiblash\n",
        "revers_arr = -np.sort(-arr) #teskari tartibdagi array\n",
        "revers_arr"
      ]
    },
    {
      "cell_type": "code",
      "execution_count": 10,
      "metadata": {
        "colab": {
          "base_uri": "https://localhost:8080/"
        },
        "id": "jJ6BFgfdnDk0",
        "outputId": "8899cb7e-3089-4a3f-eab7-42ac6ca364c0"
      },
      "outputs": [
        {
          "data": {
            "text/plain": [
              "array([[-0.49197872, -1.35710148, -0.22914286,  0.23908904],\n",
              "       [-0.919714  , -0.59438438,  1.29855289,  1.10240002]])"
            ]
          },
          "execution_count": 10,
          "metadata": {},
          "output_type": "execute_result"
        }
      ],
      "source": [
        "# 2D array larda tartiblash\n",
        "arr2d = np.random.randn(2, 4) # (2, 4) o'lchamli massiv\n",
        "arr2d"
      ]
    },
    {
      "cell_type": "code",
      "execution_count": 11,
      "metadata": {
        "colab": {
          "base_uri": "https://localhost:8080/"
        },
        "id": "OmfT-4V9nZIt",
        "outputId": "ec72529b-10a7-482b-ed4d-80f9affa3d84"
      },
      "outputs": [
        {
          "data": {
            "text/plain": [
              "array([[-0.919714  , -1.35710148, -0.22914286,  0.23908904],\n",
              "       [-0.49197872, -0.59438438,  1.29855289,  1.10240002]])"
            ]
          },
          "execution_count": 11,
          "metadata": {},
          "output_type": "execute_result"
        }
      ],
      "source": [
        "# axis = 0 --> Qator\n",
        "row_srt = np.sort(arr2d, axis=0) # qatorlari bo'ycha tartiblash\n",
        "row_srt"
      ]
    },
    {
      "cell_type": "code",
      "execution_count": 12,
      "metadata": {
        "colab": {
          "base_uri": "https://localhost:8080/"
        },
        "id": "ccH_SJbpnpA5",
        "outputId": "534d67d7-0327-4542-ebdc-e21cb51390d5"
      },
      "outputs": [
        {
          "data": {
            "text/plain": [
              "array([[-1.35710148, -0.49197872, -0.22914286,  0.23908904],\n",
              "       [-0.919714  , -0.59438438,  1.10240002,  1.29855289]])"
            ]
          },
          "execution_count": 12,
          "metadata": {},
          "output_type": "execute_result"
        }
      ],
      "source": [
        "# axis = 1 --> Ustun\n",
        "col_srt = np.sort(arr2d, axis=1) # Ustun bo'ycha tartiblash\n",
        "col_srt "
      ]
    },
    {
      "cell_type": "code",
      "execution_count": null,
      "metadata": {
        "id": "i8JAlT2-oHf7"
      },
      "outputs": [],
      "source": []
    }
  ],
  "metadata": {
    "colab": {
      "authorship_tag": "ABX9TyO1OEa9DxVuAUB3tjsVD1Kc",
      "include_colab_link": true,
      "provenance": []
    },
    "kernelspec": {
      "display_name": ".venv",
      "language": "python",
      "name": "python3"
    },
    "language_info": {
      "codemirror_mode": {
        "name": "ipython",
        "version": 3
      },
      "file_extension": ".py",
      "mimetype": "text/x-python",
      "name": "python",
      "nbconvert_exporter": "python",
      "pygments_lexer": "ipython3",
      "version": "3.11.9"
    }
  },
  "nbformat": 4,
  "nbformat_minor": 0
}
