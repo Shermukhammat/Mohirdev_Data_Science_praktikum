{
  "cells": [
    {
      "cell_type": "markdown",
      "metadata": {
        "id": "hM7RtlAGm4aO"
      },
      "source": [
        "# ![Imgur](https://i.imgur.com/5pXzCIu.png)\n",
        "\n",
        "# **DATA SCIENCE VA SUN'IY INTELLEKT PRAKTIKUM**\n",
        "\n",
        "## Ma'lumotlar tahlili. Numpy kutubxonasi.\n",
        "\n",
        "# **2-AMALIY VAZIFA**\n",
        "\n",
        "## N-o'lchamli massivlarga ishov berish"
      ]
    },
    {
      "cell_type": "code",
      "execution_count": 2,
      "metadata": {
        "id": "-7ik1fFSmsZc"
      },
      "outputs": [],
      "source": [
        "# Numpy kutubxonasini chaqirib olish\n",
        "import numpy as np"
      ]
    },
    {
      "cell_type": "markdown",
      "metadata": {
        "id": "hQT_temqnMSX"
      },
      "source": [
        "### Masala(1): 2-o'lchamli massiv yaratish\n",
        "\n",
        "**Masala sharti :** Elementlari 0 dan 9 gacha (9 ning o'zi massiv elementiga kirmaydi), qadami esa 1 ga teng bo'lgan (3, 3) o'lchamli massiv yaratuvchi funksiyani davom ettiring.  \n",
        "\n",
        "**Yordam :**  `arange`dan foydalanish ishni osonlashtiradi\n"
      ]
    },
    {
      "cell_type": "code",
      "execution_count": 15,
      "metadata": {
        "id": "DN8F8hFSnLpj"
      },
      "outputs": [],
      "source": [
        "# JAVOBNI SHU YERGA YOZING\n",
        "def nd_array() -> np.ndarray:\n",
        "  \"\"\"Elementlari 0 dan 9 gacha (9 ning o'zi massiv elementiga kirmaydi),\n",
        "  qadami esa 1 ga teng bo'lgan (3, 3) o'lchamli massiv \"\"\"\n",
        "  return np.arange(0, 9).reshape(3, 3)\n",
        "\n",
        "# nd_array()"
      ]
    },
    {
      "cell_type": "markdown",
      "metadata": {
        "id": "uD-JFFzZq-ph"
      },
      "source": [
        "### Yuqoridagi yozgan funksiyangizni tekshirish uchun, quyidagi cellni yuriting."
      ]
    },
    {
      "cell_type": "markdown",
      "metadata": {
        "id": "r3P1nO9GrxVb"
      },
      "source": [
        "___"
      ]
    },
    {
      "cell_type": "code",
      "execution_count": 22,
      "metadata": {
        "cellView": "form",
        "id": "gBXUGXYspqq2"
      },
      "outputs": [],
      "source": [
        "#@title Tekshirish (natijada hech qanday xatolik yuz bermasligi kerak)\n",
        "\"\"\"Funksiyani tekshirish\"\"\"\n",
        "arr = nd_array() # massiv\n",
        "assert arr.size == 9, f\"elementlar sonida xatolik mavjud\"  # elementlar soni\n",
        "assert type(arr) == np.ndarray, f\"massiv aniqlanmadi\" #numpy array\n",
        "# elementwise test\n",
        "test_arr = np.arange(9).reshape(3, 3)\n",
        "assert arr.shape == (3, 3), f\"noto'g'ri qator va ustunlardan foydalanilgan\"\n",
        "assert True in np.isin(arr, test_arr), f\"elementlararo xatolik mavjud\"\n"
      ]
    },
    {
      "cell_type": "markdown",
      "metadata": {
        "id": "M2NZoO65rwji"
      },
      "source": [
        "###  Masala(2): Indeks yordamida 2-o'lchamli massivlardan elementlarni  kesib olish\n",
        "**Masala :** Yuqorida yaratilgan massivning elementlari 6 va 7 ga teng bo'lgan qismini kesib olish funksiyasini davom ettiring.\n",
        "\n",
        "**Yordam :** 6 va 7 turgan indekslarni aniqlab olib, shu indekslar yordamida kesib oling. **Natija:** array([6, 7]) ko'rinishida bo'lishi kerak."
      ]
    },
    {
      "cell_type": "code",
      "execution_count": 33,
      "metadata": {
        "id": "45Tw2aNeqxRM"
      },
      "outputs": [],
      "source": [
        "# JAVOBNI SHU YERGA YOZING\n",
        "def sliced_array_2d():\n",
        "    \"\"\"Yuqorida yaratilgan massivning elementlari 6 va 7 ga teng bo'lgan\n",
        "     qismini kesib olish funksiyasi \"\"\"\n",
        "    array = nd_array() # yuqoridagi funksiya yordamida array yaratib olish\n",
        "    return array[2,:2]\n",
        "\n",
        "# sliced_array_2d()"
      ]
    },
    {
      "cell_type": "markdown",
      "metadata": {
        "id": "87LBvb1fr9kT"
      },
      "source": [
        "### Yuqoridagi yozgan funksiyangizni tekshirish uchun, quyidagi cellni yuriting."
      ]
    },
    {
      "cell_type": "code",
      "execution_count": 37,
      "metadata": {
        "cellView": "form",
        "id": "nUNM0mYGsA18"
      },
      "outputs": [],
      "source": [
        "#@title Tekshirish (natijada hech qanday xatolik yuz bermasligi kerak)\n",
        "\"\"\"Funksiyani tekshirish\"\"\"\n",
        "sl_arr_2d = sliced_array_2d() # kesib olingan massiv\n",
        "assert sl_arr_2d.size == 2, f\"elementlar sonida xatolik mavjud\"  # elementlar soni\n",
        "assert type(sl_arr_2d) == np.ndarray, f\"massiv aniqlanmadi\" #numpy array\n",
        "# elementwise test\n",
        "test_arr = np.array([6, 7])\n",
        "assert sl_arr_2d.shape == (2,), f\"kesib olingan massiv shaklida xatolik mavjud\"\n",
        "assert True in np.isin(sl_arr_2d, test_arr), f\"elementlararo xatolik mavjud\""
      ]
    },
    {
      "cell_type": "markdown",
      "metadata": {
        "id": "Msz8_E_gtEef"
      },
      "source": [
        "___"
      ]
    },
    {
      "cell_type": "markdown",
      "metadata": {
        "id": "lX5Y2HQ1taOa"
      },
      "source": [
        "###  Masala(3): Indeks yordamida 3-o'lchamli massivdan elementlarni kesib olish\n",
        "\n",
        "**Masala :**  3-o'lchamli massivni quyidagi listdan yarating, hamda 12, 13, 15, va 16  elementlarini kesib oluvchi funksiyani davom ettiring.  \n",
        "\n",
        "                  [[[ 0,  1,  2],\n",
        "                    [ 3,  4,  5],\n",
        "                    [ 6,  7,  8]],\n",
        "\n",
        "                   [[ 9, 10, 11],\n",
        "                    [12, 13, 14],\n",
        "                    [15, 16, 17]],\n",
        "\n",
        "                   [[18, 19, 20],\n",
        "                    [21, 22, 23],\n",
        "                    [24, 25, 26]]]\n",
        "\n",
        "**Yordam :** Avval massivni ikki o'lchamli massivga keltirib, keyin kesib olishni amalga oshiring.\n",
        "\n",
        "\n",
        "**Natija:**  \n",
        "\n",
        "             array([[12, 13],\n",
        "                    [15, 16]])\n",
        "ko'rinishida bo'lishi kerak."
      ]
    },
    {
      "cell_type": "code",
      "execution_count": 53,
      "metadata": {
        "id": "Ogntt8ivs7rY"
      },
      "outputs": [],
      "source": [
        "# JAVOBNI SHU YERGA YOZING\n",
        "def sliced_array_3d():\n",
        "    \"\"\"3-o'lchamli massivni yuqoridagi listdan yaratish,\n",
        "    hamda 12, 13, 15, va 16 elementlarini kesib olish funksiyasi\"\"\"\n",
        "    array = np.arange(0, 27).reshape(3, 3, 3)\n",
        "    return array[1, 1:, :-1]\n",
        "\n",
        "# sliced_array_3d()"
      ]
    },
    {
      "cell_type": "code",
      "execution_count": 55,
      "metadata": {
        "cellView": "form",
        "id": "3oGeE5yLt6Lg"
      },
      "outputs": [],
      "source": [
        "#@title Tekshirish (natijada hech qanday xatolik yuz bermasligi kerak)\n",
        "\"\"\"Funksiyani tekshirish\"\"\"\n",
        "sl_arr_3d = sliced_array_3d() # kesib olingan massiv\n",
        "assert sl_arr_3d.size == 4, f\"kesib olingan elementlar sonida xatolik\" # elementlar soni\n",
        "assert type(sl_arr_3d) == np.ndarray, f\"massiv aniqlanmadi\" #numpy array\n",
        "# elementwise test\n",
        "test_arr = np.array([[12, 13],\n",
        "                     [15, 16]])\n",
        "assert sl_arr_3d.shape == (2,2), f\"kesib olingan massiv shaklida xatolik mavjud\"\n",
        "assert True in np.isin(sl_arr_3d, test_arr), f\"elemtlararo xatolik mavjud\""
      ]
    },
    {
      "cell_type": "markdown",
      "metadata": {
        "id": "LFSATVx6voGP"
      },
      "source": [
        "___"
      ]
    },
    {
      "cell_type": "markdown",
      "metadata": {
        "id": "FVkfhm-Tvqxx"
      },
      "source": [
        "###  Masala(4): Boolean indeks yordamida 2-o'lchamli massivlardan elementlarni  kesib olish\n",
        "\n",
        "**Masala :** Bizlarda,  \n",
        "        \n",
        "        ['Hasan', 'Husan', 'Javohir', 'Elyor', 'Hasan', 'Javohir', 'Elyor']\n",
        "\n",
        "**list**dagi kishilar va ularning **ma'lumot**lari\n",
        "       \n",
        "      [[5, 6, 1, 1],\n",
        "       [9, 1, 1, 1],\n",
        "       [7, 7, 4, 2],\n",
        "       [1, 5, 1, 9],\n",
        "       [9, 9, 4, 5],\n",
        "       [7, 5, 9, 6],\n",
        "       [5, 3, 7, 4]]\n",
        "ko'rinishda keltirilgan.\n",
        "\n",
        "\n",
        "Mana shu ma'lumotlardan **Javohir** va **Elyor** ismlariga tegishli ma'lumotlarni Boolean indekslash yordamida kesib olish funksiyasini davom ettiring.\n",
        "**Yordam :** Boolean indekslash video darsligiga murojat qiling.\n",
        "**Natija:** Natija (4, 4) o'lchamli massiv ko'rinishida, hamda dastlabki ikkita qattori quyidagicha\n",
        "\n",
        "    array([[7, 7, 4, 2],\n",
        "           [1, 5, 1, 9],\n",
        "           ...\n",
        "           ...        ]])"
      ]
    },
    {
      "cell_type": "code",
      "execution_count": 66,
      "metadata": {
        "id": "VDCIeFdtuamf"
      },
      "outputs": [],
      "source": [
        "# JAVOBNI SHU YERGA YOZING\n",
        "def boolean_slicing():\n",
        "    \"\"\"Boolean indekslash yordamida ma'lumotlarni kesib olish \"\"\"\n",
        "    names = np.array(['Hasan', 'Husan', 'Javohir', 'Elyor', 'Hasan', 'Javohir', 'Elyor'])\n",
        "    data = np.array([[5, 6, 1, 1],\n",
        "       [9, 1, 1, 1],\n",
        "       [7, 7, 4, 2],\n",
        "       [1, 5, 1, 9],\n",
        "       [9, 9, 4, 5],\n",
        "       [7, 5, 9, 6],\n",
        "       [5, 3, 7, 4]])\n",
        "    \n",
        "\n",
        "    return data[(names == 'Javohir') | (names == 'Elyor')]\n",
        "\n",
        "# boolean_slicing()"
      ]
    },
    {
      "cell_type": "markdown",
      "metadata": {
        "id": "OkUGtgD7wD6J"
      },
      "source": [
        "### Yuqoridagi yozgan funksiyangizni tekshirish uchun, quyidagi cellni yuriting."
      ]
    },
    {
      "cell_type": "code",
      "execution_count": 68,
      "metadata": {
        "cellView": "form",
        "id": "sxOxSISOwEsX"
      },
      "outputs": [],
      "source": [
        "#@title Tekshirish (natijada hech qanday xatolik yuz bermasligi kerak)\n",
        "\"\"\"Funksiyani tekshirish\"\"\"\n",
        "bool_idx = boolean_slicing() # kesib olingan massiv\n",
        "assert bool_idx.size == 16, f\"kesib olingan elementlar sonida xatolik mavjud\"  # elementlar soni\n",
        "assert type(bool_idx) == np.ndarray, f\"massiv aniqlanmadi\" #numpy array\n",
        "# elementwise test\n",
        "test_arr = np.array([[7, 7, 4, 2],\n",
        "                     [1, 5, 1, 9],\n",
        "                     [7, 5, 9, 6],\n",
        "                     [5, 3, 7, 4]])\n",
        "assert bool_idx.shape == (4,4), f\"kesib olingan massiv shaklida xatolik mavjud\"\n",
        "assert True in np.isin(bool_idx, test_arr), f\"elemetlararo xatolik mavjud\""
      ]
    },
    {
      "cell_type": "code",
      "execution_count": null,
      "metadata": {},
      "outputs": [],
      "source": []
    }
  ],
  "metadata": {
    "colab": {
      "provenance": []
    },
    "kernelspec": {
      "display_name": ".venv",
      "language": "python",
      "name": "python3"
    },
    "language_info": {
      "codemirror_mode": {
        "name": "ipython",
        "version": 3
      },
      "file_extension": ".py",
      "mimetype": "text/x-python",
      "name": "python",
      "nbconvert_exporter": "python",
      "pygments_lexer": "ipython3",
      "version": "3.11.9"
    }
  },
  "nbformat": 4,
  "nbformat_minor": 0
}
