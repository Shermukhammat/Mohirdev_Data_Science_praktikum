{
  "nbformat": 4,
  "nbformat_minor": 0,
  "metadata": {
    "colab": {
      "provenance": [],
      "authorship_tag": "ABX9TyP0pQQuvbuSi56rneDXYh3F",
      "include_colab_link": true
    },
    "kernelspec": {
      "name": "python3",
      "display_name": "Python 3"
    },
    "language_info": {
      "name": "python"
    }
  },
  "cells": [
    {
      "cell_type": "markdown",
      "metadata": {
        "id": "view-in-github",
        "colab_type": "text"
      },
      "source": [
        "<a href=\"https://colab.research.google.com/github/SHermukhammadjon/Mohirdev_Data_Science_praktikum/blob/main/lesson8_3.ipynb\" target=\"_parent\"><img src=\"https://colab.research.google.com/assets/colab-badge.svg\" alt=\"Open In Colab\"/></a>"
      ]
    },
    {
      "cell_type": "markdown",
      "source": [
        "#\\#8.3 Numpy array"
      ],
      "metadata": {
        "id": "a3QwM_CLkncy"
      }
    },
    {
      "cell_type": "code",
      "source": [
        "import numpy as np"
      ],
      "metadata": {
        "id": "InZUi_D9lHLv"
      },
      "execution_count": null,
      "outputs": []
    },
    {
      "cell_type": "code",
      "execution_count": null,
      "metadata": {
        "colab": {
          "base_uri": "https://localhost:8080/"
        },
        "id": "hhfxxKr3kOdz",
        "outputId": "125b875a-7378-423f-8af7-186adb24f39d"
      },
      "outputs": [
        {
          "output_type": "stream",
          "name": "stdout",
          "text": [
            "data1: <class 'list'>\n",
            "array1: <class 'numpy.ndarray'>\n"
          ]
        }
      ],
      "source": [
        "data1 = [1, 2, 3, 4, 5, 6, 7, 1, 0, -1]\n",
        "array1 = np.array(data1)\n",
        "\n",
        "print(f\"data1: {type(data1)}\")\n",
        "print(f\"array1: {type(array1)}\")"
      ]
    },
    {
      "cell_type": "code",
      "source": [
        "data2 = (1, 2, 3, 4, 5, 6, 7, 1, 0, -1)\n",
        "array2 = np.array(data1)\n",
        "\n",
        "print(f\"data2: {type(data2)}\")\n",
        "print(f\"array2: {type(array2)}\")"
      ],
      "metadata": {
        "colab": {
          "base_uri": "https://localhost:8080/"
        },
        "id": "UTVnyI8alN09",
        "outputId": "2a51ee39-1c38-4450-8727-146b9b7b123b"
      },
      "execution_count": null,
      "outputs": [
        {
          "output_type": "stream",
          "name": "stdout",
          "text": [
            "data2: <class 'tuple'>\n",
            "array2: <class 'numpy.ndarray'>\n"
          ]
        }
      ]
    },
    {
      "cell_type": "code",
      "source": [
        "array2 "
      ],
      "metadata": {
        "colab": {
          "base_uri": "https://localhost:8080/"
        },
        "id": "MprEFePxlQpf",
        "outputId": "1eef9d14-016a-48dc-a9ea-60a66a110f24"
      },
      "execution_count": null,
      "outputs": [
        {
          "output_type": "execute_result",
          "data": {
            "text/plain": [
              "array([ 1,  2,  3,  4,  5,  6,  7,  1,  0, -1])"
            ]
          },
          "metadata": {},
          "execution_count": 8
        }
      ]
    },
    {
      "cell_type": "markdown",
      "source": [
        "### 1D array"
      ],
      "metadata": {
        "id": "mZHkLrQ9lxNT"
      }
    },
    {
      "cell_type": "code",
      "source": [
        "array1.ndim"
      ],
      "metadata": {
        "colab": {
          "base_uri": "https://localhost:8080/"
        },
        "id": "REhD45UDlsLr",
        "outputId": "7a9b485e-d809-4fd4-bf9c-505157bfda47"
      },
      "execution_count": null,
      "outputs": [
        {
          "output_type": "execute_result",
          "data": {
            "text/plain": [
              "1"
            ]
          },
          "metadata": {},
          "execution_count": 9
        }
      ]
    },
    {
      "cell_type": "markdown",
      "source": [
        "### 2D array"
      ],
      "metadata": {
        "id": "AKfFdoe-l3l6"
      }
    },
    {
      "cell_type": "code",
      "source": [
        "two_dimensional_list = [[1, 2, 3, 4], [5, 6, 7, 8]] #list ichidagi list: 2D\n",
        "\n",
        "array3 = np.array(two_dimensional_list)\n",
        "array3.ndim"
      ],
      "metadata": {
        "colab": {
          "base_uri": "https://localhost:8080/"
        },
        "id": "N23XfOYMlz2y",
        "outputId": "6a607f07-72d8-4737-acf5-eddb9023e38a"
      },
      "execution_count": null,
      "outputs": [
        {
          "output_type": "execute_result",
          "data": {
            "text/plain": [
              "2"
            ]
          },
          "metadata": {},
          "execution_count": 14
        }
      ]
    },
    {
      "cell_type": "markdown",
      "source": [
        "### 3D array"
      ],
      "metadata": {
        "id": "WtaCQDYwmQmk"
      }
    },
    {
      "cell_type": "code",
      "source": [
        "data1"
      ],
      "metadata": {
        "colab": {
          "base_uri": "https://localhost:8080/"
        },
        "id": "SOVatROUmXaP",
        "outputId": "f0ab18dc-7bb2-4067-d872-c5327368fde1"
      },
      "execution_count": null,
      "outputs": [
        {
          "output_type": "execute_result",
          "data": {
            "text/plain": [
              "[1, 2, 3, 4, 5, 6, 7, 1, 0, -1]"
            ]
          },
          "metadata": {},
          "execution_count": 16
        }
      ]
    },
    {
      "cell_type": "code",
      "source": [
        "three_dimensional_list = [[data1, data1], [data1, data1], [data1, data1]] # list ichida 2ta list: 3D\n",
        "\n",
        "array4 = np.array(three_dimensional_list) # 3 o'lchamli numpy array\n",
        "array4.ndim"
      ],
      "metadata": {
        "colab": {
          "base_uri": "https://localhost:8080/"
        },
        "id": "eyTVAVGDl_sw",
        "outputId": "96d05822-ba90-4941-9611-77ec2cc391fb"
      },
      "execution_count": null,
      "outputs": [
        {
          "output_type": "execute_result",
          "data": {
            "text/plain": [
              "3"
            ]
          },
          "metadata": {},
          "execution_count": 17
        }
      ]
    },
    {
      "cell_type": "markdown",
      "source": [
        "### .shape va .size argumentlari"
      ],
      "metadata": {
        "id": "PsrxK3CRnDMh"
      }
    },
    {
      "cell_type": "code",
      "source": [
        "array2 "
      ],
      "metadata": {
        "colab": {
          "base_uri": "https://localhost:8080/"
        },
        "id": "EHijHXx7mAR0",
        "outputId": "b42531c6-eb53-4135-fb1d-e7301610da98"
      },
      "execution_count": null,
      "outputs": [
        {
          "output_type": "execute_result",
          "data": {
            "text/plain": [
              "array([ 1,  2,  3,  4,  5,  6,  7,  1,  0, -1])"
            ]
          },
          "metadata": {},
          "execution_count": 18
        }
      ]
    },
    {
      "cell_type": "code",
      "source": [
        "array2.shape  # Qator va ustunlar sonini chiqarib beradi"
      ],
      "metadata": {
        "colab": {
          "base_uri": "https://localhost:8080/"
        },
        "id": "Y7q08p7fnJsB",
        "outputId": "b067c4f3-044f-4d0a-dd06-a30e0064c842"
      },
      "execution_count": null,
      "outputs": [
        {
          "output_type": "execute_result",
          "data": {
            "text/plain": [
              "(10,)"
            ]
          },
          "metadata": {},
          "execution_count": 19
        }
      ]
    },
    {
      "cell_type": "code",
      "source": [
        "array4"
      ],
      "metadata": {
        "colab": {
          "base_uri": "https://localhost:8080/"
        },
        "id": "oiupmY3onN1p",
        "outputId": "4012949a-697a-48c2-942f-4a57f97428e3"
      },
      "execution_count": null,
      "outputs": [
        {
          "output_type": "execute_result",
          "data": {
            "text/plain": [
              "array([[[ 1,  2,  3,  4,  5,  6,  7,  1,  0, -1],\n",
              "        [ 1,  2,  3,  4,  5,  6,  7,  1,  0, -1]],\n",
              "\n",
              "       [[ 1,  2,  3,  4,  5,  6,  7,  1,  0, -1],\n",
              "        [ 1,  2,  3,  4,  5,  6,  7,  1,  0, -1]],\n",
              "\n",
              "       [[ 1,  2,  3,  4,  5,  6,  7,  1,  0, -1],\n",
              "        [ 1,  2,  3,  4,  5,  6,  7,  1,  0, -1]]])"
            ]
          },
          "metadata": {},
          "execution_count": 21
        }
      ]
    },
    {
      "cell_type": "markdown",
      "source": [],
      "metadata": {
        "id": "c497xUREoDvL"
      }
    },
    {
      "cell_type": "code",
      "source": [
        "array4.shape "
      ],
      "metadata": {
        "colab": {
          "base_uri": "https://localhost:8080/"
        },
        "id": "7LBT8H6EnTiv",
        "outputId": "9b4a4c7b-05ed-486e-dfab-d6b1276171eb"
      },
      "execution_count": null,
      "outputs": [
        {
          "output_type": "execute_result",
          "data": {
            "text/plain": [
              "(3, 2, 10)"
            ]
          },
          "metadata": {},
          "execution_count": 22
        }
      ]
    },
    {
      "cell_type": "code",
      "source": [
        "array4.size # Arrayni ichda nechta element borligni aytaradi"
      ],
      "metadata": {
        "colab": {
          "base_uri": "https://localhost:8080/"
        },
        "id": "o67OX40HnWbt",
        "outputId": "d8d33e91-5e19-49a6-83c7-93c0553b059e"
      },
      "execution_count": null,
      "outputs": [
        {
          "output_type": "execute_result",
          "data": {
            "text/plain": [
              "60"
            ]
          },
          "metadata": {},
          "execution_count": 23
        }
      ]
    },
    {
      "cell_type": "markdown",
      "source": [
        "## N-o'lcho'vli numpy arraylarni yaratishning boshqa usullari\n",
        "\n",
        "#### zeros va ones funksyalari yordamida massivlar yaratish"
      ],
      "metadata": {
        "id": "yYNCLDHKne7l"
      }
    },
    {
      "cell_type": "code",
      "source": [
        "array = np.ones((2, 4)) # Baracha elementlari 1ga teng (2, 4)\n",
        "array"
      ],
      "metadata": {
        "colab": {
          "base_uri": "https://localhost:8080/"
        },
        "id": "SUcJV8YGnbrf",
        "outputId": "1442afeb-413f-4cae-d0cd-670c8d01cb4f"
      },
      "execution_count": null,
      "outputs": [
        {
          "output_type": "execute_result",
          "data": {
            "text/plain": [
              "array([[1., 1., 1., 1.],\n",
              "       [1., 1., 1., 1.]])"
            ]
          },
          "metadata": {},
          "execution_count": 24
        }
      ]
    },
    {
      "cell_type": "code",
      "source": [
        "array = np.zeros([4, 10]) # Baracha elementlari 0ga teng (4, 10)\n",
        "array"
      ],
      "metadata": {
        "colab": {
          "base_uri": "https://localhost:8080/"
        },
        "id": "IsI2cC3znjWR",
        "outputId": "82e35cd2-b2cd-469d-ce02-8012cff733d1"
      },
      "execution_count": 40,
      "outputs": [
        {
          "output_type": "execute_result",
          "data": {
            "text/plain": [
              "array([[0., 0., 0., 0., 0., 0., 0., 0., 0., 0.],\n",
              "       [0., 0., 0., 0., 0., 0., 0., 0., 0., 0.],\n",
              "       [0., 0., 0., 0., 0., 0., 0., 0., 0., 0.],\n",
              "       [0., 0., 0., 0., 0., 0., 0., 0., 0., 0.]])"
            ]
          },
          "metadata": {},
          "execution_count": 40
        }
      ]
    },
    {
      "cell_type": "markdown",
      "source": [
        "### ***arange*** funksyasi yordamida yaratish"
      ],
      "metadata": {
        "id": "oyekVrsStpJ1"
      }
    },
    {
      "cell_type": "code",
      "source": [
        "arr6 = np.arange(2, 20, 2)  # 4 dan 20gacha 2 qdam bilan bo'lgan massiv\n",
        "arr6 "
      ],
      "metadata": {
        "id": "KxmmAcVbozJF",
        "colab": {
          "base_uri": "https://localhost:8080/"
        },
        "outputId": "b7216e9d-7f78-4e38-95e5-a9940bc3e31e"
      },
      "execution_count": 41,
      "outputs": [
        {
          "output_type": "execute_result",
          "data": {
            "text/plain": [
              "array([ 2,  4,  6,  8, 10, 12, 14, 16, 18])"
            ]
          },
          "metadata": {},
          "execution_count": 41
        }
      ]
    },
    {
      "cell_type": "markdown",
      "source": [
        "### ***random*** modilni **rand**, **randint**, **rand** funksyalari bilan yaratish"
      ],
      "metadata": {
        "id": "3EsEqTGdumpv"
      }
    },
    {
      "cell_type": "code",
      "source": [
        "arr8 = np.random.rand(3,5) # (3, 5) o'lchamli taminan 0~1 oralig'dagi float sonlar bilan to'ldirlgan array\n",
        "arr8"
      ],
      "metadata": {
        "colab": {
          "base_uri": "https://localhost:8080/"
        },
        "id": "7T6qO7BNvDus",
        "outputId": "a182d63d-2d06-46be-92ad-f7af429fc101"
      },
      "execution_count": 42,
      "outputs": [
        {
          "output_type": "execute_result",
          "data": {
            "text/plain": [
              "array([[0.51231965, 0.70604412, 0.10857222, 0.95582204, 0.65162637],\n",
              "       [0.59758658, 0.04851498, 0.64263274, 0.43983269, 0.59781411],\n",
              "       [0.75042864, 0.61415278, 0.27885364, 0.35748661, 0.76699318]])"
            ]
          },
          "metadata": {},
          "execution_count": 42
        }
      ]
    },
    {
      "cell_type": "code",
      "source": [
        "arr9 = np.random.randint(10, size=(3, 5)) #Max qiymat 10 gacha tasodifiy olchami (3, 5) masiv\n",
        "arr9 "
      ],
      "metadata": {
        "colab": {
          "base_uri": "https://localhost:8080/"
        },
        "id": "BzAR2nS5vD8w",
        "outputId": "2b494f02-1451-46c3-ceb6-6b6d327af05a"
      },
      "execution_count": 46,
      "outputs": [
        {
          "output_type": "execute_result",
          "data": {
            "text/plain": [
              "array([[3, 1, 8, 0, 6],\n",
              "       [0, 8, 1, 8, 0],\n",
              "       [6, 7, 3, 6, 2]])"
            ]
          },
          "metadata": {},
          "execution_count": 46
        }
      ]
    },
    {
      "cell_type": "markdown",
      "source": [
        "## Qo'shimcha funksyalar"
      ],
      "metadata": {
        "id": "f263y9jMn-ZR"
      }
    },
    {
      "cell_type": "code",
      "source": [
        "array"
      ],
      "metadata": {
        "colab": {
          "base_uri": "https://localhost:8080/"
        },
        "id": "Mp_qBY5Pnnsu",
        "outputId": "99c8cf8c-9787-4f0b-d060-c3a7b6c0e2cc"
      },
      "execution_count": null,
      "outputs": [
        {
          "output_type": "execute_result",
          "data": {
            "text/plain": [
              "array([ 4,  6,  8, 10, 12, 14, 16, 18])"
            ]
          },
          "metadata": {},
          "execution_count": 26
        }
      ]
    },
    {
      "cell_type": "code",
      "source": [
        "arr10 = np.empty((3, 5))\n",
        "arr10"
      ],
      "metadata": {
        "colab": {
          "base_uri": "https://localhost:8080/"
        },
        "id": "et2mg_opr_Jw",
        "outputId": "eaf9e152-67f1-4779-86f3-e53e89cf49f1"
      },
      "execution_count": 48,
      "outputs": [
        {
          "output_type": "execute_result",
          "data": {
            "text/plain": [
              "array([[2.46323740e-316, 0.00000000e+000, 8.73759451e+183,\n",
              "        8.88212263e+247, 1.68118618e-152],\n",
              "       [6.01334515e-154, 2.90435030e-144, 2.13041172e-313,\n",
              "        2.46180817e-316, 2.42092166e-322],\n",
              "       [1.92792715e-316, 2.29799181e-316, 1.05135755e-153,\n",
              "        2.42773503e-154, 8.69555537e-322]])"
            ]
          },
          "metadata": {},
          "execution_count": 48
        }
      ]
    },
    {
      "cell_type": "code",
      "source": [],
      "metadata": {
        "id": "LxlM-lUqxGj0"
      },
      "execution_count": null,
      "outputs": []
    }
  ]
}