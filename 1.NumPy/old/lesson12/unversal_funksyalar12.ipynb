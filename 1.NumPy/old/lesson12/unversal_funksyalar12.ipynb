{
  "nbformat": 4,
  "nbformat_minor": 0,
  "metadata": {
    "colab": {
      "provenance": [],
      "authorship_tag": "ABX9TyMB4+LYlu058KsQ04Vd3+eY",
      "include_colab_link": true
    },
    "kernelspec": {
      "name": "python3",
      "display_name": "Python 3"
    },
    "language_info": {
      "name": "python"
    }
  },
  "cells": [
    {
      "cell_type": "markdown",
      "metadata": {
        "id": "view-in-github",
        "colab_type": "text"
      },
      "source": [
        "<a href=\"https://colab.research.google.com/github/SHermukhammadjon/Mohirdev_Data_Science_praktikum/blob/main/unversal_funksyalar12.ipynb\" target=\"_parent\"><img src=\"https://colab.research.google.com/assets/colab-badge.svg\" alt=\"Open In Colab\"/></a>"
      ]
    },
    {
      "cell_type": "markdown",
      "source": [
        "# ![Imgur](https://i.imgur.com/5pXzCIu.png)\n",
        "#\\#8.12 Unversal funksyalar"
      ],
      "metadata": {
        "id": "xY2nz_iGTlOo"
      }
    },
    {
      "cell_type": "code",
      "execution_count": 2,
      "metadata": {
        "id": "ht5brJIpTax_"
      },
      "outputs": [],
      "source": [
        "import numpy as np "
      ]
    },
    {
      "cell_type": "markdown",
      "source": [
        "###Unversal funksyalar 2 turga bo'lnad va bulardan birinchisi ***Unary*** yani 1ta argument qabul qiluvchi funksyalardir.\n",
        "\n",
        "### ***sqrt***, ***square***, ***exp***, ***log***, ***modf***, ***sign***, ***isna*** "
      ],
      "metadata": {
        "id": "EHo9c4L5UEsm"
      }
    },
    {
      "cell_type": "code",
      "source": [],
      "metadata": {
        "id": "UchQmes3WlVa"
      },
      "execution_count": null,
      "outputs": []
    },
    {
      "cell_type": "code",
      "source": [
        "arr = np.arange(10)\n",
        "arr"
      ],
      "metadata": {
        "colab": {
          "base_uri": "https://localhost:8080/"
        },
        "id": "bZ6J6rbTTnWV",
        "outputId": "e1ca3c32-58ee-4f82-c507-0cf94046d02d"
      },
      "execution_count": 43,
      "outputs": [
        {
          "output_type": "execute_result",
          "data": {
            "text/plain": [
              "array([0, 1, 2, 3, 4, 5, 6, 7, 8, 9])"
            ]
          },
          "metadata": {},
          "execution_count": 43
        }
      ]
    },
    {
      "cell_type": "markdown",
      "source": [
        "## ***sqrt*** massivning harbir elementini kvadrat ildizga  oshruvchi funksya:"
      ],
      "metadata": {
        "id": "2wX_YFucVwYi"
      }
    },
    {
      "cell_type": "code",
      "source": [
        "np.sqrt(arr)"
      ],
      "metadata": {
        "colab": {
          "base_uri": "https://localhost:8080/"
        },
        "id": "HBZYfJ94VqOJ",
        "outputId": "059134ae-2d2b-4eb2-8832-6e21001641fb"
      },
      "execution_count": 17,
      "outputs": [
        {
          "output_type": "execute_result",
          "data": {
            "text/plain": [
              "array([0.        , 1.        , 1.41421356, 1.73205081, 2.        ,\n",
              "       2.23606798, 2.44948974, 2.64575131, 2.82842712, 3.        ])"
            ]
          },
          "metadata": {},
          "execution_count": 17
        }
      ]
    },
    {
      "cell_type": "markdown",
      "source": [
        "## ***square*** Massivning elementlarni kvadratga oshruvchi funksya"
      ],
      "metadata": {
        "id": "iII7f50VWbE8"
      }
    },
    {
      "cell_type": "code",
      "source": [
        "np.square(arr)"
      ],
      "metadata": {
        "colab": {
          "base_uri": "https://localhost:8080/"
        },
        "id": "pwGgtdFiV1DD",
        "outputId": "33d7638d-9abb-42c8-ce51-13241d36a50e"
      },
      "execution_count": 18,
      "outputs": [
        {
          "output_type": "execute_result",
          "data": {
            "text/plain": [
              "array([ 0,  1,  4,  9, 16, 25, 36, 49, 64, 81])"
            ]
          },
          "metadata": {},
          "execution_count": 18
        }
      ]
    },
    {
      "cell_type": "markdown",
      "source": [
        "## ***exp*** funksyasi arraynin barcha elementlarni eksponesiyalaydi"
      ],
      "metadata": {
        "id": "UWaS2cNRamEN"
      }
    },
    {
      "cell_type": "code",
      "source": [
        "arr"
      ],
      "metadata": {
        "colab": {
          "base_uri": "https://localhost:8080/"
        },
        "id": "eaFP99idbUga",
        "outputId": "0f847f0c-2f65-4178-ac61-226365a7dcf0"
      },
      "execution_count": 22,
      "outputs": [
        {
          "output_type": "execute_result",
          "data": {
            "text/plain": [
              "array([0, 1, 2, 3, 4, 5, 6, 7, 8, 9])"
            ]
          },
          "metadata": {},
          "execution_count": 22
        }
      ]
    },
    {
      "cell_type": "code",
      "source": [
        "np.exp(arr) "
      ],
      "metadata": {
        "colab": {
          "base_uri": "https://localhost:8080/"
        },
        "id": "RwPTejVaWWEQ",
        "outputId": "b9ab57af-df0c-40da-dcc3-9e01ea0e5e67"
      },
      "execution_count": 19,
      "outputs": [
        {
          "output_type": "execute_result",
          "data": {
            "text/plain": [
              "array([1.00000000e+00, 2.71828183e+00, 7.38905610e+00, 2.00855369e+01,\n",
              "       5.45981500e+01, 1.48413159e+02, 4.03428793e+02, 1.09663316e+03,\n",
              "       2.98095799e+03, 8.10308393e+03])"
            ]
          },
          "metadata": {},
          "execution_count": 19
        }
      ]
    },
    {
      "cell_type": "markdown",
      "source": [
        "### ***log*** massivning harbir logarifmni qaytaradi"
      ],
      "metadata": {
        "id": "hoS8Nl6-b6ie"
      }
    },
    {
      "cell_type": "code",
      "source": [
        "np.log(arr[1:])"
      ],
      "metadata": {
        "colab": {
          "base_uri": "https://localhost:8080/"
        },
        "id": "-_mfNY_Wa4SI",
        "outputId": "bb97042e-0339-4c7d-e721-33a042e8e444"
      },
      "execution_count": 26,
      "outputs": [
        {
          "output_type": "execute_result",
          "data": {
            "text/plain": [
              "array([0.        , 0.69314718, 1.09861229, 1.38629436, 1.60943791,\n",
              "       1.79175947, 1.94591015, 2.07944154, 2.19722458])"
            ]
          },
          "metadata": {},
          "execution_count": 26
        }
      ]
    },
    {
      "cell_type": "markdown",
      "source": [
        "## ***modf*** bu funksya qoldiq sonlarni butun va qoldiq qismnilarga ajratib beruvchi funksya"
      ],
      "metadata": {
        "id": "eAkBygj2cUMy"
      }
    },
    {
      "cell_type": "code",
      "source": [
        "arr"
      ],
      "metadata": {
        "colab": {
          "base_uri": "https://localhost:8080/"
        },
        "id": "RkIHmYstbFC_",
        "outputId": "af43d47a-a066-4f1a-f942-6192e0646dd0"
      },
      "execution_count": 27,
      "outputs": [
        {
          "output_type": "execute_result",
          "data": {
            "text/plain": [
              "array([0, 1, 2, 3, 4, 5, 6, 7, 8, 9])"
            ]
          },
          "metadata": {},
          "execution_count": 27
        }
      ]
    },
    {
      "cell_type": "code",
      "source": [
        "arr1 = np.random.randn(6) # 6ta elementdan iborat taxminiy qiymatlarga ega massiv\n",
        "arr1"
      ],
      "metadata": {
        "colab": {
          "base_uri": "https://localhost:8080/"
        },
        "id": "j-YYWda8c72f",
        "outputId": "7c2ea60f-f897-4a35-ba5e-46926c772985"
      },
      "execution_count": 47,
      "outputs": [
        {
          "output_type": "execute_result",
          "data": {
            "text/plain": [
              "array([ 1.44353566,  0.14900617, -0.01001716,  0.51344274,  1.09937968,\n",
              "        1.55819847])"
            ]
          },
          "metadata": {},
          "execution_count": 47
        }
      ]
    },
    {
      "cell_type": "code",
      "source": [
        "qoldiq, butun = np.modf(arr1)"
      ],
      "metadata": {
        "id": "NJz9wzWGdIqh"
      },
      "execution_count": 40,
      "outputs": []
    },
    {
      "cell_type": "code",
      "source": [
        "print(butun)\n",
        "print(qoldiq)"
      ],
      "metadata": {
        "colab": {
          "base_uri": "https://localhost:8080/"
        },
        "id": "_Ukuu2wVdUah",
        "outputId": "0f0da08a-b97b-4352-9a1a-ad48efe7eba1"
      },
      "execution_count": 41,
      "outputs": [
        {
          "output_type": "stream",
          "name": "stdout",
          "text": [
            "[-0. -1. -0. -1. -1.  0.]\n",
            "[-0.09106705 -0.2446001  -0.62899749 -0.31447349 -0.17279282  0.44449106]\n"
          ]
        }
      ]
    },
    {
      "cell_type": "code",
      "source": [
        "np.modf(arr1)"
      ],
      "metadata": {
        "colab": {
          "base_uri": "https://localhost:8080/"
        },
        "id": "g4wP4rQPdWyC",
        "outputId": "d6049594-c9b9-413d-f01e-cad303e434d4"
      },
      "execution_count": 42,
      "outputs": [
        {
          "output_type": "execute_result",
          "data": {
            "text/plain": [
              "(array([-0.09106705, -0.2446001 , -0.62899749, -0.31447349, -0.17279282,\n",
              "         0.44449106]), array([-0., -1., -0., -1., -1.,  0.]))"
            ]
          },
          "metadata": {},
          "execution_count": 42
        }
      ]
    },
    {
      "cell_type": "markdown",
      "source": [
        "## ***sign*** funksyasi massiv elementlari manfiy bo'lsa ***-1*** va aksinvha musbat bo'lsa ***1*** joylab qaytaradi"
      ],
      "metadata": {
        "id": "gd_BB-NkdunH"
      }
    },
    {
      "cell_type": "code",
      "source": [
        "arr1"
      ],
      "metadata": {
        "colab": {
          "base_uri": "https://localhost:8080/"
        },
        "id": "Y3KCuwZKeOqT",
        "outputId": "95be31ae-5fbb-4bd3-a5d9-918cee675e61"
      },
      "execution_count": 48,
      "outputs": [
        {
          "output_type": "execute_result",
          "data": {
            "text/plain": [
              "array([ 1.44353566,  0.14900617, -0.01001716,  0.51344274,  1.09937968,\n",
              "        1.55819847])"
            ]
          },
          "metadata": {},
          "execution_count": 48
        }
      ]
    },
    {
      "cell_type": "code",
      "source": [
        "np.sign(arr1)"
      ],
      "metadata": {
        "colab": {
          "base_uri": "https://localhost:8080/"
        },
        "id": "suSHnf6tdXMC",
        "outputId": "6b8d6556-4d91-4aeb-91bf-b55b176cf6a5"
      },
      "execution_count": 49,
      "outputs": [
        {
          "output_type": "execute_result",
          "data": {
            "text/plain": [
              "array([ 1.,  1., -1.,  1.,  1.,  1.])"
            ]
          },
          "metadata": {},
          "execution_count": 49
        }
      ]
    },
    {
      "cell_type": "markdown",
      "source": [
        "## ***isnan*** massivning ichda NaN qiymat bo'lsa ***True*** va aksincha bo'lsa ***False*** qaytaradi"
      ],
      "metadata": {
        "id": "gquU-Pu2ejkg"
      }
    },
    {
      "cell_type": "code",
      "source": [
        "arr1"
      ],
      "metadata": {
        "colab": {
          "base_uri": "https://localhost:8080/"
        },
        "id": "ClX3gOHQeM2T",
        "outputId": "a07af000-90a3-47ff-9bb6-7437f1c76de8"
      },
      "execution_count": 51,
      "outputs": [
        {
          "output_type": "execute_result",
          "data": {
            "text/plain": [
              "array([ 1.44353566,  0.14900617, -0.01001716,  0.51344274,  1.09937968,\n",
              "        1.55819847])"
            ]
          },
          "metadata": {},
          "execution_count": 51
        }
      ]
    },
    {
      "cell_type": "code",
      "source": [
        "np.isnan(arr1)"
      ],
      "metadata": {
        "colab": {
          "base_uri": "https://localhost:8080/"
        },
        "id": "fhQL3L-XfX9w",
        "outputId": "295c24ff-4774-4c66-be3b-dbc71b254dc5"
      },
      "execution_count": 52,
      "outputs": [
        {
          "output_type": "execute_result",
          "data": {
            "text/plain": [
              "array([False, False, False, False, False, False])"
            ]
          },
          "metadata": {},
          "execution_count": 52
        }
      ]
    },
    {
      "cell_type": "code",
      "source": [
        "arr1[2] = np.NaN\n",
        "arr1"
      ],
      "metadata": {
        "colab": {
          "base_uri": "https://localhost:8080/"
        },
        "id": "XwQ6vjEyfcDU",
        "outputId": "37313ee6-eacd-4de4-d217-7b75f0f5ee44"
      },
      "execution_count": 53,
      "outputs": [
        {
          "output_type": "execute_result",
          "data": {
            "text/plain": [
              "array([1.44353566, 0.14900617,        nan, 0.51344274, 1.09937968,\n",
              "       1.55819847])"
            ]
          },
          "metadata": {},
          "execution_count": 53
        }
      ]
    },
    {
      "cell_type": "code",
      "source": [
        "np.isnan(arr1)"
      ],
      "metadata": {
        "colab": {
          "base_uri": "https://localhost:8080/"
        },
        "id": "IZp_qF-Afkcr",
        "outputId": "1196c9f1-588e-4734-895e-aca50b220958"
      },
      "execution_count": 54,
      "outputs": [
        {
          "output_type": "execute_result",
          "data": {
            "text/plain": [
              "array([False, False,  True, False, False, False])"
            ]
          },
          "metadata": {},
          "execution_count": 54
        }
      ]
    },
    {
      "cell_type": "markdown",
      "source": [
        "## Unary funksyalariga missollar:\n",
        "<img src='https://drive.google.com/uc?id=1vqrg5hdDx3IMhuXJLqYo2dlYkPxYZ2ys'>"
      ],
      "metadata": {
        "id": "-f0y0tC1gOQg"
      }
    },
    {
      "cell_type": "code",
      "source": [],
      "metadata": {
        "id": "1VJw2LaXfpID"
      },
      "execution_count": null,
      "outputs": []
    }
  ]
}