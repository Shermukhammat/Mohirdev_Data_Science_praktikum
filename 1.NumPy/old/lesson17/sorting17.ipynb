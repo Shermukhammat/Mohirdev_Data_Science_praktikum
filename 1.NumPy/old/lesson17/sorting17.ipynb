{
  "nbformat": 4,
  "nbformat_minor": 0,
  "metadata": {
    "colab": {
      "provenance": [],
      "authorship_tag": "ABX9TyO1OEa9DxVuAUB3tjsVD1Kc",
      "include_colab_link": true
    },
    "kernelspec": {
      "name": "python3",
      "display_name": "Python 3"
    },
    "language_info": {
      "name": "python"
    }
  },
  "cells": [
    {
      "cell_type": "markdown",
      "metadata": {
        "id": "view-in-github",
        "colab_type": "text"
      },
      "source": [
        "<a href=\"https://colab.research.google.com/github/SHermukhammadjon/Mohirdev_Data_Science_praktikum/blob/main/sorting17.ipynb\" target=\"_parent\"><img src=\"https://colab.research.google.com/assets/colab-badge.svg\" alt=\"Open In Colab\"/></a>"
      ]
    },
    {
      "cell_type": "markdown",
      "source": [
        "# ![Imgur](https://i.imgur.com/5pXzCIu.png)\n",
        "#\\#8.17 Tartiblash (Sorting)"
      ],
      "metadata": {
        "id": "atdJIsNLhGRK"
      }
    },
    {
      "cell_type": "code",
      "execution_count": 2,
      "metadata": {
        "id": "tM3rg08ZhA7l"
      },
      "outputs": [],
      "source": [
        "import numpy as np"
      ]
    },
    {
      "cell_type": "code",
      "source": [
        "#data\n",
        "arr = np.random.rand(4)\n",
        "arr"
      ],
      "metadata": {
        "colab": {
          "base_uri": "https://localhost:8080/"
        },
        "id": "LasFKNqkhgkx",
        "outputId": "80424b90-a1ea-4503-b51c-e789cd5f75e2"
      },
      "execution_count": 4,
      "outputs": [
        {
          "output_type": "execute_result",
          "data": {
            "text/plain": [
              "array([0.55384413, 0.74991928, 0.153533  , 0.07188263])"
            ]
          },
          "metadata": {},
          "execution_count": 4
        }
      ]
    },
    {
      "cell_type": "markdown",
      "source": [
        "## ***sort*** funksyasi"
      ],
      "metadata": {
        "id": "ivI4HHZzmJFz"
      }
    },
    {
      "cell_type": "code",
      "source": [
        "# 1-usul\n",
        "sorted_arr = np.sort(arr)  #arrni tartiblangan varyanti o'sish tartibda\n",
        "sorted_arr "
      ],
      "metadata": {
        "colab": {
          "base_uri": "https://localhost:8080/"
        },
        "id": "m0UfFBAqmGX_",
        "outputId": "352292df-2848-4cfa-b3e4-ee543c491355"
      },
      "execution_count": 8,
      "outputs": [
        {
          "output_type": "execute_result",
          "data": {
            "text/plain": [
              "array([0.07188263, 0.153533  , 0.55384413, 0.74991928])"
            ]
          },
          "metadata": {},
          "execution_count": 8
        }
      ]
    },
    {
      "cell_type": "code",
      "source": [
        "# 2-usul\n",
        "arr.sort() # arrayni o'zni tartiblash\n",
        "arr"
      ],
      "metadata": {
        "colab": {
          "base_uri": "https://localhost:8080/"
        },
        "id": "uYdA-aXJmP8b",
        "outputId": "52f9e272-fbe6-4375-b0db-4f7b429e1826"
      },
      "execution_count": 10,
      "outputs": [
        {
          "output_type": "execute_result",
          "data": {
            "text/plain": [
              "array([0.07188263, 0.153533  , 0.55384413, 0.74991928])"
            ]
          },
          "metadata": {},
          "execution_count": 10
        }
      ]
    },
    {
      "cell_type": "code",
      "source": [
        "# Teskari tartiblash\n",
        "revers_arr = -np.sort(-arr) #teskari tartibdagi array\n",
        "revers_arr"
      ],
      "metadata": {
        "colab": {
          "base_uri": "https://localhost:8080/"
        },
        "id": "yTat6uZXmwLE",
        "outputId": "f8f7fc05-411d-4f7a-ce8f-43150a4faa56"
      },
      "execution_count": 11,
      "outputs": [
        {
          "output_type": "execute_result",
          "data": {
            "text/plain": [
              "array([0.74991928, 0.55384413, 0.153533  , 0.07188263])"
            ]
          },
          "metadata": {},
          "execution_count": 11
        }
      ]
    },
    {
      "cell_type": "code",
      "source": [
        "# 2D array larda tartiblash\n",
        "arr2d = np.random.randn(2, 4) # (2, 4) o'lchamli massiv\n",
        "arr2d"
      ],
      "metadata": {
        "colab": {
          "base_uri": "https://localhost:8080/"
        },
        "id": "jJ6BFgfdnDk0",
        "outputId": "8899cb7e-3089-4a3f-eab7-42ac6ca364c0"
      },
      "execution_count": 12,
      "outputs": [
        {
          "output_type": "execute_result",
          "data": {
            "text/plain": [
              "array([[ 1.86166191, -1.0628036 ,  0.47131572,  0.15516778],\n",
              "       [-0.54343825,  0.83104217, -1.63812452,  1.57688203]])"
            ]
          },
          "metadata": {},
          "execution_count": 12
        }
      ]
    },
    {
      "cell_type": "code",
      "source": [
        "# axis = 0 --> Qator\n",
        "row_srt = np.sort(arr2d, axis=0) # qatorlari bo'ycha tartiblash\n",
        "row_srt"
      ],
      "metadata": {
        "colab": {
          "base_uri": "https://localhost:8080/"
        },
        "id": "OmfT-4V9nZIt",
        "outputId": "ec72529b-10a7-482b-ed4d-80f9affa3d84"
      },
      "execution_count": 16,
      "outputs": [
        {
          "output_type": "execute_result",
          "data": {
            "text/plain": [
              "array([[-0.54343825, -1.0628036 , -1.63812452,  0.15516778],\n",
              "       [ 1.86166191,  0.83104217,  0.47131572,  1.57688203]])"
            ]
          },
          "metadata": {},
          "execution_count": 16
        }
      ]
    },
    {
      "cell_type": "code",
      "source": [
        "# axis = 1 --> Ustun\n",
        "col_srt = np.sort(arr2d, axis=1) # Ustun bo'ycha tartiblash\n",
        "col_srt "
      ],
      "metadata": {
        "colab": {
          "base_uri": "https://localhost:8080/"
        },
        "id": "ccH_SJbpnpA5",
        "outputId": "534d67d7-0327-4542-ebdc-e21cb51390d5"
      },
      "execution_count": 18,
      "outputs": [
        {
          "output_type": "execute_result",
          "data": {
            "text/plain": [
              "array([[-1.0628036 ,  0.15516778,  0.47131572,  1.86166191],\n",
              "       [-1.63812452, -0.54343825,  0.83104217,  1.57688203]])"
            ]
          },
          "metadata": {},
          "execution_count": 18
        }
      ]
    },
    {
      "cell_type": "code",
      "source": [],
      "metadata": {
        "id": "i8JAlT2-oHf7"
      },
      "execution_count": null,
      "outputs": []
    }
  ]
}