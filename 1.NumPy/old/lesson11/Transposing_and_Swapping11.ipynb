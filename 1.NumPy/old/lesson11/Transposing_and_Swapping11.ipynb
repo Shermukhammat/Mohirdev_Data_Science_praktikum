{
  "nbformat": 4,
  "nbformat_minor": 0,
  "metadata": {
    "colab": {
      "provenance": [],
      "authorship_tag": "ABX9TyNooLgL4bTpY810MkBS3vDw",
      "include_colab_link": true
    },
    "kernelspec": {
      "name": "python3",
      "display_name": "Python 3"
    },
    "language_info": {
      "name": "python"
    }
  },
  "cells": [
    {
      "cell_type": "markdown",
      "metadata": {
        "id": "view-in-github",
        "colab_type": "text"
      },
      "source": [
        "<a href=\"https://colab.research.google.com/github/SHermukhammadjon/Mohirdev_Data_Science_praktikum/blob/main/Transposing_and_Swapping11.ipynb\" target=\"_parent\"><img src=\"https://colab.research.google.com/assets/colab-badge.svg\" alt=\"Open In Colab\"/></a>"
      ]
    },
    {
      "cell_type": "markdown",
      "source": [
        "# ![Imgur](https://i.imgur.com/5pXzCIu.png)\n",
        "#\\#8.11 Array o'qlarini almashtirish"
      ],
      "metadata": {
        "id": "9LY1oPYtEBC6"
      }
    },
    {
      "cell_type": "code",
      "execution_count": 3,
      "metadata": {
        "id": "LGX7dq25D0rz"
      },
      "outputs": [],
      "source": [
        "import numpy as np "
      ]
    },
    {
      "cell_type": "markdown",
      "source": [
        "## Massivlarning positsiyasini ko'chirish ***Tanspose*** va o'qlar o'rnini almashtirish ***Swapping axes***.\n",
        "\n",
        "### Massivning ustun va qatorlari o'rnini almashtiri jarayon  Transpose deyladi.\n",
        "\n",
        "<img src='https://drive.google.com/uc?id=150sBCzXJgwsBXYhnPFVG4odnuJ2GnEf-'>"
      ],
      "metadata": {
        "id": "mH6twQOlFUt5"
      }
    },
    {
      "cell_type": "markdown",
      "source": [
        "## ***reshape*** metodi:"
      ],
      "metadata": {
        "id": "lKK0JTIvJOQN"
      }
    },
    {
      "cell_type": "code",
      "source": [
        "A = np.arange(12)\n",
        "A "
      ],
      "metadata": {
        "colab": {
          "base_uri": "https://localhost:8080/"
        },
        "id": "D_EuVRS5EAu4",
        "outputId": "734f4143-a399-4c6e-fb75-abe0b057ea2b"
      },
      "execution_count": 7,
      "outputs": [
        {
          "output_type": "execute_result",
          "data": {
            "text/plain": [
              "array([ 0,  1,  2,  3,  4,  5,  6,  7,  8,  9, 10, 11])"
            ]
          },
          "metadata": {},
          "execution_count": 7
        }
      ]
    },
    {
      "cell_type": "code",
      "source": [
        "A = np.arange(12).reshape(3, 4)\n",
        "A "
      ],
      "metadata": {
        "colab": {
          "base_uri": "https://localhost:8080/"
        },
        "id": "yllR0rwcJWT-",
        "outputId": "3816ea9c-ef3c-49d6-bc81-b752e6ac2e15"
      },
      "execution_count": 19,
      "outputs": [
        {
          "output_type": "execute_result",
          "data": {
            "text/plain": [
              "array([[ 0,  1,  2,  3],\n",
              "       [ 4,  5,  6,  7],\n",
              "       [ 8,  9, 10, 11]])"
            ]
          },
          "metadata": {},
          "execution_count": 19
        }
      ]
    },
    {
      "cell_type": "markdown",
      "source": [
        "### ***Trasnpose:***"
      ],
      "metadata": {
        "id": "-Li10EG9LEqa"
      }
    },
    {
      "cell_type": "code",
      "source": [
        "A.T # A massivning Transpose ko'rinishini beradi"
      ],
      "metadata": {
        "colab": {
          "base_uri": "https://localhost:8080/"
        },
        "id": "fBxF3BjSJ00a",
        "outputId": "8a33f170-940f-4ed4-e0b5-38874127d452"
      },
      "execution_count": 21,
      "outputs": [
        {
          "output_type": "execute_result",
          "data": {
            "text/plain": [
              "array([[ 0,  4,  8],\n",
              "       [ 1,  5,  9],\n",
              "       [ 2,  6, 10],\n",
              "       [ 3,  7, 11]])"
            ]
          },
          "metadata": {},
          "execution_count": 21
        }
      ]
    },
    {
      "cell_type": "markdown",
      "source": [
        "## ***Swapping axes*** usluli yordamda massivning o'qlarni almashtrish"
      ],
      "metadata": {
        "id": "U-KM8n6qLoFq"
      }
    },
    {
      "cell_type": "code",
      "source": [
        "A"
      ],
      "metadata": {
        "colab": {
          "base_uri": "https://localhost:8080/"
        },
        "id": "AOMxEi5MLYcr",
        "outputId": "9aa85c1b-7554-4467-f938-bcb813c4bb72"
      },
      "execution_count": 22,
      "outputs": [
        {
          "output_type": "execute_result",
          "data": {
            "text/plain": [
              "array([[ 0,  1,  2,  3],\n",
              "       [ 4,  5,  6,  7],\n",
              "       [ 8,  9, 10, 11]])"
            ]
          },
          "metadata": {},
          "execution_count": 22
        }
      ]
    },
    {
      "cell_type": "code",
      "source": [
        "A.swapaxes(1, 0) #Bu ham A mmasivimzning Transpose ko'rinishini beradi "
      ],
      "metadata": {
        "colab": {
          "base_uri": "https://localhost:8080/"
        },
        "id": "SrDzfFHqL88E",
        "outputId": "a93e2df9-d0bf-44f9-e014-7e0b1cbc100e"
      },
      "execution_count": 24,
      "outputs": [
        {
          "output_type": "execute_result",
          "data": {
            "text/plain": [
              "array([[ 0,  4,  8],\n",
              "       [ 1,  5,  9],\n",
              "       [ 2,  6, 10],\n",
              "       [ 3,  7, 11]])"
            ]
          },
          "metadata": {},
          "execution_count": 24
        }
      ]
    },
    {
      "cell_type": "markdown",
      "source": [
        "## ***Transpose***ning ishlatilshga misollar: A*A^T"
      ],
      "metadata": {
        "id": "G3eqsgluM7f1"
      }
    },
    {
      "cell_type": "code",
      "source": [
        "A = np.arange(9).reshape(3, 3)\n",
        "A"
      ],
      "metadata": {
        "colab": {
          "base_uri": "https://localhost:8080/"
        },
        "id": "HzS1Ov7EMJyM",
        "outputId": "dfcdd049-e8c4-47a9-da90-4b218827a4d8"
      },
      "execution_count": 35,
      "outputs": [
        {
          "output_type": "execute_result",
          "data": {
            "text/plain": [
              "array([[0, 1, 2],\n",
              "       [3, 4, 5],\n",
              "       [6, 7, 8]])"
            ]
          },
          "metadata": {},
          "execution_count": 35
        }
      ]
    },
    {
      "cell_type": "code",
      "source": [
        "A.T "
      ],
      "metadata": {
        "colab": {
          "base_uri": "https://localhost:8080/"
        },
        "id": "DEDFrLZgNG17",
        "outputId": "f2fa0121-84a1-4c34-deec-47432d42fa8b"
      },
      "execution_count": 36,
      "outputs": [
        {
          "output_type": "execute_result",
          "data": {
            "text/plain": [
              "array([[0, 3, 6],\n",
              "       [1, 4, 7],\n",
              "       [2, 5, 8]])"
            ]
          },
          "metadata": {},
          "execution_count": 36
        }
      ]
    },
    {
      "cell_type": "code",
      "source": [
        "np.dot(A, A.T)"
      ],
      "metadata": {
        "colab": {
          "base_uri": "https://localhost:8080/"
        },
        "id": "SVCP6DxLNIFj",
        "outputId": "a7994941-633c-40bf-912f-be5600e3d293"
      },
      "execution_count": 37,
      "outputs": [
        {
          "output_type": "execute_result",
          "data": {
            "text/plain": [
              "array([[  5,  14,  23],\n",
              "       [ 14,  50,  86],\n",
              "       [ 23,  86, 149]])"
            ]
          },
          "metadata": {},
          "execution_count": 37
        }
      ]
    },
    {
      "cell_type": "code",
      "source": [
        "np.random.randn(10)"
      ],
      "metadata": {
        "colab": {
          "base_uri": "https://localhost:8080/"
        },
        "id": "agGeJwSgNM7G",
        "outputId": "d86b7e6d-e188-4497-844d-f6fe84638065"
      },
      "execution_count": 31,
      "outputs": [
        {
          "output_type": "execute_result",
          "data": {
            "text/plain": [
              "array([-0.05457159, -0.90915358, -0.77821995, -1.2350638 ,  0.98815883,\n",
              "       -1.78752542, -1.39257587, -0.62611095,  1.82978863, -0.11834847])"
            ]
          },
          "metadata": {},
          "execution_count": 31
        }
      ]
    },
    {
      "cell_type": "code",
      "source": [],
      "metadata": {
        "id": "IeTvbPIuPkdq"
      },
      "execution_count": null,
      "outputs": []
    }
  ]
}