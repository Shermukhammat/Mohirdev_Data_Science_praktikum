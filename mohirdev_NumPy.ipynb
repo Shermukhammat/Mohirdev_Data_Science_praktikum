{
  "cells": [
    {
      "cell_type": "markdown",
      "metadata": {
        "colab_type": "text",
        "id": "view-in-github"
      },
      "source": [
        "<a href=\"https://colab.research.google.com/github/Shermukhammat/Mohirdev_Data_Science_praktikum/blob/main/mohirdev_NumPy.ipynb\" target=\"_parent\"><img src=\"https://colab.research.google.com/assets/colab-badge.svg\" alt=\"Open In Colab\"/></a>"
      ]
    },
    {
      "cell_type": "markdown",
      "id": "bf79c78b",
      "metadata": {
        "id": "bf79c78b"
      },
      "source": [
        "# NumPy kutubxonasiga doir bilimlaringizni mustaxkamlash uchun mashqlar\n",
        "\n",
        "Hurmatli o'quvchi, bilimingizni yanada mustaxkamlashingiz va chuqurroq ko'nikmalarga ega bo'lishingiz uchun sizga topshiriqlar tayyorladik. Sizga yengillik yaratish maqsadida topshiriqni aynan qanday funksiyalar yordamida amalga oshirishingiz mumkin ekanini\n",
        " `💡Ishora` ko'rinishida yozdik!"
      ]
    },
    {
      "cell_type": "markdown",
      "id": "017db353",
      "metadata": {
        "id": "017db353"
      },
      "source": [
        "#### 1. NumPy kutubxonasini `np` nomi ostida yuklang va numpy kutubxonasini chop eting.\n",
        "\n",
        "versiya va konfiguratsiyani tekshiring.\n"
      ]
    },
    {
      "cell_type": "markdown",
      "id": "e28779fe",
      "metadata": {
        "id": "e28779fe"
      },
      "source": [
        "`💡Ishora` import … as` and `np.__version__, np.show_config"
      ]
    },
    {
      "cell_type": "code",
      "execution_count": 14,
      "id": "_pCbn1ieI3u9",
      "metadata": {
        "id": "_pCbn1ieI3u9"
      },
      "outputs": [
        {
          "name": "stdout",
          "output_type": "stream",
          "text": [
            "version: 2.2.2\n",
            "Build Dependencies:\n",
            "  blas:\n",
            "    detection method: pkgconfig\n",
            "    found: true\n",
            "    include directory: C:/Users/runneradmin/AppData/Local/Temp/cibw-run-p45mh2dm/cp311-win_amd64/build/venv/Lib/site-packages/scipy_openblas64/include\n",
            "    lib directory: C:/Users/runneradmin/AppData/Local/Temp/cibw-run-p45mh2dm/cp311-win_amd64/build/venv/Lib/site-packages/scipy_openblas64/lib\n",
            "    name: scipy-openblas\n",
            "    openblas configuration: OpenBLAS 0.3.28  USE64BITINT DYNAMIC_ARCH NO_AFFINITY\n",
            "      Haswell MAX_THREADS=24\n",
            "    pc file directory: D:/a/numpy/numpy/.openblas\n",
            "    version: 0.3.28\n",
            "  lapack:\n",
            "    detection method: pkgconfig\n",
            "    found: true\n",
            "    include directory: C:/Users/runneradmin/AppData/Local/Temp/cibw-run-p45mh2dm/cp311-win_amd64/build/venv/Lib/site-packages/scipy_openblas64/include\n",
            "    lib directory: C:/Users/runneradmin/AppData/Local/Temp/cibw-run-p45mh2dm/cp311-win_amd64/build/venv/Lib/site-packages/scipy_openblas64/lib\n",
            "    name: scipy-openblas\n",
            "    openblas configuration: OpenBLAS 0.3.28  USE64BITINT DYNAMIC_ARCH NO_AFFINITY\n",
            "      Haswell MAX_THREADS=24\n",
            "    pc file directory: D:/a/numpy/numpy/.openblas\n",
            "    version: 0.3.28\n",
            "Compilers:\n",
            "  c:\n",
            "    commands: cl\n",
            "    linker: link\n",
            "    name: msvc\n",
            "    version: 19.29.30157\n",
            "  c++:\n",
            "    commands: cl\n",
            "    linker: link\n",
            "    name: msvc\n",
            "    version: 19.29.30157\n",
            "  cython:\n",
            "    commands: cython\n",
            "    linker: cython\n",
            "    name: cython\n",
            "    version: 3.0.11\n",
            "Machine Information:\n",
            "  build:\n",
            "    cpu: x86_64\n",
            "    endian: little\n",
            "    family: x86_64\n",
            "    system: windows\n",
            "  host:\n",
            "    cpu: x86_64\n",
            "    endian: little\n",
            "    family: x86_64\n",
            "    system: windows\n",
            "Python Information:\n",
            "  path: C:\\Users\\runneradmin\\AppData\\Local\\Temp\\build-env-d4ryj2th\\Scripts\\python.exe\n",
            "  version: '3.11'\n",
            "SIMD Extensions:\n",
            "  baseline:\n",
            "  - SSE\n",
            "  - SSE2\n",
            "  - SSE3\n",
            "  found:\n",
            "  - SSSE3\n",
            "  - SSE41\n",
            "  - POPCNT\n",
            "  - SSE42\n",
            "  - AVX\n",
            "  - F16C\n",
            "  - FMA3\n",
            "  - AVX2\n",
            "  not found:\n",
            "  - AVX512F\n",
            "  - AVX512CD\n",
            "  - AVX512_SKX\n",
            "  - AVX512_CLX\n",
            "  - AVX512_CNL\n",
            "  - AVX512_ICL\n",
            "\n"
          ]
        }
      ],
      "source": [
        "# ! pip install pyyaml numpy\n",
        "import numpy as np\n",
        "\n",
        "print(f\"version: {np.__version__}\")\n",
        "np.show_config()"
      ]
    },
    {
      "cell_type": "markdown",
      "id": "46950f4f",
      "metadata": {
        "id": "46950f4f"
      },
      "source": [
        "#### 2. Raqamli qiymatlar ro'yxatini bir o'lchovli NumPy massiviga aylantiring!"
      ]
    },
    {
      "cell_type": "markdown",
      "id": "9b0e875f",
      "metadata": {
        "id": "9b0e875f"
      },
      "source": [
        "`💡Ishora` numpy.array"
      ]
    },
    {
      "cell_type": "code",
      "execution_count": 19,
      "id": "dgnzjeT3JCi4",
      "metadata": {
        "id": "dgnzjeT3JCi4"
      },
      "outputs": [
        {
          "data": {
            "text/plain": [
              "array([ 0,  1,  2,  3,  4,  5,  6,  7,  8,  9, 10, 11, 12, 13, 14, 15, 16,\n",
              "       17, 18, 19, 20, 21, 22, 23, 24, 25, 26, 27, 28, 29, 30, 31, 32, 33,\n",
              "       34, 35, 36, 37, 38, 39, 40, 41, 42, 43, 44, 45, 46, 47, 48, 49, 50,\n",
              "       51, 52, 53, 54, 55, 56, 57, 58, 59, 60, 61, 62, 63, 64, 65, 66, 67,\n",
              "       68, 69, 70, 71, 72, 73, 74, 75, 76, 77, 78, 79, 80, 81, 82, 83, 84,\n",
              "       85, 86, 87, 88, 89, 90, 91, 92, 93, 94, 95, 96, 97, 98, 99])"
            ]
          },
          "execution_count": 19,
          "metadata": {},
          "output_type": "execute_result"
        }
      ],
      "source": [
        "py_list = [n for n in range(100)]\n",
        "np_array = np.array(py_list)\n",
        "\n",
        "np_array"
      ]
    },
    {
      "cell_type": "markdown",
      "id": "e3c20b3d",
      "metadata": {
        "id": "e3c20b3d"
      },
      "source": [
        "#### 3. Qiymatlari noldan iborat bo'lgan to'qqiz o'lchovli massiv yarating.\n",
        "\n"
      ]
    },
    {
      "cell_type": "markdown",
      "id": "96d0b63e",
      "metadata": {
        "id": "96d0b63e"
      },
      "source": [
        "`💡Ishora` np.zeros"
      ]
    },
    {
      "cell_type": "code",
      "execution_count": 70,
      "id": "3c0c2ee8",
      "metadata": {},
      "outputs": [
        {
          "name": "stdout",
          "output_type": "stream",
          "text": [
            "shape (1, 1, 1, 1, 1, 1, 1, 1, 20)\n",
            "diemention:  9\n"
          ]
        },
        {
          "data": {
            "text/plain": [
              "array([[[[[[[[[0., 0., 0., 0., 0., 0., 0., 0., 0., 0., 0., 0., 0.,\n",
              "               0., 0., 0., 0., 0., 0., 0.]]]]]]]]])"
            ]
          },
          "execution_count": 70,
          "metadata": {},
          "output_type": "execute_result"
        }
      ],
      "source": [
        "shape = tuple(1 for _ in range(8))\n",
        "shape = tuple(list(shape) + [20])\n",
        "print(\"shape\", shape)\n",
        "        \n",
        "zeros_array = np.zeros(shape)\n",
        "print(f\"diemention: \", zeros_array.ndim)\n",
        "\n",
        "zeros_array"
      ]
    },
    {
      "cell_type": "markdown",
      "id": "b15a879f",
      "metadata": {
        "id": "b15a879f"
      },
      "source": [
        "#### 4. Massiv yarating va uning xotira hajmini toping.\n",
        "\n"
      ]
    },
    {
      "cell_type": "markdown",
      "id": "32f9025c",
      "metadata": {
        "id": "32f9025c"
      },
      "source": [
        "`💡Ishora` size, itemsize"
      ]
    },
    {
      "cell_type": "code",
      "execution_count": 78,
      "id": "MZxcJM_oJOTs",
      "metadata": {
        "id": "MZxcJM_oJOTs"
      },
      "outputs": [
        {
          "data": {
            "text/plain": [
              "8"
            ]
          },
          "execution_count": 78,
          "metadata": {},
          "output_type": "execute_result"
        }
      ],
      "source": [
        "array = np.zeros(100_000_000)\n",
        "\n",
        "# array.size\n",
        "array.itemsize"
      ]
    },
    {
      "cell_type": "markdown",
      "id": "0a708990",
      "metadata": {
        "id": "0a708990"
      },
      "source": [
        "#### 5. NumPy kutubxonasidagi add funksiyasi hujjatlarini buyruq satridan qanday olishi mumkin?\n"
      ]
    },
    {
      "cell_type": "markdown",
      "id": "d254eea5",
      "metadata": {
        "id": "d254eea5"
      },
      "source": [
        "`💡Ishora` np.info"
      ]
    },
    {
      "cell_type": "code",
      "execution_count": null,
      "id": "m7nA_vYsJVUi",
      "metadata": {
        "id": "m7nA_vYsJVUi"
      },
      "outputs": [],
      "source": []
    },
    {
      "cell_type": "markdown",
      "id": "0b16cd77",
      "metadata": {
        "id": "0b16cd77"
      },
      "source": [
        "#### 6. Shunday vekor yaratingki u o'n ikki o'lchamda va qiymatlari noldan iborat bo'lsin, lekin vektorning oltinchi qiymati 1 ga teng bo'lsin.\n",
        "\n"
      ]
    },
    {
      "cell_type": "markdown",
      "id": "05223560",
      "metadata": {
        "id": "05223560"
      },
      "source": [
        "`💡Ishora` array[12]"
      ]
    },
    {
      "cell_type": "code",
      "execution_count": null,
      "id": "UJfYDNQoJc7M",
      "metadata": {
        "id": "UJfYDNQoJc7M"
      },
      "outputs": [],
      "source": []
    },
    {
      "cell_type": "markdown",
      "id": "782d4c77",
      "metadata": {
        "id": "782d4c77"
      },
      "source": [
        "#### 7. Qiymatlari 20 dan 59 gacha bo'lgan vektor yarating.\n",
        "\n"
      ]
    },
    {
      "cell_type": "markdown",
      "id": "7250d114",
      "metadata": {
        "id": "7250d114"
      },
      "source": [
        "`💡Ishora` arange"
      ]
    },
    {
      "cell_type": "code",
      "execution_count": null,
      "id": "fSaWkGakJhwz",
      "metadata": {
        "id": "fSaWkGakJhwz"
      },
      "outputs": [],
      "source": []
    },
    {
      "cell_type": "markdown",
      "id": "48d48f01",
      "metadata": {
        "id": "48d48f01"
      },
      "source": [
        "#### 8. Vektor yarating va uni teskari o'zgartiring\n",
        "(birinchi element oxirgisi bo'lsin)\n",
        "\n"
      ]
    },
    {
      "cell_type": "code",
      "execution_count": null,
      "id": "43e3bdc0",
      "metadata": {},
      "outputs": [],
      "source": []
    },
    {
      "cell_type": "markdown",
      "id": "fb702ae0",
      "metadata": {
        "id": "fb702ae0"
      },
      "source": [
        "`💡Ishora` array[::-1]"
      ]
    },
    {
      "cell_type": "code",
      "execution_count": null,
      "id": "GCP6vp_WJrON",
      "metadata": {
        "id": "GCP6vp_WJrON"
      },
      "outputs": [],
      "source": []
    },
    {
      "cell_type": "markdown",
      "id": "4fa39382",
      "metadata": {
        "id": "4fa39382"
      },
      "source": [
        "#### 9. 12 dan 20 gacha bo'lgan qiymatlarga ega 3x3 matritsa yarating.\n"
      ]
    },
    {
      "cell_type": "markdown",
      "id": "97e6be92",
      "metadata": {
        "id": "97e6be92"
      },
      "source": [
        "`💡Ishora` reshape"
      ]
    },
    {
      "cell_type": "code",
      "execution_count": null,
      "id": "Ve7gEGjuJxxw",
      "metadata": {
        "id": "Ve7gEGjuJxxw"
      },
      "outputs": [],
      "source": []
    },
    {
      "cell_type": "markdown",
      "id": "da64551a",
      "metadata": {
        "id": "da64551a"
      },
      "source": [
        "#### 10. Quyidagi matritsadan foydalanib nolga teng bo'lmagan elementlarning indekslarini toping.\n",
        "[3, 7, 0, 0, 9, 0]\n",
        "\n",
        "\n",
        "\n"
      ]
    },
    {
      "cell_type": "markdown",
      "id": "322b2b68",
      "metadata": {
        "id": "322b2b68"
      },
      "source": [
        "`💡Ishora` np.nonzero"
      ]
    },
    {
      "cell_type": "code",
      "execution_count": null,
      "id": "fNIuSyBaJ4OP",
      "metadata": {
        "id": "fNIuSyBaJ4OP"
      },
      "outputs": [],
      "source": []
    },
    {
      "cell_type": "markdown",
      "id": "f89d9c9e",
      "metadata": {
        "id": "f89d9c9e"
      },
      "source": [
        "#### 11. Tasodifiy qiymatlar bilan 2x2x2 o'lchovidagi massiv yarating.\n"
      ]
    },
    {
      "cell_type": "markdown",
      "id": "5717e1c1",
      "metadata": {
        "id": "5717e1c1"
      },
      "source": [
        "`💡Ishora` np.random.random"
      ]
    },
    {
      "cell_type": "code",
      "execution_count": null,
      "id": "bHloeqHOKuiX",
      "metadata": {
        "id": "bHloeqHOKuiX"
      },
      "outputs": [],
      "source": []
    },
    {
      "cell_type": "markdown",
      "id": "13c5928c",
      "metadata": {
        "id": "13c5928c"
      },
      "source": [
        "#### 12. Tasodifiy sonlardan tashkil topgan 9X9 o'lchamidagi massiv yarating. So'ng uning eng katta va eng kichik qiymatlarini toping\n"
      ]
    },
    {
      "cell_type": "markdown",
      "id": "0ede4d26",
      "metadata": {
        "id": "0ede4d26"
      },
      "source": [
        "`💡Ishora` min, max"
      ]
    },
    {
      "cell_type": "code",
      "execution_count": null,
      "id": "OJiVa5K9LJyb",
      "metadata": {
        "id": "OJiVa5K9LJyb"
      },
      "outputs": [],
      "source": []
    },
    {
      "cell_type": "markdown",
      "id": "3fa2e461",
      "metadata": {
        "id": "3fa2e461"
      },
      "source": [
        "#### 13. Quyidagi misol qanday natija beradi?\n",
        "\n",
        "\n",
        "```python\n",
        "0 * np.nan\n",
        "np.nan == np.nan\n",
        "np.inf > np.nan\n",
        "np.nan - np.nan\n",
        "np.nan in set([np.nan])\n",
        "0.7 == 7 * 0.1\n",
        "```\n"
      ]
    },
    {
      "cell_type": "markdown",
      "id": "c0048e59",
      "metadata": {
        "id": "c0048e59"
      },
      "source": [
        "`💡Ishora` NaN = not a number, inf = infinity"
      ]
    },
    {
      "cell_type": "code",
      "execution_count": null,
      "id": "Thbqd_RCLf_e",
      "metadata": {
        "id": "Thbqd_RCLf_e"
      },
      "outputs": [],
      "source": []
    },
    {
      "cell_type": "markdown",
      "id": "73f7a549",
      "metadata": {
        "id": "73f7a549"
      },
      "source": [
        "#### 14. O'lchamlari 6x3 va 3x4 bo'lgan martitsa yarating, so'ng ularning  ko'paytmasini hisoblang.\n",
        "\n"
      ]
    },
    {
      "cell_type": "markdown",
      "id": "351ff928",
      "metadata": {
        "id": "351ff928"
      },
      "source": [
        "`💡Ishora` np.dot` or `np.ones"
      ]
    },
    {
      "cell_type": "code",
      "execution_count": null,
      "id": "e_5QUFcPLtVX",
      "metadata": {
        "id": "e_5QUFcPLtVX"
      },
      "outputs": [],
      "source": []
    },
    {
      "cell_type": "markdown",
      "id": "6d0c506f",
      "metadata": {
        "id": "6d0c506f"
      },
      "source": [
        "#### 15. Quyidagi misol qanday natija beradi?\n",
        "\n",
        "```python\n",
        "print(sum(range(5),-1))\n",
        "from numpy import *\n",
        "print(sum(range(5),-1))\n",
        "```"
      ]
    },
    {
      "cell_type": "code",
      "execution_count": null,
      "id": "c1cc1143",
      "metadata": {
        "id": "c1cc1143"
      },
      "outputs": [],
      "source": []
    },
    {
      "cell_type": "markdown",
      "id": "d6ad1a9f",
      "metadata": {
        "id": "d6ad1a9f"
      },
      "source": [
        "#### 16. NumPy kutubxonasi yordamida ikkita massivni solishtiring va ular usida quyidagi amallarni bajaring.\n",
        "\n",
        "```python\n",
        "Array a: [1 2]\n",
        "Array b: [4 5]\n",
        "a > b\n",
        "[False False]\n",
        "a >= b\n",
        "[False False]\n",
        "a < b\n",
        "[ True True]\n",
        "a <= b\n",
        "[ True True]\n",
        "```"
      ]
    },
    {
      "cell_type": "code",
      "execution_count": null,
      "id": "7ba3c441",
      "metadata": {
        "id": "7ba3c441"
      },
      "outputs": [],
      "source": []
    },
    {
      "cell_type": "markdown",
      "id": "e3a7ba7f",
      "metadata": {
        "id": "e3a7ba7f"
      },
      "source": [
        "#### 17. Quyidagi misol qanday natija beradi?\n",
        "\n",
        "```python\n",
        "np.array(0) / np.array(0)\n",
        "np.array(0) // np.array(0)\n",
        "np.array([np.nan]).astype(int).astype(float)\n",
        "```"
      ]
    },
    {
      "cell_type": "code",
      "execution_count": null,
      "id": "b874734e",
      "metadata": {
        "id": "b874734e"
      },
      "outputs": [],
      "source": []
    },
    {
      "cell_type": "markdown",
      "id": "6d17ab5d",
      "metadata": {
        "id": "6d17ab5d"
      },
      "source": [
        "#### 18. Ikkita massiv yarating va ular orasidagi umumiy qiymatlarni toping\n"
      ]
    },
    {
      "cell_type": "markdown",
      "id": "4c4e2c5e",
      "metadata": {
        "id": "4c4e2c5e"
      },
      "source": [
        "`💡Ishora` np.intersect1d"
      ]
    },
    {
      "cell_type": "code",
      "execution_count": null,
      "id": "Dxz5P8WpMeAP",
      "metadata": {
        "id": "Dxz5P8WpMeAP"
      },
      "outputs": [],
      "source": []
    },
    {
      "cell_type": "markdown",
      "id": "8837119b",
      "metadata": {
        "id": "8837119b"
      },
      "source": [
        "#### 19. Tasodifiy sonlardan iborat bo'lgan massiv yarating, so'ng ularni quyida berilgan 4 xil usul yordamida musbat sonlarning butun qismini ajratib oling."
      ]
    },
    {
      "cell_type": "markdown",
      "id": "2b05c544",
      "metadata": {
        "id": "2b05c544"
      },
      "source": [
        "`💡Ishora` %, np.floor, astype, np.trunc"
      ]
    },
    {
      "cell_type": "code",
      "execution_count": null,
      "id": "jc6wN5WWMpS3",
      "metadata": {
        "id": "jc6wN5WWMpS3"
      },
      "outputs": [],
      "source": []
    },
    {
      "cell_type": "markdown",
      "id": "ec788c9f",
      "metadata": {
        "id": "ec788c9f"
      },
      "source": [
        "#### 20. O'lchovlari 3x3 matritsa yarating, ularning qator qiymatlari 0 dan 2 gacha bo'lsin.\n",
        "\n"
      ]
    },
    {
      "cell_type": "markdown",
      "id": "c3980b2c",
      "metadata": {
        "id": "c3980b2c"
      },
      "source": [
        "`💡Ishora` np.arange"
      ]
    },
    {
      "cell_type": "code",
      "execution_count": null,
      "id": "ycz3jw4bM0Xk",
      "metadata": {
        "id": "ycz3jw4bM0Xk"
      },
      "outputs": [],
      "source": []
    },
    {
      "cell_type": "markdown",
      "id": "391791e0",
      "metadata": {
        "id": "391791e0"
      },
      "source": [
        "#### 21. O'chamlari 10 bo'lgan tasodifiy vektor yarating va uni o'sish tartibida chiqaruvchi dastur tuzing.\n",
        "\n"
      ]
    },
    {
      "cell_type": "markdown",
      "id": "ada71c06",
      "metadata": {
        "id": "ada71c06"
      },
      "source": [
        "`💡Ishora` sort"
      ]
    },
    {
      "cell_type": "code",
      "execution_count": null,
      "id": "TPMqaavROM7g",
      "metadata": {
        "id": "TPMqaavROM7g"
      },
      "outputs": [],
      "source": []
    },
    {
      "cell_type": "markdown",
      "id": "1e74d39e",
      "metadata": {
        "id": "1e74d39e"
      },
      "source": [
        "#### 22. Ikki tasodifiy A va B massiv yarating, ularning tengligini tekshiring"
      ]
    },
    {
      "cell_type": "markdown",
      "id": "eb0e066c",
      "metadata": {
        "id": "eb0e066c"
      },
      "source": [
        "`💡Ishora` np.allclose, np.array_equal"
      ]
    },
    {
      "cell_type": "code",
      "execution_count": null,
      "id": "xHNWNZnwOT1r",
      "metadata": {
        "id": "xHNWNZnwOT1r"
      },
      "outputs": [],
      "source": []
    },
    {
      "cell_type": "markdown",
      "id": "78250c14",
      "metadata": {
        "id": "78250c14"
      },
      "source": [
        "#### 23. O'lchamlari 6x3 va 3x4 matritsa tuzing va ularni o'zaro ko'paytiring.\n"
      ]
    },
    {
      "cell_type": "markdown",
      "id": "2e482afe",
      "metadata": {
        "id": "2e482afe"
      },
      "source": [
        "`💡Ishora` np.dot or np.ones"
      ]
    },
    {
      "cell_type": "code",
      "execution_count": null,
      "id": "ZRlMgdT9POgS",
      "metadata": {
        "id": "ZRlMgdT9POgS"
      },
      "outputs": [],
      "source": []
    },
    {
      "cell_type": "markdown",
      "id": "51898680",
      "metadata": {
        "id": "51898680"
      },
      "source": [
        "#### 24. Tasodifiy sonlardan iborat bo'lgan o'lchami 5 ga teng vektor yarating, so'ng uning eng katta qiymatini 0 ga o'zgartiring.\n"
      ]
    },
    {
      "cell_type": "markdown",
      "id": "ee92ccaf",
      "metadata": {
        "id": "ee92ccaf"
      },
      "source": [
        "`💡Ishora` argmax"
      ]
    },
    {
      "cell_type": "code",
      "execution_count": null,
      "id": "v9DvyaTNPk_t",
      "metadata": {
        "id": "v9DvyaTNPk_t"
      },
      "outputs": [],
      "source": []
    },
    {
      "cell_type": "markdown",
      "id": "129c342d",
      "metadata": {
        "id": "129c342d"
      },
      "source": [
        "#### 25. NumPy kutubxonasi yordamida kecha, bugun va ertangi kun sanalarini aniqlang.\n"
      ]
    },
    {
      "cell_type": "markdown",
      "id": "0fd2f947",
      "metadata": {
        "id": "0fd2f947"
      },
      "source": [
        "`💡Ishora` np.datetime64, np.timedelta64"
      ]
    },
    {
      "cell_type": "code",
      "execution_count": null,
      "id": "dlljRGxkSitd",
      "metadata": {
        "id": "dlljRGxkSitd"
      },
      "outputs": [],
      "source": []
    },
    {
      "cell_type": "markdown",
      "id": "42f8b2f9",
      "metadata": {
        "id": "42f8b2f9"
      },
      "source": [
        "#### 26. 2016 yil yanvar oyiga to'g'ri keladigan barcha sanalarni NumPy kutubxonasi yordamida aniqlang.\n"
      ]
    },
    {
      "cell_type": "markdown",
      "id": "SU1BWcA8Sw2M",
      "metadata": {
        "id": "SU1BWcA8Sw2M"
      },
      "source": [
        "`💡Ishora` np.arange(dtype=datetime64['D'])"
      ]
    },
    {
      "cell_type": "code",
      "execution_count": null,
      "id": "5ad086b0",
      "metadata": {
        "id": "5ad086b0"
      },
      "outputs": [],
      "source": []
    },
    {
      "cell_type": "markdown",
      "id": "486df8ea",
      "metadata": {
        "id": "486df8ea"
      },
      "source": [
        "#### 27. 4 xil usul yordamida musbat sonlarning tasodifiy massivining butun son qismini ajratib oling.\n"
      ]
    },
    {
      "cell_type": "markdown",
      "id": "h4QM3bp9TDhb",
      "metadata": {
        "id": "h4QM3bp9TDhb"
      },
      "source": [
        "`💡Ishora` %, np.floor, astype, np.trunc`"
      ]
    },
    {
      "cell_type": "code",
      "execution_count": null,
      "id": "2680c1ca",
      "metadata": {
        "id": "2680c1ca"
      },
      "outputs": [],
      "source": []
    },
    {
      "cell_type": "markdown",
      "id": "6415f02e",
      "metadata": {
        "id": "6415f02e"
      },
      "source": [
        "#### 28. Ixtiyoriy kichik massivlar yarating, ular yeg'indisini np.sum funksiyasidanda tezroq hisoblovchi dastur tuzing.\n"
      ]
    },
    {
      "cell_type": "markdown",
      "id": "129e785f",
      "metadata": {
        "id": "129e785f"
      },
      "source": [
        "`💡Ishora` np.add.reduce"
      ]
    },
    {
      "cell_type": "code",
      "execution_count": null,
      "id": "M0Xv2bB9VYQZ",
      "metadata": {
        "id": "M0Xv2bB9VYQZ"
      },
      "outputs": [],
      "source": []
    },
    {
      "cell_type": "markdown",
      "id": "58be9dd4",
      "metadata": {
        "id": "58be9dd4"
      },
      "source": [
        "#### 29. [1, 2, 3, 4, 5] vektor berilgan, har bir qiymat orasiga ketma-ket 3 ta nol raqamini yozuvchi dastur tuzing.\n"
      ]
    },
    {
      "cell_type": "markdown",
      "id": "9cf9e134",
      "metadata": {
        "id": "9cf9e134"
      },
      "source": [
        "`💡Ishora` array[::4]"
      ]
    },
    {
      "cell_type": "code",
      "execution_count": null,
      "id": "04IuJ2jaZeYu",
      "metadata": {
        "id": "04IuJ2jaZeYu"
      },
      "outputs": [],
      "source": []
    },
    {
      "cell_type": "markdown",
      "id": "781fa236",
      "metadata": {
        "id": "781fa236"
      },
      "source": [
        "#### 30. Quyidagi a massiv berilgan, a = [1,2,3,4,5,6,7,8,9,10,11,12,13,14] undan foydalangan holda siz quyidagi b massivni yarata olasizmi, b = [[1,2,3,4], [2,3,4,5], [3,4,5,6], ..., [11,12,13,14]]?\n"
      ]
    },
    {
      "cell_type": "markdown",
      "id": "82e3d17e",
      "metadata": {
        "id": "82e3d17e"
      },
      "source": [
        "`💡Ishora` stride_tricks.as_strided"
      ]
    },
    {
      "cell_type": "code",
      "execution_count": null,
      "id": "S1H6ivCua3NZ",
      "metadata": {
        "id": "S1H6ivCua3NZ"
      },
      "outputs": [],
      "source": []
    },
    {
      "cell_type": "markdown",
      "id": "7d8dc135",
      "metadata": {
        "id": "7d8dc135"
      },
      "source": [
        "#### 31. Ixtiyoriy sonlardan tashkil topgan massiv yarating, unga o'xshash qiymatlar kiriting. So'ng, o'xshash qiymatlarni topuvchi dastur tuzing.\n"
      ]
    },
    {
      "cell_type": "markdown",
      "id": "81844e99",
      "metadata": {
        "id": "81844e99"
      },
      "source": [
        "`💡Ishora` np.bincount, argmax"
      ]
    },
    {
      "cell_type": "code",
      "execution_count": null,
      "id": "SiRaNwxjbaQN",
      "metadata": {
        "id": "SiRaNwxjbaQN"
      },
      "outputs": [],
      "source": []
    },
    {
      "cell_type": "markdown",
      "id": "URzxwwODb0m_",
      "metadata": {
        "id": "URzxwwODb0m_"
      },
      "source": [
        "#### BONUS!\n",
        "\n",
        "`💡O'zingiz javob berishni istagan savolni kiriting va unga javob bering!`"
      ]
    },
    {
      "cell_type": "code",
      "execution_count": null,
      "id": "9xpR0GVrbzuk",
      "metadata": {
        "id": "9xpR0GVrbzuk"
      },
      "outputs": [],
      "source": []
    }
  ],
  "metadata": {
    "colab": {
      "include_colab_link": true,
      "provenance": []
    },
    "hide_input": false,
    "kernelspec": {
      "display_name": ".venv",
      "language": "python",
      "name": "python3"
    },
    "language_info": {
      "codemirror_mode": {
        "name": "ipython",
        "version": 3
      },
      "file_extension": ".py",
      "mimetype": "text/x-python",
      "name": "python",
      "nbconvert_exporter": "python",
      "pygments_lexer": "ipython3",
      "version": "3.11.9"
    },
    "toc": {
      "base_numbering": 1,
      "nav_menu": {},
      "number_sections": true,
      "sideBar": true,
      "skip_h1_title": false,
      "title_cell": "Table of Contents",
      "title_sidebar": "Contents",
      "toc_cell": false,
      "toc_position": {},
      "toc_section_display": true,
      "toc_window_display": false
    },
    "varInspector": {
      "cols": {
        "lenName": 16,
        "lenType": 16,
        "lenVar": 40
      },
      "kernels_config": {
        "python": {
          "delete_cmd_postfix": "",
          "delete_cmd_prefix": "del ",
          "library": "var_list.py",
          "varRefreshCmd": "print(var_dic_list())"
        },
        "r": {
          "delete_cmd_postfix": ") ",
          "delete_cmd_prefix": "rm(",
          "library": "var_list.r",
          "varRefreshCmd": "cat(var_dic_list()) "
        }
      },
      "types_to_exclude": [
        "module",
        "function",
        "builtin_function_or_method",
        "instance",
        "_Feature"
      ],
      "window_display": false
    }
  },
  "nbformat": 4,
  "nbformat_minor": 5
}
