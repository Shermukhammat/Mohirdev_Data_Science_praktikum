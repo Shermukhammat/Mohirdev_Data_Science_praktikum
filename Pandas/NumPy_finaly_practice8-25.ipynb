{
  "cells": [
    {
      "cell_type": "markdown",
      "metadata": {
        "id": "view-in-github",
        "colab_type": "text"
      },
      "source": [
        "<a href=\"https://colab.research.google.com/github/SHermukhammadjon/Mohirdev_Data_Science_praktikum/blob/main/NumPy_finaly_practice8-25.ipynb\" target=\"_parent\"><img src=\"https://colab.research.google.com/assets/colab-badge.svg\" alt=\"Open In Colab\"/></a>"
      ]
    },
    {
      "cell_type": "markdown",
      "id": "bf79c78b",
      "metadata": {
        "id": "bf79c78b"
      },
      "source": [
        "# NumPy kutubxonasiga doir bilimlaringizni mustaxkamlash uchun mashqlar\n",
        "\n",
        "Hurmatli o'quvchi, bilimingizni yanada mustaxkamlashingiz va chuqurroq ko'nikmalarga ega bo'lishingiz uchun sizga topshiriqlar tayyorladik. Sizga yengillik yaratish maqsadida topshiriqni aynan qanday funksiyalar yordamida amalga oshirishingiz mumkin ekanini \n",
        " `💡Ishora` ko'rinishida yozdik!"
      ]
    },
    {
      "cell_type": "markdown",
      "id": "017db353",
      "metadata": {
        "id": "017db353"
      },
      "source": [
        "#### 1. NumPy kutubxonasini `np` nomi ostida yuklang va numpy kutubxonasini chop eting.\n",
        "\n",
        "versiya va konfiguratsiyani tekshiring.\n"
      ]
    },
    {
      "cell_type": "markdown",
      "source": [
        "`💡Ishora` import … as` and `np.__version__, np.show_config"
      ],
      "metadata": {
        "id": "e28779fe"
      },
      "id": "e28779fe"
    },
    {
      "cell_type": "code",
      "source": [
        "import numpy as np\n",
        "np "
      ],
      "metadata": {
        "id": "_pCbn1ieI3u9",
        "outputId": "0e762ea1-5e42-475f-b6b1-fa2fdc869f1b",
        "colab": {
          "base_uri": "https://localhost:8080/"
        }
      },
      "id": "_pCbn1ieI3u9",
      "execution_count": 1,
      "outputs": [
        {
          "output_type": "execute_result",
          "data": {
            "text/plain": [
              "<module 'numpy' from '/usr/local/lib/python3.9/dist-packages/numpy/__init__.py'>"
            ]
          },
          "metadata": {},
          "execution_count": 1
        }
      ]
    },
    {
      "cell_type": "code",
      "source": [
        "np.__version__"
      ],
      "metadata": {
        "id": "YpiI29w35Dx7",
        "outputId": "6d6c0233-4363-42dd-f26d-0fe0ed7e7f89",
        "colab": {
          "base_uri": "https://localhost:8080/",
          "height": 35
        }
      },
      "id": "YpiI29w35Dx7",
      "execution_count": 2,
      "outputs": [
        {
          "output_type": "execute_result",
          "data": {
            "text/plain": [
              "'1.22.4'"
            ],
            "application/vnd.google.colaboratory.intrinsic+json": {
              "type": "string"
            }
          },
          "metadata": {},
          "execution_count": 2
        }
      ]
    },
    {
      "cell_type": "code",
      "source": [
        "np.show_config()"
      ],
      "metadata": {
        "id": "q3RMkxsM6XsK",
        "outputId": "2b4ed9d3-4cff-49a6-bb0c-22c393cd397d",
        "colab": {
          "base_uri": "https://localhost:8080/"
        }
      },
      "id": "q3RMkxsM6XsK",
      "execution_count": null,
      "outputs": [
        {
          "output_type": "stream",
          "name": "stdout",
          "text": [
            "openblas64__info:\n",
            "    libraries = ['openblas64_', 'openblas64_']\n",
            "    library_dirs = ['/usr/local/lib']\n",
            "    language = c\n",
            "    define_macros = [('HAVE_CBLAS', None), ('BLAS_SYMBOL_SUFFIX', '64_'), ('HAVE_BLAS_ILP64', None)]\n",
            "    runtime_library_dirs = ['/usr/local/lib']\n",
            "blas_ilp64_opt_info:\n",
            "    libraries = ['openblas64_', 'openblas64_']\n",
            "    library_dirs = ['/usr/local/lib']\n",
            "    language = c\n",
            "    define_macros = [('HAVE_CBLAS', None), ('BLAS_SYMBOL_SUFFIX', '64_'), ('HAVE_BLAS_ILP64', None)]\n",
            "    runtime_library_dirs = ['/usr/local/lib']\n",
            "openblas64__lapack_info:\n",
            "    libraries = ['openblas64_', 'openblas64_']\n",
            "    library_dirs = ['/usr/local/lib']\n",
            "    language = c\n",
            "    define_macros = [('HAVE_CBLAS', None), ('BLAS_SYMBOL_SUFFIX', '64_'), ('HAVE_BLAS_ILP64', None), ('HAVE_LAPACKE', None)]\n",
            "    runtime_library_dirs = ['/usr/local/lib']\n",
            "lapack_ilp64_opt_info:\n",
            "    libraries = ['openblas64_', 'openblas64_']\n",
            "    library_dirs = ['/usr/local/lib']\n",
            "    language = c\n",
            "    define_macros = [('HAVE_CBLAS', None), ('BLAS_SYMBOL_SUFFIX', '64_'), ('HAVE_BLAS_ILP64', None), ('HAVE_LAPACKE', None)]\n",
            "    runtime_library_dirs = ['/usr/local/lib']\n",
            "Supported SIMD extensions in this NumPy install:\n",
            "    baseline = SSE,SSE2,SSE3\n",
            "    found = SSSE3,SSE41,POPCNT,SSE42,AVX,F16C,FMA3,AVX2\n",
            "    not found = AVX512F,AVX512CD,AVX512_KNL,AVX512_KNM,AVX512_SKX,AVX512_CLX,AVX512_CNL,AVX512_ICL\n"
          ]
        }
      ]
    },
    {
      "cell_type": "markdown",
      "id": "46950f4f",
      "metadata": {
        "id": "46950f4f"
      },
      "source": [
        "#### 2. Raqamli qiymatlar ro'yxatini bir o'lchovli NumPy massiviga aylantiring! "
      ]
    },
    {
      "cell_type": "markdown",
      "source": [
        "`💡Ishora` numpy.array"
      ],
      "metadata": {
        "id": "9b0e875f"
      },
      "id": "9b0e875f"
    },
    {
      "cell_type": "code",
      "source": [
        "arr1 = np.array([1, 2, 3, 4, 5, 6, 7])\n",
        "arr1"
      ],
      "metadata": {
        "id": "dgnzjeT3JCi4",
        "outputId": "971e3ee6-72ca-41a1-d44d-f919e46eb69a",
        "colab": {
          "base_uri": "https://localhost:8080/"
        }
      },
      "id": "dgnzjeT3JCi4",
      "execution_count": null,
      "outputs": [
        {
          "output_type": "execute_result",
          "data": {
            "text/plain": [
              "array([1, 2, 3, 4, 5, 6, 7])"
            ]
          },
          "metadata": {},
          "execution_count": 25
        }
      ]
    },
    {
      "cell_type": "markdown",
      "id": "e3c20b3d",
      "metadata": {
        "id": "e3c20b3d"
      },
      "source": [
        "#### 3. Qiymatlari noldan iborat bo'lgan to'qqiz o'lchovli massiv yarating.\n",
        "\n"
      ]
    },
    {
      "cell_type": "markdown",
      "source": [
        "`💡Ishora` np.zeros"
      ],
      "metadata": {
        "id": "96d0b63e"
      },
      "id": "96d0b63e"
    },
    {
      "cell_type": "code",
      "source": [
        "arr2 = np.zeros((9, 1, 1, 1, 1, 1, 1, 1, 1))\n",
        "arr2"
      ],
      "metadata": {
        "id": "hIglcygO66Ay",
        "outputId": "c88a9510-1ea8-4ccb-c376-a561ac49a7d9",
        "colab": {
          "base_uri": "https://localhost:8080/"
        }
      },
      "id": "hIglcygO66Ay",
      "execution_count": null,
      "outputs": [
        {
          "output_type": "execute_result",
          "data": {
            "text/plain": [
              "array([[[[[[[[[0.]]]]]]]],\n",
              "\n",
              "\n",
              "\n",
              "\n",
              "\n",
              "\n",
              "\n",
              "       [[[[[[[[0.]]]]]]]],\n",
              "\n",
              "\n",
              "\n",
              "\n",
              "\n",
              "\n",
              "\n",
              "       [[[[[[[[0.]]]]]]]],\n",
              "\n",
              "\n",
              "\n",
              "\n",
              "\n",
              "\n",
              "\n",
              "       [[[[[[[[0.]]]]]]]],\n",
              "\n",
              "\n",
              "\n",
              "\n",
              "\n",
              "\n",
              "\n",
              "       [[[[[[[[0.]]]]]]]],\n",
              "\n",
              "\n",
              "\n",
              "\n",
              "\n",
              "\n",
              "\n",
              "       [[[[[[[[0.]]]]]]]],\n",
              "\n",
              "\n",
              "\n",
              "\n",
              "\n",
              "\n",
              "\n",
              "       [[[[[[[[0.]]]]]]]],\n",
              "\n",
              "\n",
              "\n",
              "\n",
              "\n",
              "\n",
              "\n",
              "       [[[[[[[[0.]]]]]]]],\n",
              "\n",
              "\n",
              "\n",
              "\n",
              "\n",
              "\n",
              "\n",
              "       [[[[[[[[0.]]]]]]]]])"
            ]
          },
          "metadata": {},
          "execution_count": 68
        }
      ]
    },
    {
      "cell_type": "code",
      "source": [
        "arr2.ndim"
      ],
      "metadata": {
        "id": "HHoBO8a07K0z",
        "outputId": "6f14293c-30f2-4c87-d31b-9d07aa4bcc39",
        "colab": {
          "base_uri": "https://localhost:8080/"
        }
      },
      "id": "HHoBO8a07K0z",
      "execution_count": null,
      "outputs": [
        {
          "output_type": "execute_result",
          "data": {
            "text/plain": [
              "9"
            ]
          },
          "metadata": {},
          "execution_count": 69
        }
      ]
    },
    {
      "cell_type": "code",
      "source": [
        "arr2.shape"
      ],
      "metadata": {
        "id": "-yVeVWcP7zfd",
        "outputId": "35b4c9ee-fc9e-4578-b18c-2c3657b5f66f",
        "colab": {
          "base_uri": "https://localhost:8080/"
        }
      },
      "id": "-yVeVWcP7zfd",
      "execution_count": null,
      "outputs": [
        {
          "output_type": "execute_result",
          "data": {
            "text/plain": [
              "(9, 1, 1, 1, 1, 1, 1, 1, 1)"
            ]
          },
          "metadata": {},
          "execution_count": 70
        }
      ]
    },
    {
      "cell_type": "markdown",
      "id": "b15a879f",
      "metadata": {
        "id": "b15a879f"
      },
      "source": [
        "#### 4. Massiv yarating va uning xotira hajmini toping.\n",
        "\n"
      ]
    },
    {
      "cell_type": "markdown",
      "source": [
        "`💡Ishora` size, itemsize"
      ],
      "metadata": {
        "id": "32f9025c"
      },
      "id": "32f9025c"
    },
    {
      "cell_type": "code",
      "source": [
        "arr3 = np.arange(20)\n",
        "arr3"
      ],
      "metadata": {
        "id": "MZxcJM_oJOTs",
        "outputId": "7558e2bd-5738-4f03-803b-d297f4586cb2",
        "colab": {
          "base_uri": "https://localhost:8080/"
        }
      },
      "id": "MZxcJM_oJOTs",
      "execution_count": null,
      "outputs": [
        {
          "output_type": "execute_result",
          "data": {
            "text/plain": [
              "array([ 0,  1,  2,  3,  4,  5,  6,  7,  8,  9, 10, 11, 12, 13, 14, 15, 16,\n",
              "       17, 18,  3])"
            ]
          },
          "metadata": {},
          "execution_count": 81
        }
      ]
    },
    {
      "cell_type": "code",
      "source": [
        "arr3.size"
      ],
      "metadata": {
        "id": "2QuHMhhr-24v",
        "outputId": "909456d9-1fd3-4ab8-b1e2-35c5cf409b6e",
        "colab": {
          "base_uri": "https://localhost:8080/"
        }
      },
      "id": "2QuHMhhr-24v",
      "execution_count": null,
      "outputs": [
        {
          "output_type": "execute_result",
          "data": {
            "text/plain": [
              "20"
            ]
          },
          "metadata": {},
          "execution_count": 79
        }
      ]
    },
    {
      "cell_type": "code",
      "source": [
        "arr3.itemsize"
      ],
      "metadata": {
        "id": "_O0n8jFE-3ZA",
        "outputId": "d85db98b-1682-4fb2-a649-9e7605622dc7",
        "colab": {
          "base_uri": "https://localhost:8080/"
        }
      },
      "id": "_O0n8jFE-3ZA",
      "execution_count": null,
      "outputs": [
        {
          "output_type": "execute_result",
          "data": {
            "text/plain": [
              "8"
            ]
          },
          "metadata": {},
          "execution_count": 80
        }
      ]
    },
    {
      "cell_type": "code",
      "source": [
        "a = np.array(\"12345\")\n",
        "a.itemsize"
      ],
      "metadata": {
        "id": "7C36tDZK_quy",
        "outputId": "696fe4f3-9c78-42c5-bff2-a8094e681606",
        "colab": {
          "base_uri": "https://localhost:8080/"
        }
      },
      "id": "7C36tDZK_quy",
      "execution_count": null,
      "outputs": [
        {
          "output_type": "execute_result",
          "data": {
            "text/plain": [
              "20"
            ]
          },
          "metadata": {},
          "execution_count": 93
        }
      ]
    },
    {
      "cell_type": "code",
      "source": [],
      "metadata": {
        "id": "uUYuHhIeAZLe"
      },
      "id": "uUYuHhIeAZLe",
      "execution_count": null,
      "outputs": []
    },
    {
      "cell_type": "markdown",
      "id": "0a708990",
      "metadata": {
        "id": "0a708990"
      },
      "source": [
        "#### 5. NumPy kutubxonasidagi add funksiyasi hujjatlarini buyruq satridan qanday olishi mumkin? \n"
      ]
    },
    {
      "cell_type": "markdown",
      "source": [
        "`💡Ishora` np.info"
      ],
      "metadata": {
        "id": "d254eea5"
      },
      "id": "d254eea5"
    },
    {
      "cell_type": "code",
      "source": [
        "np.info(np.add)"
      ],
      "metadata": {
        "id": "m7nA_vYsJVUi",
        "outputId": "ea60c04f-aa07-4b79-e3d6-9dc7aabd526f",
        "colab": {
          "base_uri": "https://localhost:8080/"
        }
      },
      "id": "m7nA_vYsJVUi",
      "execution_count": null,
      "outputs": [
        {
          "output_type": "stream",
          "name": "stdout",
          "text": [
            "add(x1, x2, /, out=None, *, where=True, casting='same_kind', order='K', dtype=None, subok=True[, signature, extobj])\n",
            "\n",
            "Add arguments element-wise.\n",
            "\n",
            "Parameters\n",
            "----------\n",
            "x1, x2 : array_like\n",
            "    The arrays to be added.\n",
            "    If ``x1.shape != x2.shape``, they must be broadcastable to a common\n",
            "    shape (which becomes the shape of the output).\n",
            "out : ndarray, None, or tuple of ndarray and None, optional\n",
            "    A location into which the result is stored. If provided, it must have\n",
            "    a shape that the inputs broadcast to. If not provided or None,\n",
            "    a freshly-allocated array is returned. A tuple (possible only as a\n",
            "    keyword argument) must have length equal to the number of outputs.\n",
            "where : array_like, optional\n",
            "    This condition is broadcast over the input. At locations where the\n",
            "    condition is True, the `out` array will be set to the ufunc result.\n",
            "    Elsewhere, the `out` array will retain its original value.\n",
            "    Note that if an uninitialized `out` array is created via the default\n",
            "    ``out=None``, locations within it where the condition is False will\n",
            "    remain uninitialized.\n",
            "**kwargs\n",
            "    For other keyword-only arguments, see the\n",
            "    :ref:`ufunc docs <ufuncs.kwargs>`.\n",
            "\n",
            "Returns\n",
            "-------\n",
            "add : ndarray or scalar\n",
            "    The sum of `x1` and `x2`, element-wise.\n",
            "    This is a scalar if both `x1` and `x2` are scalars.\n",
            "\n",
            "Notes\n",
            "-----\n",
            "Equivalent to `x1` + `x2` in terms of array broadcasting.\n",
            "\n",
            "Examples\n",
            "--------\n",
            ">>> np.add(1.0, 4.0)\n",
            "5.0\n",
            ">>> x1 = np.arange(9.0).reshape((3, 3))\n",
            ">>> x2 = np.arange(3.0)\n",
            ">>> np.add(x1, x2)\n",
            "array([[  0.,   2.,   4.],\n",
            "       [  3.,   5.,   7.],\n",
            "       [  6.,   8.,  10.]])\n",
            "\n",
            "The ``+`` operator can be used as a shorthand for ``np.add`` on ndarrays.\n",
            "\n",
            ">>> x1 = np.arange(9.0).reshape((3, 3))\n",
            ">>> x2 = np.arange(3.0)\n",
            ">>> x1 + x2\n",
            "array([[ 0.,  2.,  4.],\n",
            "       [ 3.,  5.,  7.],\n",
            "       [ 6.,  8., 10.]])\n"
          ]
        }
      ]
    },
    {
      "cell_type": "markdown",
      "id": "0b16cd77",
      "metadata": {
        "id": "0b16cd77"
      },
      "source": [
        "#### 6. Shunday vekor yaratingki u o'n ikki o'lchamda va qiymatlari noldan iborat bo'lsin, lekin vektorning oltinchi qiymati 1 ga teng bo'lsin.\n",
        "\n"
      ]
    },
    {
      "cell_type": "markdown",
      "source": [
        "`💡Ishora` array[12]"
      ],
      "metadata": {
        "id": "05223560"
      },
      "id": "05223560"
    },
    {
      "cell_type": "code",
      "source": [
        "arr4 = np.zeros((12, 1, 1, 1, 1, 1, 1, 1, 1, 1, 3, 1))\n",
        "arr4[-1] = 1\n",
        "arr4"
      ],
      "metadata": {
        "id": "UJfYDNQoJc7M",
        "outputId": "a7551d6d-78ca-4d0b-ae2a-a70487650902",
        "colab": {
          "base_uri": "https://localhost:8080/"
        }
      },
      "id": "UJfYDNQoJc7M",
      "execution_count": null,
      "outputs": [
        {
          "output_type": "execute_result",
          "data": {
            "text/plain": [
              "array([[[[[[[[[[[[0.],\n",
              "                 [0.],\n",
              "                 [0.]]]]]]]]]]],\n",
              "\n",
              "\n",
              "\n",
              "\n",
              "\n",
              "\n",
              "\n",
              "\n",
              "\n",
              "\n",
              "       [[[[[[[[[[[0.],\n",
              "                 [0.],\n",
              "                 [0.]]]]]]]]]]],\n",
              "\n",
              "\n",
              "\n",
              "\n",
              "\n",
              "\n",
              "\n",
              "\n",
              "\n",
              "\n",
              "       [[[[[[[[[[[0.],\n",
              "                 [0.],\n",
              "                 [0.]]]]]]]]]]],\n",
              "\n",
              "\n",
              "\n",
              "\n",
              "\n",
              "\n",
              "\n",
              "\n",
              "\n",
              "\n",
              "       [[[[[[[[[[[0.],\n",
              "                 [0.],\n",
              "                 [0.]]]]]]]]]]],\n",
              "\n",
              "\n",
              "\n",
              "\n",
              "\n",
              "\n",
              "\n",
              "\n",
              "\n",
              "\n",
              "       [[[[[[[[[[[0.],\n",
              "                 [0.],\n",
              "                 [0.]]]]]]]]]]],\n",
              "\n",
              "\n",
              "\n",
              "\n",
              "\n",
              "\n",
              "\n",
              "\n",
              "\n",
              "\n",
              "       [[[[[[[[[[[0.],\n",
              "                 [0.],\n",
              "                 [0.]]]]]]]]]]],\n",
              "\n",
              "\n",
              "\n",
              "\n",
              "\n",
              "\n",
              "\n",
              "\n",
              "\n",
              "\n",
              "       [[[[[[[[[[[0.],\n",
              "                 [0.],\n",
              "                 [0.]]]]]]]]]]],\n",
              "\n",
              "\n",
              "\n",
              "\n",
              "\n",
              "\n",
              "\n",
              "\n",
              "\n",
              "\n",
              "       [[[[[[[[[[[0.],\n",
              "                 [0.],\n",
              "                 [0.]]]]]]]]]]],\n",
              "\n",
              "\n",
              "\n",
              "\n",
              "\n",
              "\n",
              "\n",
              "\n",
              "\n",
              "\n",
              "       [[[[[[[[[[[0.],\n",
              "                 [0.],\n",
              "                 [0.]]]]]]]]]]],\n",
              "\n",
              "\n",
              "\n",
              "\n",
              "\n",
              "\n",
              "\n",
              "\n",
              "\n",
              "\n",
              "       [[[[[[[[[[[0.],\n",
              "                 [0.],\n",
              "                 [0.]]]]]]]]]]],\n",
              "\n",
              "\n",
              "\n",
              "\n",
              "\n",
              "\n",
              "\n",
              "\n",
              "\n",
              "\n",
              "       [[[[[[[[[[[0.],\n",
              "                 [0.],\n",
              "                 [0.]]]]]]]]]]],\n",
              "\n",
              "\n",
              "\n",
              "\n",
              "\n",
              "\n",
              "\n",
              "\n",
              "\n",
              "\n",
              "       [[[[[[[[[[[1.],\n",
              "                 [1.],\n",
              "                 [1.]]]]]]]]]]]])"
            ]
          },
          "metadata": {},
          "execution_count": 116
        }
      ]
    },
    {
      "cell_type": "code",
      "source": [
        "arr4.ndim "
      ],
      "metadata": {
        "id": "4eKA0L0KDQgS",
        "outputId": "a81df2e2-63b3-49aa-8a92-50e923568536",
        "colab": {
          "base_uri": "https://localhost:8080/"
        }
      },
      "id": "4eKA0L0KDQgS",
      "execution_count": null,
      "outputs": [
        {
          "output_type": "execute_result",
          "data": {
            "text/plain": [
              "12"
            ]
          },
          "metadata": {},
          "execution_count": 112
        }
      ]
    },
    {
      "cell_type": "code",
      "source": [
        "arr4[11]"
      ],
      "metadata": {
        "id": "dCe_pP8REiWK",
        "outputId": "13c4e480-a40f-40ec-e84a-5421561eca5a",
        "colab": {
          "base_uri": "https://localhost:8080/"
        }
      },
      "id": "dCe_pP8REiWK",
      "execution_count": null,
      "outputs": [
        {
          "output_type": "execute_result",
          "data": {
            "text/plain": [
              "array([[[[[[[[[[[1.],\n",
              "                [1.],\n",
              "                [1.]]]]]]]]]]])"
            ]
          },
          "metadata": {},
          "execution_count": 121
        }
      ]
    },
    {
      "cell_type": "code",
      "source": [
        "arr4[11][0][0][0][0][0][0][0][0][0][0][0]"
      ],
      "metadata": {
        "id": "Wf2jHLPnDQmQ",
        "outputId": "547ffb8a-4154-4284-d97d-579b55cfdc85",
        "colab": {
          "base_uri": "https://localhost:8080/"
        }
      },
      "id": "Wf2jHLPnDQmQ",
      "execution_count": null,
      "outputs": [
        {
          "output_type": "execute_result",
          "data": {
            "text/plain": [
              "1.0"
            ]
          },
          "metadata": {},
          "execution_count": 122
        }
      ]
    },
    {
      "cell_type": "markdown",
      "id": "782d4c77",
      "metadata": {
        "id": "782d4c77"
      },
      "source": [
        "#### 7. Qiymatlari 20 dan 59 gacha bo'lgan vektor yarating.\n",
        "\n"
      ]
    },
    {
      "cell_type": "markdown",
      "source": [
        "`💡Ishora` arange"
      ],
      "metadata": {
        "id": "7250d114"
      },
      "id": "7250d114"
    },
    {
      "cell_type": "code",
      "source": [
        "arr5 = np.arange(20, 59)\n",
        "arr5"
      ],
      "metadata": {
        "id": "fSaWkGakJhwz",
        "outputId": "bc8537a5-a4e1-477d-fb10-33f8967464d4",
        "colab": {
          "base_uri": "https://localhost:8080/"
        }
      },
      "id": "fSaWkGakJhwz",
      "execution_count": null,
      "outputs": [
        {
          "output_type": "execute_result",
          "data": {
            "text/plain": [
              "array([20, 21, 22, 23, 24, 25, 26, 27, 28, 29, 30, 31, 32, 33, 34, 35, 36,\n",
              "       37, 38, 39, 40, 41, 42, 43, 44, 45, 46, 47, 48, 49, 50, 51, 52, 53,\n",
              "       54, 55, 56, 57, 58])"
            ]
          },
          "metadata": {},
          "execution_count": 123
        }
      ]
    },
    {
      "cell_type": "markdown",
      "id": "48d48f01",
      "metadata": {
        "id": "48d48f01"
      },
      "source": [
        "#### 8. Vektor yarating va uni teskari o'zgartiring \n",
        "(birinchi element oxirgisi bo'lsin)\n",
        "\n"
      ]
    },
    {
      "cell_type": "markdown",
      "source": [
        "`💡Ishora` array[::-1]"
      ],
      "metadata": {
        "id": "fb702ae0"
      },
      "id": "fb702ae0"
    },
    {
      "cell_type": "code",
      "source": [
        "arr6 = np.arange(20, 59)\n",
        "arr6"
      ],
      "metadata": {
        "id": "GCP6vp_WJrON",
        "outputId": "dcfcf6d5-35e6-46d5-c5e9-625b671c6b60",
        "colab": {
          "base_uri": "https://localhost:8080/"
        }
      },
      "id": "GCP6vp_WJrON",
      "execution_count": null,
      "outputs": [
        {
          "output_type": "execute_result",
          "data": {
            "text/plain": [
              "array([20, 21, 22, 23, 24, 25, 26, 27, 28, 29, 30, 31, 32, 33, 34, 35, 36,\n",
              "       37, 38, 39, 40, 41, 42, 43, 44, 45, 46, 47, 48, 49, 50, 51, 52, 53,\n",
              "       54, 55, 56, 57, 58])"
            ]
          },
          "metadata": {},
          "execution_count": 124
        }
      ]
    },
    {
      "cell_type": "code",
      "source": [
        "arr6 = arr6[::-1]\n",
        "arr6"
      ],
      "metadata": {
        "id": "8KnCv6avE7md",
        "outputId": "11f48926-0a0e-46c4-b691-0064ed75f7d5",
        "colab": {
          "base_uri": "https://localhost:8080/"
        }
      },
      "id": "8KnCv6avE7md",
      "execution_count": null,
      "outputs": [
        {
          "output_type": "execute_result",
          "data": {
            "text/plain": [
              "array([20, 21, 22, 23, 24, 25, 26, 27, 28, 29, 30, 31, 32, 33, 34, 35, 36,\n",
              "       37, 38, 39, 40, 41, 42, 43, 44, 45, 46, 47, 48, 49, 50, 51, 52, 53,\n",
              "       54, 55, 56, 57, 58])"
            ]
          },
          "metadata": {},
          "execution_count": 132
        }
      ]
    },
    {
      "cell_type": "markdown",
      "id": "4fa39382",
      "metadata": {
        "id": "4fa39382"
      },
      "source": [
        "#### 9. 12 dan 20 gacha bo'lgan qiymatlarga ega 3x3 matritsa yarating.\n"
      ]
    },
    {
      "cell_type": "markdown",
      "source": [
        "`💡Ishora` reshape"
      ],
      "metadata": {
        "id": "97e6be92"
      },
      "id": "97e6be92"
    },
    {
      "cell_type": "code",
      "source": [
        "arr7 = np.arange(12, 21)\n",
        "arr7.reshape(3, 3)"
      ],
      "metadata": {
        "id": "Ve7gEGjuJxxw",
        "outputId": "82d78378-c931-4363-fe9c-c0e771a766d3",
        "colab": {
          "base_uri": "https://localhost:8080/"
        }
      },
      "id": "Ve7gEGjuJxxw",
      "execution_count": null,
      "outputs": [
        {
          "output_type": "execute_result",
          "data": {
            "text/plain": [
              "array([[12, 13, 14],\n",
              "       [15, 16, 17],\n",
              "       [18, 19, 20]])"
            ]
          },
          "metadata": {},
          "execution_count": 146
        }
      ]
    },
    {
      "cell_type": "markdown",
      "id": "da64551a",
      "metadata": {
        "id": "da64551a"
      },
      "source": [
        "#### 10. Quyidagi matritsadan foydalanib nolga teng bo'lmagan elementlarning indekslarini toping.\n",
        "[3, 7, 0, 0, 9, 0] \n",
        "\n",
        "\n",
        "\n"
      ]
    },
    {
      "cell_type": "markdown",
      "source": [
        "`💡Ishora` np.nonzero"
      ],
      "metadata": {
        "id": "322b2b68"
      },
      "id": "322b2b68"
    },
    {
      "cell_type": "code",
      "source": [
        "arr8 = np.array([3, 7, 0, 0, 9, 0])\n",
        "arr8.nonzero()"
      ],
      "metadata": {
        "id": "fNIuSyBaJ4OP",
        "outputId": "09b69ec3-ad21-4a3e-b64c-8c15d5569c9d",
        "colab": {
          "base_uri": "https://localhost:8080/"
        }
      },
      "id": "fNIuSyBaJ4OP",
      "execution_count": null,
      "outputs": [
        {
          "output_type": "execute_result",
          "data": {
            "text/plain": [
              "(array([0, 1, 4]),)"
            ]
          },
          "metadata": {},
          "execution_count": 148
        }
      ]
    },
    {
      "cell_type": "markdown",
      "id": "f89d9c9e",
      "metadata": {
        "id": "f89d9c9e"
      },
      "source": [
        "#### 11. Tasodifiy qiymatlar bilan 2x2x2 o'lchovidagi massiv yarating.\n"
      ]
    },
    {
      "cell_type": "markdown",
      "source": [
        "`💡Ishora` np.random.random"
      ],
      "metadata": {
        "id": "5717e1c1"
      },
      "id": "5717e1c1"
    },
    {
      "cell_type": "code",
      "source": [
        "arr9 = np.random.random((2, 2, 2))\n",
        "arr9"
      ],
      "metadata": {
        "id": "bHloeqHOKuiX",
        "outputId": "ac9faea6-e5ef-40a7-b08b-ee499e7830f3",
        "colab": {
          "base_uri": "https://localhost:8080/"
        }
      },
      "id": "bHloeqHOKuiX",
      "execution_count": null,
      "outputs": [
        {
          "output_type": "execute_result",
          "data": {
            "text/plain": [
              "array([[[0.98092039, 0.83948824],\n",
              "        [0.57810331, 0.58956864]],\n",
              "\n",
              "       [[0.44706477, 0.17486051],\n",
              "        [0.91325019, 0.27353199]]])"
            ]
          },
          "metadata": {},
          "execution_count": 150
        }
      ]
    },
    {
      "cell_type": "code",
      "source": [
        "arr9.ndim"
      ],
      "metadata": {
        "id": "padZTt7CHOXc",
        "outputId": "eaac4083-bc71-4451-b016-104a3f511c9c",
        "colab": {
          "base_uri": "https://localhost:8080/"
        }
      },
      "id": "padZTt7CHOXc",
      "execution_count": null,
      "outputs": [
        {
          "output_type": "execute_result",
          "data": {
            "text/plain": [
              "3"
            ]
          },
          "metadata": {},
          "execution_count": 151
        }
      ]
    },
    {
      "cell_type": "markdown",
      "id": "13c5928c",
      "metadata": {
        "id": "13c5928c"
      },
      "source": [
        "#### 12. Tasodifiy sonlardan tashkil topgan 9X9 o'lchamidagi massiv yarating. So'ng uning eng katta va eng kichik qiymatlarini toping\n"
      ]
    },
    {
      "cell_type": "markdown",
      "source": [
        "`💡Ishora` min, max"
      ],
      "metadata": {
        "id": "0ede4d26"
      },
      "id": "0ede4d26"
    },
    {
      "cell_type": "code",
      "source": [
        "arr10 = np.random.random((9, 9))\n",
        "arr10"
      ],
      "metadata": {
        "id": "OJiVa5K9LJyb",
        "outputId": "04f1f9cb-67a2-48ea-f7bd-73b2489fc62a",
        "colab": {
          "base_uri": "https://localhost:8080/"
        }
      },
      "id": "OJiVa5K9LJyb",
      "execution_count": null,
      "outputs": [
        {
          "output_type": "execute_result",
          "data": {
            "text/plain": [
              "array([[0.90679453, 0.13487861, 0.47527604, 0.48774652, 0.25889395,\n",
              "        0.21434383, 0.80288018, 0.26160123, 0.30175507],\n",
              "       [0.79771458, 0.04346707, 0.33231274, 0.87256274, 0.10265581,\n",
              "        0.75875048, 0.3182462 , 0.69687175, 0.1579175 ],\n",
              "       [0.71060292, 0.65914249, 0.37144406, 0.46969669, 0.1896354 ,\n",
              "        0.81514861, 0.27817292, 0.50388874, 0.15616507],\n",
              "       [0.78839903, 0.6191495 , 0.24704499, 0.27765187, 0.82645446,\n",
              "        0.87827275, 0.04198713, 0.6298117 , 0.3197005 ],\n",
              "       [0.13044357, 0.81198511, 0.00993993, 0.44806241, 0.33978346,\n",
              "        0.66613198, 0.22452503, 0.89625337, 0.1131663 ],\n",
              "       [0.65273041, 0.27816594, 0.15951598, 0.96509284, 0.19589063,\n",
              "        0.06448047, 0.67523951, 0.41361391, 0.3579297 ],\n",
              "       [0.67357761, 0.03833371, 0.21110902, 0.89203949, 0.58338599,\n",
              "        0.99305793, 0.42045011, 0.33996071, 0.04692796],\n",
              "       [0.08133432, 0.13080302, 0.02026745, 0.94298803, 0.46547851,\n",
              "        0.46263897, 0.30891932, 0.36131425, 0.30443698],\n",
              "       [0.2603463 , 0.16320837, 0.60423777, 0.7330182 , 0.61451761,\n",
              "        0.89657762, 0.84748982, 0.47535001, 0.18521864]])"
            ]
          },
          "metadata": {},
          "execution_count": 152
        }
      ]
    },
    {
      "cell_type": "code",
      "source": [
        "arr10.shape"
      ],
      "metadata": {
        "id": "nTGUHwqYHhkN",
        "outputId": "494f0382-3648-46cb-9eaa-71b239046848",
        "colab": {
          "base_uri": "https://localhost:8080/"
        }
      },
      "id": "nTGUHwqYHhkN",
      "execution_count": null,
      "outputs": [
        {
          "output_type": "execute_result",
          "data": {
            "text/plain": [
              "(9, 9)"
            ]
          },
          "metadata": {},
          "execution_count": 155
        }
      ]
    },
    {
      "cell_type": "code",
      "source": [
        "arr10.min() #The smallest value"
      ],
      "metadata": {
        "id": "sos5OQpKHhn0",
        "outputId": "06f29ee0-8e92-4962-f4f2-04d6347808ea",
        "colab": {
          "base_uri": "https://localhost:8080/"
        }
      },
      "id": "sos5OQpKHhn0",
      "execution_count": null,
      "outputs": [
        {
          "output_type": "execute_result",
          "data": {
            "text/plain": [
              "0.009939925414455764"
            ]
          },
          "metadata": {},
          "execution_count": 161
        }
      ]
    },
    {
      "cell_type": "code",
      "source": [
        "arr10.max() #The bigest value "
      ],
      "metadata": {
        "id": "ATMLloIOHqav",
        "outputId": "56fe294b-09e3-43fe-d4ac-c8f2ed5c89c6",
        "colab": {
          "base_uri": "https://localhost:8080/"
        }
      },
      "id": "ATMLloIOHqav",
      "execution_count": null,
      "outputs": [
        {
          "output_type": "execute_result",
          "data": {
            "text/plain": [
              "0.9930579265905426"
            ]
          },
          "metadata": {},
          "execution_count": 160
        }
      ]
    },
    {
      "cell_type": "markdown",
      "id": "3fa2e461",
      "metadata": {
        "id": "3fa2e461"
      },
      "source": [
        "#### 13. Quyidagi misol qanday natija beradi?\n",
        "\n",
        "\n",
        "```python\n",
        "0 * np.nan\n",
        "np.nan == np.nan\n",
        "np.inf > np.nan\n",
        "np.nan - np.nan\n",
        "np.nan in set([np.nan])\n",
        "0.7 == 7 * 0.1\n",
        "```\n"
      ]
    },
    {
      "cell_type": "markdown",
      "source": [
        "`💡Ishora` NaN = not a number, inf = infinity"
      ],
      "metadata": {
        "id": "c0048e59"
      },
      "id": "c0048e59"
    },
    {
      "cell_type": "code",
      "source": [
        "0 * np.nan"
      ],
      "metadata": {
        "id": "Thbqd_RCLf_e",
        "outputId": "683b8c0d-7e6d-46c2-9e44-6083b6620268",
        "colab": {
          "base_uri": "https://localhost:8080/"
        }
      },
      "id": "Thbqd_RCLf_e",
      "execution_count": null,
      "outputs": [
        {
          "output_type": "execute_result",
          "data": {
            "text/plain": [
              "nan"
            ]
          },
          "metadata": {},
          "execution_count": 163
        }
      ]
    },
    {
      "cell_type": "code",
      "source": [
        "np.nan == np.nan"
      ],
      "metadata": {
        "id": "6eWRamaZJLFj",
        "outputId": "f83d21ea-0f18-4cd2-bd25-6020fef89ca3",
        "colab": {
          "base_uri": "https://localhost:8080/"
        }
      },
      "id": "6eWRamaZJLFj",
      "execution_count": null,
      "outputs": [
        {
          "output_type": "execute_result",
          "data": {
            "text/plain": [
              "False"
            ]
          },
          "metadata": {},
          "execution_count": 164
        }
      ]
    },
    {
      "cell_type": "code",
      "source": [
        "np.inf > np.nan"
      ],
      "metadata": {
        "id": "u3mr_rewJLJt",
        "outputId": "fcad4c43-9fa7-416b-ae37-587e99ea1c57",
        "colab": {
          "base_uri": "https://localhost:8080/"
        }
      },
      "id": "u3mr_rewJLJt",
      "execution_count": null,
      "outputs": [
        {
          "output_type": "execute_result",
          "data": {
            "text/plain": [
              "False"
            ]
          },
          "metadata": {},
          "execution_count": 165
        }
      ]
    },
    {
      "cell_type": "code",
      "source": [
        "np.nan - np.nan"
      ],
      "metadata": {
        "id": "AjBlRN2fJcoj",
        "outputId": "c91e584d-3188-4ccc-b75e-ea1f18e76ddc",
        "colab": {
          "base_uri": "https://localhost:8080/"
        }
      },
      "id": "AjBlRN2fJcoj",
      "execution_count": null,
      "outputs": [
        {
          "output_type": "execute_result",
          "data": {
            "text/plain": [
              "nan"
            ]
          },
          "metadata": {},
          "execution_count": 166
        }
      ]
    },
    {
      "cell_type": "code",
      "source": [
        "np.nan in set([np.nan])"
      ],
      "metadata": {
        "id": "96XnxG46Jcrp",
        "outputId": "5c902bf6-7722-4527-ede1-7d57aedbf7dc",
        "colab": {
          "base_uri": "https://localhost:8080/"
        }
      },
      "id": "96XnxG46Jcrp",
      "execution_count": null,
      "outputs": [
        {
          "output_type": "execute_result",
          "data": {
            "text/plain": [
              "True"
            ]
          },
          "metadata": {},
          "execution_count": 171
        }
      ]
    },
    {
      "cell_type": "code",
      "source": [
        "0.7 == 7 * 0.1"
      ],
      "metadata": {
        "id": "QzRyKdvzJcv0",
        "outputId": "551ed004-ac1c-4f52-cd8a-c8ae3b96645e",
        "colab": {
          "base_uri": "https://localhost:8080/"
        }
      },
      "id": "QzRyKdvzJcv0",
      "execution_count": null,
      "outputs": [
        {
          "output_type": "execute_result",
          "data": {
            "text/plain": [
              "False"
            ]
          },
          "metadata": {},
          "execution_count": 173
        }
      ]
    },
    {
      "cell_type": "code",
      "source": [
        "7 * 0.1"
      ],
      "metadata": {
        "id": "fVRXpvaLKFNi",
        "outputId": "52560c1f-63bf-420a-b56e-1a3150603b33",
        "colab": {
          "base_uri": "https://localhost:8080/"
        }
      },
      "id": "fVRXpvaLKFNi",
      "execution_count": null,
      "outputs": [
        {
          "output_type": "execute_result",
          "data": {
            "text/plain": [
              "0.7000000000000001"
            ]
          },
          "metadata": {},
          "execution_count": 175
        }
      ]
    },
    {
      "cell_type": "markdown",
      "id": "73f7a549",
      "metadata": {
        "id": "73f7a549"
      },
      "source": [
        "#### 14. O'lchamlari 6x3 va 3x4 bo'lgan martitsa yarating, so'ng ularning  ko'paytmasini hisoblang.\n",
        "\n"
      ]
    },
    {
      "cell_type": "markdown",
      "source": [
        "`💡Ishora` np.dot` or `np.ones"
      ],
      "metadata": {
        "id": "351ff928"
      },
      "id": "351ff928"
    },
    {
      "cell_type": "code",
      "source": [
        "arr11 = np.ones([6, 3])\n",
        "arr11"
      ],
      "metadata": {
        "id": "e_5QUFcPLtVX",
        "outputId": "dfc36ef0-4403-4b23-9272-5f9489772318",
        "colab": {
          "base_uri": "https://localhost:8080/"
        }
      },
      "id": "e_5QUFcPLtVX",
      "execution_count": null,
      "outputs": [
        {
          "output_type": "execute_result",
          "data": {
            "text/plain": [
              "array([[1., 1., 1.],\n",
              "       [1., 1., 1.],\n",
              "       [1., 1., 1.],\n",
              "       [1., 1., 1.],\n",
              "       [1., 1., 1.],\n",
              "       [1., 1., 1.]])"
            ]
          },
          "metadata": {},
          "execution_count": 177
        }
      ]
    },
    {
      "cell_type": "code",
      "source": [
        "arr12 = np.ones([3, 4])\n",
        "arr12 "
      ],
      "metadata": {
        "id": "zA2lGtOiKgAU",
        "outputId": "9fc5a248-a36b-4456-95d7-db000d6120ee",
        "colab": {
          "base_uri": "https://localhost:8080/"
        }
      },
      "id": "zA2lGtOiKgAU",
      "execution_count": null,
      "outputs": [
        {
          "output_type": "execute_result",
          "data": {
            "text/plain": [
              "array([[1., 1., 1., 1.],\n",
              "       [1., 1., 1., 1.],\n",
              "       [1., 1., 1., 1.]])"
            ]
          },
          "metadata": {},
          "execution_count": 178
        }
      ]
    },
    {
      "cell_type": "code",
      "source": [
        "arr13 = np.dot(arr11, arr12)\n",
        "arr13"
      ],
      "metadata": {
        "id": "6JRtecuCKgC5",
        "outputId": "965a13f5-c850-4535-d7da-4f2f83c96fb2",
        "colab": {
          "base_uri": "https://localhost:8080/"
        }
      },
      "id": "6JRtecuCKgC5",
      "execution_count": null,
      "outputs": [
        {
          "output_type": "execute_result",
          "data": {
            "text/plain": [
              "array([[3., 3., 3., 3.],\n",
              "       [3., 3., 3., 3.],\n",
              "       [3., 3., 3., 3.],\n",
              "       [3., 3., 3., 3.],\n",
              "       [3., 3., 3., 3.],\n",
              "       [3., 3., 3., 3.]])"
            ]
          },
          "metadata": {},
          "execution_count": 182
        }
      ]
    },
    {
      "cell_type": "code",
      "source": [],
      "metadata": {
        "id": "NEzWzKmDKgGB"
      },
      "id": "NEzWzKmDKgGB",
      "execution_count": null,
      "outputs": []
    },
    {
      "cell_type": "markdown",
      "id": "6d0c506f",
      "metadata": {
        "id": "6d0c506f"
      },
      "source": [
        "#### 15. Quyidagi misol qanday natija beradi?\n",
        "\n",
        "```python\n",
        "print(sum(range(5),-1))\n",
        "from numpy import *\n",
        "print(sum(range(5),-1))\n",
        "```"
      ]
    },
    {
      "cell_type": "code",
      "execution_count": null,
      "id": "c1cc1143",
      "metadata": {
        "id": "c1cc1143",
        "outputId": "eef027b9-6494-417a-dd48-745a20663431",
        "colab": {
          "base_uri": "https://localhost:8080/"
        }
      },
      "outputs": [
        {
          "output_type": "execute_result",
          "data": {
            "text/plain": [
              "9"
            ]
          },
          "metadata": {},
          "execution_count": 187
        }
      ],
      "source": [
        "sum(range(5), -1)"
      ]
    },
    {
      "cell_type": "code",
      "source": [
        "sum(range(5))"
      ],
      "metadata": {
        "id": "SrWYiO0ELJfJ",
        "outputId": "90165004-fcf8-419b-c34c-950c66185919",
        "colab": {
          "base_uri": "https://localhost:8080/"
        }
      },
      "id": "SrWYiO0ELJfJ",
      "execution_count": null,
      "outputs": [
        {
          "output_type": "execute_result",
          "data": {
            "text/plain": [
              "10"
            ]
          },
          "metadata": {},
          "execution_count": 188
        }
      ]
    },
    {
      "cell_type": "code",
      "source": [
        "list(range(5))"
      ],
      "metadata": {
        "id": "KdvM0QDoLJkk",
        "outputId": "b2ae5ef4-4fa6-49f8-d8f0-4e361192ae78",
        "colab": {
          "base_uri": "https://localhost:8080/"
        }
      },
      "id": "KdvM0QDoLJkk",
      "execution_count": null,
      "outputs": [
        {
          "output_type": "execute_result",
          "data": {
            "text/plain": [
              "[0, 1, 2, 3, 4]"
            ]
          },
          "metadata": {},
          "execution_count": 189
        }
      ]
    },
    {
      "cell_type": "code",
      "source": [
        "from numpy import *"
      ],
      "metadata": {
        "id": "Q9w5R3IRLJuO"
      },
      "id": "Q9w5R3IRLJuO",
      "execution_count": null,
      "outputs": []
    },
    {
      "cell_type": "code",
      "source": [
        "sum(range(5), -1)"
      ],
      "metadata": {
        "id": "kMmc5N8PL2EQ",
        "outputId": "4ebeadac-f4b0-48a5-dcab-3b147b6c0860",
        "colab": {
          "base_uri": "https://localhost:8080/"
        }
      },
      "id": "kMmc5N8PL2EQ",
      "execution_count": null,
      "outputs": [
        {
          "output_type": "execute_result",
          "data": {
            "text/plain": [
              "10"
            ]
          },
          "metadata": {},
          "execution_count": 191
        }
      ]
    },
    {
      "cell_type": "code",
      "source": [
        "sum(range(5))"
      ],
      "metadata": {
        "id": "b5hSAUk2L2IY",
        "outputId": "f6984392-a6cb-4016-f5b1-a19b0be0305d",
        "colab": {
          "base_uri": "https://localhost:8080/"
        }
      },
      "id": "b5hSAUk2L2IY",
      "execution_count": null,
      "outputs": [
        {
          "output_type": "execute_result",
          "data": {
            "text/plain": [
              "10"
            ]
          },
          "metadata": {},
          "execution_count": 192
        }
      ]
    },
    {
      "cell_type": "code",
      "source": [
        "list(range(5))"
      ],
      "metadata": {
        "id": "n973jquRMB3g",
        "outputId": "076962c0-c751-43de-df6b-bb89f806b780",
        "colab": {
          "base_uri": "https://localhost:8080/"
        }
      },
      "id": "n973jquRMB3g",
      "execution_count": null,
      "outputs": [
        {
          "output_type": "execute_result",
          "data": {
            "text/plain": [
              "[0, 1, 2, 3, 4]"
            ]
          },
          "metadata": {},
          "execution_count": 193
        }
      ]
    },
    {
      "cell_type": "markdown",
      "id": "d6ad1a9f",
      "metadata": {
        "id": "d6ad1a9f"
      },
      "source": [
        "#### 16. NumPy kutubxonasi yordamida ikkita massivni solishtiring va ular usida quyidagi amallarni bajaring.\n",
        "\n",
        "```python\n",
        "Array a: [1 2]\n",
        "Array b: [4 5]\n",
        "a > b \n",
        "[False False]\n",
        "a >= b \n",
        "[False False] \n",
        "a < b \n",
        "[ True True] \n",
        "a <= b \n",
        "[ True True]\n",
        "```"
      ]
    },
    {
      "cell_type": "code",
      "execution_count": null,
      "id": "7ba3c441",
      "metadata": {
        "id": "7ba3c441"
      },
      "outputs": [],
      "source": [
        "a = np.array([1, 2])\n",
        "b = np.array([4, 5])"
      ]
    },
    {
      "cell_type": "code",
      "source": [
        "a"
      ],
      "metadata": {
        "id": "mI220OS8Mg9w",
        "outputId": "7d2dd35f-135d-497c-9d60-0b0d2a527378",
        "colab": {
          "base_uri": "https://localhost:8080/"
        }
      },
      "id": "mI220OS8Mg9w",
      "execution_count": null,
      "outputs": [
        {
          "output_type": "execute_result",
          "data": {
            "text/plain": [
              "array([1, 2])"
            ]
          },
          "metadata": {},
          "execution_count": 195
        }
      ]
    },
    {
      "cell_type": "code",
      "source": [
        "b"
      ],
      "metadata": {
        "id": "6H_1oCo7MhBY",
        "outputId": "03c49151-3cbb-4f9e-8a99-b04aeacef447",
        "colab": {
          "base_uri": "https://localhost:8080/"
        }
      },
      "id": "6H_1oCo7MhBY",
      "execution_count": null,
      "outputs": [
        {
          "output_type": "execute_result",
          "data": {
            "text/plain": [
              "array([4, 5])"
            ]
          },
          "metadata": {},
          "execution_count": 196
        }
      ]
    },
    {
      "cell_type": "code",
      "source": [
        "a > b"
      ],
      "metadata": {
        "id": "iCI8BQLDMhEi",
        "outputId": "79f1d9b9-5c61-4166-f9cd-c187b34e34af",
        "colab": {
          "base_uri": "https://localhost:8080/"
        }
      },
      "id": "iCI8BQLDMhEi",
      "execution_count": null,
      "outputs": [
        {
          "output_type": "execute_result",
          "data": {
            "text/plain": [
              "array([False, False])"
            ]
          },
          "metadata": {},
          "execution_count": 197
        }
      ]
    },
    {
      "cell_type": "code",
      "source": [
        "a >= b"
      ],
      "metadata": {
        "id": "ZttiLqH_MhI8",
        "outputId": "f8b4e971-fc42-4189-f3da-469425063648",
        "colab": {
          "base_uri": "https://localhost:8080/"
        }
      },
      "id": "ZttiLqH_MhI8",
      "execution_count": null,
      "outputs": [
        {
          "output_type": "execute_result",
          "data": {
            "text/plain": [
              "array([False, False])"
            ]
          },
          "metadata": {},
          "execution_count": 199
        }
      ]
    },
    {
      "cell_type": "code",
      "source": [
        "a < b"
      ],
      "metadata": {
        "id": "THnP6b1-MrSZ",
        "outputId": "1ae8d0fe-27b6-42c3-9c37-346451d67430",
        "colab": {
          "base_uri": "https://localhost:8080/"
        }
      },
      "id": "THnP6b1-MrSZ",
      "execution_count": null,
      "outputs": [
        {
          "output_type": "execute_result",
          "data": {
            "text/plain": [
              "array([ True,  True])"
            ]
          },
          "metadata": {},
          "execution_count": 200
        }
      ]
    },
    {
      "cell_type": "code",
      "source": [
        "a <= b"
      ],
      "metadata": {
        "id": "EDTNm30rMrYX",
        "outputId": "e8cb1d2f-27a4-43ef-c453-580a5eff4cb3",
        "colab": {
          "base_uri": "https://localhost:8080/"
        }
      },
      "id": "EDTNm30rMrYX",
      "execution_count": null,
      "outputs": [
        {
          "output_type": "execute_result",
          "data": {
            "text/plain": [
              "array([ True,  True])"
            ]
          },
          "metadata": {},
          "execution_count": 201
        }
      ]
    },
    {
      "cell_type": "markdown",
      "id": "e3a7ba7f",
      "metadata": {
        "id": "e3a7ba7f"
      },
      "source": [
        "#### 17. Quyidagi misol qanday natija beradi?\n",
        "\n",
        "```python\n",
        "np.array(0) / np.array(0)\n",
        "np.array(0) // np.array(0)\n",
        "np.array([np.nan]).astype(int).astype(float)\n",
        "```"
      ]
    },
    {
      "cell_type": "code",
      "execution_count": null,
      "id": "b874734e",
      "metadata": {
        "id": "b874734e",
        "outputId": "373b68d6-132d-4ad2-8b82-61894b0fc7b1",
        "colab": {
          "base_uri": "https://localhost:8080/"
        }
      },
      "outputs": [
        {
          "output_type": "execute_result",
          "data": {
            "text/plain": [
              "array(0)"
            ]
          },
          "metadata": {},
          "execution_count": 203
        }
      ],
      "source": [
        "np.array(0)"
      ]
    },
    {
      "cell_type": "code",
      "source": [
        "np.array(0) / np.array(0)"
      ],
      "metadata": {
        "id": "f0tgjhipM6wK",
        "outputId": "0485fe88-b735-49e9-e990-53b4b26b2a2b",
        "colab": {
          "base_uri": "https://localhost:8080/"
        }
      },
      "id": "f0tgjhipM6wK",
      "execution_count": null,
      "outputs": [
        {
          "output_type": "stream",
          "name": "stderr",
          "text": [
            "<ipython-input-204-3585dcb7ab9b>:1: RuntimeWarning: invalid value encountered in true_divide\n",
            "  np.array(0) / np.array(0)\n"
          ]
        },
        {
          "output_type": "execute_result",
          "data": {
            "text/plain": [
              "nan"
            ]
          },
          "metadata": {},
          "execution_count": 204
        }
      ]
    },
    {
      "cell_type": "code",
      "source": [
        "np.array(0) // np.array(0)"
      ],
      "metadata": {
        "id": "kICjsFsFM6zB",
        "outputId": "5ffc6ac6-e540-4d62-d8cf-9b68dc5205c6",
        "colab": {
          "base_uri": "https://localhost:8080/"
        }
      },
      "id": "kICjsFsFM6zB",
      "execution_count": null,
      "outputs": [
        {
          "output_type": "stream",
          "name": "stderr",
          "text": [
            "<ipython-input-205-4764261090d0>:1: RuntimeWarning: divide by zero encountered in floor_divide\n",
            "  np.array(0) // np.array(0)\n"
          ]
        },
        {
          "output_type": "execute_result",
          "data": {
            "text/plain": [
              "0"
            ]
          },
          "metadata": {},
          "execution_count": 205
        }
      ]
    },
    {
      "cell_type": "code",
      "source": [
        "np.array([np.nan])"
      ],
      "metadata": {
        "id": "CVvTqPt-M61G",
        "outputId": "e6cb8b77-675b-4fd1-8f04-a75e85dab3df",
        "colab": {
          "base_uri": "https://localhost:8080/"
        }
      },
      "id": "CVvTqPt-M61G",
      "execution_count": null,
      "outputs": [
        {
          "output_type": "execute_result",
          "data": {
            "text/plain": [
              "array([nan])"
            ]
          },
          "metadata": {},
          "execution_count": 211
        }
      ]
    },
    {
      "cell_type": "code",
      "source": [
        "np.array([np.nan]).astype(int)"
      ],
      "metadata": {
        "id": "fLY7MeVIM63-",
        "outputId": "ee68cd7a-3021-4e0a-a3d5-ba55a6d78452",
        "colab": {
          "base_uri": "https://localhost:8080/"
        }
      },
      "id": "fLY7MeVIM63-",
      "execution_count": null,
      "outputs": [
        {
          "output_type": "execute_result",
          "data": {
            "text/plain": [
              "array([-9223372036854775808])"
            ]
          },
          "metadata": {},
          "execution_count": 212
        }
      ]
    },
    {
      "cell_type": "code",
      "source": [
        "np.array([np.nan]).astype(int).astype(float)"
      ],
      "metadata": {
        "id": "dzIe9SWcNoLY",
        "outputId": "1404a781-1b68-48f8-b283-f7e99cca82d7",
        "colab": {
          "base_uri": "https://localhost:8080/"
        }
      },
      "id": "dzIe9SWcNoLY",
      "execution_count": null,
      "outputs": [
        {
          "output_type": "execute_result",
          "data": {
            "text/plain": [
              "array([-9.22337204e+18])"
            ]
          },
          "metadata": {},
          "execution_count": 213
        }
      ]
    },
    {
      "cell_type": "code",
      "source": [],
      "metadata": {
        "id": "WE3FDiXzNoPA"
      },
      "id": "WE3FDiXzNoPA",
      "execution_count": null,
      "outputs": []
    },
    {
      "cell_type": "code",
      "source": [],
      "metadata": {
        "id": "cifGHAhQNoSJ"
      },
      "id": "cifGHAhQNoSJ",
      "execution_count": null,
      "outputs": []
    },
    {
      "cell_type": "markdown",
      "id": "6d17ab5d",
      "metadata": {
        "id": "6d17ab5d"
      },
      "source": [
        "#### 18. Ikkita massiv yarating va ular orasidagi umumiy qiymatlarni toping\n"
      ]
    },
    {
      "cell_type": "markdown",
      "source": [
        "`💡Ishora` np.intersect1d"
      ],
      "metadata": {
        "id": "4c4e2c5e"
      },
      "id": "4c4e2c5e"
    },
    {
      "cell_type": "code",
      "source": [
        "arr1 = np.array([1, 1, 1, 2, 3, 3, 3, 3, 4, 4])\n",
        "arr1"
      ],
      "metadata": {
        "id": "Dxz5P8WpMeAP",
        "outputId": "3d8e54dc-fae3-47da-fc66-46ee38f147d5",
        "colab": {
          "base_uri": "https://localhost:8080/"
        }
      },
      "id": "Dxz5P8WpMeAP",
      "execution_count": null,
      "outputs": [
        {
          "output_type": "execute_result",
          "data": {
            "text/plain": [
              "array([1, 1, 1, 2, 3, 3, 3, 3, 4, 4])"
            ]
          },
          "metadata": {},
          "execution_count": 222
        }
      ]
    },
    {
      "cell_type": "code",
      "source": [
        "arr2 = np.array([1, 3, 10, 11, 12, 13])\n",
        "arr2"
      ],
      "metadata": {
        "id": "T8lK3uDuOPRP",
        "outputId": "7a632206-f35b-4496-c81a-4dd54e231262",
        "colab": {
          "base_uri": "https://localhost:8080/"
        }
      },
      "id": "T8lK3uDuOPRP",
      "execution_count": null,
      "outputs": [
        {
          "output_type": "execute_result",
          "data": {
            "text/plain": [
              "array([ 1,  3, 10, 11, 12, 13])"
            ]
          },
          "metadata": {},
          "execution_count": 223
        }
      ]
    },
    {
      "cell_type": "code",
      "source": [
        "np.intersect1d(arr1, arr2)"
      ],
      "metadata": {
        "id": "EAUuwliEOPUG",
        "outputId": "ceec3fdc-4622-42af-db5d-379911ec593e",
        "colab": {
          "base_uri": "https://localhost:8080/"
        }
      },
      "id": "EAUuwliEOPUG",
      "execution_count": null,
      "outputs": [
        {
          "output_type": "execute_result",
          "data": {
            "text/plain": [
              "array([1, 3])"
            ]
          },
          "metadata": {},
          "execution_count": 224
        }
      ]
    },
    {
      "cell_type": "markdown",
      "id": "8837119b",
      "metadata": {
        "id": "8837119b"
      },
      "source": [
        "#### 19. Tasodifiy sonlardan iborat bo'lgan massiv yarating, so'ng ularni quyida berilgan 4 xil usul yordamida musbat sonlarning butun qismini ajratib oling."
      ]
    },
    {
      "cell_type": "markdown",
      "source": [
        "`💡Ishora` %, np.floor, astype, np.trunc"
      ],
      "metadata": {
        "id": "2b05c544"
      },
      "id": "2b05c544"
    },
    {
      "cell_type": "code",
      "source": [
        "arr = np.random.randn(10)\n",
        "arr"
      ],
      "metadata": {
        "id": "jc6wN5WWMpS3",
        "outputId": "53d00530-bb6b-4ec8-e445-ae22986d09ce",
        "colab": {
          "base_uri": "https://localhost:8080/"
        }
      },
      "id": "jc6wN5WWMpS3",
      "execution_count": null,
      "outputs": [
        {
          "output_type": "execute_result",
          "data": {
            "text/plain": [
              "array([ 0.21532898, -0.20621154, -0.05244675, -0.43072105, -0.00911224,\n",
              "       -0.84192494,  1.43943501,  0.80542618, -1.65771519,  0.07808573])"
            ]
          },
          "metadata": {},
          "execution_count": 239
        }
      ]
    },
    {
      "cell_type": "code",
      "source": [
        "arr.astype(int)"
      ],
      "metadata": {
        "id": "p8BZqp3uTek9",
        "outputId": "9e3afd0a-89e9-4db0-e32d-0b003a5069a3",
        "colab": {
          "base_uri": "https://localhost:8080/"
        }
      },
      "id": "p8BZqp3uTek9",
      "execution_count": null,
      "outputs": [
        {
          "output_type": "execute_result",
          "data": {
            "text/plain": [
              "array([ 0,  0,  0,  0,  0,  0,  1,  0, -1,  0])"
            ]
          },
          "metadata": {},
          "execution_count": 240
        }
      ]
    },
    {
      "cell_type": "code",
      "source": [
        "np.trunc(arr)"
      ],
      "metadata": {
        "id": "B59FgAdNTeoD",
        "outputId": "a32b6361-21b1-4cab-be9a-6ce884e18ca3",
        "colab": {
          "base_uri": "https://localhost:8080/"
        }
      },
      "id": "B59FgAdNTeoD",
      "execution_count": null,
      "outputs": [
        {
          "output_type": "execute_result",
          "data": {
            "text/plain": [
              "array([ 0., -0., -0., -0., -0., -0.,  1.,  0., -1.,  0.])"
            ]
          },
          "metadata": {},
          "execution_count": 241
        }
      ]
    },
    {
      "cell_type": "code",
      "source": [
        "np.floor(arr)"
      ],
      "metadata": {
        "id": "UKCHhFo1Ter_",
        "outputId": "5300a909-c30e-497f-d4d7-6af6a0cd6cbc",
        "colab": {
          "base_uri": "https://localhost:8080/"
        }
      },
      "id": "UKCHhFo1Ter_",
      "execution_count": null,
      "outputs": [
        {
          "output_type": "execute_result",
          "data": {
            "text/plain": [
              "array([ 0., -1., -1., -1., -1., -1.,  1.,  0., -2.,  0.])"
            ]
          },
          "metadata": {},
          "execution_count": 242
        }
      ]
    },
    {
      "cell_type": "code",
      "source": [
        "arr - arr % 1 "
      ],
      "metadata": {
        "id": "JP7c61uoVpZK",
        "outputId": "13bbbcd2-385c-47b1-9794-ad41385ec5dc",
        "colab": {
          "base_uri": "https://localhost:8080/"
        }
      },
      "id": "JP7c61uoVpZK",
      "execution_count": null,
      "outputs": [
        {
          "output_type": "execute_result",
          "data": {
            "text/plain": [
              "array([ 0., -1., -1., -1., -1., -1.,  1.,  0., -2.,  0.])"
            ]
          },
          "metadata": {},
          "execution_count": 244
        }
      ]
    },
    {
      "cell_type": "markdown",
      "id": "ec788c9f",
      "metadata": {
        "id": "ec788c9f"
      },
      "source": [
        "#### 20. O'lchovlari 3x3 matritsa yarating, ularning qator qiymatlari 0 dan 2 gacha bo'lsin.\n",
        "\n"
      ]
    },
    {
      "cell_type": "markdown",
      "source": [
        "`💡Ishora` np.arange"
      ],
      "metadata": {
        "id": "c3980b2c"
      },
      "id": "c3980b2c"
    },
    {
      "cell_type": "code",
      "source": [
        "arr = np.arange(0, 3)\n",
        "np.array([arr, arr, arr])"
      ],
      "metadata": {
        "id": "ycz3jw4bM0Xk",
        "outputId": "7cbf5f1d-8134-40ee-8fe9-5ef1a5f91bbc",
        "colab": {
          "base_uri": "https://localhost:8080/"
        }
      },
      "id": "ycz3jw4bM0Xk",
      "execution_count": null,
      "outputs": [
        {
          "output_type": "execute_result",
          "data": {
            "text/plain": [
              "array([[0, 1, 2],\n",
              "       [0, 1, 2],\n",
              "       [0, 1, 2]])"
            ]
          },
          "metadata": {},
          "execution_count": 255
        }
      ]
    },
    {
      "cell_type": "code",
      "source": [
        "np.array([arr, arr, arr]).shape "
      ],
      "metadata": {
        "id": "a3nIMzz_YBhx",
        "outputId": "7e737fb6-2307-4d2e-bae0-b89d0514072e",
        "colab": {
          "base_uri": "https://localhost:8080/"
        }
      },
      "id": "a3nIMzz_YBhx",
      "execution_count": null,
      "outputs": [
        {
          "output_type": "execute_result",
          "data": {
            "text/plain": [
              "(3, 3)"
            ]
          },
          "metadata": {},
          "execution_count": 256
        }
      ]
    },
    {
      "cell_type": "markdown",
      "id": "391791e0",
      "metadata": {
        "id": "391791e0"
      },
      "source": [
        "#### 21. O'chamlari 10 bo'lgan tasodifiy vektor yarating va uni o'sish tartibida chiqaruvchi dastur tuzing.\n",
        "\n"
      ]
    },
    {
      "cell_type": "markdown",
      "source": [
        "`💡Ishora` sort"
      ],
      "metadata": {
        "id": "ada71c06"
      },
      "id": "ada71c06"
    },
    {
      "cell_type": "code",
      "source": [
        "arr = np.random.randn(10)\n",
        "arr"
      ],
      "metadata": {
        "id": "TPMqaavROM7g",
        "outputId": "40c9016b-5757-40fb-c7d0-85db83bee384",
        "colab": {
          "base_uri": "https://localhost:8080/"
        }
      },
      "id": "TPMqaavROM7g",
      "execution_count": null,
      "outputs": [
        {
          "output_type": "execute_result",
          "data": {
            "text/plain": [
              "array([ 1.24351609, -0.03959992,  0.02598997,  0.68507366, -0.512127  ,\n",
              "       -1.9528914 ,  0.5183842 , -0.13454805,  0.13390126,  1.38870847])"
            ]
          },
          "metadata": {},
          "execution_count": 258
        }
      ]
    },
    {
      "cell_type": "code",
      "source": [
        "arr.sort()"
      ],
      "metadata": {
        "id": "4uo8DMn8Z1wD"
      },
      "id": "4uo8DMn8Z1wD",
      "execution_count": null,
      "outputs": []
    },
    {
      "cell_type": "code",
      "source": [
        "arr"
      ],
      "metadata": {
        "id": "RNic4KB2Z1yo",
        "outputId": "94b160a8-7e31-467e-b001-0c1508b51567",
        "colab": {
          "base_uri": "https://localhost:8080/"
        }
      },
      "id": "RNic4KB2Z1yo",
      "execution_count": null,
      "outputs": [
        {
          "output_type": "execute_result",
          "data": {
            "text/plain": [
              "array([-1.9528914 , -0.512127  , -0.13454805, -0.03959992,  0.02598997,\n",
              "        0.13390126,  0.5183842 ,  0.68507366,  1.24351609,  1.38870847])"
            ]
          },
          "metadata": {},
          "execution_count": 261
        }
      ]
    },
    {
      "cell_type": "markdown",
      "id": "1e74d39e",
      "metadata": {
        "id": "1e74d39e"
      },
      "source": [
        "#### 22. A va B nomi bilan ikkita tasodifiy qiymatlardan iborat bo'lgan massiv yarating, so'ng ulardan qaysi biri katta yoki kichik ekanligini tekshiring."
      ]
    },
    {
      "cell_type": "markdown",
      "source": [
        "`💡Ishora` np.allclose, np.array_equal"
      ],
      "metadata": {
        "id": "eb0e066c"
      },
      "id": "eb0e066c"
    },
    {
      "cell_type": "code",
      "source": [
        "A = np.random.randn(10)\n",
        "A"
      ],
      "metadata": {
        "id": "xHNWNZnwOT1r",
        "outputId": "fc031dd8-4938-4768-8a30-2587bb18617c",
        "colab": {
          "base_uri": "https://localhost:8080/"
        }
      },
      "id": "xHNWNZnwOT1r",
      "execution_count": null,
      "outputs": [
        {
          "output_type": "execute_result",
          "data": {
            "text/plain": [
              "array([-0.24507097,  0.3151373 , -0.18329359, -0.6409283 ,  0.28600668,\n",
              "        1.01438482, -0.02810891, -2.43498498, -0.87189563,  0.84492608])"
            ]
          },
          "metadata": {},
          "execution_count": 277
        }
      ]
    },
    {
      "cell_type": "code",
      "source": [
        "B = np.random.randn(10)\n",
        "B"
      ],
      "metadata": {
        "id": "7GQMJqGbaOPU",
        "outputId": "86447943-b218-491e-9024-03e597ac9d94",
        "colab": {
          "base_uri": "https://localhost:8080/"
        }
      },
      "id": "7GQMJqGbaOPU",
      "execution_count": null,
      "outputs": [
        {
          "output_type": "execute_result",
          "data": {
            "text/plain": [
              "array([-2.09735606, -0.97641525,  0.12467569,  1.35762237,  0.39888769,\n",
              "        0.20145197,  1.01436508,  0.77242275,  1.14363413, -0.52808618])"
            ]
          },
          "metadata": {},
          "execution_count": 278
        }
      ]
    },
    {
      "cell_type": "code",
      "source": [
        "A.sum()"
      ],
      "metadata": {
        "id": "Fgcf0AteaOSN",
        "outputId": "eef549f5-0838-48a1-ae0a-af3570f5b930",
        "colab": {
          "base_uri": "https://localhost:8080/"
        }
      },
      "id": "Fgcf0AteaOSN",
      "execution_count": null,
      "outputs": [
        {
          "output_type": "execute_result",
          "data": {
            "text/plain": [
              "-1.94382750001368"
            ]
          },
          "metadata": {},
          "execution_count": 279
        }
      ]
    },
    {
      "cell_type": "code",
      "source": [
        "B.sum()"
      ],
      "metadata": {
        "id": "-Cw0DdiwaOU3",
        "outputId": "75e7a828-cc5f-4de0-8164-980b5b4030ac",
        "colab": {
          "base_uri": "https://localhost:8080/"
        }
      },
      "id": "-Cw0DdiwaOU3",
      "execution_count": null,
      "outputs": [
        {
          "output_type": "execute_result",
          "data": {
            "text/plain": [
              "1.411202179921068"
            ]
          },
          "metadata": {},
          "execution_count": 280
        }
      ]
    },
    {
      "cell_type": "code",
      "source": [
        "np.allclose(A, B) # if both vale's sum equal : True else: False "
      ],
      "metadata": {
        "id": "VkiRST-0aOX8",
        "outputId": "ff523e8b-abc9-4664-ae64-055e307bf5fd",
        "colab": {
          "base_uri": "https://localhost:8080/"
        }
      },
      "id": "VkiRST-0aOX8",
      "execution_count": null,
      "outputs": [
        {
          "output_type": "execute_result",
          "data": {
            "text/plain": [
              "False"
            ]
          },
          "metadata": {},
          "execution_count": 298
        }
      ]
    },
    {
      "cell_type": "code",
      "source": [
        "np.array_equal(A, B)"
      ],
      "metadata": {
        "id": "LQH9smO3aOc7",
        "outputId": "5793040e-8c2d-4266-d226-96a2b271a093",
        "colab": {
          "base_uri": "https://localhost:8080/"
        }
      },
      "id": "LQH9smO3aOc7",
      "execution_count": null,
      "outputs": [
        {
          "output_type": "execute_result",
          "data": {
            "text/plain": [
              "False"
            ]
          },
          "metadata": {},
          "execution_count": 282
        }
      ]
    },
    {
      "cell_type": "code",
      "source": [
        "np.allclose(1, 0.99999999)"
      ],
      "metadata": {
        "id": "S5lip0n0aOkK",
        "outputId": "297b314b-2fff-467e-9c6e-8c11bf1b4071",
        "colab": {
          "base_uri": "https://localhost:8080/"
        }
      },
      "id": "S5lip0n0aOkK",
      "execution_count": null,
      "outputs": [
        {
          "output_type": "execute_result",
          "data": {
            "text/plain": [
              "True"
            ]
          },
          "metadata": {},
          "execution_count": 292
        }
      ]
    },
    {
      "cell_type": "code",
      "source": [
        "np.allclose(1, 0.999)"
      ],
      "metadata": {
        "id": "HFCiHrgmcdzS",
        "outputId": "5d88d44d-b124-4a81-f2e4-cdef9583d721",
        "colab": {
          "base_uri": "https://localhost:8080/"
        }
      },
      "id": "HFCiHrgmcdzS",
      "execution_count": null,
      "outputs": [
        {
          "output_type": "execute_result",
          "data": {
            "text/plain": [
              "False"
            ]
          },
          "metadata": {},
          "execution_count": 293
        }
      ]
    },
    {
      "cell_type": "code",
      "source": [
        "np.array_equal(5, 5)"
      ],
      "metadata": {
        "id": "PVWDc5zIcd7V",
        "outputId": "23fce65d-314c-460c-e75a-eb25908bd957",
        "colab": {
          "base_uri": "https://localhost:8080/"
        }
      },
      "id": "PVWDc5zIcd7V",
      "execution_count": null,
      "outputs": [
        {
          "output_type": "execute_result",
          "data": {
            "text/plain": [
              "True"
            ]
          },
          "metadata": {},
          "execution_count": 294
        }
      ]
    },
    {
      "cell_type": "code",
      "source": [
        "np.array_equal(5, 4.9999999999)"
      ],
      "metadata": {
        "id": "i7SwbOiPceFf",
        "outputId": "c7c45210-0452-4572-bbee-e8113d75fdbf",
        "colab": {
          "base_uri": "https://localhost:8080/"
        }
      },
      "id": "i7SwbOiPceFf",
      "execution_count": null,
      "outputs": [
        {
          "output_type": "execute_result",
          "data": {
            "text/plain": [
              "False"
            ]
          },
          "metadata": {},
          "execution_count": 297
        }
      ]
    },
    {
      "cell_type": "markdown",
      "id": "78250c14",
      "metadata": {
        "id": "78250c14"
      },
      "source": [
        "#### 23. O'lchamlari 6x3 va 3x4 matritsa tuzing va ularni o'zaro ko'paytiring. \n"
      ]
    },
    {
      "cell_type": "markdown",
      "source": [
        "`💡Ishora` np.dot or np.ones"
      ],
      "metadata": {
        "id": "2e482afe"
      },
      "id": "2e482afe"
    },
    {
      "cell_type": "code",
      "source": [
        "arr1 = np.arange(6*3).reshape(6, 3)\n",
        "arr1 "
      ],
      "metadata": {
        "id": "ZRlMgdT9POgS",
        "outputId": "20d55de7-f3bc-44fe-db7e-269e52706fdd",
        "colab": {
          "base_uri": "https://localhost:8080/"
        }
      },
      "id": "ZRlMgdT9POgS",
      "execution_count": null,
      "outputs": [
        {
          "output_type": "execute_result",
          "data": {
            "text/plain": [
              "array([[ 0,  1,  2],\n",
              "       [ 3,  4,  5],\n",
              "       [ 6,  7,  8],\n",
              "       [ 9, 10, 11],\n",
              "       [12, 13, 14],\n",
              "       [15, 16, 17]])"
            ]
          },
          "metadata": {},
          "execution_count": 302
        }
      ]
    },
    {
      "cell_type": "code",
      "source": [
        "arr2 = np.arange(3*4).reshape(3, 4)\n",
        "arr2 "
      ],
      "metadata": {
        "id": "3TjYDRa_dwMp",
        "outputId": "ccc9e691-ea73-43b2-9177-6eb2d4d889c0",
        "colab": {
          "base_uri": "https://localhost:8080/"
        }
      },
      "id": "3TjYDRa_dwMp",
      "execution_count": null,
      "outputs": [
        {
          "output_type": "execute_result",
          "data": {
            "text/plain": [
              "array([[ 0,  1,  2,  3],\n",
              "       [ 4,  5,  6,  7],\n",
              "       [ 8,  9, 10, 11]])"
            ]
          },
          "metadata": {},
          "execution_count": 301
        }
      ]
    },
    {
      "cell_type": "code",
      "source": [
        "np.dot(arr1, arr2)"
      ],
      "metadata": {
        "id": "zdPkO6nRdwPR",
        "outputId": "1a3945b3-e1a8-4a1c-99f1-a033c0fc8247",
        "colab": {
          "base_uri": "https://localhost:8080/"
        }
      },
      "id": "zdPkO6nRdwPR",
      "execution_count": null,
      "outputs": [
        {
          "output_type": "execute_result",
          "data": {
            "text/plain": [
              "array([[ 20,  23,  26,  29],\n",
              "       [ 56,  68,  80,  92],\n",
              "       [ 92, 113, 134, 155],\n",
              "       [128, 158, 188, 218],\n",
              "       [164, 203, 242, 281],\n",
              "       [200, 248, 296, 344]])"
            ]
          },
          "metadata": {},
          "execution_count": 303
        }
      ]
    },
    {
      "cell_type": "markdown",
      "id": "51898680",
      "metadata": {
        "id": "51898680"
      },
      "source": [
        "#### 24. Tasodifiy sonlardan iborat bo'lgan o'lchami 5 ga teng vektor yarating, so'ng uning eng katta qiymatini 0 ga o'zgartiring.\n"
      ]
    },
    {
      "cell_type": "markdown",
      "source": [
        "`💡Ishora` argmax"
      ],
      "metadata": {
        "id": "ee92ccaf"
      },
      "id": "ee92ccaf"
    },
    {
      "cell_type": "code",
      "source": [
        "arr1 = np.random.randn(5)\n",
        "arr1"
      ],
      "metadata": {
        "id": "v9DvyaTNPk_t",
        "outputId": "c999fc5e-2683-4a84-95a6-794a9501fd80",
        "colab": {
          "base_uri": "https://localhost:8080/"
        }
      },
      "id": "v9DvyaTNPk_t",
      "execution_count": null,
      "outputs": [
        {
          "output_type": "execute_result",
          "data": {
            "text/plain": [
              "array([ 0.37124216, -1.14799111, -1.04842159,  0.48696599,  1.08577132])"
            ]
          },
          "metadata": {},
          "execution_count": 15
        }
      ]
    },
    {
      "cell_type": "code",
      "source": [
        "arr1.shape"
      ],
      "metadata": {
        "id": "QE3c697YIzXa",
        "outputId": "cfc4d565-4c39-4900-a9eb-510e9c8158b3",
        "colab": {
          "base_uri": "https://localhost:8080/"
        }
      },
      "id": "QE3c697YIzXa",
      "execution_count": null,
      "outputs": [
        {
          "output_type": "execute_result",
          "data": {
            "text/plain": [
              "(5,)"
            ]
          },
          "metadata": {},
          "execution_count": 16
        }
      ]
    },
    {
      "cell_type": "code",
      "source": [
        "arr1[np.argmax(arr1)] = 0  #berilgan arrayni eng katta qiymatini indexsni qaytaradi\n",
        "arr1"
      ],
      "metadata": {
        "id": "yI56rgZ3Izb1",
        "outputId": "1a3e5156-a2a3-4465-f7df-7b5c3598d72e",
        "colab": {
          "base_uri": "https://localhost:8080/"
        }
      },
      "id": "yI56rgZ3Izb1",
      "execution_count": null,
      "outputs": [
        {
          "output_type": "execute_result",
          "data": {
            "text/plain": [
              "array([ 0.37124216, -1.14799111, -1.04842159,  0.48696599,  0.        ])"
            ]
          },
          "metadata": {},
          "execution_count": 17
        }
      ]
    },
    {
      "cell_type": "markdown",
      "id": "89e78048",
      "metadata": {
        "id": "89e78048"
      },
      "source": [
        "#### 25. Quyidagi dastur qanday natija beradi?\n",
        "```python\n",
        "print(sum(range(5),-1))\n",
        "from numpy import *\n",
        "print(sum(range(5),-1))\n",
        "```"
      ]
    },
    {
      "cell_type": "code",
      "execution_count": null,
      "id": "8026c969",
      "metadata": {
        "id": "8026c969",
        "outputId": "8e583164-153c-48ad-fc58-53f0d539cd2b",
        "colab": {
          "base_uri": "https://localhost:8080/"
        }
      },
      "outputs": [
        {
          "output_type": "execute_result",
          "data": {
            "text/plain": [
              "9"
            ]
          },
          "metadata": {},
          "execution_count": 21
        }
      ],
      "source": [
        "sum(range(5), -1)"
      ]
    },
    {
      "cell_type": "code",
      "source": [
        "list(range(5))"
      ],
      "metadata": {
        "id": "u56oqYXSKlWd",
        "outputId": "abff82b6-ee9e-4400-f7b8-a9b6e390c71c",
        "colab": {
          "base_uri": "https://localhost:8080/"
        }
      },
      "id": "u56oqYXSKlWd",
      "execution_count": null,
      "outputs": [
        {
          "output_type": "execute_result",
          "data": {
            "text/plain": [
              "[0, 1, 2, 3, 4]"
            ]
          },
          "metadata": {},
          "execution_count": 22
        }
      ]
    },
    {
      "cell_type": "code",
      "source": [
        "sum(range(5))"
      ],
      "metadata": {
        "id": "ffOeAvqUKlZB",
        "outputId": "6fd8153b-c630-41f2-f6c0-fcafabb25c8c",
        "colab": {
          "base_uri": "https://localhost:8080/"
        }
      },
      "id": "ffOeAvqUKlZB",
      "execution_count": null,
      "outputs": [
        {
          "output_type": "execute_result",
          "data": {
            "text/plain": [
              "10"
            ]
          },
          "metadata": {},
          "execution_count": 23
        }
      ]
    },
    {
      "cell_type": "code",
      "source": [
        "from numpy import *\n",
        "sum(range(5), -1)"
      ],
      "metadata": {
        "id": "k09S9HW9Klb5",
        "outputId": "1ef31bbb-bb2e-46ee-df59-d965df99f243",
        "colab": {
          "base_uri": "https://localhost:8080/"
        }
      },
      "id": "k09S9HW9Klb5",
      "execution_count": null,
      "outputs": [
        {
          "output_type": "execute_result",
          "data": {
            "text/plain": [
              "10"
            ]
          },
          "metadata": {},
          "execution_count": 30
        }
      ]
    },
    {
      "cell_type": "markdown",
      "id": "ebd10810",
      "metadata": {
        "id": "ebd10810"
      },
      "source": [
        "#### 26. NumPy kutubxonasi yordamida ikkita massivni solishtiruvchi dastur tuzing.\n",
        "```python\n",
        "Array a: [1 2]\n",
        "Array b: [4 5]\n",
        "a > b \n",
        "[False False]\n",
        "a >= b \n",
        "[False False] \n",
        "a < b \n",
        "[ True True] \n",
        "a <= b \n",
        "[ True True]\n",
        "```"
      ]
    },
    {
      "cell_type": "code",
      "execution_count": null,
      "id": "90fed5c6",
      "metadata": {
        "id": "90fed5c6",
        "outputId": "2a96ae3b-fd6d-486c-9cc0-89bedfb42e0f",
        "colab": {
          "base_uri": "https://localhost:8080/"
        }
      },
      "outputs": [
        {
          "output_type": "execute_result",
          "data": {
            "text/plain": [
              "[1, 2]"
            ]
          },
          "metadata": {},
          "execution_count": 39
        }
      ],
      "source": [
        "arr1 = [1, 2]\n",
        "arr1"
      ]
    },
    {
      "cell_type": "code",
      "source": [
        "arr2 = [4, 5]\n",
        "arr2"
      ],
      "metadata": {
        "id": "ROXUt9jfPbkT",
        "outputId": "cbe56226-9577-4af8-daac-030fb62fb100",
        "colab": {
          "base_uri": "https://localhost:8080/"
        }
      },
      "id": "ROXUt9jfPbkT",
      "execution_count": null,
      "outputs": [
        {
          "output_type": "execute_result",
          "data": {
            "text/plain": [
              "[4, 5]"
            ]
          },
          "metadata": {},
          "execution_count": 40
        }
      ]
    },
    {
      "cell_type": "code",
      "source": [
        "arr1 > arr2"
      ],
      "metadata": {
        "id": "RI-VE8nLPbnZ",
        "outputId": "ddb4627a-6ec7-43bf-dd31-831c84403caa",
        "colab": {
          "base_uri": "https://localhost:8080/"
        }
      },
      "id": "RI-VE8nLPbnZ",
      "execution_count": null,
      "outputs": [
        {
          "output_type": "execute_result",
          "data": {
            "text/plain": [
              "False"
            ]
          },
          "metadata": {},
          "execution_count": 46
        }
      ]
    },
    {
      "cell_type": "code",
      "source": [
        "arr1 >= arr2"
      ],
      "metadata": {
        "id": "TeLGHlJ2Pbqy",
        "outputId": "225685be-b233-427e-d98b-4621a441662d",
        "colab": {
          "base_uri": "https://localhost:8080/"
        }
      },
      "id": "TeLGHlJ2Pbqy",
      "execution_count": null,
      "outputs": [
        {
          "output_type": "execute_result",
          "data": {
            "text/plain": [
              "False"
            ]
          },
          "metadata": {},
          "execution_count": 47
        }
      ]
    },
    {
      "cell_type": "code",
      "source": [
        "arr1 < arr2"
      ],
      "metadata": {
        "id": "GrcatgH-QERg",
        "outputId": "cd8b960c-dea3-4a0f-8e7d-1f1bae9b3f0f",
        "colab": {
          "base_uri": "https://localhost:8080/"
        }
      },
      "id": "GrcatgH-QERg",
      "execution_count": null,
      "outputs": [
        {
          "output_type": "execute_result",
          "data": {
            "text/plain": [
              "True"
            ]
          },
          "metadata": {},
          "execution_count": 48
        }
      ]
    },
    {
      "cell_type": "code",
      "source": [
        "arr1 <= arr2"
      ],
      "metadata": {
        "id": "zl4rxwClQEUW",
        "outputId": "1bcb9c86-b6c2-40a9-ed7c-aabaec803edc",
        "colab": {
          "base_uri": "https://localhost:8080/"
        }
      },
      "id": "zl4rxwClQEUW",
      "execution_count": null,
      "outputs": [
        {
          "output_type": "execute_result",
          "data": {
            "text/plain": [
              "True"
            ]
          },
          "metadata": {},
          "execution_count": 49
        }
      ]
    },
    {
      "cell_type": "markdown",
      "id": "f1ae2c2d",
      "metadata": {
        "id": "f1ae2c2d"
      },
      "source": [
        "#### 27. Ikkita umumiy qiymatlari mavjud bo'lgan massiv yarating, so'ng ulardagi umumiy qiymatlarni aniqlovchi dastur tuzing.\n"
      ]
    },
    {
      "cell_type": "markdown",
      "source": [
        "`💡Ishora` np.intersect1d"
      ],
      "metadata": {
        "id": "097482ad"
      },
      "id": "097482ad"
    },
    {
      "cell_type": "code",
      "source": [
        "arr1 = np.arange(10)\n",
        "arr1"
      ],
      "metadata": {
        "id": "M3QZ2rC3Roij",
        "outputId": "40ffaf79-987b-4e67-cbc9-1f1dfd5e04de",
        "colab": {
          "base_uri": "https://localhost:8080/"
        }
      },
      "id": "M3QZ2rC3Roij",
      "execution_count": null,
      "outputs": [
        {
          "output_type": "execute_result",
          "data": {
            "text/plain": [
              "array([0, 1, 2, 3, 4, 5, 6, 7, 8, 9])"
            ]
          },
          "metadata": {},
          "execution_count": 53
        }
      ]
    },
    {
      "cell_type": "code",
      "source": [
        "arr2 = np.arange(7, 17)\n",
        "arr2"
      ],
      "metadata": {
        "id": "RG2-QAtlQv0J",
        "outputId": "b51ea801-4b62-4d46-c32c-28d0115a8749",
        "colab": {
          "base_uri": "https://localhost:8080/"
        }
      },
      "id": "RG2-QAtlQv0J",
      "execution_count": null,
      "outputs": [
        {
          "output_type": "execute_result",
          "data": {
            "text/plain": [
              "array([ 7,  8,  9, 10, 11, 12, 13, 14, 15, 16])"
            ]
          },
          "metadata": {},
          "execution_count": 54
        }
      ]
    },
    {
      "cell_type": "code",
      "source": [
        "np.intersect1d(arr1, arr2)"
      ],
      "metadata": {
        "id": "dKJZ2iOdQv2t",
        "outputId": "4ccd1f4f-5a81-43d3-973b-a5694af566af",
        "colab": {
          "base_uri": "https://localhost:8080/"
        }
      },
      "id": "dKJZ2iOdQv2t",
      "execution_count": null,
      "outputs": [
        {
          "output_type": "execute_result",
          "data": {
            "text/plain": [
              "array([7, 8, 9])"
            ]
          },
          "metadata": {},
          "execution_count": 55
        }
      ]
    },
    {
      "cell_type": "markdown",
      "id": "129c342d",
      "metadata": {
        "id": "129c342d"
      },
      "source": [
        "#### 28. NumPy kutubxonasi yordamida kecha, bugun va ertangi kun sanalarini aniqlang.\n"
      ]
    },
    {
      "cell_type": "markdown",
      "source": [
        "`💡Ishora` np.datetime64, np.timedelta64"
      ],
      "metadata": {
        "id": "0fd2f947"
      },
      "id": "0fd2f947"
    },
    {
      "cell_type": "code",
      "source": [
        "today = np.datetime64('today')\n",
        "today"
      ],
      "metadata": {
        "id": "dlljRGxkSitd",
        "outputId": "a24c5be2-be01-4296-8d4e-5e26fd0f4783",
        "colab": {
          "base_uri": "https://localhost:8080/"
        }
      },
      "id": "dlljRGxkSitd",
      "execution_count": null,
      "outputs": [
        {
          "output_type": "execute_result",
          "data": {
            "text/plain": [
              "numpy.datetime64('2023-03-06')"
            ]
          },
          "metadata": {},
          "execution_count": 89
        }
      ]
    },
    {
      "cell_type": "code",
      "source": [
        "today + np.timedelta64(1)"
      ],
      "metadata": {
        "id": "rRWImp9ySjmW",
        "outputId": "5df86bb1-abc2-4ef7-c745-5dbbe0968c98",
        "colab": {
          "base_uri": "https://localhost:8080/"
        }
      },
      "id": "rRWImp9ySjmW",
      "execution_count": null,
      "outputs": [
        {
          "output_type": "execute_result",
          "data": {
            "text/plain": [
              "numpy.datetime64('2023-03-07')"
            ]
          },
          "metadata": {},
          "execution_count": 90
        }
      ]
    },
    {
      "cell_type": "code",
      "source": [
        "np.timedelta64(2)"
      ],
      "metadata": {
        "id": "RmdBR9b9Sjo8",
        "outputId": "f5e0650f-459e-4c87-fb9f-1506f584bf72",
        "colab": {
          "base_uri": "https://localhost:8080/"
        }
      },
      "id": "RmdBR9b9Sjo8",
      "execution_count": null,
      "outputs": [
        {
          "output_type": "execute_result",
          "data": {
            "text/plain": [
              "numpy.timedelta64(2)"
            ]
          },
          "metadata": {},
          "execution_count": 91
        }
      ]
    },
    {
      "cell_type": "code",
      "source": [
        "def time_detect():\n",
        "  print(f\"today: {np.datetime64('today')}\")\n",
        "  print(f\"tomorow: {np.datetime64('today') + np.timedelta64(1)}\")\n"
      ],
      "metadata": {
        "id": "8jt1y2okSjrk"
      },
      "id": "8jt1y2okSjrk",
      "execution_count": null,
      "outputs": []
    },
    {
      "cell_type": "code",
      "source": [
        "time_detect()"
      ],
      "metadata": {
        "id": "5kmQdt58SjuP",
        "outputId": "fc9eb297-3ae5-486a-f345-b752a052aef1",
        "colab": {
          "base_uri": "https://localhost:8080/"
        }
      },
      "id": "5kmQdt58SjuP",
      "execution_count": null,
      "outputs": [
        {
          "output_type": "stream",
          "name": "stdout",
          "text": [
            "today: 2023-03-06\n",
            "tomorow: 2023-03-07\n"
          ]
        }
      ]
    },
    {
      "cell_type": "markdown",
      "id": "42f8b2f9",
      "metadata": {
        "id": "42f8b2f9"
      },
      "source": [
        "#### 29. 2016 yil yanvar oyiga to'g'ri keladigan barcha sanalarni NumPy kutubxonasi yordamida aniqlang.\n"
      ]
    },
    {
      "cell_type": "markdown",
      "source": [
        "`💡Ishora` np.arange(dtype=datetime64['D'])"
      ],
      "metadata": {
        "id": "SU1BWcA8Sw2M"
      },
      "id": "SU1BWcA8Sw2M"
    },
    {
      "cell_type": "code",
      "execution_count": null,
      "id": "5ad086b0",
      "metadata": {
        "id": "5ad086b0",
        "outputId": "63352ed6-5d4a-490d-cbc4-a89aaa7da22b",
        "colab": {
          "base_uri": "https://localhost:8080/"
        }
      },
      "outputs": [
        {
          "output_type": "execute_result",
          "data": {
            "text/plain": [
              "numpy.datetime64('2016-01-01')"
            ]
          },
          "metadata": {},
          "execution_count": 121
        }
      ],
      "source": [
        "start = np.datetime64('2016-01-01')\n",
        "start"
      ]
    },
    {
      "cell_type": "code",
      "source": [
        "stop = np.datetime64('2016-02-01')\n",
        "stop"
      ],
      "metadata": {
        "id": "Q2_6VS7xaro1",
        "outputId": "634f6228-cc19-4b9e-e0ab-21eddbb47c8a",
        "colab": {
          "base_uri": "https://localhost:8080/"
        }
      },
      "id": "Q2_6VS7xaro1",
      "execution_count": null,
      "outputs": [
        {
          "output_type": "execute_result",
          "data": {
            "text/plain": [
              "numpy.datetime64('2016-02-01')"
            ]
          },
          "metadata": {},
          "execution_count": 122
        }
      ]
    },
    {
      "cell_type": "code",
      "source": [
        "np.arange(start, stop)"
      ],
      "metadata": {
        "id": "9ZBgTvYYarti",
        "outputId": "b7910ea9-6ec1-4e0f-9c39-4d4d8f925c7a",
        "colab": {
          "base_uri": "https://localhost:8080/"
        }
      },
      "id": "9ZBgTvYYarti",
      "execution_count": null,
      "outputs": [
        {
          "output_type": "execute_result",
          "data": {
            "text/plain": [
              "array(['2016-01-01', '2016-01-02', '2016-01-03', '2016-01-04',\n",
              "       '2016-01-05', '2016-01-06', '2016-01-07', '2016-01-08',\n",
              "       '2016-01-09', '2016-01-10', '2016-01-11', '2016-01-12',\n",
              "       '2016-01-13', '2016-01-14', '2016-01-15', '2016-01-16',\n",
              "       '2016-01-17', '2016-01-18', '2016-01-19', '2016-01-20',\n",
              "       '2016-01-21', '2016-01-22', '2016-01-23', '2016-01-24',\n",
              "       '2016-01-25', '2016-01-26', '2016-01-27', '2016-01-28',\n",
              "       '2016-01-29', '2016-01-30', '2016-01-31'], dtype='datetime64[D]')"
            ]
          },
          "metadata": {},
          "execution_count": 124
        }
      ]
    },
    {
      "cell_type": "code",
      "source": [],
      "metadata": {
        "id": "bdmzI6iQarxc"
      },
      "id": "bdmzI6iQarxc",
      "execution_count": null,
      "outputs": []
    },
    {
      "cell_type": "markdown",
      "id": "486df8ea",
      "metadata": {
        "id": "486df8ea"
      },
      "source": [
        "#### 30. 4 xil usul yordamida musbat sonlarning tasodifiy massivining butun son qismini ajratib oling.\n"
      ]
    },
    {
      "cell_type": "markdown",
      "source": [
        "`💡Ishora` %, np.floor, astype, np.trunc`"
      ],
      "metadata": {
        "id": "h4QM3bp9TDhb"
      },
      "id": "h4QM3bp9TDhb"
    },
    {
      "cell_type": "markdown",
      "source": [
        "\n",
        "\n",
        "---\n",
        "\n",
        "####with floor:"
      ],
      "metadata": {
        "id": "ldwQyvSfyQzp"
      },
      "id": "ldwQyvSfyQzp"
    },
    {
      "cell_type": "code",
      "execution_count": 19,
      "id": "2680c1ca",
      "metadata": {
        "id": "2680c1ca",
        "outputId": "0a626cd8-287e-4174-ea2f-9378d4d6ae04",
        "colab": {
          "base_uri": "https://localhost:8080/"
        }
      },
      "outputs": [
        {
          "output_type": "execute_result",
          "data": {
            "text/plain": [
              "array([-1.96880441, -0.57730214, -1.3726285 , -1.44295412,  1.47138669,\n",
              "        0.08286724, -0.38114005,  0.07050961,  0.42201821, -1.99889307])"
            ]
          },
          "metadata": {},
          "execution_count": 19
        }
      ],
      "source": [
        "arr1 = np.random.randn(10)\n",
        "arr1 "
      ]
    },
    {
      "cell_type": "code",
      "source": [
        "np.floor(arr1)"
      ],
      "metadata": {
        "id": "XD8VDejxexvU",
        "outputId": "336dc90f-36d9-47fc-a435-3ee6f867325a",
        "colab": {
          "base_uri": "https://localhost:8080/"
        }
      },
      "id": "XD8VDejxexvU",
      "execution_count": 20,
      "outputs": [
        {
          "output_type": "execute_result",
          "data": {
            "text/plain": [
              "array([-2., -1., -2., -2.,  1.,  0., -1.,  0.,  0., -2.])"
            ]
          },
          "metadata": {},
          "execution_count": 20
        }
      ]
    },
    {
      "cell_type": "markdown",
      "source": [
        "\n",
        "\n",
        "---\n",
        "\n",
        "####with %:"
      ],
      "metadata": {
        "id": "PC8FqBeVy244"
      },
      "id": "PC8FqBeVy244"
    },
    {
      "cell_type": "code",
      "source": [
        "arr1 = np.random.randn(10)\n",
        "arr1 "
      ],
      "metadata": {
        "id": "4FVHOBf8exyM",
        "outputId": "d9f4deea-b5bd-4fd3-a610-2c86f8e50238",
        "colab": {
          "base_uri": "https://localhost:8080/"
        }
      },
      "id": "4FVHOBf8exyM",
      "execution_count": 32,
      "outputs": [
        {
          "output_type": "execute_result",
          "data": {
            "text/plain": [
              "array([-1.80265613, -1.20326209,  1.79742144, -0.60601421,  0.13288566,\n",
              "       -0.63681275,  0.32088786, -1.94053797, -1.09253958, -0.93869381])"
            ]
          },
          "metadata": {},
          "execution_count": 32
        }
      ]
    },
    {
      "cell_type": "code",
      "source": [
        "arr1 - (arr1 % 1)"
      ],
      "metadata": {
        "id": "pGkpr0WJex0y",
        "outputId": "220bbf27-3c9d-4787-dad6-293aaf461995",
        "colab": {
          "base_uri": "https://localhost:8080/"
        }
      },
      "id": "pGkpr0WJex0y",
      "execution_count": 33,
      "outputs": [
        {
          "output_type": "execute_result",
          "data": {
            "text/plain": [
              "array([-2., -2.,  1., -1.,  0., -1.,  0., -2., -2., -1.])"
            ]
          },
          "metadata": {},
          "execution_count": 33
        }
      ]
    },
    {
      "cell_type": "markdown",
      "source": [
        "\n",
        "\n",
        "---\n",
        "\n",
        "####with np.trunc:"
      ],
      "metadata": {
        "id": "cLHKy87W0Nl7"
      },
      "id": "cLHKy87W0Nl7"
    },
    {
      "cell_type": "code",
      "source": [
        "arr1 = np.random.randn(10)\n",
        "arr1 "
      ],
      "metadata": {
        "id": "XubvEJWd0Mxi",
        "outputId": "37691fdd-e8f3-457c-aa24-640fb045a941",
        "colab": {
          "base_uri": "https://localhost:8080/"
        }
      },
      "id": "XubvEJWd0Mxi",
      "execution_count": 34,
      "outputs": [
        {
          "output_type": "execute_result",
          "data": {
            "text/plain": [
              "array([ 0.05215119,  0.24002269,  0.20022288,  0.488231  ,  0.36525014,\n",
              "        0.13895476,  0.35061269, -1.07775205, -1.13627663,  1.32189162])"
            ]
          },
          "metadata": {},
          "execution_count": 34
        }
      ]
    },
    {
      "cell_type": "code",
      "source": [
        "np.trunc(arr1)"
      ],
      "metadata": {
        "id": "PnRGV5c20M2c",
        "outputId": "15939f68-76b7-4a61-cc19-3ea01aca7cfc",
        "colab": {
          "base_uri": "https://localhost:8080/"
        }
      },
      "id": "PnRGV5c20M2c",
      "execution_count": 35,
      "outputs": [
        {
          "output_type": "execute_result",
          "data": {
            "text/plain": [
              "array([ 0.,  0.,  0.,  0.,  0.,  0.,  0., -1., -1.,  1.])"
            ]
          },
          "metadata": {},
          "execution_count": 35
        }
      ]
    },
    {
      "cell_type": "markdown",
      "source": [
        "\n",
        "\n",
        "---\n",
        "\n",
        "####with astype:"
      ],
      "metadata": {
        "id": "fltY-KZr1lOH"
      },
      "id": "fltY-KZr1lOH"
    },
    {
      "cell_type": "code",
      "source": [
        "arr1 = np.random.randn(10)\n",
        "arr1 "
      ],
      "metadata": {
        "id": "3p5KB1hA0M8S",
        "outputId": "9ad4860e-c5b3-4978-86cf-2f4e122a803d",
        "colab": {
          "base_uri": "https://localhost:8080/"
        }
      },
      "id": "3p5KB1hA0M8S",
      "execution_count": 36,
      "outputs": [
        {
          "output_type": "execute_result",
          "data": {
            "text/plain": [
              "array([-0.46926992, -0.58498304, -0.55444608,  0.37075226, -0.06160019,\n",
              "       -0.42239922, -1.12389695,  1.58150989,  1.38722075,  1.11794939])"
            ]
          },
          "metadata": {},
          "execution_count": 36
        }
      ]
    },
    {
      "cell_type": "code",
      "source": [
        "arr1.astype(np.int64)"
      ],
      "metadata": {
        "id": "NUFiVb8P0M-0",
        "outputId": "5c051ffe-3061-4f94-ee7b-dedd33a670fd",
        "colab": {
          "base_uri": "https://localhost:8080/"
        }
      },
      "id": "NUFiVb8P0M-0",
      "execution_count": 37,
      "outputs": [
        {
          "output_type": "execute_result",
          "data": {
            "text/plain": [
              "array([ 0,  0,  0,  0,  0,  0, -1,  1,  1,  1])"
            ]
          },
          "metadata": {},
          "execution_count": 37
        }
      ]
    },
    {
      "cell_type": "code",
      "source": [],
      "metadata": {
        "id": "fCZWq0h-1uNE"
      },
      "id": "fCZWq0h-1uNE",
      "execution_count": null,
      "outputs": []
    },
    {
      "cell_type": "code",
      "source": [],
      "metadata": {
        "id": "Lq9liT4j1uQO"
      },
      "id": "Lq9liT4j1uQO",
      "execution_count": null,
      "outputs": []
    },
    {
      "cell_type": "code",
      "source": [],
      "metadata": {
        "id": "vLYSrw7O1uVO"
      },
      "id": "vLYSrw7O1uVO",
      "execution_count": null,
      "outputs": []
    },
    {
      "cell_type": "markdown",
      "id": "649e89f9",
      "metadata": {
        "id": "649e89f9"
      },
      "source": [
        "#### 31. Qator qiymatlari 0 dan 2 gacha bo'lgan 3x3 matritsa yarating.\n"
      ]
    },
    {
      "cell_type": "markdown",
      "source": [
        "`💡Ishora` np.arange"
      ],
      "metadata": {
        "id": "e832212f"
      },
      "id": "e832212f"
    },
    {
      "cell_type": "code",
      "source": [
        "np.arange(0,9).reshape([3, 3])"
      ],
      "metadata": {
        "id": "YKNJEcLrTg3d",
        "outputId": "9bd70d34-124a-4dfa-8b84-52b6a17d7daf",
        "colab": {
          "base_uri": "https://localhost:8080/"
        }
      },
      "id": "YKNJEcLrTg3d",
      "execution_count": 51,
      "outputs": [
        {
          "output_type": "execute_result",
          "data": {
            "text/plain": [
              "array([[0, 1, 2],\n",
              "       [3, 4, 5],\n",
              "       [6, 7, 8]])"
            ]
          },
          "metadata": {},
          "execution_count": 51
        }
      ]
    },
    {
      "cell_type": "markdown",
      "id": "2d07be1c",
      "metadata": {
        "id": "2d07be1c"
      },
      "source": [
        "#### 32. Tasodifiy qiymatlardan tashkil topgan 10 o'lchovli vektor yarating, so'ng uning qiymatlarini o'sish tartibida yozing.\n"
      ]
    },
    {
      "cell_type": "markdown",
      "source": [
        "`💡Ishora` sort"
      ],
      "metadata": {
        "id": "046a541a"
      },
      "id": "046a541a"
    },
    {
      "cell_type": "code",
      "source": [
        "arr = np.random.randn(2560).reshape([2, 2, 2, 2, 2, 2, 2, 2, 2, 5])\n",
        "arr"
      ],
      "metadata": {
        "id": "zOPE5f20U95l",
        "outputId": "7ba98967-8b1c-4109-e472-068136854a5d",
        "colab": {
          "base_uri": "https://localhost:8080/"
        }
      },
      "id": "zOPE5f20U95l",
      "execution_count": 83,
      "outputs": [
        {
          "output_type": "execute_result",
          "data": {
            "text/plain": [
              "array([[[[[[[[[[ 6.22157740e-01,  4.27779178e-01,\n",
              "                 1.51061386e+00,  7.16717902e-02,\n",
              "                -9.80822545e-01],\n",
              "               [-6.90543300e-01, -1.27704194e+00,\n",
              "                 2.03978499e+00, -2.44982000e+00,\n",
              "                 2.35302194e-01]],\n",
              "\n",
              "              [[ 7.08021234e-01,  8.46297366e-01,\n",
              "                -1.60730599e+00,  9.91337719e-01,\n",
              "                 1.70457060e-01],\n",
              "               [ 1.31091040e+00, -3.83734907e-02,\n",
              "                 1.31834178e-01, -1.68470113e+00,\n",
              "                -1.51699314e+00]]],\n",
              "\n",
              "\n",
              "             [[[-1.34765818e+00,  5.09178894e-01,\n",
              "                -2.22595621e-02,  7.01145953e-01,\n",
              "                -3.31739961e-01],\n",
              "               [ 1.93829632e+00,  7.04480031e-01,\n",
              "                -6.39732177e-01,  1.02784979e+00,\n",
              "                -8.75675886e-02]],\n",
              "\n",
              "              [[-2.74031611e-01, -5.88963481e-01,\n",
              "                -3.73896073e-01, -2.44062344e+00,\n",
              "                -2.55913937e-01],\n",
              "               [-2.30677704e+00, -5.90509611e-02,\n",
              "                -2.69411709e-01, -1.78995765e+00,\n",
              "                -2.13410999e+00]]]],\n",
              "\n",
              "\n",
              "\n",
              "            [[[[-2.13306020e+00,  2.48494824e-01,\n",
              "                 7.60653309e-01,  1.62151607e-01,\n",
              "                 1.54521285e+00],\n",
              "               [-1.09067140e+00,  5.70164683e-02,\n",
              "                -2.24585232e-01, -1.86998577e-01,\n",
              "                 2.96971843e-01]],\n",
              "\n",
              "              [[ 1.35169124e+00,  2.82675560e-01,\n",
              "                -1.58289433e+00,  2.74560790e+00,\n",
              "                 6.26011108e-01],\n",
              "               [-1.24374263e+00, -8.37654212e-01,\n",
              "                 1.18091046e-01, -9.03721379e-01,\n",
              "                -1.61809818e+00]]],\n",
              "\n",
              "\n",
              "             [[[-4.80921597e-01,  3.35401061e-01,\n",
              "                 4.55079614e-01, -2.03498638e+00,\n",
              "                -1.48267391e-01],\n",
              "               [-6.25352177e-01, -3.43421420e-01,\n",
              "                -6.41890223e-01, -8.65514093e-01,\n",
              "                 5.73572489e-01]],\n",
              "\n",
              "              [[-1.01573644e+00,  3.14871442e-01,\n",
              "                 8.29599805e-01, -2.11887835e+00,\n",
              "                -5.92035630e-01],\n",
              "               [-2.75127673e-01,  6.09091753e-01,\n",
              "                 5.01966132e-01, -2.13932384e-01,\n",
              "                 3.10294449e-01]]]]],\n",
              "\n",
              "\n",
              "\n",
              "\n",
              "           [[[[[-5.91439241e-01, -7.18360281e-01,\n",
              "                 1.15094865e+00,  3.94241029e-01,\n",
              "                 5.98289317e-02],\n",
              "               [ 1.35016648e+00,  1.08447037e+00,\n",
              "                 8.00215376e-01,  6.33916590e-01,\n",
              "                 7.60536528e-01]],\n",
              "\n",
              "              [[-3.54096707e-01,  1.89534695e+00,\n",
              "                -1.67381999e+00,  1.61895260e+00,\n",
              "                -1.02148542e+00],\n",
              "               [ 9.81665724e-01,  1.18122792e-01,\n",
              "                 5.42195061e-02,  1.19568180e+00,\n",
              "                -8.92329763e-01]]],\n",
              "\n",
              "\n",
              "             [[[-4.82463189e-02,  4.80408148e-02,\n",
              "                -1.26753885e+00, -2.08719259e-01,\n",
              "                -9.52180234e-01],\n",
              "               [-5.76003607e-01, -1.20634528e-01,\n",
              "                -3.37277469e-01,  1.04007678e+00,\n",
              "                 6.39989793e-03]],\n",
              "\n",
              "              [[-4.09375753e-01, -6.32333971e-01,\n",
              "                 7.84001027e-01, -5.84774971e-01,\n",
              "                -1.01778538e+00],\n",
              "               [-1.78314932e-01,  1.64162139e+00,\n",
              "                 9.18132015e-01,  1.40658843e+00,\n",
              "                 1.53904074e+00]]]],\n",
              "\n",
              "\n",
              "\n",
              "            [[[[-7.09421430e-01, -3.68535982e-01,\n",
              "                 7.45308287e-01,  8.86260875e-01,\n",
              "                 2.49270573e-01],\n",
              "               [ 3.78492521e-01, -2.05601840e+00,\n",
              "                -2.75439775e-01,  8.44502508e-01,\n",
              "                 6.50585127e-01]],\n",
              "\n",
              "              [[ 4.74919878e-03, -1.28535934e-01,\n",
              "                -2.03083095e-01,  7.15528944e-01,\n",
              "                -6.48345426e-01],\n",
              "               [-1.38165912e+00,  6.06784151e-01,\n",
              "                 1.04292941e+00,  1.58160365e-01,\n",
              "                 1.77070196e-01]]],\n",
              "\n",
              "\n",
              "             [[[ 4.93426039e-01,  5.20048853e-01,\n",
              "                 1.71417021e+00, -2.06810103e-01,\n",
              "                 1.65265729e+00],\n",
              "               [-1.73987347e+00,  1.04422038e+00,\n",
              "                 8.21701042e-01,  3.23735700e-03,\n",
              "                 2.15142338e+00]],\n",
              "\n",
              "              [[-1.15278396e+00, -6.79901278e-01,\n",
              "                -2.00318639e-01, -5.76672208e-01,\n",
              "                 1.57778223e+00],\n",
              "               [-9.97098632e-01,  6.73551276e-01,\n",
              "                 1.30594781e+00, -6.94326104e-01,\n",
              "                 7.33261411e-01]]]]]],\n",
              "\n",
              "\n",
              "\n",
              "\n",
              "\n",
              "          [[[[[[ 1.46454342e+00, -5.93732765e-01,\n",
              "                -9.14212052e-01, -1.16623124e+00,\n",
              "                -8.88359903e-01],\n",
              "               [ 2.96715240e-01,  1.20853641e+00,\n",
              "                -9.56778331e-01, -1.11936417e-01,\n",
              "                -1.41701094e-01]],\n",
              "\n",
              "              [[-7.55251753e-01,  7.38242304e-01,\n",
              "                -1.50634121e-01, -5.59097211e-01,\n",
              "                 7.06328714e-01],\n",
              "               [-1.08421647e-01, -8.51576366e-01,\n",
              "                 8.39256680e-01,  4.09965207e-01,\n",
              "                -1.00361518e+00]]],\n",
              "\n",
              "\n",
              "             [[[ 9.50200168e-02,  2.04729979e-01,\n",
              "                -1.30273812e-01,  1.49695158e-01,\n",
              "                -1.72692784e+00],\n",
              "               [-3.20029387e-01, -6.92879803e-01,\n",
              "                 9.21774632e-01, -1.37116467e+00,\n",
              "                 1.92459559e+00]],\n",
              "\n",
              "              [[-1.74670890e+00, -1.71506824e+00,\n",
              "                 1.67591934e-01, -7.37627003e-02,\n",
              "                 7.93553852e-01],\n",
              "               [ 1.13925661e+00, -4.72159318e-01,\n",
              "                 1.06423439e+00, -4.28144164e-01,\n",
              "                 2.51029412e+00]]]],\n",
              "\n",
              "\n",
              "\n",
              "            [[[[-1.19486432e+00,  1.10035531e+00,\n",
              "                -7.60236200e-01,  1.96016020e+00,\n",
              "                -4.88273754e-01],\n",
              "               [-1.37030978e+00,  6.02928706e-03,\n",
              "                 3.32238849e-01,  1.79224923e-01,\n",
              "                 1.90666750e+00]],\n",
              "\n",
              "              [[ 1.31113265e+00,  1.40375354e+00,\n",
              "                -8.43372712e-02,  1.27260714e+00,\n",
              "                -1.84880957e-01],\n",
              "               [-3.20608614e-01,  6.68765720e-01,\n",
              "                 2.64679561e-01, -8.65300382e-01,\n",
              "                -2.05820109e-01]]],\n",
              "\n",
              "\n",
              "             [[[ 2.51648303e-02,  1.85927851e+00,\n",
              "                -2.24050510e+00,  1.18352533e+00,\n",
              "                 6.91568777e-01],\n",
              "               [ 4.37156768e-01, -1.59393043e+00,\n",
              "                -4.15675386e-01,  4.76327711e-02,\n",
              "                 5.07767204e-01]],\n",
              "\n",
              "              [[ 1.89562426e+00, -1.33904496e+00,\n",
              "                -1.20266621e+00, -5.68155989e-01,\n",
              "                -1.52199349e+00],\n",
              "               [ 2.37444316e-01, -6.80021913e-01,\n",
              "                 4.75847319e-01,  1.64134545e+00,\n",
              "                 1.06921627e+00]]]]],\n",
              "\n",
              "\n",
              "\n",
              "\n",
              "           [[[[[ 6.00402374e-01,  7.81645297e-01,\n",
              "                -6.01918650e-01, -5.83893545e-02,\n",
              "                 4.42364380e-01],\n",
              "               [-3.11061769e-01,  8.54673590e-02,\n",
              "                 5.47768430e-01, -1.83828491e-01,\n",
              "                 1.82617914e+00]],\n",
              "\n",
              "              [[ 6.04524539e-02, -2.00174887e-01,\n",
              "                 9.50019064e-01,  7.80741202e-01,\n",
              "                 2.84304388e-01],\n",
              "               [-4.46894506e-01,  3.30741786e-03,\n",
              "                 2.64192905e-02,  5.45322659e-02,\n",
              "                 1.28852479e+00]]],\n",
              "\n",
              "\n",
              "             [[[ 6.02382635e-01,  1.70585760e+00,\n",
              "                -1.85529865e+00,  9.80929496e-01,\n",
              "                 3.12245594e-01],\n",
              "               [ 1.01720705e+00,  1.62277232e+00,\n",
              "                -7.03312318e-01, -7.85946832e-01,\n",
              "                 6.03283648e-01]],\n",
              "\n",
              "              [[-1.07505746e+00, -9.55449809e-01,\n",
              "                -5.53118225e-02,  9.58471137e-01,\n",
              "                 3.15579427e-01],\n",
              "               [-3.98604431e-01, -4.29260290e-01,\n",
              "                -1.01653282e+00, -7.89975776e-01,\n",
              "                -7.90135707e-01]]]],\n",
              "\n",
              "\n",
              "\n",
              "            [[[[-1.94122041e+00,  9.00268372e-01,\n",
              "                 4.56257840e-01,  9.27672561e-01,\n",
              "                 1.03597228e+00],\n",
              "               [-9.15173731e-01,  1.18475797e+00,\n",
              "                -1.39285971e+00,  4.14606413e-01,\n",
              "                -1.89790557e+00]],\n",
              "\n",
              "              [[-4.59030694e-01,  6.69493227e-02,\n",
              "                -9.37426830e-01,  1.74100072e-01,\n",
              "                 1.14854504e+00],\n",
              "               [-2.42486507e-01,  5.15140426e-01,\n",
              "                 2.10384848e+00, -2.86884755e-01,\n",
              "                 4.46936422e-01]]],\n",
              "\n",
              "\n",
              "             [[[ 1.30979495e+00, -1.45881648e+00,\n",
              "                 1.92530477e+00, -9.51827960e-02,\n",
              "                -8.76360007e-01],\n",
              "               [ 9.49142032e-01,  6.97640097e-02,\n",
              "                 8.58932452e-02, -2.99110094e-01,\n",
              "                -7.09347302e-01]],\n",
              "\n",
              "              [[-9.36887790e-01, -3.75955164e-01,\n",
              "                -8.09221105e-01,  4.14569144e-01,\n",
              "                 4.68849714e-01],\n",
              "               [ 9.44224886e-01,  9.80825253e-01,\n",
              "                -1.90851911e-01,  9.52231977e-01,\n",
              "                 3.99813436e-01]]]]]]],\n",
              "\n",
              "\n",
              "\n",
              "\n",
              "\n",
              "\n",
              "         [[[[[[[ 7.29197921e-01,  2.21658357e+00,\n",
              "                -1.34933051e+00,  1.84211557e+00,\n",
              "                 4.54654908e-02],\n",
              "               [ 9.13077642e-01, -1.10860164e+00,\n",
              "                 1.96836542e-01, -1.73457875e+00,\n",
              "                 1.83484311e+00]],\n",
              "\n",
              "              [[ 5.03039779e-01, -1.06752213e+00,\n",
              "                 1.14004901e+00,  8.63981463e-01,\n",
              "                -1.58641102e+00],\n",
              "               [-1.19950020e+00,  1.38761072e+00,\n",
              "                -2.12691085e-01,  8.25321068e-01,\n",
              "                -6.77337456e-01]]],\n",
              "\n",
              "\n",
              "             [[[-6.70431512e-01, -4.49033446e-01,\n",
              "                 3.68057948e-01, -1.57623549e+00,\n",
              "                -3.23074067e-01],\n",
              "               [ 1.85726224e+00, -4.93808664e-01,\n",
              "                 7.50010191e-02, -4.72486254e-01,\n",
              "                -3.59826094e-01]],\n",
              "\n",
              "              [[-1.23868721e-01,  6.42523724e-02,\n",
              "                 4.42486012e-01,  5.60835682e-01,\n",
              "                 8.59635661e-01],\n",
              "               [-4.37663276e-01, -2.99590259e+00,\n",
              "                 6.08335038e-01,  1.40117670e+00,\n",
              "                 1.15320761e+00]]]],\n",
              "\n",
              "\n",
              "\n",
              "            [[[[ 1.70494479e+00, -1.38202733e+00,\n",
              "                 8.81944516e-01, -6.41773758e-01,\n",
              "                -6.59343035e-01],\n",
              "               [ 3.95124687e-01,  1.06540028e+00,\n",
              "                -1.39802558e+00, -6.39058798e-01,\n",
              "                -8.94518570e-01]],\n",
              "\n",
              "              [[-1.00515980e+00,  1.41653417e-01,\n",
              "                -5.80454386e-01, -5.80907499e-01,\n",
              "                -2.17705818e+00],\n",
              "               [-2.28657164e-01, -8.90038566e-01,\n",
              "                 5.15747843e-01, -2.55582788e-01,\n",
              "                -4.25245468e-01]]],\n",
              "\n",
              "\n",
              "             [[[ 1.03874257e+00,  1.82613603e-01,\n",
              "                -1.11579058e+00, -4.61801974e-02,\n",
              "                -1.31158410e+00],\n",
              "               [-9.81947463e-01, -1.18972566e+00,\n",
              "                 4.42249259e-01, -1.02166601e+00,\n",
              "                -1.05839912e+00]],\n",
              "\n",
              "              [[-4.80717242e-01, -6.82722008e-01,\n",
              "                 2.21187593e+00, -9.73560154e-01,\n",
              "                -5.18384609e-01],\n",
              "               [-1.71622839e-01,  6.54085084e-01,\n",
              "                 2.57239929e-01,  1.03321352e-01,\n",
              "                 1.50755649e+00]]]]],\n",
              "\n",
              "\n",
              "\n",
              "\n",
              "           [[[[[-1.53756667e+00, -1.29760327e+00,\n",
              "                 2.68592945e-01, -8.48188945e-01,\n",
              "                 1.02644434e+00],\n",
              "               [ 4.37261244e-01,  6.97206822e-01,\n",
              "                -7.68933372e-01,  8.15245367e-02,\n",
              "                 2.21308300e-01]],\n",
              "\n",
              "              [[-6.83426151e-01,  1.17072907e+00,\n",
              "                 3.52821960e-01,  1.48942186e-01,\n",
              "                 3.16477941e-01],\n",
              "               [ 8.79161076e-01,  4.99998078e-01,\n",
              "                 2.45591813e+00, -1.10259898e+00,\n",
              "                 5.70640927e-01]]],\n",
              "\n",
              "\n",
              "             [[[ 1.08317887e+00,  1.47732652e+00,\n",
              "                -3.00868089e-02,  1.05156964e+00,\n",
              "                -6.11958030e-01],\n",
              "               [-4.03010217e-01,  8.60370336e-01,\n",
              "                -8.03928375e-02, -1.26384409e+00,\n",
              "                 1.49591755e-01]],\n",
              "\n",
              "              [[-4.56763957e-01,  2.22082536e-01,\n",
              "                -7.69317523e-01, -4.37544564e-01,\n",
              "                 6.52881901e-01],\n",
              "               [ 5.47688756e-01, -1.31842590e+00,\n",
              "                 1.63472911e+00, -1.04532211e+00,\n",
              "                 3.29743303e-01]]]],\n",
              "\n",
              "\n",
              "\n",
              "            [[[[ 6.02141731e-01,  5.37740006e-01,\n",
              "                -1.07121609e+00,  1.23754788e-01,\n",
              "                 1.31973076e-01],\n",
              "               [ 1.45332196e+00,  8.52246376e-01,\n",
              "                 8.12376636e-01, -3.18941699e-01,\n",
              "                 4.74394467e-01]],\n",
              "\n",
              "              [[-7.71048490e-01, -8.79712445e-01,\n",
              "                 1.35472214e+00,  3.16825651e-01,\n",
              "                 8.15483782e-01],\n",
              "               [-1.93350524e-01,  9.92091093e-01,\n",
              "                 1.52672033e+00,  8.45401946e-01,\n",
              "                -1.60088291e+00]]],\n",
              "\n",
              "\n",
              "             [[[ 7.54340065e-01, -3.35756546e-01,\n",
              "                -6.74722961e-01, -1.05272961e+00,\n",
              "                -4.40046877e-01],\n",
              "               [-1.23332388e+00,  3.69566795e-01,\n",
              "                 1.50648466e+00, -1.64038464e-01,\n",
              "                -2.61457701e-01]],\n",
              "\n",
              "              [[ 3.55008835e-01,  1.62768000e+00,\n",
              "                -2.56250121e-01, -1.69386761e+00,\n",
              "                -1.11110441e+00],\n",
              "               [ 3.25683284e-01,  1.64114008e+00,\n",
              "                 5.30893004e-03,  1.33038080e+00,\n",
              "                 3.79630379e-01]]]]]],\n",
              "\n",
              "\n",
              "\n",
              "\n",
              "\n",
              "          [[[[[[ 3.12154077e-01, -7.86918821e-01,\n",
              "                -1.55619051e+00, -1.37010121e+00,\n",
              "                 8.27137724e-04],\n",
              "               [-7.00760134e-01,  2.26214190e+00,\n",
              "                 1.12344031e+00,  1.70026335e+00,\n",
              "                -8.29565246e-01]],\n",
              "\n",
              "              [[-5.32926734e-01, -1.99445110e+00,\n",
              "                 4.79730823e-01,  5.64746393e-01,\n",
              "                 6.50464664e-01],\n",
              "               [ 1.89892122e+00, -9.99256665e-01,\n",
              "                -7.82301532e-01,  1.84747548e+00,\n",
              "                -2.45062525e-01]]],\n",
              "\n",
              "\n",
              "             [[[ 6.07382851e-01,  8.10459888e-04,\n",
              "                -4.36777618e-01, -1.00981674e-01,\n",
              "                -7.49361213e-01],\n",
              "               [ 8.88404793e-01, -6.51307013e-01,\n",
              "                 2.17966131e-01, -6.25071788e-01,\n",
              "                 2.62273441e-01]],\n",
              "\n",
              "              [[ 4.30879949e-01,  6.39664009e-01,\n",
              "                -5.59839745e-01,  1.34237500e+00,\n",
              "                 2.12433815e-01],\n",
              "               [ 3.48221840e-02,  6.14049692e-02,\n",
              "                 4.18476476e-02, -1.61927623e+00,\n",
              "                -6.45012582e-01]]]],\n",
              "\n",
              "\n",
              "\n",
              "            [[[[ 3.37551765e-01,  1.04373859e+00,\n",
              "                 4.56185653e-01,  1.81934346e-02,\n",
              "                 1.51907841e+00],\n",
              "               [ 1.01051614e+00,  1.51825929e-03,\n",
              "                 7.32456813e-01, -1.06624384e-02,\n",
              "                 4.81559620e-01]],\n",
              "\n",
              "              [[-1.30212991e+00, -1.83320051e+00,\n",
              "                 2.13976616e+00,  1.21088991e+00,\n",
              "                -5.34007983e-01],\n",
              "               [ 2.40119261e-02,  2.93830215e-01,\n",
              "                -5.89981582e-01, -1.10656955e+00,\n",
              "                -7.40407044e-01]]],\n",
              "\n",
              "\n",
              "             [[[-1.30685639e+00,  7.45029186e-01,\n",
              "                 1.41101885e+00,  2.44895430e+00,\n",
              "                -1.91423713e-01],\n",
              "               [ 8.79411777e-01, -4.71763395e-02,\n",
              "                 6.49530290e-01,  5.66531433e-01,\n",
              "                -7.68185190e-01]],\n",
              "\n",
              "              [[ 1.30474441e+00,  1.06995573e-01,\n",
              "                -9.39660906e-01, -9.12728737e-01,\n",
              "                -8.95192292e-01],\n",
              "               [-8.64405357e-01,  1.54047299e+00,\n",
              "                 3.19925818e+00, -1.04137729e+00,\n",
              "                -2.91938106e-01]]]]],\n",
              "\n",
              "\n",
              "\n",
              "\n",
              "           [[[[[ 7.31182671e-01, -9.38440716e-01,\n",
              "                -2.99669286e-02, -1.38751341e+00,\n",
              "                -1.40241632e+00],\n",
              "               [ 6.84169275e-01,  6.56024399e-02,\n",
              "                 7.97427087e-01,  1.81280302e+00,\n",
              "                -7.00421071e-01]],\n",
              "\n",
              "              [[ 1.34631794e+00,  1.61288900e+00,\n",
              "                -1.64667521e-02, -2.91842947e-01,\n",
              "                -1.10758813e+00],\n",
              "               [ 4.50920510e-01,  1.15134445e+00,\n",
              "                 3.11165020e+00, -2.18208377e-01,\n",
              "                -7.29754019e-01]]],\n",
              "\n",
              "\n",
              "             [[[-1.36943601e+00,  4.23341260e-01,\n",
              "                 1.29652298e+00,  1.21135867e-01,\n",
              "                -1.76423031e+00],\n",
              "               [ 2.96299818e-01, -5.78628161e-01,\n",
              "                -7.18987422e-01, -7.73371520e-01,\n",
              "                 5.84477574e-01]],\n",
              "\n",
              "              [[ 2.51708095e+00,  2.35180731e+00,\n",
              "                -1.38979555e+00,  1.21758826e+00,\n",
              "                 1.24402183e+00],\n",
              "               [-3.25178181e-02,  9.05098643e-01,\n",
              "                -2.73537249e-01, -2.13338007e+00,\n",
              "                 2.03218792e-01]]]],\n",
              "\n",
              "\n",
              "\n",
              "            [[[[ 8.22696340e-02,  2.89624332e+00,\n",
              "                -1.13776167e-02, -8.84235102e-01,\n",
              "                -1.54562352e-01],\n",
              "               [-7.08045031e-01,  7.37373268e-01,\n",
              "                -2.07313571e+00, -2.05844428e+00,\n",
              "                 7.90362331e-01]],\n",
              "\n",
              "              [[ 8.51287977e-01,  4.65994748e-01,\n",
              "                 1.49626194e-01,  8.20667181e-01,\n",
              "                 8.62203170e-01],\n",
              "               [-1.47398964e-01,  7.17759532e-01,\n",
              "                -1.30661322e-01,  8.82715401e-02,\n",
              "                 7.04131021e-01]]],\n",
              "\n",
              "\n",
              "             [[[-5.44477195e-02, -2.96455857e-01,\n",
              "                -1.53157591e-01, -8.21245457e-01,\n",
              "                 1.56314715e+00],\n",
              "               [-9.38296502e-01,  1.40956348e+00,\n",
              "                -4.16077152e-01,  9.80065138e-01,\n",
              "                -5.36406294e-01]],\n",
              "\n",
              "              [[ 6.36311367e-02,  1.29557375e+00,\n",
              "                 5.51706341e-01, -1.61992539e+00,\n",
              "                 9.03097755e-01],\n",
              "               [ 2.01600700e+00, -1.32714241e+00,\n",
              "                -3.34604183e+00,  9.66455403e-02,\n",
              "                -1.45836450e+00]]]]]]]],\n",
              "\n",
              "\n",
              "\n",
              "\n",
              "\n",
              "\n",
              "\n",
              "        [[[[[[[[-9.16567027e-03, -8.11083287e-01,\n",
              "                -1.16166748e-01,  1.37334737e+00,\n",
              "                 2.19303549e+00],\n",
              "               [ 8.59665052e-01, -3.07980900e-01,\n",
              "                 2.54892678e-01, -1.49289975e+00,\n",
              "                 5.15849505e-01]],\n",
              "\n",
              "              [[ 2.47247402e+00,  7.39151742e-01,\n",
              "                -1.83849374e+00, -8.07022148e-01,\n",
              "                 2.09066929e-01],\n",
              "               [-3.36658766e-01, -1.18731395e-01,\n",
              "                 1.09876493e+00, -1.36732618e-01,\n",
              "                 1.17575600e+00]]],\n",
              "\n",
              "\n",
              "             [[[-2.76725399e-01,  1.14395259e-01,\n",
              "                -7.18185652e-01, -1.49665427e+00,\n",
              "                -8.01027821e-01],\n",
              "               [-2.22763242e+00,  1.38628313e-01,\n",
              "                -7.55325817e-01, -6.63820002e-01,\n",
              "                -9.33430262e-01]],\n",
              "\n",
              "              [[ 1.03815938e+00, -1.08630318e+00,\n",
              "                 3.27697525e-01, -6.62211346e-01,\n",
              "                 1.83261116e+00],\n",
              "               [-4.33089429e-01,  1.02363751e+00,\n",
              "                 9.90665629e-01, -3.47968193e-01,\n",
              "                -9.83746603e-03]]]],\n",
              "\n",
              "\n",
              "\n",
              "            [[[[ 1.34940556e+00,  1.54627033e+00,\n",
              "                -7.94182095e-01,  7.32994022e-01,\n",
              "                -6.64696288e-02],\n",
              "               [-3.25426416e-01,  9.06274363e-01,\n",
              "                 1.86315069e-01, -2.71053472e+00,\n",
              "                 1.65587908e+00]],\n",
              "\n",
              "              [[ 1.36458029e+00, -5.17455169e-01,\n",
              "                -6.18199740e-01, -1.15252105e-05,\n",
              "                 1.48463957e+00],\n",
              "               [ 5.49621630e-01, -1.31062338e+00,\n",
              "                 5.30023799e-01, -2.63064005e-01,\n",
              "                 2.18252100e-01]]],\n",
              "\n",
              "\n",
              "             [[[ 5.69107286e-01,  7.10517093e-01,\n",
              "                -1.05363030e+00, -1.45391348e+00,\n",
              "                -4.43256017e-01],\n",
              "               [ 1.50249304e-01, -2.74643589e-01,\n",
              "                 2.97547159e+00,  2.04013343e+00,\n",
              "                 1.87122922e+00]],\n",
              "\n",
              "              [[ 1.55762620e+00,  3.21489078e-01,\n",
              "                -1.40133415e+00, -9.24746980e-01,\n",
              "                -1.21319137e+00],\n",
              "               [-3.86094755e-02,  7.85493559e-01,\n",
              "                 1.26767266e+00,  1.46032047e+00,\n",
              "                -9.29338981e-01]]]]],\n",
              "\n",
              "\n",
              "\n",
              "\n",
              "           [[[[[ 1.40245345e+00, -4.34652927e-01,\n",
              "                 1.17194951e+00, -8.94203846e-01,\n",
              "                -8.28779651e-01],\n",
              "               [ 1.01897724e+00, -3.65902322e-01,\n",
              "                 1.41661535e-01, -1.00174261e+00,\n",
              "                 4.19995007e-01]],\n",
              "\n",
              "              [[ 2.33614724e-01,  1.53684463e+00,\n",
              "                -1.15343660e+00,  6.99018689e-01,\n",
              "                -8.61744724e-02],\n",
              "               [-8.35012207e-01,  8.64991306e-01,\n",
              "                -9.29643174e-02,  1.28503605e+00,\n",
              "                 5.31412673e-02]]],\n",
              "\n",
              "\n",
              "             [[[-2.30702982e-01,  1.61910374e-01,\n",
              "                -1.02845024e+00, -2.20415485e-02,\n",
              "                 4.62949863e-01],\n",
              "               [-6.41369532e-02, -8.70613271e-01,\n",
              "                -1.49235360e+00, -7.32533719e-01,\n",
              "                 6.74204737e-01]],\n",
              "\n",
              "              [[ 3.38618922e-01,  2.45313139e+00,\n",
              "                 1.13744775e+00,  1.20892526e+00,\n",
              "                -1.15998474e+00],\n",
              "               [-1.51391616e+00, -1.64704264e+00,\n",
              "                 7.28336428e-01,  1.10774819e+00,\n",
              "                -2.16841818e+00]]]],\n",
              "\n",
              "\n",
              "\n",
              "            [[[[ 1.40761625e+00,  7.19961950e-01,\n",
              "                 1.41162688e+00, -5.68622496e-01,\n",
              "                 5.90992324e-01],\n",
              "               [-6.11780526e-01,  2.35400257e+00,\n",
              "                -4.74252947e-01, -6.24309717e-01,\n",
              "                -5.10312804e-01]],\n",
              "\n",
              "              [[-6.21170453e-01, -2.24670914e+00,\n",
              "                -1.35850644e+00, -2.59084779e-01,\n",
              "                 7.90980681e-01],\n",
              "               [ 1.71050448e+00,  5.66734372e-02,\n",
              "                -9.31952783e-02,  1.28006774e+00,\n",
              "                 7.88041902e-01]]],\n",
              "\n",
              "\n",
              "             [[[-1.73621225e+00, -1.86471067e+00,\n",
              "                -3.27560623e-05, -2.11803469e+00,\n",
              "                -1.30499678e+00],\n",
              "               [ 6.62750578e-01, -6.09065136e-01,\n",
              "                 1.13547734e-01, -4.17732238e-01,\n",
              "                -4.18601982e-01]],\n",
              "\n",
              "              [[ 9.92706795e-01, -1.43258649e+00,\n",
              "                 2.33117559e+00, -9.71964353e-01,\n",
              "                -7.11199817e-01],\n",
              "               [ 2.20937198e+00,  4.97433774e-01,\n",
              "                -1.01334458e-01, -3.02500167e-01,\n",
              "                 7.96020599e-01]]]]]],\n",
              "\n",
              "\n",
              "\n",
              "\n",
              "\n",
              "          [[[[[[ 2.89742373e-01,  2.64849940e+00,\n",
              "                -2.01943149e-02,  4.94336225e-02,\n",
              "                 2.27551421e-01],\n",
              "               [ 3.47799503e-02,  9.63812334e-02,\n",
              "                 1.06723941e+00,  1.22670919e-01,\n",
              "                 1.17033434e+00]],\n",
              "\n",
              "              [[-2.03516025e+00, -5.84595778e-01,\n",
              "                -1.28534095e+00, -4.66942975e-02,\n",
              "                -3.85183589e-01],\n",
              "               [ 4.35713225e-01,  4.49665163e-01,\n",
              "                -6.61589485e-01, -8.23179446e-01,\n",
              "                -1.10746706e+00]]],\n",
              "\n",
              "\n",
              "             [[[-4.38375157e-01,  2.25428737e+00,\n",
              "                -1.51057092e-01, -1.20013312e+00,\n",
              "                -1.33713123e+00],\n",
              "               [ 1.13128691e+00, -1.34506045e-01,\n",
              "                 8.33842323e-01, -1.01099897e+00,\n",
              "                 6.36916091e-02]],\n",
              "\n",
              "              [[-1.63216955e-01, -2.17426183e+00,\n",
              "                 1.46038467e+00,  1.86325731e-01,\n",
              "                 1.15483085e+00],\n",
              "               [-4.64326111e-01,  3.44624278e-03,\n",
              "                 1.91228588e+00, -1.19106766e+00,\n",
              "                 2.09967337e-01]]]],\n",
              "\n",
              "\n",
              "\n",
              "            [[[[-7.75129378e-01,  1.04947665e+00,\n",
              "                 1.56817050e+00,  1.24272364e+00,\n",
              "                -8.60432615e-01],\n",
              "               [ 6.50975243e-02, -1.08862222e-01,\n",
              "                 2.40355110e+00,  4.60383259e-01,\n",
              "                -3.71300011e-01]],\n",
              "\n",
              "              [[-6.61547572e-01,  1.87281889e+00,\n",
              "                 1.28416131e+00,  1.85084181e+00,\n",
              "                -7.63121593e-02],\n",
              "               [ 6.17592664e-02, -1.97731315e+00,\n",
              "                 3.36536094e-01,  1.48837870e+00,\n",
              "                -3.18900796e-01]]],\n",
              "\n",
              "\n",
              "             [[[-4.46779590e-01, -1.28125644e+00,\n",
              "                -5.70319435e-01, -3.93500374e-01,\n",
              "                -3.47839813e-01],\n",
              "               [ 9.98949272e-01, -3.49363546e-01,\n",
              "                 8.46513828e-01, -1.71483739e-01,\n",
              "                -3.44951205e-01]],\n",
              "\n",
              "              [[ 9.85058824e-02,  3.33458933e-01,\n",
              "                -1.60806519e+00,  2.04282677e-02,\n",
              "                -1.95919576e-01],\n",
              "               [-4.56984959e-01,  1.11798650e+00,\n",
              "                 7.81582315e-01,  7.31110656e-01,\n",
              "                -1.61727188e+00]]]]],\n",
              "\n",
              "\n",
              "\n",
              "\n",
              "           [[[[[ 1.54575377e+00,  9.01089209e-01,\n",
              "                 1.55819281e+00, -3.30022162e-01,\n",
              "                 2.16758799e-01],\n",
              "               [ 4.76590284e-01,  7.15458004e-01,\n",
              "                -1.27106022e+00,  1.24356192e+00,\n",
              "                -3.00430058e-01]],\n",
              "\n",
              "              [[ 1.90421923e+00,  1.84892581e+00,\n",
              "                -4.87502738e-01,  2.65937790e-02,\n",
              "                 9.12604730e-01],\n",
              "               [ 1.73059499e+00,  1.30409488e-01,\n",
              "                 1.64470476e+00, -2.21156153e+00,\n",
              "                 2.19636995e-01]]],\n",
              "\n",
              "\n",
              "             [[[-7.79328541e-01, -6.22127818e-01,\n",
              "                -9.13152459e-02,  1.57814392e+00,\n",
              "                 8.94761619e-01],\n",
              "               [ 9.48456551e-01, -2.13486271e+00,\n",
              "                 4.62903879e-02, -7.07699911e-01,\n",
              "                 3.71194671e-01]],\n",
              "\n",
              "              [[-8.24205230e-01, -2.36630486e+00,\n",
              "                 1.83436988e-01,  8.75973946e-02,\n",
              "                -6.43103710e-01],\n",
              "               [-2.35866104e+00, -5.32492941e-01,\n",
              "                -1.59131506e+00,  3.63134305e-01,\n",
              "                 1.86361950e-01]]]],\n",
              "\n",
              "\n",
              "\n",
              "            [[[[ 7.44473367e-02, -1.03594828e+00,\n",
              "                 2.89985437e-01, -1.91764082e-01,\n",
              "                 3.48833968e-01],\n",
              "               [ 1.25186613e+00,  4.25064000e-01,\n",
              "                -1.54713638e-02, -1.60486915e-01,\n",
              "                -1.82532474e+00]],\n",
              "\n",
              "              [[-9.15274240e-01,  7.81463526e-01,\n",
              "                -8.04959138e-01,  1.20387966e+00,\n",
              "                -5.78789960e-01],\n",
              "               [-5.57980631e-01, -3.37359278e-01,\n",
              "                -5.18286898e-01, -2.25235168e+00,\n",
              "                 1.55486838e+00]]],\n",
              "\n",
              "\n",
              "             [[[-9.66860174e-01,  1.17233748e+00,\n",
              "                 4.89007186e-01,  8.20530310e-01,\n",
              "                 4.40860124e-02],\n",
              "               [ 1.51041150e+00,  6.54742347e-01,\n",
              "                -2.65983141e+00,  1.02062831e+00,\n",
              "                 1.98925195e+00]],\n",
              "\n",
              "              [[ 2.09561905e+00,  1.00649514e+00,\n",
              "                -2.65477627e-01,  1.35241331e+00,\n",
              "                 1.30146461e+00],\n",
              "               [-1.56012300e-01,  3.27980833e-01,\n",
              "                -6.45947343e-01, -5.77333331e-01,\n",
              "                 6.25505299e-01]]]]]]],\n",
              "\n",
              "\n",
              "\n",
              "\n",
              "\n",
              "\n",
              "         [[[[[[[ 1.35523173e-01,  1.58669466e-01,\n",
              "                 4.41206218e-01,  3.24472534e-01,\n",
              "                -4.08334100e-01],\n",
              "               [-1.13423858e+00, -4.72568907e-01,\n",
              "                 2.55804992e-01, -6.45828858e-01,\n",
              "                 1.08885206e+00]],\n",
              "\n",
              "              [[-9.19456726e-01,  2.37350926e-01,\n",
              "                -8.29655031e-01,  1.02526416e+00,\n",
              "                -7.19695074e-01],\n",
              "               [ 9.17417570e-01,  1.81199612e-01,\n",
              "                 1.82194170e+00, -1.97841173e-01,\n",
              "                -3.36487463e-01]]],\n",
              "\n",
              "\n",
              "             [[[-1.13995543e-01, -1.32973889e-01,\n",
              "                 1.21801928e+00, -6.09073186e-01,\n",
              "                -1.19001869e+00],\n",
              "               [ 1.70795326e-01, -3.73407917e-01,\n",
              "                 1.29741697e-01,  1.10913037e+00,\n",
              "                 1.27556359e+00]],\n",
              "\n",
              "              [[ 2.54516392e-01,  6.07132673e-01,\n",
              "                -2.58856053e+00,  1.57321765e-02,\n",
              "                 3.95125062e-01],\n",
              "               [ 4.96060417e-01, -8.64511664e-01,\n",
              "                -6.16078146e-01,  1.21080907e+00,\n",
              "                -1.35876180e+00]]]],\n",
              "\n",
              "\n",
              "\n",
              "            [[[[-2.93194341e-01, -1.95720975e+00,\n",
              "                 4.49327145e-01,  1.52530641e-01,\n",
              "                -4.76751692e-01],\n",
              "               [ 3.93623777e-01, -2.30761053e+00,\n",
              "                -3.16239923e-01,  8.39851568e-01,\n",
              "                -5.15964818e-01]],\n",
              "\n",
              "              [[ 4.95817114e-01,  2.00308031e-01,\n",
              "                 6.51352345e-02, -1.37389913e+00,\n",
              "                -9.63870133e-01],\n",
              "               [ 1.60139734e+00, -2.81866740e-01,\n",
              "                -1.57171948e+00,  8.11390337e-01,\n",
              "                -5.43130798e-01]]],\n",
              "\n",
              "\n",
              "             [[[-4.92912782e-01, -8.53561978e-01,\n",
              "                -1.89663862e+00,  6.47072630e-01,\n",
              "                -9.83457071e-01],\n",
              "               [-1.29570411e+00,  7.89996990e-01,\n",
              "                -9.62117349e-02,  1.47013178e-01,\n",
              "                -1.01031397e+00]],\n",
              "\n",
              "              [[ 4.89271235e-01, -1.47557301e+00,\n",
              "                -7.35206745e-01, -8.97665027e-01,\n",
              "                 1.02976091e+00],\n",
              "               [ 6.97110333e-01,  8.02808353e-01,\n",
              "                 2.43827983e-01, -1.03510301e+00,\n",
              "                 4.41652167e-01]]]]],\n",
              "\n",
              "\n",
              "\n",
              "\n",
              "           [[[[[ 1.60193824e-01,  2.44339025e-01,\n",
              "                -1.73943069e-01,  4.55555232e-01,\n",
              "                 9.62692235e-01],\n",
              "               [ 6.60868446e-01, -4.43963232e-01,\n",
              "                -5.85703834e-01,  3.27057248e-01,\n",
              "                -1.66623421e-01]],\n",
              "\n",
              "              [[ 1.28327433e+00,  9.73760597e-01,\n",
              "                 1.51540874e+00, -1.37490090e-01,\n",
              "                -9.15221053e-01],\n",
              "               [ 1.84291114e-01, -5.43736341e-01,\n",
              "                -3.58332676e-01,  3.47233447e-01,\n",
              "                 1.67430603e+00]]],\n",
              "\n",
              "\n",
              "             [[[-8.70844324e-01,  6.78136185e-01,\n",
              "                 5.45846680e-01, -1.62784130e+00,\n",
              "                -1.46100785e-02],\n",
              "               [-1.39557832e+00, -1.99443560e-01,\n",
              "                 6.39772842e-01, -2.25879135e-01,\n",
              "                -3.67713930e-01]],\n",
              "\n",
              "              [[ 1.93202221e-01, -1.43590805e+00,\n",
              "                 6.04104237e-01, -8.19858964e-01,\n",
              "                 1.25967124e+00],\n",
              "               [ 6.08669742e-02, -8.55753075e-01,\n",
              "                -1.60817125e+00, -7.65074129e-01,\n",
              "                 1.15104682e-01]]]],\n",
              "\n",
              "\n",
              "\n",
              "            [[[[ 4.02073726e-02,  7.88804212e-01,\n",
              "                -1.30416921e+00, -3.78126427e-02,\n",
              "                 2.50898546e-01],\n",
              "               [ 2.16942385e+00,  1.56505683e+00,\n",
              "                -4.37291385e-01, -6.05787834e-01,\n",
              "                 1.17795711e+00]],\n",
              "\n",
              "              [[ 7.93740104e-01, -2.31674486e+00,\n",
              "                -1.52731375e-01,  1.81321249e+00,\n",
              "                -5.17233429e-02],\n",
              "               [ 3.81649112e-01, -1.59101694e+00,\n",
              "                -2.77519692e-01,  5.59787374e-01,\n",
              "                 2.22918898e-03]]],\n",
              "\n",
              "\n",
              "             [[[ 1.00302468e+00,  6.28926564e-01,\n",
              "                 3.77498289e-01,  1.71280288e+00,\n",
              "                -8.38636767e-02],\n",
              "               [-1.00060028e+00, -6.87799376e-01,\n",
              "                -1.63975531e-01, -1.69705685e-01,\n",
              "                -5.45803957e-01]],\n",
              "\n",
              "              [[ 9.45363732e-01, -3.84511081e-01,\n",
              "                 2.21067985e+00,  2.42993197e-01,\n",
              "                 1.25163768e-01],\n",
              "               [-1.42588431e+00, -8.63848850e-01,\n",
              "                 4.13106451e-01,  1.74764059e+00,\n",
              "                 9.67201175e-01]]]]]],\n",
              "\n",
              "\n",
              "\n",
              "\n",
              "\n",
              "          [[[[[[-1.95915319e-01,  1.09478876e+00,\n",
              "                -1.75614256e-01, -3.20377690e-01,\n",
              "                -1.96265143e-01],\n",
              "               [ 9.11031089e-01,  1.21889779e-01,\n",
              "                -3.60055920e-01,  1.66021377e+00,\n",
              "                -6.71934182e-01]],\n",
              "\n",
              "              [[-7.69405825e-01, -3.61532451e-01,\n",
              "                -6.46335514e-01,  1.26810307e+00,\n",
              "                 1.32557597e-01],\n",
              "               [-2.12233100e-02,  1.35049137e+00,\n",
              "                 4.84863286e-01, -5.76930222e-01,\n",
              "                 2.27682559e+00]]],\n",
              "\n",
              "\n",
              "             [[[-1.35380290e+00,  6.48849998e-01,\n",
              "                -9.71799485e-01,  1.61952710e+00,\n",
              "                 1.39174601e+00],\n",
              "               [-2.29923285e+00,  8.26072413e-01,\n",
              "                -1.20262749e+00, -1.11350597e+00,\n",
              "                -2.17736822e+00]],\n",
              "\n",
              "              [[ 1.75555020e+00, -3.95152743e-01,\n",
              "                -1.05217231e-01, -3.57841892e-01,\n",
              "                 2.73990791e-02],\n",
              "               [-4.44423538e-01, -8.11142288e-01,\n",
              "                -9.61864362e-02, -4.67361455e-01,\n",
              "                 6.95184380e-01]]]],\n",
              "\n",
              "\n",
              "\n",
              "            [[[[ 1.71162426e+00, -1.26321453e-01,\n",
              "                -1.36175802e-01, -1.05790007e+00,\n",
              "                 5.77868306e-01],\n",
              "               [-1.05056585e+00,  2.90610331e-01,\n",
              "                -1.30774513e+00, -2.81067014e-01,\n",
              "                 7.28671447e-01]],\n",
              "\n",
              "              [[-2.76084169e-01, -2.50220654e-01,\n",
              "                -1.48282992e+00,  7.43905750e-02,\n",
              "                 3.14080396e-01],\n",
              "               [ 6.15126876e-01, -9.29977211e-01,\n",
              "                 9.87823106e-01,  7.66379132e-01,\n",
              "                 1.41891799e-02]]],\n",
              "\n",
              "\n",
              "             [[[ 1.12651272e+00,  5.36000012e-01,\n",
              "                -1.43238373e+00,  7.38354494e-01,\n",
              "                -1.45785772e+00],\n",
              "               [ 9.98053713e-01,  2.05122315e+00,\n",
              "                -6.00465102e-01, -1.51453976e+00,\n",
              "                -1.26200762e+00]],\n",
              "\n",
              "              [[-2.41512585e-01, -1.52107735e+00,\n",
              "                -1.51537734e-01, -9.37105986e-01,\n",
              "                -5.03227841e-01],\n",
              "               [-9.07938788e-01,  6.92075348e-01,\n",
              "                 1.05373775e+00, -5.01061254e-01,\n",
              "                -1.04673554e+00]]]]],\n",
              "\n",
              "\n",
              "\n",
              "\n",
              "           [[[[[ 9.40471426e-01, -9.90948906e-01,\n",
              "                 2.33562363e+00,  1.12617095e+00,\n",
              "                -1.15868092e+00],\n",
              "               [-1.00083503e+00, -8.02881536e-01,\n",
              "                -1.05928714e+00, -6.86746552e-01,\n",
              "                 7.00126182e-01]],\n",
              "\n",
              "              [[ 3.85820344e-01,  2.63478903e-01,\n",
              "                -1.05349015e+00,  2.93761656e-01,\n",
              "                 1.19806804e+00],\n",
              "               [-1.82101497e-01, -4.44882442e-01,\n",
              "                 1.65917582e+00, -1.02835173e+00,\n",
              "                 3.42311139e-01]]],\n",
              "\n",
              "\n",
              "             [[[-3.43624121e-01, -7.51582282e-01,\n",
              "                -6.45286094e-01, -1.08557013e+00,\n",
              "                 9.52206099e-01],\n",
              "               [-6.43264638e-02,  1.94113554e+00,\n",
              "                -9.60082458e-02, -9.51855108e-01,\n",
              "                -9.17983022e-01]],\n",
              "\n",
              "              [[-1.35880722e+00,  5.62291869e-01,\n",
              "                 3.37798824e-01, -8.96485396e-01,\n",
              "                 7.56281705e-01],\n",
              "               [-1.69998559e+00,  7.72243861e-01,\n",
              "                 8.94855237e-02,  7.72238748e-01,\n",
              "                 4.09914931e-01]]]],\n",
              "\n",
              "\n",
              "\n",
              "            [[[[ 1.62556325e-01,  4.55963969e-01,\n",
              "                -2.19005741e-01, -4.33547268e-01,\n",
              "                -1.81650877e-01],\n",
              "               [ 2.32053565e-01, -1.14556713e-01,\n",
              "                 2.48454142e-01,  9.45530228e-01,\n",
              "                -1.89716281e-01]],\n",
              "\n",
              "              [[ 1.27969736e+00,  1.35525381e+00,\n",
              "                 2.03275313e-01, -1.12069052e+00,\n",
              "                 7.54083932e-01],\n",
              "               [ 6.49587642e-01, -2.19304876e-01,\n",
              "                -6.89217346e-01, -6.41805965e-01,\n",
              "                 6.42838529e-01]]],\n",
              "\n",
              "\n",
              "             [[[ 9.24514588e-01, -1.14456126e+00,\n",
              "                 1.39546547e+00, -1.19504442e+00,\n",
              "                -7.70944444e-01],\n",
              "               [ 1.61135996e-01, -1.32255576e+00,\n",
              "                -9.35993603e-01,  6.08461062e-01,\n",
              "                -1.33957839e+00]],\n",
              "\n",
              "              [[-9.20340698e-01,  2.74008230e-02,\n",
              "                -9.22194842e-01,  2.22544067e+00,\n",
              "                 1.35360793e+00],\n",
              "               [-3.59359770e-01, -6.48138339e-03,\n",
              "                -1.31951345e-01,  1.76020719e+00,\n",
              "                -1.18274833e-01]]]]]]]]],\n",
              "\n",
              "\n",
              "\n",
              "\n",
              "\n",
              "\n",
              "\n",
              "\n",
              "       [[[[[[[[[-1.28920709e+00, -5.76242222e-01,\n",
              "                -1.01087907e+00, -4.55641513e-01,\n",
              "                -8.54773316e-02],\n",
              "               [-7.57784575e-01, -8.23590729e-01,\n",
              "                -1.80093653e+00,  2.58838552e-01,\n",
              "                 2.64942350e-01]],\n",
              "\n",
              "              [[ 3.33953728e-01,  5.65462021e-02,\n",
              "                -3.39810044e-01, -1.36773277e+00,\n",
              "                 1.06679257e+00],\n",
              "               [ 3.00480878e-01, -1.42197024e+00,\n",
              "                -6.30216847e-01,  1.27890096e+00,\n",
              "                -1.37254522e+00]]],\n",
              "\n",
              "\n",
              "             [[[-5.88356366e-01, -6.25435025e-01,\n",
              "                 1.85769926e-01, -3.44807410e-01,\n",
              "                -1.11329696e+00],\n",
              "               [ 7.31527782e-01, -5.74543949e-01,\n",
              "                 4.74240983e-01,  5.13739267e-01,\n",
              "                -4.17348622e-01]],\n",
              "\n",
              "              [[-5.93058904e-01, -1.06402282e+00,\n",
              "                -7.80922260e-01, -8.98601785e-01,\n",
              "                 3.87420028e-01],\n",
              "               [ 1.15378677e+00,  9.61331059e-02,\n",
              "                -6.28575943e-01, -6.85984183e-02,\n",
              "                -1.39813870e+00]]]],\n",
              "\n",
              "\n",
              "\n",
              "            [[[[-7.54971078e-01, -1.02714732e+00,\n",
              "                -1.38810396e+00, -7.77198763e-01,\n",
              "                -1.13075102e+00],\n",
              "               [ 8.94019837e-01, -9.15285001e-01,\n",
              "                -1.25876638e+00, -8.20116436e-01,\n",
              "                 2.96259650e-01]],\n",
              "\n",
              "              [[ 1.91669869e+00, -7.32205672e-01,\n",
              "                -2.56362556e-01, -2.83380285e-01,\n",
              "                 5.16148205e-01],\n",
              "               [ 6.98341422e-01,  9.66659942e-01,\n",
              "                -1.66192315e+00,  2.55165894e-01,\n",
              "                 2.25546587e+00]]],\n",
              "\n",
              "\n",
              "             [[[-2.33153115e+00,  5.08101286e-01,\n",
              "                 1.42408436e+00,  2.61188844e-01,\n",
              "                 4.09007474e-02],\n",
              "               [-1.25449794e+00,  4.89129542e-01,\n",
              "                -2.01121683e+00,  2.56659375e+00,\n",
              "                -6.59880982e-01]],\n",
              "\n",
              "              [[-8.51443920e-01, -1.85546895e-01,\n",
              "                -1.04098851e+00, -8.12999336e-01,\n",
              "                -5.24540290e-01],\n",
              "               [-1.74505614e+00,  7.76894833e-01,\n",
              "                 1.23165277e+00, -1.85262817e+00,\n",
              "                -1.47041457e+00]]]]],\n",
              "\n",
              "\n",
              "\n",
              "\n",
              "           [[[[[ 3.91493619e-01,  1.71360108e+00,\n",
              "                -1.53873853e-01, -2.26354913e+00,\n",
              "                 1.19031180e+00],\n",
              "               [-9.22542741e-01, -6.94014017e-01,\n",
              "                 1.82461098e+00, -9.90853358e-01,\n",
              "                 4.83439250e-01]],\n",
              "\n",
              "              [[ 4.90417613e-01,  9.37303875e-01,\n",
              "                -3.07578871e-01, -3.42405720e-01,\n",
              "                -9.00937279e-02],\n",
              "               [-1.17970392e-01, -4.59574513e-01,\n",
              "                -1.25125768e+00, -8.35378027e-01,\n",
              "                -1.71223500e+00]]],\n",
              "\n",
              "\n",
              "             [[[-3.18663353e+00, -1.96059403e-01,\n",
              "                -6.08744498e-01, -2.83280018e-01,\n",
              "                 1.25536236e+00],\n",
              "               [-3.17637556e-01,  1.90590636e-01,\n",
              "                -1.71132794e+00, -3.11824377e-01,\n",
              "                -2.70073199e-01]],\n",
              "\n",
              "              [[-7.22386398e-01,  1.03017265e+00,\n",
              "                -7.19197515e-01, -1.04319588e+00,\n",
              "                -8.46431502e-01],\n",
              "               [ 1.32070339e+00, -1.16981603e-01,\n",
              "                 5.58580896e-02, -8.82142516e-01,\n",
              "                -7.42129158e-01]]]],\n",
              "\n",
              "\n",
              "\n",
              "            [[[[-2.89941494e+00,  9.64627277e-01,\n",
              "                 2.24084376e-01,  5.17100722e-01,\n",
              "                -1.70606144e-01],\n",
              "               [ 5.06515091e-02, -2.11157222e+00,\n",
              "                 2.17521084e-01, -6.45187346e-01,\n",
              "                 2.01147952e-01]],\n",
              "\n",
              "              [[-3.79675271e-01, -2.22894006e+00,\n",
              "                -9.84600642e-01, -1.98953259e+00,\n",
              "                -1.65941797e-01],\n",
              "               [ 3.61967035e-01, -7.77058580e-01,\n",
              "                 7.44395799e-02, -6.52017884e-01,\n",
              "                 4.32947745e-01]]],\n",
              "\n",
              "\n",
              "             [[[ 7.28086970e-01,  7.50284428e-01,\n",
              "                 9.76934537e-01,  9.12686095e-01,\n",
              "                -1.30447338e+00],\n",
              "               [-1.64640315e+00,  9.45304287e-02,\n",
              "                 9.90842072e-01,  6.30975500e-01,\n",
              "                 1.10898992e-01]],\n",
              "\n",
              "              [[ 1.20952446e+00, -1.12422513e-01,\n",
              "                 1.44320337e+00,  1.05047292e+00,\n",
              "                 6.72789464e-01],\n",
              "               [-1.08124304e+00, -1.44391618e+00,\n",
              "                 4.55250994e-01, -2.07983431e+00,\n",
              "                -3.56650854e-01]]]]]],\n",
              "\n",
              "\n",
              "\n",
              "\n",
              "\n",
              "          [[[[[[ 9.80086731e-01,  2.19068514e+00,\n",
              "                 5.84870235e-01, -1.43815295e+00,\n",
              "                -1.16604492e+00],\n",
              "               [-9.55694900e-01, -1.67218184e+00,\n",
              "                -3.02543597e+00,  1.52465346e-01,\n",
              "                 3.31336653e-01]],\n",
              "\n",
              "              [[ 6.58384460e-01, -7.23849645e-01,\n",
              "                 4.80612305e-01,  1.57216445e+00,\n",
              "                 1.98254199e-03],\n",
              "               [ 7.05023312e-01, -2.49624147e+00,\n",
              "                -6.45616346e-01, -5.97418579e-01,\n",
              "                -7.15908802e-01]]],\n",
              "\n",
              "\n",
              "             [[[-3.43818935e-01, -6.63445019e-01,\n",
              "                 8.40013786e-01,  1.22478751e+00,\n",
              "                 1.06413944e+00],\n",
              "               [-6.66512814e-01,  1.34178065e+00,\n",
              "                 3.74630703e-01, -8.29838620e-01,\n",
              "                -2.03532144e+00]],\n",
              "\n",
              "              [[ 9.98146870e-02, -1.88715217e+00,\n",
              "                 1.20892968e+00,  5.96039978e-01,\n",
              "                 6.15756584e-01],\n",
              "               [-9.22294905e-01, -6.42515617e-01,\n",
              "                -1.33040312e+00,  5.36341405e-01,\n",
              "                 3.52096862e-01]]]],\n",
              "\n",
              "\n",
              "\n",
              "            [[[[-7.09267195e-01,  1.54380381e-01,\n",
              "                 1.74443960e+00,  1.38441727e+00,\n",
              "                 4.15535462e-02],\n",
              "               [ 1.10344457e+00, -1.39531598e-03,\n",
              "                 9.45617618e-01,  1.57414251e+00,\n",
              "                 9.12385538e-01]],\n",
              "\n",
              "              [[-3.50239044e-01, -1.24183552e+00,\n",
              "                 1.90913637e+00, -7.33850269e-01,\n",
              "                -3.44018423e-01],\n",
              "               [ 1.15667062e+00, -2.04146024e+00,\n",
              "                 1.07129200e+00, -2.77841135e-01,\n",
              "                 4.00793408e-01]]],\n",
              "\n",
              "\n",
              "             [[[ 7.00676644e-01,  1.98095034e-01,\n",
              "                 1.34589672e+00,  1.86244002e+00,\n",
              "                 2.81251419e-01],\n",
              "               [-8.88468865e-01,  5.34856392e-01,\n",
              "                 6.19778878e-01,  2.00194492e+00,\n",
              "                -1.72615851e+00]],\n",
              "\n",
              "              [[-1.17514067e+00, -1.12349148e+00,\n",
              "                -3.14245351e-01, -7.18088827e-01,\n",
              "                 6.10528740e-02],\n",
              "               [-1.18180698e-01, -5.32882277e-02,\n",
              "                 4.32507405e-01, -2.13404810e-01,\n",
              "                 1.48122274e+00]]]]],\n",
              "\n",
              "\n",
              "\n",
              "\n",
              "           [[[[[ 6.00215893e-01,  3.42373913e-01,\n",
              "                 5.56871779e-01, -6.10560746e-02,\n",
              "                -1.31853535e+00],\n",
              "               [-6.93603184e-01,  2.88977357e+00,\n",
              "                -4.21207284e-01,  6.16150073e-01,\n",
              "                 6.59205124e-01]],\n",
              "\n",
              "              [[ 8.39475164e-01,  8.10629879e-01,\n",
              "                -2.49188050e-01,  3.60529257e-01,\n",
              "                 2.41273463e-01],\n",
              "               [ 3.92547838e-01,  6.72297167e-01,\n",
              "                -9.81894365e-01,  4.02847229e-01,\n",
              "                 7.86870512e-01]]],\n",
              "\n",
              "\n",
              "             [[[ 1.19096813e-02,  1.13703367e+00,\n",
              "                -3.31102616e-01, -2.02230062e+00,\n",
              "                -8.35432148e-01],\n",
              "               [-1.53430667e-01, -5.87863413e-01,\n",
              "                 1.28688071e+00,  4.56029134e-01,\n",
              "                -5.27508984e-01]],\n",
              "\n",
              "              [[ 2.44782614e-02, -5.78654202e-01,\n",
              "                 1.03131230e-01, -9.48681221e-01,\n",
              "                -1.30437456e-01],\n",
              "               [ 1.66856366e-01, -7.26189568e-01,\n",
              "                -5.30795763e-02,  3.55570669e-01,\n",
              "                -2.19105247e-01]]]],\n",
              "\n",
              "\n",
              "\n",
              "            [[[[ 6.42703038e-01, -1.43017797e-01,\n",
              "                 4.22234444e-01, -1.96093429e+00,\n",
              "                 8.49022366e-01],\n",
              "               [-2.02120233e-01, -5.40431155e-01,\n",
              "                 9.67024047e-01,  1.39989662e+00,\n",
              "                -1.63415983e-01]],\n",
              "\n",
              "              [[-9.16715205e-01, -9.49589211e-01,\n",
              "                 1.52434188e+00,  4.07230033e-01,\n",
              "                 1.33316294e+00],\n",
              "               [ 6.29994464e-01,  6.02847732e-01,\n",
              "                -1.02737851e+00, -1.24828161e+00,\n",
              "                -3.54738264e-01]]],\n",
              "\n",
              "\n",
              "             [[[ 1.55785254e+00,  9.43568061e-01,\n",
              "                 2.18264908e+00, -5.53127937e-01,\n",
              "                -4.96111838e-01],\n",
              "               [-1.10225239e+00, -8.41157879e-02,\n",
              "                -3.95059817e-01, -4.95777223e-01,\n",
              "                -2.77913758e-01]],\n",
              "\n",
              "              [[-9.21571084e-01,  1.21659313e+00,\n",
              "                 5.04350689e-01, -1.40342476e+00,\n",
              "                -5.52603484e-02],\n",
              "               [-2.49928307e-01, -7.06529030e-01,\n",
              "                -1.09953812e+00, -6.35900805e-01,\n",
              "                -7.10002446e-01]]]]]]],\n",
              "\n",
              "\n",
              "\n",
              "\n",
              "\n",
              "\n",
              "         [[[[[[[-2.42443083e-01, -9.97244889e-01,\n",
              "                -1.72244020e+00, -6.84886952e-01,\n",
              "                -3.16501303e-01],\n",
              "               [ 5.45974399e-01, -1.12052603e+00,\n",
              "                -8.40889488e-01, -3.60261540e-01,\n",
              "                 1.07300972e+00]],\n",
              "\n",
              "              [[ 2.10319455e-01,  6.65893343e-02,\n",
              "                -1.30513932e+00,  1.32175225e+00,\n",
              "                 2.33475846e+00],\n",
              "               [-8.40144208e-01,  1.02879173e+00,\n",
              "                -1.97060224e+00, -2.12573085e+00,\n",
              "                 1.26488938e+00]]],\n",
              "\n",
              "\n",
              "             [[[ 4.11848884e-01, -2.40717459e+00,\n",
              "                 5.63815492e-01,  2.52411323e+00,\n",
              "                 3.77086611e-01],\n",
              "               [-8.13736362e-01, -5.15685012e-03,\n",
              "                 7.79423513e-01, -6.92878255e-01,\n",
              "                -7.93462541e-01]],\n",
              "\n",
              "              [[ 1.26175844e+00, -3.74660573e-01,\n",
              "                -6.96586389e-01,  7.88225536e-01,\n",
              "                -3.70786714e-01],\n",
              "               [-6.50229169e-01,  4.30019066e-01,\n",
              "                -1.34262411e+00,  4.29637334e-02,\n",
              "                -3.17286313e-01]]]],\n",
              "\n",
              "\n",
              "\n",
              "            [[[[-1.36980862e+00, -4.66820436e-01,\n",
              "                 9.03597492e-01, -1.31991574e+00,\n",
              "                 9.17170670e-01],\n",
              "               [ 2.67639571e+00, -1.32399543e+00,\n",
              "                -2.45838210e-01, -5.19088346e-01,\n",
              "                 4.11731520e-02]],\n",
              "\n",
              "              [[ 5.14949532e-01, -1.13662428e+00,\n",
              "                 7.80536008e-03, -2.37343347e-01,\n",
              "                -2.80093663e-01],\n",
              "               [-1.12834490e+00,  1.44295201e+00,\n",
              "                 1.11343856e+00, -1.85737883e-01,\n",
              "                -7.57932281e-01]]],\n",
              "\n",
              "\n",
              "             [[[-1.50128737e+00,  7.60152983e-01,\n",
              "                -4.99483477e-01,  1.44637340e+00,\n",
              "                -6.73575551e-01],\n",
              "               [-5.77012666e-01, -2.81440995e-01,\n",
              "                 8.61562171e-01, -3.47953263e-01,\n",
              "                 1.85938058e-01]],\n",
              "\n",
              "              [[ 1.28913278e-01, -3.91739101e-01,\n",
              "                 8.30802696e-01, -3.13904463e-01,\n",
              "                -5.89750957e-01],\n",
              "               [-3.65590406e-01,  2.05308068e-01,\n",
              "                 1.34127158e+00, -9.18935058e-01,\n",
              "                -9.98944693e-01]]]]],\n",
              "\n",
              "\n",
              "\n",
              "\n",
              "           [[[[[-1.16857707e+00, -2.47315254e-01,\n",
              "                 9.34844619e-02,  1.89370039e-01,\n",
              "                 9.94232665e-02],\n",
              "               [ 3.39823431e-01, -1.43472355e+00,\n",
              "                -1.29749210e+00,  1.35235758e+00,\n",
              "                -6.86984388e-01]],\n",
              "\n",
              "              [[ 1.13219969e+00,  4.88229272e-01,\n",
              "                 2.60293429e+00,  8.18733154e-01,\n",
              "                -3.59795909e-01],\n",
              "               [ 1.36041215e+00, -2.17882939e-01,\n",
              "                -1.11918918e+00,  7.70350132e-01,\n",
              "                 5.33175405e-01]]],\n",
              "\n",
              "\n",
              "             [[[-4.89102599e-01, -2.49290018e-01,\n",
              "                -7.79601639e-01,  8.17035006e-01,\n",
              "                -3.25849742e-01],\n",
              "               [ 1.30116656e+00, -3.81962437e-01,\n",
              "                -5.48049300e-01,  3.96149208e-01,\n",
              "                 5.60561045e-01]],\n",
              "\n",
              "              [[ 5.36433259e-01,  3.07192459e+00,\n",
              "                 1.31995244e+00, -4.33758414e-01,\n",
              "                -4.24760814e-01],\n",
              "               [ 1.42186353e-01, -9.40556449e-02,\n",
              "                -6.50544002e-01,  1.08388375e+00,\n",
              "                -4.12057556e-01]]]],\n",
              "\n",
              "\n",
              "\n",
              "            [[[[ 1.24882767e-02,  9.52233586e-01,\n",
              "                -1.11280462e+00, -6.74194271e-03,\n",
              "                 7.64807427e-01],\n",
              "               [-7.91794550e-01,  9.25027308e-01,\n",
              "                -7.03416093e-01,  6.92251171e-01,\n",
              "                -5.80957747e-01]],\n",
              "\n",
              "              [[-6.33110243e-01, -2.85444701e-02,\n",
              "                 4.00987142e-02,  6.58736628e-01,\n",
              "                 1.51167828e+00],\n",
              "               [-1.19357423e+00,  1.00040782e+00,\n",
              "                -5.25793212e-01, -4.48771742e-02,\n",
              "                 5.96400600e-01]]],\n",
              "\n",
              "\n",
              "             [[[ 3.72989909e-01, -9.10085469e-01,\n",
              "                -1.28196989e+00, -3.33712275e-01,\n",
              "                -5.00444000e-01],\n",
              "               [ 1.22205414e+00,  5.12465787e-01,\n",
              "                -9.16486609e-01,  2.98417879e-01,\n",
              "                 5.73406594e-01]],\n",
              "\n",
              "              [[ 4.41552996e-01,  7.05638315e-01,\n",
              "                -6.91683433e-01,  1.40647781e+00,\n",
              "                -5.83347775e-01],\n",
              "               [-6.94415213e-01,  1.49560805e+00,\n",
              "                -1.28066567e+00, -1.81127065e-01,\n",
              "                 2.29849761e-01]]]]]],\n",
              "\n",
              "\n",
              "\n",
              "\n",
              "\n",
              "          [[[[[[ 6.80323957e-01,  9.17619534e-01,\n",
              "                -2.01360291e+00,  9.23719003e-02,\n",
              "                 7.75838796e-01],\n",
              "               [-1.03127615e+00, -6.67367573e-01,\n",
              "                -9.58477745e-01, -6.24419645e-01,\n",
              "                 7.86634926e-01]],\n",
              "\n",
              "              [[ 4.15397918e-01,  4.62223558e-01,\n",
              "                -7.77348730e-01,  1.61906413e+00,\n",
              "                -4.92551529e-01],\n",
              "               [ 7.16441609e-01, -2.30477233e-01,\n",
              "                 4.08448547e-01, -5.89521230e-01,\n",
              "                 5.75367359e-01]]],\n",
              "\n",
              "\n",
              "             [[[-1.17404160e-01, -2.68618696e-01,\n",
              "                 1.05167843e+00,  1.77668930e+00,\n",
              "                 8.37263313e-01],\n",
              "               [ 6.48779684e-01,  9.74069184e-01,\n",
              "                -2.43370474e+00,  1.95000929e-01,\n",
              "                 1.54410239e+00]],\n",
              "\n",
              "              [[-9.28392704e-01,  1.18993001e-01,\n",
              "                -1.08957811e+00, -5.34810564e-01,\n",
              "                -1.70950879e+00],\n",
              "               [-6.58454806e-03, -1.67051678e+00,\n",
              "                 1.07394704e+00, -2.30041081e+00,\n",
              "                 1.26825749e+00]]]],\n",
              "\n",
              "\n",
              "\n",
              "            [[[[ 6.67664027e-01, -1.93674838e+00,\n",
              "                 1.67092127e-01,  4.46109640e-01,\n",
              "                 9.17414089e-02],\n",
              "               [ 1.73624470e+00, -1.01353410e+00,\n",
              "                 1.00803628e+00,  2.24160693e+00,\n",
              "                 1.25894245e+00]],\n",
              "\n",
              "              [[-1.50990328e+00,  1.01545427e+00,\n",
              "                 3.66150988e-01,  4.50350551e-01,\n",
              "                -1.35581319e-02],\n",
              "               [-2.41679681e+00,  9.27511014e-01,\n",
              "                -1.02398324e+00, -5.43200915e-01,\n",
              "                -1.52934988e+00]]],\n",
              "\n",
              "\n",
              "             [[[ 1.05652350e+00, -3.86830167e-01,\n",
              "                 1.86284257e-01, -8.28913355e-01,\n",
              "                -1.90424116e+00],\n",
              "               [-8.39136739e-01,  1.98074732e+00,\n",
              "                -2.41200819e-01, -2.55535132e-01,\n",
              "                 1.21038292e+00]],\n",
              "\n",
              "              [[-5.95823615e-02, -8.04978828e-02,\n",
              "                 2.38447969e+00, -4.22119129e-01,\n",
              "                 2.02620983e-01],\n",
              "               [ 9.95396912e-01, -1.21249384e+00,\n",
              "                -1.46357833e+00, -4.48490741e-01,\n",
              "                 1.35400885e+00]]]]],\n",
              "\n",
              "\n",
              "\n",
              "\n",
              "           [[[[[ 1.76819565e+00,  1.23204871e+00,\n",
              "                -1.21299467e+00, -2.52995688e+00,\n",
              "                 9.61885697e-01],\n",
              "               [-1.27731573e+00, -1.41330240e+00,\n",
              "                -6.93110373e-02, -1.34275615e+00,\n",
              "                -7.89918283e-01]],\n",
              "\n",
              "              [[ 2.42076860e-01, -5.94520406e-01,\n",
              "                -9.63174877e-03,  1.65291352e+00,\n",
              "                 1.88155221e+00],\n",
              "               [ 7.98019940e-01, -1.62833150e+00,\n",
              "                 3.81772199e-01, -1.60710063e+00,\n",
              "                -2.21979291e-01]]],\n",
              "\n",
              "\n",
              "             [[[ 7.32951997e-02,  1.69896870e-01,\n",
              "                 3.27951465e-01, -8.87210256e-01,\n",
              "                 1.05777978e+00],\n",
              "               [-1.06285550e+00,  1.17527333e+00,\n",
              "                -1.45834989e-01,  1.29645300e-02,\n",
              "                -3.09419996e+00]],\n",
              "\n",
              "              [[ 1.96462903e+00, -1.06700227e+00,\n",
              "                 9.68603225e-01, -2.06536837e-01,\n",
              "                 1.59529907e+00],\n",
              "               [-5.90450818e-01, -9.18319812e-01,\n",
              "                -5.09987890e-01, -5.59638387e-01,\n",
              "                 8.85136440e-01]]]],\n",
              "\n",
              "\n",
              "\n",
              "            [[[[-2.45919362e-01,  4.83580815e-01,\n",
              "                -1.83529742e-01, -8.32921420e-01,\n",
              "                -1.25302084e+00],\n",
              "               [-8.33354201e-01,  1.01246334e-01,\n",
              "                -4.48503111e-01, -5.78576148e-01,\n",
              "                 1.84481258e+00]],\n",
              "\n",
              "              [[ 8.79860201e-01,  2.25010034e+00,\n",
              "                 1.70888712e+00,  1.24617846e-01,\n",
              "                 1.16615652e-01],\n",
              "               [ 9.91124670e-01,  1.08298218e+00,\n",
              "                 2.24864171e-01,  1.81026031e+00,\n",
              "                 2.68973520e-02]]],\n",
              "\n",
              "\n",
              "             [[[ 2.02531619e+00, -2.53755991e-01,\n",
              "                 8.96790266e-01, -1.44511951e+00,\n",
              "                 2.87021870e+00],\n",
              "               [-1.78679078e+00,  6.78414905e-01,\n",
              "                -1.75357046e-01, -2.58705431e-01,\n",
              "                 1.25349319e+00]],\n",
              "\n",
              "              [[-1.59571905e-01,  2.98781532e-01,\n",
              "                -1.84844081e+00,  1.18803277e-01,\n",
              "                 1.47245514e-01],\n",
              "               [-1.08568340e+00,  2.15270423e-01,\n",
              "                 8.60573442e-01,  8.96458190e-01,\n",
              "                -1.00399301e+00]]]]]]]],\n",
              "\n",
              "\n",
              "\n",
              "\n",
              "\n",
              "\n",
              "\n",
              "        [[[[[[[[ 1.75658193e-01,  1.31818330e+00,\n",
              "                -4.92174518e-01, -5.70755594e-01,\n",
              "                 7.99638122e-01],\n",
              "               [-1.12303469e+00, -9.25034782e-01,\n",
              "                 8.19437375e-02, -9.85727744e-01,\n",
              "                 2.05113183e-01]],\n",
              "\n",
              "              [[-7.91468037e-01,  3.92549985e-01,\n",
              "                -5.98323882e-01, -5.76601223e-01,\n",
              "                 7.28945119e-01],\n",
              "               [ 4.93508086e-01,  7.81010453e-02,\n",
              "                -1.55001019e-01,  1.07896825e+00,\n",
              "                -9.58188944e-01]]],\n",
              "\n",
              "\n",
              "             [[[ 1.26725745e+00, -5.80064987e-01,\n",
              "                 1.78504297e+00,  1.10458123e+00,\n",
              "                -1.30543806e+00],\n",
              "               [ 8.68471602e-01, -3.61619509e-01,\n",
              "                 8.50642795e-01, -1.44366915e+00,\n",
              "                 1.01626112e+00]],\n",
              "\n",
              "              [[ 1.05374965e+00, -2.20427807e-02,\n",
              "                 1.21714941e+00, -6.40127354e-01,\n",
              "                -2.29377432e-01],\n",
              "               [ 2.97984801e-02, -1.11472764e-01,\n",
              "                 2.49340535e-01, -1.73246232e+00,\n",
              "                -3.83096582e-01]]]],\n",
              "\n",
              "\n",
              "\n",
              "            [[[[ 1.04037904e+00, -2.06950546e-01,\n",
              "                -1.61953171e+00,  8.45642857e-03,\n",
              "                -4.64732784e-01],\n",
              "               [ 1.98326578e+00, -1.67809489e+00,\n",
              "                 5.82575490e-01,  1.49401612e+00,\n",
              "                -7.96505076e-01]],\n",
              "\n",
              "              [[ 1.31594706e+00, -1.55628383e+00,\n",
              "                 3.39668394e-01,  8.06975327e-01,\n",
              "                 4.41423951e-01],\n",
              "               [-8.41474376e-01, -2.42245468e+00,\n",
              "                -4.12806530e-01,  4.19965881e-01,\n",
              "                -8.72018311e-01]]],\n",
              "\n",
              "\n",
              "             [[[-6.88882768e-01, -9.57077742e-01,\n",
              "                -1.78365516e-01,  3.65839880e-01,\n",
              "                -1.41824868e+00],\n",
              "               [-3.42705158e-01, -6.56709191e-01,\n",
              "                 2.04451155e+00,  3.94374652e-01,\n",
              "                -1.01054144e+00]],\n",
              "\n",
              "              [[ 5.29806659e-01, -8.55034823e-01,\n",
              "                 3.35240216e-01,  2.21157891e-01,\n",
              "                 1.52805543e+00],\n",
              "               [-7.95649955e-01,  6.98877562e-01,\n",
              "                 2.68563408e-01, -1.25683831e+00,\n",
              "                -1.64334465e+00]]]]],\n",
              "\n",
              "\n",
              "\n",
              "\n",
              "           [[[[[ 6.38646392e-01,  1.18923557e+00,\n",
              "                -1.42557796e+00,  9.88724206e-01,\n",
              "                 1.20194562e+00],\n",
              "               [-8.75984805e-01,  2.07615160e+00,\n",
              "                 5.15127999e-01,  1.77071136e-01,\n",
              "                 5.27625968e-01]],\n",
              "\n",
              "              [[ 5.66984018e-03,  8.68870993e-01,\n",
              "                -2.32973166e+00,  1.91324443e-01,\n",
              "                -5.99477095e-02],\n",
              "               [-1.58465586e+00, -1.76191973e+00,\n",
              "                -5.70922576e-02, -1.51219013e+00,\n",
              "                 7.06938160e-02]]],\n",
              "\n",
              "\n",
              "             [[[-1.08995172e-01,  2.89614521e-01,\n",
              "                 6.10786227e-02, -1.46885744e-01,\n",
              "                -7.17961162e-01],\n",
              "               [-1.79874418e-01,  1.74093282e+00,\n",
              "                -1.01917985e+00,  9.18680528e-02,\n",
              "                 1.14065828e+00]],\n",
              "\n",
              "              [[ 1.21895208e-02, -3.25998681e-01,\n",
              "                -5.56345707e-01, -9.23920216e-02,\n",
              "                 1.94533693e-01],\n",
              "               [ 8.52827286e-01, -4.20564219e-01,\n",
              "                -1.34290122e+00,  9.69607254e-01,\n",
              "                -8.56495844e-01]]]],\n",
              "\n",
              "\n",
              "\n",
              "            [[[[ 4.60413579e-01,  1.53271824e+00,\n",
              "                -4.62398588e-01,  5.68787885e-01,\n",
              "                -4.27150891e-01],\n",
              "               [-1.90527639e-01, -2.97848298e-01,\n",
              "                 3.79595682e-01, -8.12001120e-01,\n",
              "                -3.86883149e-01]],\n",
              "\n",
              "              [[-5.40555017e-01,  2.14699672e-01,\n",
              "                -5.43310494e-01, -7.03303638e-01,\n",
              "                -1.60722825e-01],\n",
              "               [ 2.67769773e-01,  6.89270357e-02,\n",
              "                 9.83940707e-01, -3.13773577e-01,\n",
              "                -1.28785037e+00]]],\n",
              "\n",
              "\n",
              "             [[[ 1.08884608e+00,  7.66728916e-01,\n",
              "                -1.29613274e+00,  1.25046755e+00,\n",
              "                -6.11977233e-01],\n",
              "               [ 1.47464815e+00,  5.51596211e-01,\n",
              "                -6.51269051e-01,  5.76532517e-02,\n",
              "                 8.97106344e-01]],\n",
              "\n",
              "              [[ 6.81357347e-02, -9.78474388e-01,\n",
              "                -3.85188481e-01,  1.25940610e+00,\n",
              "                 6.13050534e-01],\n",
              "               [ 1.99463132e+00, -1.27891531e+00,\n",
              "                -6.93482555e-01,  5.21205561e-01,\n",
              "                -6.51827879e-01]]]]]],\n",
              "\n",
              "\n",
              "\n",
              "\n",
              "\n",
              "          [[[[[[-2.54834633e-01, -3.99730404e-01,\n",
              "                -1.28638524e-01,  1.21748721e+00,\n",
              "                 1.26530205e+00],\n",
              "               [-2.27631876e+00,  1.55067301e-01,\n",
              "                -7.46195370e-01,  5.38718539e-03,\n",
              "                -1.06297677e+00]],\n",
              "\n",
              "              [[ 6.75948283e-01, -3.60946474e-01,\n",
              "                -6.76940972e-01, -7.64001636e-01,\n",
              "                 5.60566849e-01],\n",
              "               [ 1.33800123e+00,  1.68715824e-01,\n",
              "                 5.65896385e-01,  3.09079626e-01,\n",
              "                -4.06418460e-01]]],\n",
              "\n",
              "\n",
              "             [[[ 3.94881692e-01, -1.88589581e-01,\n",
              "                -1.58272043e+00,  2.76661819e-01,\n",
              "                 2.16293103e-01],\n",
              "               [-3.24264384e-01,  4.87301984e-02,\n",
              "                -2.44310242e-01,  9.57557327e-01,\n",
              "                 2.06793928e+00]],\n",
              "\n",
              "              [[ 2.11240623e+00,  9.48667281e-01,\n",
              "                 2.53468730e-01,  1.56934012e+00,\n",
              "                -7.46227203e-01],\n",
              "               [-4.93179005e-02, -1.86178290e+00,\n",
              "                 1.31491136e+00,  1.17213301e-01,\n",
              "                -1.61278790e+00]]]],\n",
              "\n",
              "\n",
              "\n",
              "            [[[[-3.00342306e-01,  1.00018369e+00,\n",
              "                -7.85001965e-01,  7.78832447e-01,\n",
              "                -1.13385970e+00],\n",
              "               [ 1.50624519e+00,  3.05221124e-01,\n",
              "                 1.15443749e+00,  2.26350196e-02,\n",
              "                -6.09563468e-01]],\n",
              "\n",
              "              [[-1.20844657e+00, -2.00776858e+00,\n",
              "                -3.42971636e-01, -4.94135023e-02,\n",
              "                -7.97978319e-01],\n",
              "               [ 4.29517332e-01, -7.76917085e-01,\n",
              "                 2.02851556e-01,  2.17610070e+00,\n",
              "                -1.03937724e+00]]],\n",
              "\n",
              "\n",
              "             [[[-3.11981646e-01,  4.53202711e-01,\n",
              "                -3.26624960e-02, -1.24997025e+00,\n",
              "                 1.22637673e+00],\n",
              "               [-4.72928202e-01,  1.25070999e-01,\n",
              "                -2.61329922e-01, -1.60854423e+00,\n",
              "                -1.96909127e+00]],\n",
              "\n",
              "              [[ 1.46755323e+00,  1.16553926e+00,\n",
              "                -1.28497217e+00,  6.80552574e-01,\n",
              "                -1.19195277e+00],\n",
              "               [ 1.06234678e+00,  2.84339279e-01,\n",
              "                -7.49399563e-01, -1.98721031e-01,\n",
              "                -3.64404120e-01]]]]],\n",
              "\n",
              "\n",
              "\n",
              "\n",
              "           [[[[[ 6.88160453e-01,  3.81370563e-01,\n",
              "                 3.95948695e-01,  9.08851166e-01,\n",
              "                -1.16454881e+00],\n",
              "               [-7.11532841e-01,  1.80041645e-01,\n",
              "                -6.59667207e-01,  1.86510947e+00,\n",
              "                 1.46615376e-01]],\n",
              "\n",
              "              [[ 7.56487041e-01, -4.84079912e-02,\n",
              "                 9.21908593e-01,  5.18915106e-01,\n",
              "                -8.41539795e-01],\n",
              "               [-1.87653107e-01, -7.01617263e-01,\n",
              "                 1.50067969e+00, -2.40474847e-02,\n",
              "                -2.94176387e-02]]],\n",
              "\n",
              "\n",
              "             [[[ 9.09708794e-01, -6.13886507e-01,\n",
              "                 5.94469457e-01, -5.63427652e-02,\n",
              "                -7.21213187e-01],\n",
              "               [-5.09391028e-01, -2.08841590e-01,\n",
              "                 4.91185293e-02,  1.87678552e-01,\n",
              "                -3.88382310e-01]],\n",
              "\n",
              "              [[ 3.91462098e-01, -1.61490651e+00,\n",
              "                -4.70612466e-01, -5.92014746e-01,\n",
              "                 5.08508554e-01],\n",
              "               [ 9.95420104e-02,  4.85241215e-01,\n",
              "                 3.58842986e-01, -1.43855405e+00,\n",
              "                -9.01887867e-01]]]],\n",
              "\n",
              "\n",
              "\n",
              "            [[[[-1.27995204e+00, -1.31070243e+00,\n",
              "                -4.02924012e-01,  2.02959184e-01,\n",
              "                 2.41697213e-01],\n",
              "               [-4.96708256e-01, -5.84068800e-01,\n",
              "                -4.40897734e-01,  1.61481899e+00,\n",
              "                 2.05538285e+00]],\n",
              "\n",
              "              [[ 1.27219837e+00, -1.46700816e+00,\n",
              "                 1.29414599e+00,  6.48222832e-01,\n",
              "                 9.31452247e-01],\n",
              "               [ 2.70932361e-01,  9.40128564e-01,\n",
              "                 3.57049224e-01,  1.45048790e-02,\n",
              "                 1.19243042e+00]]],\n",
              "\n",
              "\n",
              "             [[[-5.02634828e-01, -1.32252183e+00,\n",
              "                -6.14074196e-01,  3.04637869e-01,\n",
              "                -6.40923624e-01],\n",
              "               [ 1.03837051e+00,  4.00054102e-01,\n",
              "                -1.24323721e+00,  5.56221327e-01,\n",
              "                 6.82156005e-01]],\n",
              "\n",
              "              [[ 9.78967039e-01,  6.47743659e-02,\n",
              "                 1.00827086e+00, -3.39837887e-01,\n",
              "                 1.72984023e+00],\n",
              "               [ 2.15161709e+00, -7.69736565e-01,\n",
              "                 1.30032446e+00, -8.99882782e-01,\n",
              "                -5.38363773e-02]]]]]]],\n",
              "\n",
              "\n",
              "\n",
              "\n",
              "\n",
              "\n",
              "         [[[[[[[ 3.39759013e-01, -1.52348553e-01,\n",
              "                 1.29873170e-01, -6.91711350e-01,\n",
              "                -1.50580588e-01],\n",
              "               [-3.29841613e-01, -1.52234091e+00,\n",
              "                 5.45153454e-01, -6.31948129e-02,\n",
              "                -4.69053128e-01]],\n",
              "\n",
              "              [[ 1.17903729e+00,  2.51325002e-01,\n",
              "                -1.39436894e+00,  2.42558319e-01,\n",
              "                -5.83419171e-02],\n",
              "               [ 1.57730699e+00,  4.04898621e-03,\n",
              "                -1.21488281e+00, -6.20122721e-02,\n",
              "                -8.47869693e-01]]],\n",
              "\n",
              "\n",
              "             [[[-1.40452185e-01, -1.34342079e+00,\n",
              "                -8.23685733e-01, -4.05793088e-01,\n",
              "                 1.58039670e+00],\n",
              "               [ 5.14364241e-01, -2.10894792e-01,\n",
              "                 2.44784755e+00, -5.57448034e-01,\n",
              "                 5.57384864e-01]],\n",
              "\n",
              "              [[-1.49225788e+00, -4.46232562e-01,\n",
              "                 8.56258401e-01,  1.76819523e-01,\n",
              "                -1.33295181e-01],\n",
              "               [-1.00893291e+00, -2.02752240e-01,\n",
              "                 1.24328931e+00, -1.77570030e+00,\n",
              "                -4.73411055e-01]]]],\n",
              "\n",
              "\n",
              "\n",
              "            [[[[-4.10967145e-01,  2.87845688e-01,\n",
              "                -4.27185436e-01,  2.30443853e+00,\n",
              "                -5.63802145e-01],\n",
              "               [-7.40820036e-01, -8.17969297e-01,\n",
              "                 2.29543774e-01,  5.25485921e-01,\n",
              "                -1.38478611e+00]],\n",
              "\n",
              "              [[-6.69760867e-03, -1.02130842e+00,\n",
              "                -4.15734983e-01, -8.17492612e-01,\n",
              "                -6.11314163e-01],\n",
              "               [-5.40509778e-01,  3.30828625e-01,\n",
              "                 2.85138766e-01,  1.92987934e-01,\n",
              "                -2.68510102e-01]]],\n",
              "\n",
              "\n",
              "             [[[ 2.61200926e-01, -1.09569291e+00,\n",
              "                -1.86270274e+00,  9.78712230e-01,\n",
              "                -4.20847712e-01],\n",
              "               [-4.75441472e-01, -4.53876078e-04,\n",
              "                -3.24298757e-01, -4.20278565e-01,\n",
              "                -7.60672890e-02]],\n",
              "\n",
              "              [[ 6.07850550e-01,  6.86683098e-01,\n",
              "                -6.02506804e-02,  8.07993207e-02,\n",
              "                -5.92566520e-01],\n",
              "               [ 4.28723367e-01,  9.15979952e-01,\n",
              "                -6.19787622e-01,  1.33022929e+00,\n",
              "                -7.01303204e-01]]]]],\n",
              "\n",
              "\n",
              "\n",
              "\n",
              "           [[[[[-2.39366856e-01,  7.64071597e-01,\n",
              "                -1.91161947e-01,  2.61649261e+00,\n",
              "                -4.14971541e-01],\n",
              "               [-2.24687760e-01,  8.50790911e-01,\n",
              "                -6.15176201e-01, -2.91095613e-01,\n",
              "                 1.51281491e+00]],\n",
              "\n",
              "              [[-1.51213499e+00, -8.63698231e-01,\n",
              "                -1.07896298e+00,  3.84865659e-01,\n",
              "                -1.92987323e-01],\n",
              "               [-1.05502449e+00, -5.22048776e-02,\n",
              "                -1.36704759e+00, -9.39606047e-01,\n",
              "                -1.25905811e+00]]],\n",
              "\n",
              "\n",
              "             [[[ 7.33337690e-01, -6.68668359e-01,\n",
              "                -5.20183147e-01, -1.24685452e-02,\n",
              "                -1.12191715e+00],\n",
              "               [ 3.98581527e-01,  8.50484460e-01,\n",
              "                -1.04411003e-01, -5.83163336e-01,\n",
              "                -1.11773065e-02]],\n",
              "\n",
              "              [[ 2.98329158e-01, -1.54072099e-02,\n",
              "                 1.42957603e+00, -1.82970583e-01,\n",
              "                 3.63153582e-01],\n",
              "               [-8.42410290e-01,  6.09628332e-01,\n",
              "                -2.33772859e-01, -4.37591030e-01,\n",
              "                 8.13148944e-01]]]],\n",
              "\n",
              "\n",
              "\n",
              "            [[[[-1.49755958e+00,  1.28060187e+00,\n",
              "                 1.36071297e+00, -1.63517431e+00,\n",
              "                 1.58617684e+00],\n",
              "               [-7.77961664e-01,  1.32247647e+00,\n",
              "                 5.90531968e-01, -5.56696344e-02,\n",
              "                -5.24587176e-01]],\n",
              "\n",
              "              [[-3.14340691e-01, -9.35491831e-01,\n",
              "                 3.83656861e-01,  1.25168797e-01,\n",
              "                 2.45614591e+00],\n",
              "               [ 1.54179055e+00, -1.03669690e+00,\n",
              "                 7.07259138e-01, -1.45084418e+00,\n",
              "                -1.37976712e+00]]],\n",
              "\n",
              "\n",
              "             [[[-5.87802165e-01,  7.70880090e-01,\n",
              "                 4.87560411e-01, -2.26073097e-01,\n",
              "                 1.43582519e-01],\n",
              "               [ 1.25947307e-01, -8.56005148e-01,\n",
              "                 3.89221888e-03,  6.59745453e-01,\n",
              "                -1.01789218e+00]],\n",
              "\n",
              "              [[ 9.01693062e-01, -1.15337169e+00,\n",
              "                -8.96781550e-01, -1.19428747e+00,\n",
              "                 7.68552717e-02],\n",
              "               [ 3.80478427e-02,  6.18720864e-02,\n",
              "                 2.09940516e-02,  4.95421352e-01,\n",
              "                -4.63668617e-01]]]]]],\n",
              "\n",
              "\n",
              "\n",
              "\n",
              "\n",
              "          [[[[[[-1.67723339e+00, -8.27750258e-01,\n",
              "                -7.44354441e-01, -2.00914311e-01,\n",
              "                 1.39171161e+00],\n",
              "               [-3.54683383e-01,  6.03259625e-01,\n",
              "                 5.54287471e-01, -2.53661964e-01,\n",
              "                 4.64406255e-01]],\n",
              "\n",
              "              [[ 5.86149839e-02,  1.11139030e+00,\n",
              "                 7.18763505e-01,  9.23476130e-02,\n",
              "                 3.87430384e-01],\n",
              "               [-8.77433207e-01, -8.48963329e-01,\n",
              "                -6.37491732e-01,  1.04002383e-01,\n",
              "                -5.17694844e-01]]],\n",
              "\n",
              "\n",
              "             [[[-1.38607331e-01, -1.23243033e+00,\n",
              "                 6.03092003e-01,  1.99106299e+00,\n",
              "                 1.24256849e+00],\n",
              "               [-3.91341662e-01,  2.40807688e+00,\n",
              "                 6.25788339e-02, -1.87848333e-02,\n",
              "                 2.37698869e+00]],\n",
              "\n",
              "              [[-2.76548379e-01,  2.58391012e-01,\n",
              "                -1.49833232e+00, -6.27717928e-01,\n",
              "                -4.80641690e-01],\n",
              "               [-2.89858288e-01, -9.77235305e-02,\n",
              "                 8.30756318e-01,  5.64913188e-01,\n",
              "                 3.72421335e-01]]]],\n",
              "\n",
              "\n",
              "\n",
              "            [[[[-9.59781949e-01, -6.00730320e-02,\n",
              "                -6.96285129e-01, -5.15873334e-01,\n",
              "                -9.93919984e-01],\n",
              "               [ 5.18450076e-01, -4.07122714e-01,\n",
              "                 5.66473807e-01,  1.26535820e+00,\n",
              "                 3.23803139e-01]],\n",
              "\n",
              "              [[-1.39503978e+00, -7.42633977e-01,\n",
              "                -4.71940926e-01,  1.01937414e-01,\n",
              "                -2.12251706e+00],\n",
              "               [ 6.16397728e-01,  4.90537337e-01,\n",
              "                 2.48534108e+00,  1.19761752e+00,\n",
              "                 1.59760485e+00]]],\n",
              "\n",
              "\n",
              "             [[[-6.08495382e-02,  4.24163153e-01,\n",
              "                -9.78556029e-01,  1.41296098e+00,\n",
              "                -1.73989114e-01],\n",
              "               [-4.97953248e-01,  2.08059969e-01,\n",
              "                -1.15210896e-01,  1.18420503e+00,\n",
              "                -7.94786162e-03]],\n",
              "\n",
              "              [[-2.39515565e+00, -1.36478933e+00,\n",
              "                 5.51401389e-01,  1.16789951e+00,\n",
              "                 8.21073625e-01],\n",
              "               [ 1.40418862e-01, -2.32016524e-01,\n",
              "                -8.23499359e-01,  7.53001138e-01,\n",
              "                 5.16710753e-02]]]]],\n",
              "\n",
              "\n",
              "\n",
              "\n",
              "           [[[[[-1.98665979e+00,  1.07620618e+00,\n",
              "                 1.31135267e+00,  2.91216757e-01,\n",
              "                 4.93521906e-01],\n",
              "               [ 6.04623548e-01,  1.28475267e-01,\n",
              "                -3.64929390e-01, -6.57895704e-01,\n",
              "                 1.47154893e+00]],\n",
              "\n",
              "              [[ 8.55659455e-01,  1.46976613e+00,\n",
              "                 4.23555227e-01, -1.40747776e+00,\n",
              "                 6.56339228e-01],\n",
              "               [-1.11746326e-01,  2.46846645e+00,\n",
              "                -6.49928464e-01,  5.91219515e-01,\n",
              "                -1.11013777e+00]]],\n",
              "\n",
              "\n",
              "             [[[ 3.46907640e-01,  2.12062788e+00,\n",
              "                -3.39268904e-01, -1.50741072e-01,\n",
              "                -1.92994298e+00],\n",
              "               [-9.80013921e-01,  3.10907428e-01,\n",
              "                -7.01964848e-01,  3.12428052e-01,\n",
              "                -8.82361355e-02]],\n",
              "\n",
              "              [[-8.12003329e-01, -2.22304746e+00,\n",
              "                -5.37780736e-01,  7.73608371e-01,\n",
              "                -3.66917988e-01],\n",
              "               [-4.25526430e-01,  4.04443443e-01,\n",
              "                 4.01682168e-02,  2.11719481e-01,\n",
              "                -5.12487119e-01]]]],\n",
              "\n",
              "\n",
              "\n",
              "            [[[[ 8.47465898e-01, -5.80097624e-01,\n",
              "                 7.84823038e-01, -6.81734457e-01,\n",
              "                -3.47610560e-01],\n",
              "               [-4.12448381e-01,  1.36862911e+00,\n",
              "                -1.21484533e+00,  1.41429318e+00,\n",
              "                 1.05371769e+00]],\n",
              "\n",
              "              [[ 1.31239091e+00, -3.98431747e-02,\n",
              "                 5.73148253e-01,  2.05586190e-01,\n",
              "                -5.07737759e-03],\n",
              "               [ 7.10858144e-01, -3.87634334e-01,\n",
              "                -1.43435966e+00,  1.11123820e+00,\n",
              "                -2.95609676e-01]]],\n",
              "\n",
              "\n",
              "             [[[ 9.35608132e-01,  1.19128622e+00,\n",
              "                 4.43391865e-01,  1.48622438e+00,\n",
              "                 1.25587323e-01],\n",
              "               [ 2.05695441e+00,  1.96669204e-01,\n",
              "                 4.82715725e-01, -7.62148614e-01,\n",
              "                 6.15140030e-01]],\n",
              "\n",
              "              [[ 4.00443103e-01, -4.48111378e-01,\n",
              "                 2.24046041e+00,  2.93665170e-01,\n",
              "                 1.22648723e+00],\n",
              "               [ 9.48243523e-01,  3.60547643e-01,\n",
              "                 1.18346991e+00, -1.13258288e+00,\n",
              "                -1.59027617e-01]]]]]]]]]])"
            ]
          },
          "metadata": {},
          "execution_count": 83
        }
      ]
    },
    {
      "cell_type": "code",
      "source": [
        "arr.ndim"
      ],
      "metadata": {
        "id": "dz3dW2n9wYQl",
        "outputId": "4308be76-9e64-4931-b407-b47b84c4441e",
        "colab": {
          "base_uri": "https://localhost:8080/"
        }
      },
      "id": "dz3dW2n9wYQl",
      "execution_count": 84,
      "outputs": [
        {
          "output_type": "execute_result",
          "data": {
            "text/plain": [
              "10"
            ]
          },
          "metadata": {},
          "execution_count": 84
        }
      ]
    },
    {
      "cell_type": "code",
      "source": [
        "np.sort(arr)"
      ],
      "metadata": {
        "id": "a4V58iMwwYVQ",
        "outputId": "58ed91ab-1ee2-4b73-9c61-f997a9b80b77",
        "colab": {
          "base_uri": "https://localhost:8080/"
        }
      },
      "id": "a4V58iMwwYVQ",
      "execution_count": 85,
      "outputs": [
        {
          "output_type": "execute_result",
          "data": {
            "text/plain": [
              "array([[[[[[[[[[-9.80822545e-01,  7.16717902e-02,\n",
              "                 4.27779178e-01,  6.22157740e-01,\n",
              "                 1.51061386e+00],\n",
              "               [-2.44982000e+00, -1.27704194e+00,\n",
              "                -6.90543300e-01,  2.35302194e-01,\n",
              "                 2.03978499e+00]],\n",
              "\n",
              "              [[-1.60730599e+00,  1.70457060e-01,\n",
              "                 7.08021234e-01,  8.46297366e-01,\n",
              "                 9.91337719e-01],\n",
              "               [-1.68470113e+00, -1.51699314e+00,\n",
              "                -3.83734907e-02,  1.31834178e-01,\n",
              "                 1.31091040e+00]]],\n",
              "\n",
              "\n",
              "             [[[-1.34765818e+00, -3.31739961e-01,\n",
              "                -2.22595621e-02,  5.09178894e-01,\n",
              "                 7.01145953e-01],\n",
              "               [-6.39732177e-01, -8.75675886e-02,\n",
              "                 7.04480031e-01,  1.02784979e+00,\n",
              "                 1.93829632e+00]],\n",
              "\n",
              "              [[-2.44062344e+00, -5.88963481e-01,\n",
              "                -3.73896073e-01, -2.74031611e-01,\n",
              "                -2.55913937e-01],\n",
              "               [-2.30677704e+00, -2.13410999e+00,\n",
              "                -1.78995765e+00, -2.69411709e-01,\n",
              "                -5.90509611e-02]]]],\n",
              "\n",
              "\n",
              "\n",
              "            [[[[-2.13306020e+00,  1.62151607e-01,\n",
              "                 2.48494824e-01,  7.60653309e-01,\n",
              "                 1.54521285e+00],\n",
              "               [-1.09067140e+00, -2.24585232e-01,\n",
              "                -1.86998577e-01,  5.70164683e-02,\n",
              "                 2.96971843e-01]],\n",
              "\n",
              "              [[-1.58289433e+00,  2.82675560e-01,\n",
              "                 6.26011108e-01,  1.35169124e+00,\n",
              "                 2.74560790e+00],\n",
              "               [-1.61809818e+00, -1.24374263e+00,\n",
              "                -9.03721379e-01, -8.37654212e-01,\n",
              "                 1.18091046e-01]]],\n",
              "\n",
              "\n",
              "             [[[-2.03498638e+00, -4.80921597e-01,\n",
              "                -1.48267391e-01,  3.35401061e-01,\n",
              "                 4.55079614e-01],\n",
              "               [-8.65514093e-01, -6.41890223e-01,\n",
              "                -6.25352177e-01, -3.43421420e-01,\n",
              "                 5.73572489e-01]],\n",
              "\n",
              "              [[-2.11887835e+00, -1.01573644e+00,\n",
              "                -5.92035630e-01,  3.14871442e-01,\n",
              "                 8.29599805e-01],\n",
              "               [-2.75127673e-01, -2.13932384e-01,\n",
              "                 3.10294449e-01,  5.01966132e-01,\n",
              "                 6.09091753e-01]]]]],\n",
              "\n",
              "\n",
              "\n",
              "\n",
              "           [[[[[-7.18360281e-01, -5.91439241e-01,\n",
              "                 5.98289317e-02,  3.94241029e-01,\n",
              "                 1.15094865e+00],\n",
              "               [ 6.33916590e-01,  7.60536528e-01,\n",
              "                 8.00215376e-01,  1.08447037e+00,\n",
              "                 1.35016648e+00]],\n",
              "\n",
              "              [[-1.67381999e+00, -1.02148542e+00,\n",
              "                -3.54096707e-01,  1.61895260e+00,\n",
              "                 1.89534695e+00],\n",
              "               [-8.92329763e-01,  5.42195061e-02,\n",
              "                 1.18122792e-01,  9.81665724e-01,\n",
              "                 1.19568180e+00]]],\n",
              "\n",
              "\n",
              "             [[[-1.26753885e+00, -9.52180234e-01,\n",
              "                -2.08719259e-01, -4.82463189e-02,\n",
              "                 4.80408148e-02],\n",
              "               [-5.76003607e-01, -3.37277469e-01,\n",
              "                -1.20634528e-01,  6.39989793e-03,\n",
              "                 1.04007678e+00]],\n",
              "\n",
              "              [[-1.01778538e+00, -6.32333971e-01,\n",
              "                -5.84774971e-01, -4.09375753e-01,\n",
              "                 7.84001027e-01],\n",
              "               [-1.78314932e-01,  9.18132015e-01,\n",
              "                 1.40658843e+00,  1.53904074e+00,\n",
              "                 1.64162139e+00]]]],\n",
              "\n",
              "\n",
              "\n",
              "            [[[[-7.09421430e-01, -3.68535982e-01,\n",
              "                 2.49270573e-01,  7.45308287e-01,\n",
              "                 8.86260875e-01],\n",
              "               [-2.05601840e+00, -2.75439775e-01,\n",
              "                 3.78492521e-01,  6.50585127e-01,\n",
              "                 8.44502508e-01]],\n",
              "\n",
              "              [[-6.48345426e-01, -2.03083095e-01,\n",
              "                -1.28535934e-01,  4.74919878e-03,\n",
              "                 7.15528944e-01],\n",
              "               [-1.38165912e+00,  1.58160365e-01,\n",
              "                 1.77070196e-01,  6.06784151e-01,\n",
              "                 1.04292941e+00]]],\n",
              "\n",
              "\n",
              "             [[[-2.06810103e-01,  4.93426039e-01,\n",
              "                 5.20048853e-01,  1.65265729e+00,\n",
              "                 1.71417021e+00],\n",
              "               [-1.73987347e+00,  3.23735700e-03,\n",
              "                 8.21701042e-01,  1.04422038e+00,\n",
              "                 2.15142338e+00]],\n",
              "\n",
              "              [[-1.15278396e+00, -6.79901278e-01,\n",
              "                -5.76672208e-01, -2.00318639e-01,\n",
              "                 1.57778223e+00],\n",
              "               [-9.97098632e-01, -6.94326104e-01,\n",
              "                 6.73551276e-01,  7.33261411e-01,\n",
              "                 1.30594781e+00]]]]]],\n",
              "\n",
              "\n",
              "\n",
              "\n",
              "\n",
              "          [[[[[[-1.16623124e+00, -9.14212052e-01,\n",
              "                -8.88359903e-01, -5.93732765e-01,\n",
              "                 1.46454342e+00],\n",
              "               [-9.56778331e-01, -1.41701094e-01,\n",
              "                -1.11936417e-01,  2.96715240e-01,\n",
              "                 1.20853641e+00]],\n",
              "\n",
              "              [[-7.55251753e-01, -5.59097211e-01,\n",
              "                -1.50634121e-01,  7.06328714e-01,\n",
              "                 7.38242304e-01],\n",
              "               [-1.00361518e+00, -8.51576366e-01,\n",
              "                -1.08421647e-01,  4.09965207e-01,\n",
              "                 8.39256680e-01]]],\n",
              "\n",
              "\n",
              "             [[[-1.72692784e+00, -1.30273812e-01,\n",
              "                 9.50200168e-02,  1.49695158e-01,\n",
              "                 2.04729979e-01],\n",
              "               [-1.37116467e+00, -6.92879803e-01,\n",
              "                -3.20029387e-01,  9.21774632e-01,\n",
              "                 1.92459559e+00]],\n",
              "\n",
              "              [[-1.74670890e+00, -1.71506824e+00,\n",
              "                -7.37627003e-02,  1.67591934e-01,\n",
              "                 7.93553852e-01],\n",
              "               [-4.72159318e-01, -4.28144164e-01,\n",
              "                 1.06423439e+00,  1.13925661e+00,\n",
              "                 2.51029412e+00]]]],\n",
              "\n",
              "\n",
              "\n",
              "            [[[[-1.19486432e+00, -7.60236200e-01,\n",
              "                -4.88273754e-01,  1.10035531e+00,\n",
              "                 1.96016020e+00],\n",
              "               [-1.37030978e+00,  6.02928706e-03,\n",
              "                 1.79224923e-01,  3.32238849e-01,\n",
              "                 1.90666750e+00]],\n",
              "\n",
              "              [[-1.84880957e-01, -8.43372712e-02,\n",
              "                 1.27260714e+00,  1.31113265e+00,\n",
              "                 1.40375354e+00],\n",
              "               [-8.65300382e-01, -3.20608614e-01,\n",
              "                -2.05820109e-01,  2.64679561e-01,\n",
              "                 6.68765720e-01]]],\n",
              "\n",
              "\n",
              "             [[[-2.24050510e+00,  2.51648303e-02,\n",
              "                 6.91568777e-01,  1.18352533e+00,\n",
              "                 1.85927851e+00],\n",
              "               [-1.59393043e+00, -4.15675386e-01,\n",
              "                 4.76327711e-02,  4.37156768e-01,\n",
              "                 5.07767204e-01]],\n",
              "\n",
              "              [[-1.52199349e+00, -1.33904496e+00,\n",
              "                -1.20266621e+00, -5.68155989e-01,\n",
              "                 1.89562426e+00],\n",
              "               [-6.80021913e-01,  2.37444316e-01,\n",
              "                 4.75847319e-01,  1.06921627e+00,\n",
              "                 1.64134545e+00]]]]],\n",
              "\n",
              "\n",
              "\n",
              "\n",
              "           [[[[[-6.01918650e-01, -5.83893545e-02,\n",
              "                 4.42364380e-01,  6.00402374e-01,\n",
              "                 7.81645297e-01],\n",
              "               [-3.11061769e-01, -1.83828491e-01,\n",
              "                 8.54673590e-02,  5.47768430e-01,\n",
              "                 1.82617914e+00]],\n",
              "\n",
              "              [[-2.00174887e-01,  6.04524539e-02,\n",
              "                 2.84304388e-01,  7.80741202e-01,\n",
              "                 9.50019064e-01],\n",
              "               [-4.46894506e-01,  3.30741786e-03,\n",
              "                 2.64192905e-02,  5.45322659e-02,\n",
              "                 1.28852479e+00]]],\n",
              "\n",
              "\n",
              "             [[[-1.85529865e+00,  3.12245594e-01,\n",
              "                 6.02382635e-01,  9.80929496e-01,\n",
              "                 1.70585760e+00],\n",
              "               [-7.85946832e-01, -7.03312318e-01,\n",
              "                 6.03283648e-01,  1.01720705e+00,\n",
              "                 1.62277232e+00]],\n",
              "\n",
              "              [[-1.07505746e+00, -9.55449809e-01,\n",
              "                -5.53118225e-02,  3.15579427e-01,\n",
              "                 9.58471137e-01],\n",
              "               [-1.01653282e+00, -7.90135707e-01,\n",
              "                -7.89975776e-01, -4.29260290e-01,\n",
              "                -3.98604431e-01]]]],\n",
              "\n",
              "\n",
              "\n",
              "            [[[[-1.94122041e+00,  4.56257840e-01,\n",
              "                 9.00268372e-01,  9.27672561e-01,\n",
              "                 1.03597228e+00],\n",
              "               [-1.89790557e+00, -1.39285971e+00,\n",
              "                -9.15173731e-01,  4.14606413e-01,\n",
              "                 1.18475797e+00]],\n",
              "\n",
              "              [[-9.37426830e-01, -4.59030694e-01,\n",
              "                 6.69493227e-02,  1.74100072e-01,\n",
              "                 1.14854504e+00],\n",
              "               [-2.86884755e-01, -2.42486507e-01,\n",
              "                 4.46936422e-01,  5.15140426e-01,\n",
              "                 2.10384848e+00]]],\n",
              "\n",
              "\n",
              "             [[[-1.45881648e+00, -8.76360007e-01,\n",
              "                -9.51827960e-02,  1.30979495e+00,\n",
              "                 1.92530477e+00],\n",
              "               [-7.09347302e-01, -2.99110094e-01,\n",
              "                 6.97640097e-02,  8.58932452e-02,\n",
              "                 9.49142032e-01]],\n",
              "\n",
              "              [[-9.36887790e-01, -8.09221105e-01,\n",
              "                -3.75955164e-01,  4.14569144e-01,\n",
              "                 4.68849714e-01],\n",
              "               [-1.90851911e-01,  3.99813436e-01,\n",
              "                 9.44224886e-01,  9.52231977e-01,\n",
              "                 9.80825253e-01]]]]]]],\n",
              "\n",
              "\n",
              "\n",
              "\n",
              "\n",
              "\n",
              "         [[[[[[[-1.34933051e+00,  4.54654908e-02,\n",
              "                 7.29197921e-01,  1.84211557e+00,\n",
              "                 2.21658357e+00],\n",
              "               [-1.73457875e+00, -1.10860164e+00,\n",
              "                 1.96836542e-01,  9.13077642e-01,\n",
              "                 1.83484311e+00]],\n",
              "\n",
              "              [[-1.58641102e+00, -1.06752213e+00,\n",
              "                 5.03039779e-01,  8.63981463e-01,\n",
              "                 1.14004901e+00],\n",
              "               [-1.19950020e+00, -6.77337456e-01,\n",
              "                -2.12691085e-01,  8.25321068e-01,\n",
              "                 1.38761072e+00]]],\n",
              "\n",
              "\n",
              "             [[[-1.57623549e+00, -6.70431512e-01,\n",
              "                -4.49033446e-01, -3.23074067e-01,\n",
              "                 3.68057948e-01],\n",
              "               [-4.93808664e-01, -4.72486254e-01,\n",
              "                -3.59826094e-01,  7.50010191e-02,\n",
              "                 1.85726224e+00]],\n",
              "\n",
              "              [[-1.23868721e-01,  6.42523724e-02,\n",
              "                 4.42486012e-01,  5.60835682e-01,\n",
              "                 8.59635661e-01],\n",
              "               [-2.99590259e+00, -4.37663276e-01,\n",
              "                 6.08335038e-01,  1.15320761e+00,\n",
              "                 1.40117670e+00]]]],\n",
              "\n",
              "\n",
              "\n",
              "            [[[[-1.38202733e+00, -6.59343035e-01,\n",
              "                -6.41773758e-01,  8.81944516e-01,\n",
              "                 1.70494479e+00],\n",
              "               [-1.39802558e+00, -8.94518570e-01,\n",
              "                -6.39058798e-01,  3.95124687e-01,\n",
              "                 1.06540028e+00]],\n",
              "\n",
              "              [[-2.17705818e+00, -1.00515980e+00,\n",
              "                -5.80907499e-01, -5.80454386e-01,\n",
              "                 1.41653417e-01],\n",
              "               [-8.90038566e-01, -4.25245468e-01,\n",
              "                -2.55582788e-01, -2.28657164e-01,\n",
              "                 5.15747843e-01]]],\n",
              "\n",
              "\n",
              "             [[[-1.31158410e+00, -1.11579058e+00,\n",
              "                -4.61801974e-02,  1.82613603e-01,\n",
              "                 1.03874257e+00],\n",
              "               [-1.18972566e+00, -1.05839912e+00,\n",
              "                -1.02166601e+00, -9.81947463e-01,\n",
              "                 4.42249259e-01]],\n",
              "\n",
              "              [[-9.73560154e-01, -6.82722008e-01,\n",
              "                -5.18384609e-01, -4.80717242e-01,\n",
              "                 2.21187593e+00],\n",
              "               [-1.71622839e-01,  1.03321352e-01,\n",
              "                 2.57239929e-01,  6.54085084e-01,\n",
              "                 1.50755649e+00]]]]],\n",
              "\n",
              "\n",
              "\n",
              "\n",
              "           [[[[[-1.53756667e+00, -1.29760327e+00,\n",
              "                -8.48188945e-01,  2.68592945e-01,\n",
              "                 1.02644434e+00],\n",
              "               [-7.68933372e-01,  8.15245367e-02,\n",
              "                 2.21308300e-01,  4.37261244e-01,\n",
              "                 6.97206822e-01]],\n",
              "\n",
              "              [[-6.83426151e-01,  1.48942186e-01,\n",
              "                 3.16477941e-01,  3.52821960e-01,\n",
              "                 1.17072907e+00],\n",
              "               [-1.10259898e+00,  4.99998078e-01,\n",
              "                 5.70640927e-01,  8.79161076e-01,\n",
              "                 2.45591813e+00]]],\n",
              "\n",
              "\n",
              "             [[[-6.11958030e-01, -3.00868089e-02,\n",
              "                 1.05156964e+00,  1.08317887e+00,\n",
              "                 1.47732652e+00],\n",
              "               [-1.26384409e+00, -4.03010217e-01,\n",
              "                -8.03928375e-02,  1.49591755e-01,\n",
              "                 8.60370336e-01]],\n",
              "\n",
              "              [[-7.69317523e-01, -4.56763957e-01,\n",
              "                -4.37544564e-01,  2.22082536e-01,\n",
              "                 6.52881901e-01],\n",
              "               [-1.31842590e+00, -1.04532211e+00,\n",
              "                 3.29743303e-01,  5.47688756e-01,\n",
              "                 1.63472911e+00]]]],\n",
              "\n",
              "\n",
              "\n",
              "            [[[[-1.07121609e+00,  1.23754788e-01,\n",
              "                 1.31973076e-01,  5.37740006e-01,\n",
              "                 6.02141731e-01],\n",
              "               [-3.18941699e-01,  4.74394467e-01,\n",
              "                 8.12376636e-01,  8.52246376e-01,\n",
              "                 1.45332196e+00]],\n",
              "\n",
              "              [[-8.79712445e-01, -7.71048490e-01,\n",
              "                 3.16825651e-01,  8.15483782e-01,\n",
              "                 1.35472214e+00],\n",
              "               [-1.60088291e+00, -1.93350524e-01,\n",
              "                 8.45401946e-01,  9.92091093e-01,\n",
              "                 1.52672033e+00]]],\n",
              "\n",
              "\n",
              "             [[[-1.05272961e+00, -6.74722961e-01,\n",
              "                -4.40046877e-01, -3.35756546e-01,\n",
              "                 7.54340065e-01],\n",
              "               [-1.23332388e+00, -2.61457701e-01,\n",
              "                -1.64038464e-01,  3.69566795e-01,\n",
              "                 1.50648466e+00]],\n",
              "\n",
              "              [[-1.69386761e+00, -1.11110441e+00,\n",
              "                -2.56250121e-01,  3.55008835e-01,\n",
              "                 1.62768000e+00],\n",
              "               [ 5.30893004e-03,  3.25683284e-01,\n",
              "                 3.79630379e-01,  1.33038080e+00,\n",
              "                 1.64114008e+00]]]]]],\n",
              "\n",
              "\n",
              "\n",
              "\n",
              "\n",
              "          [[[[[[-1.55619051e+00, -1.37010121e+00,\n",
              "                -7.86918821e-01,  8.27137724e-04,\n",
              "                 3.12154077e-01],\n",
              "               [-8.29565246e-01, -7.00760134e-01,\n",
              "                 1.12344031e+00,  1.70026335e+00,\n",
              "                 2.26214190e+00]],\n",
              "\n",
              "              [[-1.99445110e+00, -5.32926734e-01,\n",
              "                 4.79730823e-01,  5.64746393e-01,\n",
              "                 6.50464664e-01],\n",
              "               [-9.99256665e-01, -7.82301532e-01,\n",
              "                -2.45062525e-01,  1.84747548e+00,\n",
              "                 1.89892122e+00]]],\n",
              "\n",
              "\n",
              "             [[[-7.49361213e-01, -4.36777618e-01,\n",
              "                -1.00981674e-01,  8.10459888e-04,\n",
              "                 6.07382851e-01],\n",
              "               [-6.51307013e-01, -6.25071788e-01,\n",
              "                 2.17966131e-01,  2.62273441e-01,\n",
              "                 8.88404793e-01]],\n",
              "\n",
              "              [[-5.59839745e-01,  2.12433815e-01,\n",
              "                 4.30879949e-01,  6.39664009e-01,\n",
              "                 1.34237500e+00],\n",
              "               [-1.61927623e+00, -6.45012582e-01,\n",
              "                 3.48221840e-02,  4.18476476e-02,\n",
              "                 6.14049692e-02]]]],\n",
              "\n",
              "\n",
              "\n",
              "            [[[[ 1.81934346e-02,  3.37551765e-01,\n",
              "                 4.56185653e-01,  1.04373859e+00,\n",
              "                 1.51907841e+00],\n",
              "               [-1.06624384e-02,  1.51825929e-03,\n",
              "                 4.81559620e-01,  7.32456813e-01,\n",
              "                 1.01051614e+00]],\n",
              "\n",
              "              [[-1.83320051e+00, -1.30212991e+00,\n",
              "                -5.34007983e-01,  1.21088991e+00,\n",
              "                 2.13976616e+00],\n",
              "               [-1.10656955e+00, -7.40407044e-01,\n",
              "                -5.89981582e-01,  2.40119261e-02,\n",
              "                 2.93830215e-01]]],\n",
              "\n",
              "\n",
              "             [[[-1.30685639e+00, -1.91423713e-01,\n",
              "                 7.45029186e-01,  1.41101885e+00,\n",
              "                 2.44895430e+00],\n",
              "               [-7.68185190e-01, -4.71763395e-02,\n",
              "                 5.66531433e-01,  6.49530290e-01,\n",
              "                 8.79411777e-01]],\n",
              "\n",
              "              [[-9.39660906e-01, -9.12728737e-01,\n",
              "                -8.95192292e-01,  1.06995573e-01,\n",
              "                 1.30474441e+00],\n",
              "               [-1.04137729e+00, -8.64405357e-01,\n",
              "                -2.91938106e-01,  1.54047299e+00,\n",
              "                 3.19925818e+00]]]]],\n",
              "\n",
              "\n",
              "\n",
              "\n",
              "           [[[[[-1.40241632e+00, -1.38751341e+00,\n",
              "                -9.38440716e-01, -2.99669286e-02,\n",
              "                 7.31182671e-01],\n",
              "               [-7.00421071e-01,  6.56024399e-02,\n",
              "                 6.84169275e-01,  7.97427087e-01,\n",
              "                 1.81280302e+00]],\n",
              "\n",
              "              [[-1.10758813e+00, -2.91842947e-01,\n",
              "                -1.64667521e-02,  1.34631794e+00,\n",
              "                 1.61288900e+00],\n",
              "               [-7.29754019e-01, -2.18208377e-01,\n",
              "                 4.50920510e-01,  1.15134445e+00,\n",
              "                 3.11165020e+00]]],\n",
              "\n",
              "\n",
              "             [[[-1.76423031e+00, -1.36943601e+00,\n",
              "                 1.21135867e-01,  4.23341260e-01,\n",
              "                 1.29652298e+00],\n",
              "               [-7.73371520e-01, -7.18987422e-01,\n",
              "                -5.78628161e-01,  2.96299818e-01,\n",
              "                 5.84477574e-01]],\n",
              "\n",
              "              [[-1.38979555e+00,  1.21758826e+00,\n",
              "                 1.24402183e+00,  2.35180731e+00,\n",
              "                 2.51708095e+00],\n",
              "               [-2.13338007e+00, -2.73537249e-01,\n",
              "                -3.25178181e-02,  2.03218792e-01,\n",
              "                 9.05098643e-01]]]],\n",
              "\n",
              "\n",
              "\n",
              "            [[[[-8.84235102e-01, -1.54562352e-01,\n",
              "                -1.13776167e-02,  8.22696340e-02,\n",
              "                 2.89624332e+00],\n",
              "               [-2.07313571e+00, -2.05844428e+00,\n",
              "                -7.08045031e-01,  7.37373268e-01,\n",
              "                 7.90362331e-01]],\n",
              "\n",
              "              [[ 1.49626194e-01,  4.65994748e-01,\n",
              "                 8.20667181e-01,  8.51287977e-01,\n",
              "                 8.62203170e-01],\n",
              "               [-1.47398964e-01, -1.30661322e-01,\n",
              "                 8.82715401e-02,  7.04131021e-01,\n",
              "                 7.17759532e-01]]],\n",
              "\n",
              "\n",
              "             [[[-8.21245457e-01, -2.96455857e-01,\n",
              "                -1.53157591e-01, -5.44477195e-02,\n",
              "                 1.56314715e+00],\n",
              "               [-9.38296502e-01, -5.36406294e-01,\n",
              "                -4.16077152e-01,  9.80065138e-01,\n",
              "                 1.40956348e+00]],\n",
              "\n",
              "              [[-1.61992539e+00,  6.36311367e-02,\n",
              "                 5.51706341e-01,  9.03097755e-01,\n",
              "                 1.29557375e+00],\n",
              "               [-3.34604183e+00, -1.45836450e+00,\n",
              "                -1.32714241e+00,  9.66455403e-02,\n",
              "                 2.01600700e+00]]]]]]]],\n",
              "\n",
              "\n",
              "\n",
              "\n",
              "\n",
              "\n",
              "\n",
              "        [[[[[[[[-8.11083287e-01, -1.16166748e-01,\n",
              "                -9.16567027e-03,  1.37334737e+00,\n",
              "                 2.19303549e+00],\n",
              "               [-1.49289975e+00, -3.07980900e-01,\n",
              "                 2.54892678e-01,  5.15849505e-01,\n",
              "                 8.59665052e-01]],\n",
              "\n",
              "              [[-1.83849374e+00, -8.07022148e-01,\n",
              "                 2.09066929e-01,  7.39151742e-01,\n",
              "                 2.47247402e+00],\n",
              "               [-3.36658766e-01, -1.36732618e-01,\n",
              "                -1.18731395e-01,  1.09876493e+00,\n",
              "                 1.17575600e+00]]],\n",
              "\n",
              "\n",
              "             [[[-1.49665427e+00, -8.01027821e-01,\n",
              "                -7.18185652e-01, -2.76725399e-01,\n",
              "                 1.14395259e-01],\n",
              "               [-2.22763242e+00, -9.33430262e-01,\n",
              "                -7.55325817e-01, -6.63820002e-01,\n",
              "                 1.38628313e-01]],\n",
              "\n",
              "              [[-1.08630318e+00, -6.62211346e-01,\n",
              "                 3.27697525e-01,  1.03815938e+00,\n",
              "                 1.83261116e+00],\n",
              "               [-4.33089429e-01, -3.47968193e-01,\n",
              "                -9.83746603e-03,  9.90665629e-01,\n",
              "                 1.02363751e+00]]]],\n",
              "\n",
              "\n",
              "\n",
              "            [[[[-7.94182095e-01, -6.64696288e-02,\n",
              "                 7.32994022e-01,  1.34940556e+00,\n",
              "                 1.54627033e+00],\n",
              "               [-2.71053472e+00, -3.25426416e-01,\n",
              "                 1.86315069e-01,  9.06274363e-01,\n",
              "                 1.65587908e+00]],\n",
              "\n",
              "              [[-6.18199740e-01, -5.17455169e-01,\n",
              "                -1.15252105e-05,  1.36458029e+00,\n",
              "                 1.48463957e+00],\n",
              "               [-1.31062338e+00, -2.63064005e-01,\n",
              "                 2.18252100e-01,  5.30023799e-01,\n",
              "                 5.49621630e-01]]],\n",
              "\n",
              "\n",
              "             [[[-1.45391348e+00, -1.05363030e+00,\n",
              "                -4.43256017e-01,  5.69107286e-01,\n",
              "                 7.10517093e-01],\n",
              "               [-2.74643589e-01,  1.50249304e-01,\n",
              "                 1.87122922e+00,  2.04013343e+00,\n",
              "                 2.97547159e+00]],\n",
              "\n",
              "              [[-1.40133415e+00, -1.21319137e+00,\n",
              "                -9.24746980e-01,  3.21489078e-01,\n",
              "                 1.55762620e+00],\n",
              "               [-9.29338981e-01, -3.86094755e-02,\n",
              "                 7.85493559e-01,  1.26767266e+00,\n",
              "                 1.46032047e+00]]]]],\n",
              "\n",
              "\n",
              "\n",
              "\n",
              "           [[[[[-8.94203846e-01, -8.28779651e-01,\n",
              "                -4.34652927e-01,  1.17194951e+00,\n",
              "                 1.40245345e+00],\n",
              "               [-1.00174261e+00, -3.65902322e-01,\n",
              "                 1.41661535e-01,  4.19995007e-01,\n",
              "                 1.01897724e+00]],\n",
              "\n",
              "              [[-1.15343660e+00, -8.61744724e-02,\n",
              "                 2.33614724e-01,  6.99018689e-01,\n",
              "                 1.53684463e+00],\n",
              "               [-8.35012207e-01, -9.29643174e-02,\n",
              "                 5.31412673e-02,  8.64991306e-01,\n",
              "                 1.28503605e+00]]],\n",
              "\n",
              "\n",
              "             [[[-1.02845024e+00, -2.30702982e-01,\n",
              "                -2.20415485e-02,  1.61910374e-01,\n",
              "                 4.62949863e-01],\n",
              "               [-1.49235360e+00, -8.70613271e-01,\n",
              "                -7.32533719e-01, -6.41369532e-02,\n",
              "                 6.74204737e-01]],\n",
              "\n",
              "              [[-1.15998474e+00,  3.38618922e-01,\n",
              "                 1.13744775e+00,  1.20892526e+00,\n",
              "                 2.45313139e+00],\n",
              "               [-2.16841818e+00, -1.64704264e+00,\n",
              "                -1.51391616e+00,  7.28336428e-01,\n",
              "                 1.10774819e+00]]]],\n",
              "\n",
              "\n",
              "\n",
              "            [[[[-5.68622496e-01,  5.90992324e-01,\n",
              "                 7.19961950e-01,  1.40761625e+00,\n",
              "                 1.41162688e+00],\n",
              "               [-6.24309717e-01, -6.11780526e-01,\n",
              "                -5.10312804e-01, -4.74252947e-01,\n",
              "                 2.35400257e+00]],\n",
              "\n",
              "              [[-2.24670914e+00, -1.35850644e+00,\n",
              "                -6.21170453e-01, -2.59084779e-01,\n",
              "                 7.90980681e-01],\n",
              "               [-9.31952783e-02,  5.66734372e-02,\n",
              "                 7.88041902e-01,  1.28006774e+00,\n",
              "                 1.71050448e+00]]],\n",
              "\n",
              "\n",
              "             [[[-2.11803469e+00, -1.86471067e+00,\n",
              "                -1.73621225e+00, -1.30499678e+00,\n",
              "                -3.27560623e-05],\n",
              "               [-6.09065136e-01, -4.18601982e-01,\n",
              "                -4.17732238e-01,  1.13547734e-01,\n",
              "                 6.62750578e-01]],\n",
              "\n",
              "              [[-1.43258649e+00, -9.71964353e-01,\n",
              "                -7.11199817e-01,  9.92706795e-01,\n",
              "                 2.33117559e+00],\n",
              "               [-3.02500167e-01, -1.01334458e-01,\n",
              "                 4.97433774e-01,  7.96020599e-01,\n",
              "                 2.20937198e+00]]]]]],\n",
              "\n",
              "\n",
              "\n",
              "\n",
              "\n",
              "          [[[[[[-2.01943149e-02,  4.94336225e-02,\n",
              "                 2.27551421e-01,  2.89742373e-01,\n",
              "                 2.64849940e+00],\n",
              "               [ 3.47799503e-02,  9.63812334e-02,\n",
              "                 1.22670919e-01,  1.06723941e+00,\n",
              "                 1.17033434e+00]],\n",
              "\n",
              "              [[-2.03516025e+00, -1.28534095e+00,\n",
              "                -5.84595778e-01, -3.85183589e-01,\n",
              "                -4.66942975e-02],\n",
              "               [-1.10746706e+00, -8.23179446e-01,\n",
              "                -6.61589485e-01,  4.35713225e-01,\n",
              "                 4.49665163e-01]]],\n",
              "\n",
              "\n",
              "             [[[-1.33713123e+00, -1.20013312e+00,\n",
              "                -4.38375157e-01, -1.51057092e-01,\n",
              "                 2.25428737e+00],\n",
              "               [-1.01099897e+00, -1.34506045e-01,\n",
              "                 6.36916091e-02,  8.33842323e-01,\n",
              "                 1.13128691e+00]],\n",
              "\n",
              "              [[-2.17426183e+00, -1.63216955e-01,\n",
              "                 1.86325731e-01,  1.15483085e+00,\n",
              "                 1.46038467e+00],\n",
              "               [-1.19106766e+00, -4.64326111e-01,\n",
              "                 3.44624278e-03,  2.09967337e-01,\n",
              "                 1.91228588e+00]]]],\n",
              "\n",
              "\n",
              "\n",
              "            [[[[-8.60432615e-01, -7.75129378e-01,\n",
              "                 1.04947665e+00,  1.24272364e+00,\n",
              "                 1.56817050e+00],\n",
              "               [-3.71300011e-01, -1.08862222e-01,\n",
              "                 6.50975243e-02,  4.60383259e-01,\n",
              "                 2.40355110e+00]],\n",
              "\n",
              "              [[-6.61547572e-01, -7.63121593e-02,\n",
              "                 1.28416131e+00,  1.85084181e+00,\n",
              "                 1.87281889e+00],\n",
              "               [-1.97731315e+00, -3.18900796e-01,\n",
              "                 6.17592664e-02,  3.36536094e-01,\n",
              "                 1.48837870e+00]]],\n",
              "\n",
              "\n",
              "             [[[-1.28125644e+00, -5.70319435e-01,\n",
              "                -4.46779590e-01, -3.93500374e-01,\n",
              "                -3.47839813e-01],\n",
              "               [-3.49363546e-01, -3.44951205e-01,\n",
              "                -1.71483739e-01,  8.46513828e-01,\n",
              "                 9.98949272e-01]],\n",
              "\n",
              "              [[-1.60806519e+00, -1.95919576e-01,\n",
              "                 2.04282677e-02,  9.85058824e-02,\n",
              "                 3.33458933e-01],\n",
              "               [-1.61727188e+00, -4.56984959e-01,\n",
              "                 7.31110656e-01,  7.81582315e-01,\n",
              "                 1.11798650e+00]]]]],\n",
              "\n",
              "\n",
              "\n",
              "\n",
              "           [[[[[-3.30022162e-01,  2.16758799e-01,\n",
              "                 9.01089209e-01,  1.54575377e+00,\n",
              "                 1.55819281e+00],\n",
              "               [-1.27106022e+00, -3.00430058e-01,\n",
              "                 4.76590284e-01,  7.15458004e-01,\n",
              "                 1.24356192e+00]],\n",
              "\n",
              "              [[-4.87502738e-01,  2.65937790e-02,\n",
              "                 9.12604730e-01,  1.84892581e+00,\n",
              "                 1.90421923e+00],\n",
              "               [-2.21156153e+00,  1.30409488e-01,\n",
              "                 2.19636995e-01,  1.64470476e+00,\n",
              "                 1.73059499e+00]]],\n",
              "\n",
              "\n",
              "             [[[-7.79328541e-01, -6.22127818e-01,\n",
              "                -9.13152459e-02,  8.94761619e-01,\n",
              "                 1.57814392e+00],\n",
              "               [-2.13486271e+00, -7.07699911e-01,\n",
              "                 4.62903879e-02,  3.71194671e-01,\n",
              "                 9.48456551e-01]],\n",
              "\n",
              "              [[-2.36630486e+00, -8.24205230e-01,\n",
              "                -6.43103710e-01,  8.75973946e-02,\n",
              "                 1.83436988e-01],\n",
              "               [-2.35866104e+00, -1.59131506e+00,\n",
              "                -5.32492941e-01,  1.86361950e-01,\n",
              "                 3.63134305e-01]]]],\n",
              "\n",
              "\n",
              "\n",
              "            [[[[-1.03594828e+00, -1.91764082e-01,\n",
              "                 7.44473367e-02,  2.89985437e-01,\n",
              "                 3.48833968e-01],\n",
              "               [-1.82532474e+00, -1.60486915e-01,\n",
              "                -1.54713638e-02,  4.25064000e-01,\n",
              "                 1.25186613e+00]],\n",
              "\n",
              "              [[-9.15274240e-01, -8.04959138e-01,\n",
              "                -5.78789960e-01,  7.81463526e-01,\n",
              "                 1.20387966e+00],\n",
              "               [-2.25235168e+00, -5.57980631e-01,\n",
              "                -5.18286898e-01, -3.37359278e-01,\n",
              "                 1.55486838e+00]]],\n",
              "\n",
              "\n",
              "             [[[-9.66860174e-01,  4.40860124e-02,\n",
              "                 4.89007186e-01,  8.20530310e-01,\n",
              "                 1.17233748e+00],\n",
              "               [-2.65983141e+00,  6.54742347e-01,\n",
              "                 1.02062831e+00,  1.51041150e+00,\n",
              "                 1.98925195e+00]],\n",
              "\n",
              "              [[-2.65477627e-01,  1.00649514e+00,\n",
              "                 1.30146461e+00,  1.35241331e+00,\n",
              "                 2.09561905e+00],\n",
              "               [-6.45947343e-01, -5.77333331e-01,\n",
              "                -1.56012300e-01,  3.27980833e-01,\n",
              "                 6.25505299e-01]]]]]]],\n",
              "\n",
              "\n",
              "\n",
              "\n",
              "\n",
              "\n",
              "         [[[[[[[-4.08334100e-01,  1.35523173e-01,\n",
              "                 1.58669466e-01,  3.24472534e-01,\n",
              "                 4.41206218e-01],\n",
              "               [-1.13423858e+00, -6.45828858e-01,\n",
              "                -4.72568907e-01,  2.55804992e-01,\n",
              "                 1.08885206e+00]],\n",
              "\n",
              "              [[-9.19456726e-01, -8.29655031e-01,\n",
              "                -7.19695074e-01,  2.37350926e-01,\n",
              "                 1.02526416e+00],\n",
              "               [-3.36487463e-01, -1.97841173e-01,\n",
              "                 1.81199612e-01,  9.17417570e-01,\n",
              "                 1.82194170e+00]]],\n",
              "\n",
              "\n",
              "             [[[-1.19001869e+00, -6.09073186e-01,\n",
              "                -1.32973889e-01, -1.13995543e-01,\n",
              "                 1.21801928e+00],\n",
              "               [-3.73407917e-01,  1.29741697e-01,\n",
              "                 1.70795326e-01,  1.10913037e+00,\n",
              "                 1.27556359e+00]],\n",
              "\n",
              "              [[-2.58856053e+00,  1.57321765e-02,\n",
              "                 2.54516392e-01,  3.95125062e-01,\n",
              "                 6.07132673e-01],\n",
              "               [-1.35876180e+00, -8.64511664e-01,\n",
              "                -6.16078146e-01,  4.96060417e-01,\n",
              "                 1.21080907e+00]]]],\n",
              "\n",
              "\n",
              "\n",
              "            [[[[-1.95720975e+00, -4.76751692e-01,\n",
              "                -2.93194341e-01,  1.52530641e-01,\n",
              "                 4.49327145e-01],\n",
              "               [-2.30761053e+00, -5.15964818e-01,\n",
              "                -3.16239923e-01,  3.93623777e-01,\n",
              "                 8.39851568e-01]],\n",
              "\n",
              "              [[-1.37389913e+00, -9.63870133e-01,\n",
              "                 6.51352345e-02,  2.00308031e-01,\n",
              "                 4.95817114e-01],\n",
              "               [-1.57171948e+00, -5.43130798e-01,\n",
              "                -2.81866740e-01,  8.11390337e-01,\n",
              "                 1.60139734e+00]]],\n",
              "\n",
              "\n",
              "             [[[-1.89663862e+00, -9.83457071e-01,\n",
              "                -8.53561978e-01, -4.92912782e-01,\n",
              "                 6.47072630e-01],\n",
              "               [-1.29570411e+00, -1.01031397e+00,\n",
              "                -9.62117349e-02,  1.47013178e-01,\n",
              "                 7.89996990e-01]],\n",
              "\n",
              "              [[-1.47557301e+00, -8.97665027e-01,\n",
              "                -7.35206745e-01,  4.89271235e-01,\n",
              "                 1.02976091e+00],\n",
              "               [-1.03510301e+00,  2.43827983e-01,\n",
              "                 4.41652167e-01,  6.97110333e-01,\n",
              "                 8.02808353e-01]]]]],\n",
              "\n",
              "\n",
              "\n",
              "\n",
              "           [[[[[-1.73943069e-01,  1.60193824e-01,\n",
              "                 2.44339025e-01,  4.55555232e-01,\n",
              "                 9.62692235e-01],\n",
              "               [-5.85703834e-01, -4.43963232e-01,\n",
              "                -1.66623421e-01,  3.27057248e-01,\n",
              "                 6.60868446e-01]],\n",
              "\n",
              "              [[-9.15221053e-01, -1.37490090e-01,\n",
              "                 9.73760597e-01,  1.28327433e+00,\n",
              "                 1.51540874e+00],\n",
              "               [-5.43736341e-01, -3.58332676e-01,\n",
              "                 1.84291114e-01,  3.47233447e-01,\n",
              "                 1.67430603e+00]]],\n",
              "\n",
              "\n",
              "             [[[-1.62784130e+00, -8.70844324e-01,\n",
              "                -1.46100785e-02,  5.45846680e-01,\n",
              "                 6.78136185e-01],\n",
              "               [-1.39557832e+00, -3.67713930e-01,\n",
              "                -2.25879135e-01, -1.99443560e-01,\n",
              "                 6.39772842e-01]],\n",
              "\n",
              "              [[-1.43590805e+00, -8.19858964e-01,\n",
              "                 1.93202221e-01,  6.04104237e-01,\n",
              "                 1.25967124e+00],\n",
              "               [-1.60817125e+00, -8.55753075e-01,\n",
              "                -7.65074129e-01,  6.08669742e-02,\n",
              "                 1.15104682e-01]]]],\n",
              "\n",
              "\n",
              "\n",
              "            [[[[-1.30416921e+00, -3.78126427e-02,\n",
              "                 4.02073726e-02,  2.50898546e-01,\n",
              "                 7.88804212e-01],\n",
              "               [-6.05787834e-01, -4.37291385e-01,\n",
              "                 1.17795711e+00,  1.56505683e+00,\n",
              "                 2.16942385e+00]],\n",
              "\n",
              "              [[-2.31674486e+00, -1.52731375e-01,\n",
              "                -5.17233429e-02,  7.93740104e-01,\n",
              "                 1.81321249e+00],\n",
              "               [-1.59101694e+00, -2.77519692e-01,\n",
              "                 2.22918898e-03,  3.81649112e-01,\n",
              "                 5.59787374e-01]]],\n",
              "\n",
              "\n",
              "             [[[-8.38636767e-02,  3.77498289e-01,\n",
              "                 6.28926564e-01,  1.00302468e+00,\n",
              "                 1.71280288e+00],\n",
              "               [-1.00060028e+00, -6.87799376e-01,\n",
              "                -5.45803957e-01, -1.69705685e-01,\n",
              "                -1.63975531e-01]],\n",
              "\n",
              "              [[-3.84511081e-01,  1.25163768e-01,\n",
              "                 2.42993197e-01,  9.45363732e-01,\n",
              "                 2.21067985e+00],\n",
              "               [-1.42588431e+00, -8.63848850e-01,\n",
              "                 4.13106451e-01,  9.67201175e-01,\n",
              "                 1.74764059e+00]]]]]],\n",
              "\n",
              "\n",
              "\n",
              "\n",
              "\n",
              "          [[[[[[-3.20377690e-01, -1.96265143e-01,\n",
              "                -1.95915319e-01, -1.75614256e-01,\n",
              "                 1.09478876e+00],\n",
              "               [-6.71934182e-01, -3.60055920e-01,\n",
              "                 1.21889779e-01,  9.11031089e-01,\n",
              "                 1.66021377e+00]],\n",
              "\n",
              "              [[-7.69405825e-01, -6.46335514e-01,\n",
              "                -3.61532451e-01,  1.32557597e-01,\n",
              "                 1.26810307e+00],\n",
              "               [-5.76930222e-01, -2.12233100e-02,\n",
              "                 4.84863286e-01,  1.35049137e+00,\n",
              "                 2.27682559e+00]]],\n",
              "\n",
              "\n",
              "             [[[-1.35380290e+00, -9.71799485e-01,\n",
              "                 6.48849998e-01,  1.39174601e+00,\n",
              "                 1.61952710e+00],\n",
              "               [-2.29923285e+00, -2.17736822e+00,\n",
              "                -1.20262749e+00, -1.11350597e+00,\n",
              "                 8.26072413e-01]],\n",
              "\n",
              "              [[-3.95152743e-01, -3.57841892e-01,\n",
              "                -1.05217231e-01,  2.73990791e-02,\n",
              "                 1.75555020e+00],\n",
              "               [-8.11142288e-01, -4.67361455e-01,\n",
              "                -4.44423538e-01, -9.61864362e-02,\n",
              "                 6.95184380e-01]]]],\n",
              "\n",
              "\n",
              "\n",
              "            [[[[-1.05790007e+00, -1.36175802e-01,\n",
              "                -1.26321453e-01,  5.77868306e-01,\n",
              "                 1.71162426e+00],\n",
              "               [-1.30774513e+00, -1.05056585e+00,\n",
              "                -2.81067014e-01,  2.90610331e-01,\n",
              "                 7.28671447e-01]],\n",
              "\n",
              "              [[-1.48282992e+00, -2.76084169e-01,\n",
              "                -2.50220654e-01,  7.43905750e-02,\n",
              "                 3.14080396e-01],\n",
              "               [-9.29977211e-01,  1.41891799e-02,\n",
              "                 6.15126876e-01,  7.66379132e-01,\n",
              "                 9.87823106e-01]]],\n",
              "\n",
              "\n",
              "             [[[-1.45785772e+00, -1.43238373e+00,\n",
              "                 5.36000012e-01,  7.38354494e-01,\n",
              "                 1.12651272e+00],\n",
              "               [-1.51453976e+00, -1.26200762e+00,\n",
              "                -6.00465102e-01,  9.98053713e-01,\n",
              "                 2.05122315e+00]],\n",
              "\n",
              "              [[-1.52107735e+00, -9.37105986e-01,\n",
              "                -5.03227841e-01, -2.41512585e-01,\n",
              "                -1.51537734e-01],\n",
              "               [-1.04673554e+00, -9.07938788e-01,\n",
              "                -5.01061254e-01,  6.92075348e-01,\n",
              "                 1.05373775e+00]]]]],\n",
              "\n",
              "\n",
              "\n",
              "\n",
              "           [[[[[-1.15868092e+00, -9.90948906e-01,\n",
              "                 9.40471426e-01,  1.12617095e+00,\n",
              "                 2.33562363e+00],\n",
              "               [-1.05928714e+00, -1.00083503e+00,\n",
              "                -8.02881536e-01, -6.86746552e-01,\n",
              "                 7.00126182e-01]],\n",
              "\n",
              "              [[-1.05349015e+00,  2.63478903e-01,\n",
              "                 2.93761656e-01,  3.85820344e-01,\n",
              "                 1.19806804e+00],\n",
              "               [-1.02835173e+00, -4.44882442e-01,\n",
              "                -1.82101497e-01,  3.42311139e-01,\n",
              "                 1.65917582e+00]]],\n",
              "\n",
              "\n",
              "             [[[-1.08557013e+00, -7.51582282e-01,\n",
              "                -6.45286094e-01, -3.43624121e-01,\n",
              "                 9.52206099e-01],\n",
              "               [-9.51855108e-01, -9.17983022e-01,\n",
              "                -9.60082458e-02, -6.43264638e-02,\n",
              "                 1.94113554e+00]],\n",
              "\n",
              "              [[-1.35880722e+00, -8.96485396e-01,\n",
              "                 3.37798824e-01,  5.62291869e-01,\n",
              "                 7.56281705e-01],\n",
              "               [-1.69998559e+00,  8.94855237e-02,\n",
              "                 4.09914931e-01,  7.72238748e-01,\n",
              "                 7.72243861e-01]]]],\n",
              "\n",
              "\n",
              "\n",
              "            [[[[-4.33547268e-01, -2.19005741e-01,\n",
              "                -1.81650877e-01,  1.62556325e-01,\n",
              "                 4.55963969e-01],\n",
              "               [-1.89716281e-01, -1.14556713e-01,\n",
              "                 2.32053565e-01,  2.48454142e-01,\n",
              "                 9.45530228e-01]],\n",
              "\n",
              "              [[-1.12069052e+00,  2.03275313e-01,\n",
              "                 7.54083932e-01,  1.27969736e+00,\n",
              "                 1.35525381e+00],\n",
              "               [-6.89217346e-01, -6.41805965e-01,\n",
              "                -2.19304876e-01,  6.42838529e-01,\n",
              "                 6.49587642e-01]]],\n",
              "\n",
              "\n",
              "             [[[-1.19504442e+00, -1.14456126e+00,\n",
              "                -7.70944444e-01,  9.24514588e-01,\n",
              "                 1.39546547e+00],\n",
              "               [-1.33957839e+00, -1.32255576e+00,\n",
              "                -9.35993603e-01,  1.61135996e-01,\n",
              "                 6.08461062e-01]],\n",
              "\n",
              "              [[-9.22194842e-01, -9.20340698e-01,\n",
              "                 2.74008230e-02,  1.35360793e+00,\n",
              "                 2.22544067e+00],\n",
              "               [-3.59359770e-01, -1.31951345e-01,\n",
              "                -1.18274833e-01, -6.48138339e-03,\n",
              "                 1.76020719e+00]]]]]]]]],\n",
              "\n",
              "\n",
              "\n",
              "\n",
              "\n",
              "\n",
              "\n",
              "\n",
              "       [[[[[[[[[-1.28920709e+00, -1.01087907e+00,\n",
              "                -5.76242222e-01, -4.55641513e-01,\n",
              "                -8.54773316e-02],\n",
              "               [-1.80093653e+00, -8.23590729e-01,\n",
              "                -7.57784575e-01,  2.58838552e-01,\n",
              "                 2.64942350e-01]],\n",
              "\n",
              "              [[-1.36773277e+00, -3.39810044e-01,\n",
              "                 5.65462021e-02,  3.33953728e-01,\n",
              "                 1.06679257e+00],\n",
              "               [-1.42197024e+00, -1.37254522e+00,\n",
              "                -6.30216847e-01,  3.00480878e-01,\n",
              "                 1.27890096e+00]]],\n",
              "\n",
              "\n",
              "             [[[-1.11329696e+00, -6.25435025e-01,\n",
              "                -5.88356366e-01, -3.44807410e-01,\n",
              "                 1.85769926e-01],\n",
              "               [-5.74543949e-01, -4.17348622e-01,\n",
              "                 4.74240983e-01,  5.13739267e-01,\n",
              "                 7.31527782e-01]],\n",
              "\n",
              "              [[-1.06402282e+00, -8.98601785e-01,\n",
              "                -7.80922260e-01, -5.93058904e-01,\n",
              "                 3.87420028e-01],\n",
              "               [-1.39813870e+00, -6.28575943e-01,\n",
              "                -6.85984183e-02,  9.61331059e-02,\n",
              "                 1.15378677e+00]]]],\n",
              "\n",
              "\n",
              "\n",
              "            [[[[-1.38810396e+00, -1.13075102e+00,\n",
              "                -1.02714732e+00, -7.77198763e-01,\n",
              "                -7.54971078e-01],\n",
              "               [-1.25876638e+00, -9.15285001e-01,\n",
              "                -8.20116436e-01,  2.96259650e-01,\n",
              "                 8.94019837e-01]],\n",
              "\n",
              "              [[-7.32205672e-01, -2.83380285e-01,\n",
              "                -2.56362556e-01,  5.16148205e-01,\n",
              "                 1.91669869e+00],\n",
              "               [-1.66192315e+00,  2.55165894e-01,\n",
              "                 6.98341422e-01,  9.66659942e-01,\n",
              "                 2.25546587e+00]]],\n",
              "\n",
              "\n",
              "             [[[-2.33153115e+00,  4.09007474e-02,\n",
              "                 2.61188844e-01,  5.08101286e-01,\n",
              "                 1.42408436e+00],\n",
              "               [-2.01121683e+00, -1.25449794e+00,\n",
              "                -6.59880982e-01,  4.89129542e-01,\n",
              "                 2.56659375e+00]],\n",
              "\n",
              "              [[-1.04098851e+00, -8.51443920e-01,\n",
              "                -8.12999336e-01, -5.24540290e-01,\n",
              "                -1.85546895e-01],\n",
              "               [-1.85262817e+00, -1.74505614e+00,\n",
              "                -1.47041457e+00,  7.76894833e-01,\n",
              "                 1.23165277e+00]]]]],\n",
              "\n",
              "\n",
              "\n",
              "\n",
              "           [[[[[-2.26354913e+00, -1.53873853e-01,\n",
              "                 3.91493619e-01,  1.19031180e+00,\n",
              "                 1.71360108e+00],\n",
              "               [-9.90853358e-01, -9.22542741e-01,\n",
              "                -6.94014017e-01,  4.83439250e-01,\n",
              "                 1.82461098e+00]],\n",
              "\n",
              "              [[-3.42405720e-01, -3.07578871e-01,\n",
              "                -9.00937279e-02,  4.90417613e-01,\n",
              "                 9.37303875e-01],\n",
              "               [-1.71223500e+00, -1.25125768e+00,\n",
              "                -8.35378027e-01, -4.59574513e-01,\n",
              "                -1.17970392e-01]]],\n",
              "\n",
              "\n",
              "             [[[-3.18663353e+00, -6.08744498e-01,\n",
              "                -2.83280018e-01, -1.96059403e-01,\n",
              "                 1.25536236e+00],\n",
              "               [-1.71132794e+00, -3.17637556e-01,\n",
              "                -3.11824377e-01, -2.70073199e-01,\n",
              "                 1.90590636e-01]],\n",
              "\n",
              "              [[-1.04319588e+00, -8.46431502e-01,\n",
              "                -7.22386398e-01, -7.19197515e-01,\n",
              "                 1.03017265e+00],\n",
              "               [-8.82142516e-01, -7.42129158e-01,\n",
              "                -1.16981603e-01,  5.58580896e-02,\n",
              "                 1.32070339e+00]]]],\n",
              "\n",
              "\n",
              "\n",
              "            [[[[-2.89941494e+00, -1.70606144e-01,\n",
              "                 2.24084376e-01,  5.17100722e-01,\n",
              "                 9.64627277e-01],\n",
              "               [-2.11157222e+00, -6.45187346e-01,\n",
              "                 5.06515091e-02,  2.01147952e-01,\n",
              "                 2.17521084e-01]],\n",
              "\n",
              "              [[-2.22894006e+00, -1.98953259e+00,\n",
              "                -9.84600642e-01, -3.79675271e-01,\n",
              "                -1.65941797e-01],\n",
              "               [-7.77058580e-01, -6.52017884e-01,\n",
              "                 7.44395799e-02,  3.61967035e-01,\n",
              "                 4.32947745e-01]]],\n",
              "\n",
              "\n",
              "             [[[-1.30447338e+00,  7.28086970e-01,\n",
              "                 7.50284428e-01,  9.12686095e-01,\n",
              "                 9.76934537e-01],\n",
              "               [-1.64640315e+00,  9.45304287e-02,\n",
              "                 1.10898992e-01,  6.30975500e-01,\n",
              "                 9.90842072e-01]],\n",
              "\n",
              "              [[-1.12422513e-01,  6.72789464e-01,\n",
              "                 1.05047292e+00,  1.20952446e+00,\n",
              "                 1.44320337e+00],\n",
              "               [-2.07983431e+00, -1.44391618e+00,\n",
              "                -1.08124304e+00, -3.56650854e-01,\n",
              "                 4.55250994e-01]]]]]],\n",
              "\n",
              "\n",
              "\n",
              "\n",
              "\n",
              "          [[[[[[-1.43815295e+00, -1.16604492e+00,\n",
              "                 5.84870235e-01,  9.80086731e-01,\n",
              "                 2.19068514e+00],\n",
              "               [-3.02543597e+00, -1.67218184e+00,\n",
              "                -9.55694900e-01,  1.52465346e-01,\n",
              "                 3.31336653e-01]],\n",
              "\n",
              "              [[-7.23849645e-01,  1.98254199e-03,\n",
              "                 4.80612305e-01,  6.58384460e-01,\n",
              "                 1.57216445e+00],\n",
              "               [-2.49624147e+00, -7.15908802e-01,\n",
              "                -6.45616346e-01, -5.97418579e-01,\n",
              "                 7.05023312e-01]]],\n",
              "\n",
              "\n",
              "             [[[-6.63445019e-01, -3.43818935e-01,\n",
              "                 8.40013786e-01,  1.06413944e+00,\n",
              "                 1.22478751e+00],\n",
              "               [-2.03532144e+00, -8.29838620e-01,\n",
              "                -6.66512814e-01,  3.74630703e-01,\n",
              "                 1.34178065e+00]],\n",
              "\n",
              "              [[-1.88715217e+00,  9.98146870e-02,\n",
              "                 5.96039978e-01,  6.15756584e-01,\n",
              "                 1.20892968e+00],\n",
              "               [-1.33040312e+00, -9.22294905e-01,\n",
              "                -6.42515617e-01,  3.52096862e-01,\n",
              "                 5.36341405e-01]]]],\n",
              "\n",
              "\n",
              "\n",
              "            [[[[-7.09267195e-01,  4.15535462e-02,\n",
              "                 1.54380381e-01,  1.38441727e+00,\n",
              "                 1.74443960e+00],\n",
              "               [-1.39531598e-03,  9.12385538e-01,\n",
              "                 9.45617618e-01,  1.10344457e+00,\n",
              "                 1.57414251e+00]],\n",
              "\n",
              "              [[-1.24183552e+00, -7.33850269e-01,\n",
              "                -3.50239044e-01, -3.44018423e-01,\n",
              "                 1.90913637e+00],\n",
              "               [-2.04146024e+00, -2.77841135e-01,\n",
              "                 4.00793408e-01,  1.07129200e+00,\n",
              "                 1.15667062e+00]]],\n",
              "\n",
              "\n",
              "             [[[ 1.98095034e-01,  2.81251419e-01,\n",
              "                 7.00676644e-01,  1.34589672e+00,\n",
              "                 1.86244002e+00],\n",
              "               [-1.72615851e+00, -8.88468865e-01,\n",
              "                 5.34856392e-01,  6.19778878e-01,\n",
              "                 2.00194492e+00]],\n",
              "\n",
              "              [[-1.17514067e+00, -1.12349148e+00,\n",
              "                -7.18088827e-01, -3.14245351e-01,\n",
              "                 6.10528740e-02],\n",
              "               [-2.13404810e-01, -1.18180698e-01,\n",
              "                -5.32882277e-02,  4.32507405e-01,\n",
              "                 1.48122274e+00]]]]],\n",
              "\n",
              "\n",
              "\n",
              "\n",
              "           [[[[[-1.31853535e+00, -6.10560746e-02,\n",
              "                 3.42373913e-01,  5.56871779e-01,\n",
              "                 6.00215893e-01],\n",
              "               [-6.93603184e-01, -4.21207284e-01,\n",
              "                 6.16150073e-01,  6.59205124e-01,\n",
              "                 2.88977357e+00]],\n",
              "\n",
              "              [[-2.49188050e-01,  2.41273463e-01,\n",
              "                 3.60529257e-01,  8.10629879e-01,\n",
              "                 8.39475164e-01],\n",
              "               [-9.81894365e-01,  3.92547838e-01,\n",
              "                 4.02847229e-01,  6.72297167e-01,\n",
              "                 7.86870512e-01]]],\n",
              "\n",
              "\n",
              "             [[[-2.02230062e+00, -8.35432148e-01,\n",
              "                -3.31102616e-01,  1.19096813e-02,\n",
              "                 1.13703367e+00],\n",
              "               [-5.87863413e-01, -5.27508984e-01,\n",
              "                -1.53430667e-01,  4.56029134e-01,\n",
              "                 1.28688071e+00]],\n",
              "\n",
              "              [[-9.48681221e-01, -5.78654202e-01,\n",
              "                -1.30437456e-01,  2.44782614e-02,\n",
              "                 1.03131230e-01],\n",
              "               [-7.26189568e-01, -2.19105247e-01,\n",
              "                -5.30795763e-02,  1.66856366e-01,\n",
              "                 3.55570669e-01]]]],\n",
              "\n",
              "\n",
              "\n",
              "            [[[[-1.96093429e+00, -1.43017797e-01,\n",
              "                 4.22234444e-01,  6.42703038e-01,\n",
              "                 8.49022366e-01],\n",
              "               [-5.40431155e-01, -2.02120233e-01,\n",
              "                -1.63415983e-01,  9.67024047e-01,\n",
              "                 1.39989662e+00]],\n",
              "\n",
              "              [[-9.49589211e-01, -9.16715205e-01,\n",
              "                 4.07230033e-01,  1.33316294e+00,\n",
              "                 1.52434188e+00],\n",
              "               [-1.24828161e+00, -1.02737851e+00,\n",
              "                -3.54738264e-01,  6.02847732e-01,\n",
              "                 6.29994464e-01]]],\n",
              "\n",
              "\n",
              "             [[[-5.53127937e-01, -4.96111838e-01,\n",
              "                 9.43568061e-01,  1.55785254e+00,\n",
              "                 2.18264908e+00],\n",
              "               [-1.10225239e+00, -4.95777223e-01,\n",
              "                -3.95059817e-01, -2.77913758e-01,\n",
              "                -8.41157879e-02]],\n",
              "\n",
              "              [[-1.40342476e+00, -9.21571084e-01,\n",
              "                -5.52603484e-02,  5.04350689e-01,\n",
              "                 1.21659313e+00],\n",
              "               [-1.09953812e+00, -7.10002446e-01,\n",
              "                -7.06529030e-01, -6.35900805e-01,\n",
              "                -2.49928307e-01]]]]]]],\n",
              "\n",
              "\n",
              "\n",
              "\n",
              "\n",
              "\n",
              "         [[[[[[[-1.72244020e+00, -9.97244889e-01,\n",
              "                -6.84886952e-01, -3.16501303e-01,\n",
              "                -2.42443083e-01],\n",
              "               [-1.12052603e+00, -8.40889488e-01,\n",
              "                -3.60261540e-01,  5.45974399e-01,\n",
              "                 1.07300972e+00]],\n",
              "\n",
              "              [[-1.30513932e+00,  6.65893343e-02,\n",
              "                 2.10319455e-01,  1.32175225e+00,\n",
              "                 2.33475846e+00],\n",
              "               [-2.12573085e+00, -1.97060224e+00,\n",
              "                -8.40144208e-01,  1.02879173e+00,\n",
              "                 1.26488938e+00]]],\n",
              "\n",
              "\n",
              "             [[[-2.40717459e+00,  3.77086611e-01,\n",
              "                 4.11848884e-01,  5.63815492e-01,\n",
              "                 2.52411323e+00],\n",
              "               [-8.13736362e-01, -7.93462541e-01,\n",
              "                -6.92878255e-01, -5.15685012e-03,\n",
              "                 7.79423513e-01]],\n",
              "\n",
              "              [[-6.96586389e-01, -3.74660573e-01,\n",
              "                -3.70786714e-01,  7.88225536e-01,\n",
              "                 1.26175844e+00],\n",
              "               [-1.34262411e+00, -6.50229169e-01,\n",
              "                -3.17286313e-01,  4.29637334e-02,\n",
              "                 4.30019066e-01]]]],\n",
              "\n",
              "\n",
              "\n",
              "            [[[[-1.36980862e+00, -1.31991574e+00,\n",
              "                -4.66820436e-01,  9.03597492e-01,\n",
              "                 9.17170670e-01],\n",
              "               [-1.32399543e+00, -5.19088346e-01,\n",
              "                -2.45838210e-01,  4.11731520e-02,\n",
              "                 2.67639571e+00]],\n",
              "\n",
              "              [[-1.13662428e+00, -2.80093663e-01,\n",
              "                -2.37343347e-01,  7.80536008e-03,\n",
              "                 5.14949532e-01],\n",
              "               [-1.12834490e+00, -7.57932281e-01,\n",
              "                -1.85737883e-01,  1.11343856e+00,\n",
              "                 1.44295201e+00]]],\n",
              "\n",
              "\n",
              "             [[[-1.50128737e+00, -6.73575551e-01,\n",
              "                -4.99483477e-01,  7.60152983e-01,\n",
              "                 1.44637340e+00],\n",
              "               [-5.77012666e-01, -3.47953263e-01,\n",
              "                -2.81440995e-01,  1.85938058e-01,\n",
              "                 8.61562171e-01]],\n",
              "\n",
              "              [[-5.89750957e-01, -3.91739101e-01,\n",
              "                -3.13904463e-01,  1.28913278e-01,\n",
              "                 8.30802696e-01],\n",
              "               [-9.98944693e-01, -9.18935058e-01,\n",
              "                -3.65590406e-01,  2.05308068e-01,\n",
              "                 1.34127158e+00]]]]],\n",
              "\n",
              "\n",
              "\n",
              "\n",
              "           [[[[[-1.16857707e+00, -2.47315254e-01,\n",
              "                 9.34844619e-02,  9.94232665e-02,\n",
              "                 1.89370039e-01],\n",
              "               [-1.43472355e+00, -1.29749210e+00,\n",
              "                -6.86984388e-01,  3.39823431e-01,\n",
              "                 1.35235758e+00]],\n",
              "\n",
              "              [[-3.59795909e-01,  4.88229272e-01,\n",
              "                 8.18733154e-01,  1.13219969e+00,\n",
              "                 2.60293429e+00],\n",
              "               [-1.11918918e+00, -2.17882939e-01,\n",
              "                 5.33175405e-01,  7.70350132e-01,\n",
              "                 1.36041215e+00]]],\n",
              "\n",
              "\n",
              "             [[[-7.79601639e-01, -4.89102599e-01,\n",
              "                -3.25849742e-01, -2.49290018e-01,\n",
              "                 8.17035006e-01],\n",
              "               [-5.48049300e-01, -3.81962437e-01,\n",
              "                 3.96149208e-01,  5.60561045e-01,\n",
              "                 1.30116656e+00]],\n",
              "\n",
              "              [[-4.33758414e-01, -4.24760814e-01,\n",
              "                 5.36433259e-01,  1.31995244e+00,\n",
              "                 3.07192459e+00],\n",
              "               [-6.50544002e-01, -4.12057556e-01,\n",
              "                -9.40556449e-02,  1.42186353e-01,\n",
              "                 1.08388375e+00]]]],\n",
              "\n",
              "\n",
              "\n",
              "            [[[[-1.11280462e+00, -6.74194271e-03,\n",
              "                 1.24882767e-02,  7.64807427e-01,\n",
              "                 9.52233586e-01],\n",
              "               [-7.91794550e-01, -7.03416093e-01,\n",
              "                -5.80957747e-01,  6.92251171e-01,\n",
              "                 9.25027308e-01]],\n",
              "\n",
              "              [[-6.33110243e-01, -2.85444701e-02,\n",
              "                 4.00987142e-02,  6.58736628e-01,\n",
              "                 1.51167828e+00],\n",
              "               [-1.19357423e+00, -5.25793212e-01,\n",
              "                -4.48771742e-02,  5.96400600e-01,\n",
              "                 1.00040782e+00]]],\n",
              "\n",
              "\n",
              "             [[[-1.28196989e+00, -9.10085469e-01,\n",
              "                -5.00444000e-01, -3.33712275e-01,\n",
              "                 3.72989909e-01],\n",
              "               [-9.16486609e-01,  2.98417879e-01,\n",
              "                 5.12465787e-01,  5.73406594e-01,\n",
              "                 1.22205414e+00]],\n",
              "\n",
              "              [[-6.91683433e-01, -5.83347775e-01,\n",
              "                 4.41552996e-01,  7.05638315e-01,\n",
              "                 1.40647781e+00],\n",
              "               [-1.28066567e+00, -6.94415213e-01,\n",
              "                -1.81127065e-01,  2.29849761e-01,\n",
              "                 1.49560805e+00]]]]]],\n",
              "\n",
              "\n",
              "\n",
              "\n",
              "\n",
              "          [[[[[[-2.01360291e+00,  9.23719003e-02,\n",
              "                 6.80323957e-01,  7.75838796e-01,\n",
              "                 9.17619534e-01],\n",
              "               [-1.03127615e+00, -9.58477745e-01,\n",
              "                -6.67367573e-01, -6.24419645e-01,\n",
              "                 7.86634926e-01]],\n",
              "\n",
              "              [[-7.77348730e-01, -4.92551529e-01,\n",
              "                 4.15397918e-01,  4.62223558e-01,\n",
              "                 1.61906413e+00],\n",
              "               [-5.89521230e-01, -2.30477233e-01,\n",
              "                 4.08448547e-01,  5.75367359e-01,\n",
              "                 7.16441609e-01]]],\n",
              "\n",
              "\n",
              "             [[[-2.68618696e-01, -1.17404160e-01,\n",
              "                 8.37263313e-01,  1.05167843e+00,\n",
              "                 1.77668930e+00],\n",
              "               [-2.43370474e+00,  1.95000929e-01,\n",
              "                 6.48779684e-01,  9.74069184e-01,\n",
              "                 1.54410239e+00]],\n",
              "\n",
              "              [[-1.70950879e+00, -1.08957811e+00,\n",
              "                -9.28392704e-01, -5.34810564e-01,\n",
              "                 1.18993001e-01],\n",
              "               [-2.30041081e+00, -1.67051678e+00,\n",
              "                -6.58454806e-03,  1.07394704e+00,\n",
              "                 1.26825749e+00]]]],\n",
              "\n",
              "\n",
              "\n",
              "            [[[[-1.93674838e+00,  9.17414089e-02,\n",
              "                 1.67092127e-01,  4.46109640e-01,\n",
              "                 6.67664027e-01],\n",
              "               [-1.01353410e+00,  1.00803628e+00,\n",
              "                 1.25894245e+00,  1.73624470e+00,\n",
              "                 2.24160693e+00]],\n",
              "\n",
              "              [[-1.50990328e+00, -1.35581319e-02,\n",
              "                 3.66150988e-01,  4.50350551e-01,\n",
              "                 1.01545427e+00],\n",
              "               [-2.41679681e+00, -1.52934988e+00,\n",
              "                -1.02398324e+00, -5.43200915e-01,\n",
              "                 9.27511014e-01]]],\n",
              "\n",
              "\n",
              "             [[[-1.90424116e+00, -8.28913355e-01,\n",
              "                -3.86830167e-01,  1.86284257e-01,\n",
              "                 1.05652350e+00],\n",
              "               [-8.39136739e-01, -2.55535132e-01,\n",
              "                -2.41200819e-01,  1.21038292e+00,\n",
              "                 1.98074732e+00]],\n",
              "\n",
              "              [[-4.22119129e-01, -8.04978828e-02,\n",
              "                -5.95823615e-02,  2.02620983e-01,\n",
              "                 2.38447969e+00],\n",
              "               [-1.46357833e+00, -1.21249384e+00,\n",
              "                -4.48490741e-01,  9.95396912e-01,\n",
              "                 1.35400885e+00]]]]],\n",
              "\n",
              "\n",
              "\n",
              "\n",
              "           [[[[[-2.52995688e+00, -1.21299467e+00,\n",
              "                 9.61885697e-01,  1.23204871e+00,\n",
              "                 1.76819565e+00],\n",
              "               [-1.41330240e+00, -1.34275615e+00,\n",
              "                -1.27731573e+00, -7.89918283e-01,\n",
              "                -6.93110373e-02]],\n",
              "\n",
              "              [[-5.94520406e-01, -9.63174877e-03,\n",
              "                 2.42076860e-01,  1.65291352e+00,\n",
              "                 1.88155221e+00],\n",
              "               [-1.62833150e+00, -1.60710063e+00,\n",
              "                -2.21979291e-01,  3.81772199e-01,\n",
              "                 7.98019940e-01]]],\n",
              "\n",
              "\n",
              "             [[[-8.87210256e-01,  7.32951997e-02,\n",
              "                 1.69896870e-01,  3.27951465e-01,\n",
              "                 1.05777978e+00],\n",
              "               [-3.09419996e+00, -1.06285550e+00,\n",
              "                -1.45834989e-01,  1.29645300e-02,\n",
              "                 1.17527333e+00]],\n",
              "\n",
              "              [[-1.06700227e+00, -2.06536837e-01,\n",
              "                 9.68603225e-01,  1.59529907e+00,\n",
              "                 1.96462903e+00],\n",
              "               [-9.18319812e-01, -5.90450818e-01,\n",
              "                -5.59638387e-01, -5.09987890e-01,\n",
              "                 8.85136440e-01]]]],\n",
              "\n",
              "\n",
              "\n",
              "            [[[[-1.25302084e+00, -8.32921420e-01,\n",
              "                -2.45919362e-01, -1.83529742e-01,\n",
              "                 4.83580815e-01],\n",
              "               [-8.33354201e-01, -5.78576148e-01,\n",
              "                -4.48503111e-01,  1.01246334e-01,\n",
              "                 1.84481258e+00]],\n",
              "\n",
              "              [[ 1.16615652e-01,  1.24617846e-01,\n",
              "                 8.79860201e-01,  1.70888712e+00,\n",
              "                 2.25010034e+00],\n",
              "               [ 2.68973520e-02,  2.24864171e-01,\n",
              "                 9.91124670e-01,  1.08298218e+00,\n",
              "                 1.81026031e+00]]],\n",
              "\n",
              "\n",
              "             [[[-1.44511951e+00, -2.53755991e-01,\n",
              "                 8.96790266e-01,  2.02531619e+00,\n",
              "                 2.87021870e+00],\n",
              "               [-1.78679078e+00, -2.58705431e-01,\n",
              "                -1.75357046e-01,  6.78414905e-01,\n",
              "                 1.25349319e+00]],\n",
              "\n",
              "              [[-1.84844081e+00, -1.59571905e-01,\n",
              "                 1.18803277e-01,  1.47245514e-01,\n",
              "                 2.98781532e-01],\n",
              "               [-1.08568340e+00, -1.00399301e+00,\n",
              "                 2.15270423e-01,  8.60573442e-01,\n",
              "                 8.96458190e-01]]]]]]]],\n",
              "\n",
              "\n",
              "\n",
              "\n",
              "\n",
              "\n",
              "\n",
              "        [[[[[[[[-5.70755594e-01, -4.92174518e-01,\n",
              "                 1.75658193e-01,  7.99638122e-01,\n",
              "                 1.31818330e+00],\n",
              "               [-1.12303469e+00, -9.85727744e-01,\n",
              "                -9.25034782e-01,  8.19437375e-02,\n",
              "                 2.05113183e-01]],\n",
              "\n",
              "              [[-7.91468037e-01, -5.98323882e-01,\n",
              "                -5.76601223e-01,  3.92549985e-01,\n",
              "                 7.28945119e-01],\n",
              "               [-9.58188944e-01, -1.55001019e-01,\n",
              "                 7.81010453e-02,  4.93508086e-01,\n",
              "                 1.07896825e+00]]],\n",
              "\n",
              "\n",
              "             [[[-1.30543806e+00, -5.80064987e-01,\n",
              "                 1.10458123e+00,  1.26725745e+00,\n",
              "                 1.78504297e+00],\n",
              "               [-1.44366915e+00, -3.61619509e-01,\n",
              "                 8.50642795e-01,  8.68471602e-01,\n",
              "                 1.01626112e+00]],\n",
              "\n",
              "              [[-6.40127354e-01, -2.29377432e-01,\n",
              "                -2.20427807e-02,  1.05374965e+00,\n",
              "                 1.21714941e+00],\n",
              "               [-1.73246232e+00, -3.83096582e-01,\n",
              "                -1.11472764e-01,  2.97984801e-02,\n",
              "                 2.49340535e-01]]]],\n",
              "\n",
              "\n",
              "\n",
              "            [[[[-1.61953171e+00, -4.64732784e-01,\n",
              "                -2.06950546e-01,  8.45642857e-03,\n",
              "                 1.04037904e+00],\n",
              "               [-1.67809489e+00, -7.96505076e-01,\n",
              "                 5.82575490e-01,  1.49401612e+00,\n",
              "                 1.98326578e+00]],\n",
              "\n",
              "              [[-1.55628383e+00,  3.39668394e-01,\n",
              "                 4.41423951e-01,  8.06975327e-01,\n",
              "                 1.31594706e+00],\n",
              "               [-2.42245468e+00, -8.72018311e-01,\n",
              "                -8.41474376e-01, -4.12806530e-01,\n",
              "                 4.19965881e-01]]],\n",
              "\n",
              "\n",
              "             [[[-1.41824868e+00, -9.57077742e-01,\n",
              "                -6.88882768e-01, -1.78365516e-01,\n",
              "                 3.65839880e-01],\n",
              "               [-1.01054144e+00, -6.56709191e-01,\n",
              "                -3.42705158e-01,  3.94374652e-01,\n",
              "                 2.04451155e+00]],\n",
              "\n",
              "              [[-8.55034823e-01,  2.21157891e-01,\n",
              "                 3.35240216e-01,  5.29806659e-01,\n",
              "                 1.52805543e+00],\n",
              "               [-1.64334465e+00, -1.25683831e+00,\n",
              "                -7.95649955e-01,  2.68563408e-01,\n",
              "                 6.98877562e-01]]]]],\n",
              "\n",
              "\n",
              "\n",
              "\n",
              "           [[[[[-1.42557796e+00,  6.38646392e-01,\n",
              "                 9.88724206e-01,  1.18923557e+00,\n",
              "                 1.20194562e+00],\n",
              "               [-8.75984805e-01,  1.77071136e-01,\n",
              "                 5.15127999e-01,  5.27625968e-01,\n",
              "                 2.07615160e+00]],\n",
              "\n",
              "              [[-2.32973166e+00, -5.99477095e-02,\n",
              "                 5.66984018e-03,  1.91324443e-01,\n",
              "                 8.68870993e-01],\n",
              "               [-1.76191973e+00, -1.58465586e+00,\n",
              "                -1.51219013e+00, -5.70922576e-02,\n",
              "                 7.06938160e-02]]],\n",
              "\n",
              "\n",
              "             [[[-7.17961162e-01, -1.46885744e-01,\n",
              "                -1.08995172e-01,  6.10786227e-02,\n",
              "                 2.89614521e-01],\n",
              "               [-1.01917985e+00, -1.79874418e-01,\n",
              "                 9.18680528e-02,  1.14065828e+00,\n",
              "                 1.74093282e+00]],\n",
              "\n",
              "              [[-5.56345707e-01, -3.25998681e-01,\n",
              "                -9.23920216e-02,  1.21895208e-02,\n",
              "                 1.94533693e-01],\n",
              "               [-1.34290122e+00, -8.56495844e-01,\n",
              "                -4.20564219e-01,  8.52827286e-01,\n",
              "                 9.69607254e-01]]]],\n",
              "\n",
              "\n",
              "\n",
              "            [[[[-4.62398588e-01, -4.27150891e-01,\n",
              "                 4.60413579e-01,  5.68787885e-01,\n",
              "                 1.53271824e+00],\n",
              "               [-8.12001120e-01, -3.86883149e-01,\n",
              "                -2.97848298e-01, -1.90527639e-01,\n",
              "                 3.79595682e-01]],\n",
              "\n",
              "              [[-7.03303638e-01, -5.43310494e-01,\n",
              "                -5.40555017e-01, -1.60722825e-01,\n",
              "                 2.14699672e-01],\n",
              "               [-1.28785037e+00, -3.13773577e-01,\n",
              "                 6.89270357e-02,  2.67769773e-01,\n",
              "                 9.83940707e-01]]],\n",
              "\n",
              "\n",
              "             [[[-1.29613274e+00, -6.11977233e-01,\n",
              "                 7.66728916e-01,  1.08884608e+00,\n",
              "                 1.25046755e+00],\n",
              "               [-6.51269051e-01,  5.76532517e-02,\n",
              "                 5.51596211e-01,  8.97106344e-01,\n",
              "                 1.47464815e+00]],\n",
              "\n",
              "              [[-9.78474388e-01, -3.85188481e-01,\n",
              "                 6.81357347e-02,  6.13050534e-01,\n",
              "                 1.25940610e+00],\n",
              "               [-1.27891531e+00, -6.93482555e-01,\n",
              "                -6.51827879e-01,  5.21205561e-01,\n",
              "                 1.99463132e+00]]]]]],\n",
              "\n",
              "\n",
              "\n",
              "\n",
              "\n",
              "          [[[[[[-3.99730404e-01, -2.54834633e-01,\n",
              "                -1.28638524e-01,  1.21748721e+00,\n",
              "                 1.26530205e+00],\n",
              "               [-2.27631876e+00, -1.06297677e+00,\n",
              "                -7.46195370e-01,  5.38718539e-03,\n",
              "                 1.55067301e-01]],\n",
              "\n",
              "              [[-7.64001636e-01, -6.76940972e-01,\n",
              "                -3.60946474e-01,  5.60566849e-01,\n",
              "                 6.75948283e-01],\n",
              "               [-4.06418460e-01,  1.68715824e-01,\n",
              "                 3.09079626e-01,  5.65896385e-01,\n",
              "                 1.33800123e+00]]],\n",
              "\n",
              "\n",
              "             [[[-1.58272043e+00, -1.88589581e-01,\n",
              "                 2.16293103e-01,  2.76661819e-01,\n",
              "                 3.94881692e-01],\n",
              "               [-3.24264384e-01, -2.44310242e-01,\n",
              "                 4.87301984e-02,  9.57557327e-01,\n",
              "                 2.06793928e+00]],\n",
              "\n",
              "              [[-7.46227203e-01,  2.53468730e-01,\n",
              "                 9.48667281e-01,  1.56934012e+00,\n",
              "                 2.11240623e+00],\n",
              "               [-1.86178290e+00, -1.61278790e+00,\n",
              "                -4.93179005e-02,  1.17213301e-01,\n",
              "                 1.31491136e+00]]]],\n",
              "\n",
              "\n",
              "\n",
              "            [[[[-1.13385970e+00, -7.85001965e-01,\n",
              "                -3.00342306e-01,  7.78832447e-01,\n",
              "                 1.00018369e+00],\n",
              "               [-6.09563468e-01,  2.26350196e-02,\n",
              "                 3.05221124e-01,  1.15443749e+00,\n",
              "                 1.50624519e+00]],\n",
              "\n",
              "              [[-2.00776858e+00, -1.20844657e+00,\n",
              "                -7.97978319e-01, -3.42971636e-01,\n",
              "                -4.94135023e-02],\n",
              "               [-1.03937724e+00, -7.76917085e-01,\n",
              "                 2.02851556e-01,  4.29517332e-01,\n",
              "                 2.17610070e+00]]],\n",
              "\n",
              "\n",
              "             [[[-1.24997025e+00, -3.11981646e-01,\n",
              "                -3.26624960e-02,  4.53202711e-01,\n",
              "                 1.22637673e+00],\n",
              "               [-1.96909127e+00, -1.60854423e+00,\n",
              "                -4.72928202e-01, -2.61329922e-01,\n",
              "                 1.25070999e-01]],\n",
              "\n",
              "              [[-1.28497217e+00, -1.19195277e+00,\n",
              "                 6.80552574e-01,  1.16553926e+00,\n",
              "                 1.46755323e+00],\n",
              "               [-7.49399563e-01, -3.64404120e-01,\n",
              "                -1.98721031e-01,  2.84339279e-01,\n",
              "                 1.06234678e+00]]]]],\n",
              "\n",
              "\n",
              "\n",
              "\n",
              "           [[[[[-1.16454881e+00,  3.81370563e-01,\n",
              "                 3.95948695e-01,  6.88160453e-01,\n",
              "                 9.08851166e-01],\n",
              "               [-7.11532841e-01, -6.59667207e-01,\n",
              "                 1.46615376e-01,  1.80041645e-01,\n",
              "                 1.86510947e+00]],\n",
              "\n",
              "              [[-8.41539795e-01, -4.84079912e-02,\n",
              "                 5.18915106e-01,  7.56487041e-01,\n",
              "                 9.21908593e-01],\n",
              "               [-7.01617263e-01, -1.87653107e-01,\n",
              "                -2.94176387e-02, -2.40474847e-02,\n",
              "                 1.50067969e+00]]],\n",
              "\n",
              "\n",
              "             [[[-7.21213187e-01, -6.13886507e-01,\n",
              "                -5.63427652e-02,  5.94469457e-01,\n",
              "                 9.09708794e-01],\n",
              "               [-5.09391028e-01, -3.88382310e-01,\n",
              "                -2.08841590e-01,  4.91185293e-02,\n",
              "                 1.87678552e-01]],\n",
              "\n",
              "              [[-1.61490651e+00, -5.92014746e-01,\n",
              "                -4.70612466e-01,  3.91462098e-01,\n",
              "                 5.08508554e-01],\n",
              "               [-1.43855405e+00, -9.01887867e-01,\n",
              "                 9.95420104e-02,  3.58842986e-01,\n",
              "                 4.85241215e-01]]]],\n",
              "\n",
              "\n",
              "\n",
              "            [[[[-1.31070243e+00, -1.27995204e+00,\n",
              "                -4.02924012e-01,  2.02959184e-01,\n",
              "                 2.41697213e-01],\n",
              "               [-5.84068800e-01, -4.96708256e-01,\n",
              "                -4.40897734e-01,  1.61481899e+00,\n",
              "                 2.05538285e+00]],\n",
              "\n",
              "              [[-1.46700816e+00,  6.48222832e-01,\n",
              "                 9.31452247e-01,  1.27219837e+00,\n",
              "                 1.29414599e+00],\n",
              "               [ 1.45048790e-02,  2.70932361e-01,\n",
              "                 3.57049224e-01,  9.40128564e-01,\n",
              "                 1.19243042e+00]]],\n",
              "\n",
              "\n",
              "             [[[-1.32252183e+00, -6.40923624e-01,\n",
              "                -6.14074196e-01, -5.02634828e-01,\n",
              "                 3.04637869e-01],\n",
              "               [-1.24323721e+00,  4.00054102e-01,\n",
              "                 5.56221327e-01,  6.82156005e-01,\n",
              "                 1.03837051e+00]],\n",
              "\n",
              "              [[-3.39837887e-01,  6.47743659e-02,\n",
              "                 9.78967039e-01,  1.00827086e+00,\n",
              "                 1.72984023e+00],\n",
              "               [-8.99882782e-01, -7.69736565e-01,\n",
              "                -5.38363773e-02,  1.30032446e+00,\n",
              "                 2.15161709e+00]]]]]]],\n",
              "\n",
              "\n",
              "\n",
              "\n",
              "\n",
              "\n",
              "         [[[[[[[-6.91711350e-01, -1.52348553e-01,\n",
              "                -1.50580588e-01,  1.29873170e-01,\n",
              "                 3.39759013e-01],\n",
              "               [-1.52234091e+00, -4.69053128e-01,\n",
              "                -3.29841613e-01, -6.31948129e-02,\n",
              "                 5.45153454e-01]],\n",
              "\n",
              "              [[-1.39436894e+00, -5.83419171e-02,\n",
              "                 2.42558319e-01,  2.51325002e-01,\n",
              "                 1.17903729e+00],\n",
              "               [-1.21488281e+00, -8.47869693e-01,\n",
              "                -6.20122721e-02,  4.04898621e-03,\n",
              "                 1.57730699e+00]]],\n",
              "\n",
              "\n",
              "             [[[-1.34342079e+00, -8.23685733e-01,\n",
              "                -4.05793088e-01, -1.40452185e-01,\n",
              "                 1.58039670e+00],\n",
              "               [-5.57448034e-01, -2.10894792e-01,\n",
              "                 5.14364241e-01,  5.57384864e-01,\n",
              "                 2.44784755e+00]],\n",
              "\n",
              "              [[-1.49225788e+00, -4.46232562e-01,\n",
              "                -1.33295181e-01,  1.76819523e-01,\n",
              "                 8.56258401e-01],\n",
              "               [-1.77570030e+00, -1.00893291e+00,\n",
              "                -4.73411055e-01, -2.02752240e-01,\n",
              "                 1.24328931e+00]]]],\n",
              "\n",
              "\n",
              "\n",
              "            [[[[-5.63802145e-01, -4.27185436e-01,\n",
              "                -4.10967145e-01,  2.87845688e-01,\n",
              "                 2.30443853e+00],\n",
              "               [-1.38478611e+00, -8.17969297e-01,\n",
              "                -7.40820036e-01,  2.29543774e-01,\n",
              "                 5.25485921e-01]],\n",
              "\n",
              "              [[-1.02130842e+00, -8.17492612e-01,\n",
              "                -6.11314163e-01, -4.15734983e-01,\n",
              "                -6.69760867e-03],\n",
              "               [-5.40509778e-01, -2.68510102e-01,\n",
              "                 1.92987934e-01,  2.85138766e-01,\n",
              "                 3.30828625e-01]]],\n",
              "\n",
              "\n",
              "             [[[-1.86270274e+00, -1.09569291e+00,\n",
              "                -4.20847712e-01,  2.61200926e-01,\n",
              "                 9.78712230e-01],\n",
              "               [-4.75441472e-01, -4.20278565e-01,\n",
              "                -3.24298757e-01, -7.60672890e-02,\n",
              "                -4.53876078e-04]],\n",
              "\n",
              "              [[-5.92566520e-01, -6.02506804e-02,\n",
              "                 8.07993207e-02,  6.07850550e-01,\n",
              "                 6.86683098e-01],\n",
              "               [-7.01303204e-01, -6.19787622e-01,\n",
              "                 4.28723367e-01,  9.15979952e-01,\n",
              "                 1.33022929e+00]]]]],\n",
              "\n",
              "\n",
              "\n",
              "\n",
              "           [[[[[-4.14971541e-01, -2.39366856e-01,\n",
              "                -1.91161947e-01,  7.64071597e-01,\n",
              "                 2.61649261e+00],\n",
              "               [-6.15176201e-01, -2.91095613e-01,\n",
              "                -2.24687760e-01,  8.50790911e-01,\n",
              "                 1.51281491e+00]],\n",
              "\n",
              "              [[-1.51213499e+00, -1.07896298e+00,\n",
              "                -8.63698231e-01, -1.92987323e-01,\n",
              "                 3.84865659e-01],\n",
              "               [-1.36704759e+00, -1.25905811e+00,\n",
              "                -1.05502449e+00, -9.39606047e-01,\n",
              "                -5.22048776e-02]]],\n",
              "\n",
              "\n",
              "             [[[-1.12191715e+00, -6.68668359e-01,\n",
              "                -5.20183147e-01, -1.24685452e-02,\n",
              "                 7.33337690e-01],\n",
              "               [-5.83163336e-01, -1.04411003e-01,\n",
              "                -1.11773065e-02,  3.98581527e-01,\n",
              "                 8.50484460e-01]],\n",
              "\n",
              "              [[-1.82970583e-01, -1.54072099e-02,\n",
              "                 2.98329158e-01,  3.63153582e-01,\n",
              "                 1.42957603e+00],\n",
              "               [-8.42410290e-01, -4.37591030e-01,\n",
              "                -2.33772859e-01,  6.09628332e-01,\n",
              "                 8.13148944e-01]]]],\n",
              "\n",
              "\n",
              "\n",
              "            [[[[-1.63517431e+00, -1.49755958e+00,\n",
              "                 1.28060187e+00,  1.36071297e+00,\n",
              "                 1.58617684e+00],\n",
              "               [-7.77961664e-01, -5.24587176e-01,\n",
              "                -5.56696344e-02,  5.90531968e-01,\n",
              "                 1.32247647e+00]],\n",
              "\n",
              "              [[-9.35491831e-01, -3.14340691e-01,\n",
              "                 1.25168797e-01,  3.83656861e-01,\n",
              "                 2.45614591e+00],\n",
              "               [-1.45084418e+00, -1.37976712e+00,\n",
              "                -1.03669690e+00,  7.07259138e-01,\n",
              "                 1.54179055e+00]]],\n",
              "\n",
              "\n",
              "             [[[-5.87802165e-01, -2.26073097e-01,\n",
              "                 1.43582519e-01,  4.87560411e-01,\n",
              "                 7.70880090e-01],\n",
              "               [-1.01789218e+00, -8.56005148e-01,\n",
              "                 3.89221888e-03,  1.25947307e-01,\n",
              "                 6.59745453e-01]],\n",
              "\n",
              "              [[-1.19428747e+00, -1.15337169e+00,\n",
              "                -8.96781550e-01,  7.68552717e-02,\n",
              "                 9.01693062e-01],\n",
              "               [-4.63668617e-01,  2.09940516e-02,\n",
              "                 3.80478427e-02,  6.18720864e-02,\n",
              "                 4.95421352e-01]]]]]],\n",
              "\n",
              "\n",
              "\n",
              "\n",
              "\n",
              "          [[[[[[-1.67723339e+00, -8.27750258e-01,\n",
              "                -7.44354441e-01, -2.00914311e-01,\n",
              "                 1.39171161e+00],\n",
              "               [-3.54683383e-01, -2.53661964e-01,\n",
              "                 4.64406255e-01,  5.54287471e-01,\n",
              "                 6.03259625e-01]],\n",
              "\n",
              "              [[ 5.86149839e-02,  9.23476130e-02,\n",
              "                 3.87430384e-01,  7.18763505e-01,\n",
              "                 1.11139030e+00],\n",
              "               [-8.77433207e-01, -8.48963329e-01,\n",
              "                -6.37491732e-01, -5.17694844e-01,\n",
              "                 1.04002383e-01]]],\n",
              "\n",
              "\n",
              "             [[[-1.23243033e+00, -1.38607331e-01,\n",
              "                 6.03092003e-01,  1.24256849e+00,\n",
              "                 1.99106299e+00],\n",
              "               [-3.91341662e-01, -1.87848333e-02,\n",
              "                 6.25788339e-02,  2.37698869e+00,\n",
              "                 2.40807688e+00]],\n",
              "\n",
              "              [[-1.49833232e+00, -6.27717928e-01,\n",
              "                -4.80641690e-01, -2.76548379e-01,\n",
              "                 2.58391012e-01],\n",
              "               [-2.89858288e-01, -9.77235305e-02,\n",
              "                 3.72421335e-01,  5.64913188e-01,\n",
              "                 8.30756318e-01]]]],\n",
              "\n",
              "\n",
              "\n",
              "            [[[[-9.93919984e-01, -9.59781949e-01,\n",
              "                -6.96285129e-01, -5.15873334e-01,\n",
              "                -6.00730320e-02],\n",
              "               [-4.07122714e-01,  3.23803139e-01,\n",
              "                 5.18450076e-01,  5.66473807e-01,\n",
              "                 1.26535820e+00]],\n",
              "\n",
              "              [[-2.12251706e+00, -1.39503978e+00,\n",
              "                -7.42633977e-01, -4.71940926e-01,\n",
              "                 1.01937414e-01],\n",
              "               [ 4.90537337e-01,  6.16397728e-01,\n",
              "                 1.19761752e+00,  1.59760485e+00,\n",
              "                 2.48534108e+00]]],\n",
              "\n",
              "\n",
              "             [[[-9.78556029e-01, -1.73989114e-01,\n",
              "                -6.08495382e-02,  4.24163153e-01,\n",
              "                 1.41296098e+00],\n",
              "               [-4.97953248e-01, -1.15210896e-01,\n",
              "                -7.94786162e-03,  2.08059969e-01,\n",
              "                 1.18420503e+00]],\n",
              "\n",
              "              [[-2.39515565e+00, -1.36478933e+00,\n",
              "                 5.51401389e-01,  8.21073625e-01,\n",
              "                 1.16789951e+00],\n",
              "               [-8.23499359e-01, -2.32016524e-01,\n",
              "                 5.16710753e-02,  1.40418862e-01,\n",
              "                 7.53001138e-01]]]]],\n",
              "\n",
              "\n",
              "\n",
              "\n",
              "           [[[[[-1.98665979e+00,  2.91216757e-01,\n",
              "                 4.93521906e-01,  1.07620618e+00,\n",
              "                 1.31135267e+00],\n",
              "               [-6.57895704e-01, -3.64929390e-01,\n",
              "                 1.28475267e-01,  6.04623548e-01,\n",
              "                 1.47154893e+00]],\n",
              "\n",
              "              [[-1.40747776e+00,  4.23555227e-01,\n",
              "                 6.56339228e-01,  8.55659455e-01,\n",
              "                 1.46976613e+00],\n",
              "               [-1.11013777e+00, -6.49928464e-01,\n",
              "                -1.11746326e-01,  5.91219515e-01,\n",
              "                 2.46846645e+00]]],\n",
              "\n",
              "\n",
              "             [[[-1.92994298e+00, -3.39268904e-01,\n",
              "                -1.50741072e-01,  3.46907640e-01,\n",
              "                 2.12062788e+00],\n",
              "               [-9.80013921e-01, -7.01964848e-01,\n",
              "                -8.82361355e-02,  3.10907428e-01,\n",
              "                 3.12428052e-01]],\n",
              "\n",
              "              [[-2.22304746e+00, -8.12003329e-01,\n",
              "                -5.37780736e-01, -3.66917988e-01,\n",
              "                 7.73608371e-01],\n",
              "               [-5.12487119e-01, -4.25526430e-01,\n",
              "                 4.01682168e-02,  2.11719481e-01,\n",
              "                 4.04443443e-01]]]],\n",
              "\n",
              "\n",
              "\n",
              "            [[[[-6.81734457e-01, -5.80097624e-01,\n",
              "                -3.47610560e-01,  7.84823038e-01,\n",
              "                 8.47465898e-01],\n",
              "               [-1.21484533e+00, -4.12448381e-01,\n",
              "                 1.05371769e+00,  1.36862911e+00,\n",
              "                 1.41429318e+00]],\n",
              "\n",
              "              [[-3.98431747e-02, -5.07737759e-03,\n",
              "                 2.05586190e-01,  5.73148253e-01,\n",
              "                 1.31239091e+00],\n",
              "               [-1.43435966e+00, -3.87634334e-01,\n",
              "                -2.95609676e-01,  7.10858144e-01,\n",
              "                 1.11123820e+00]]],\n",
              "\n",
              "\n",
              "             [[[ 1.25587323e-01,  4.43391865e-01,\n",
              "                 9.35608132e-01,  1.19128622e+00,\n",
              "                 1.48622438e+00],\n",
              "               [-7.62148614e-01,  1.96669204e-01,\n",
              "                 4.82715725e-01,  6.15140030e-01,\n",
              "                 2.05695441e+00]],\n",
              "\n",
              "              [[-4.48111378e-01,  2.93665170e-01,\n",
              "                 4.00443103e-01,  1.22648723e+00,\n",
              "                 2.24046041e+00],\n",
              "               [-1.13258288e+00, -1.59027617e-01,\n",
              "                 3.60547643e-01,  9.48243523e-01,\n",
              "                 1.18346991e+00]]]]]]]]]])"
            ]
          },
          "metadata": {},
          "execution_count": 85
        }
      ]
    },
    {
      "cell_type": "code",
      "source": [
        "arr2 = np.arange(100).reshape(10, 10)\n",
        "arr2 "
      ],
      "metadata": {
        "id": "Z87MGDHExoNI",
        "outputId": "818934d2-b944-4b55-9104-211321cb2806",
        "colab": {
          "base_uri": "https://localhost:8080/"
        }
      },
      "id": "Z87MGDHExoNI",
      "execution_count": 122,
      "outputs": [
        {
          "output_type": "execute_result",
          "data": {
            "text/plain": [
              "array([[ 0,  1,  2,  3,  4,  5,  6,  7,  8,  9],\n",
              "       [10, 11, 12, 13, 14, 15, 16, 17, 18, 19],\n",
              "       [20, 21, 22, 23, 24, 25, 26, 27, 28, 29],\n",
              "       [30, 31, 32, 33, 34, 35, 36, 37, 38, 39],\n",
              "       [40, 41, 42, 43, 44, 45, 46, 47, 48, 49],\n",
              "       [50, 51, 52, 53, 54, 55, 56, 57, 58, 59],\n",
              "       [60, 61, 62, 63, 64, 65, 66, 67, 68, 69],\n",
              "       [70, 71, 72, 73, 74, 75, 76, 77, 78, 79],\n",
              "       [80, 81, 82, 83, 84, 85, 86, 87, 88, 89],\n",
              "       [90, 91, 92, 93, 94, 95, 96, 97, 98, 99]])"
            ]
          },
          "metadata": {},
          "execution_count": 122
        }
      ]
    },
    {
      "cell_type": "code",
      "source": [
        "np.sort(arr2, axis=0)"
      ],
      "metadata": {
        "id": "tKBZu7BbxoSS",
        "outputId": "f91dc74b-428a-48b6-d633-b502e0ac7020",
        "colab": {
          "base_uri": "https://localhost:8080/"
        }
      },
      "id": "tKBZu7BbxoSS",
      "execution_count": 123,
      "outputs": [
        {
          "output_type": "execute_result",
          "data": {
            "text/plain": [
              "array([[ 0,  1,  2,  3,  4,  5,  6,  7,  8,  9],\n",
              "       [10, 11, 12, 13, 14, 15, 16, 17, 18, 19],\n",
              "       [20, 21, 22, 23, 24, 25, 26, 27, 28, 29],\n",
              "       [30, 31, 32, 33, 34, 35, 36, 37, 38, 39],\n",
              "       [40, 41, 42, 43, 44, 45, 46, 47, 48, 49],\n",
              "       [50, 51, 52, 53, 54, 55, 56, 57, 58, 59],\n",
              "       [60, 61, 62, 63, 64, 65, 66, 67, 68, 69],\n",
              "       [70, 71, 72, 73, 74, 75, 76, 77, 78, 79],\n",
              "       [80, 81, 82, 83, 84, 85, 86, 87, 88, 89],\n",
              "       [90, 91, 92, 93, 94, 95, 96, 97, 98, 99]])"
            ]
          },
          "metadata": {},
          "execution_count": 123
        }
      ]
    },
    {
      "cell_type": "code",
      "source": [
        "np.sort(arr2, axis=1)"
      ],
      "metadata": {
        "id": "yObbFr67y9Ce",
        "outputId": "f5504f74-eee5-470b-cfe5-bc62f27cd718",
        "colab": {
          "base_uri": "https://localhost:8080/"
        }
      },
      "id": "yObbFr67y9Ce",
      "execution_count": 125,
      "outputs": [
        {
          "output_type": "execute_result",
          "data": {
            "text/plain": [
              "array([[ 0,  1,  2,  3,  4,  5,  6,  7,  8,  9],\n",
              "       [10, 11, 12, 13, 14, 15, 16, 17, 18, 19],\n",
              "       [20, 21, 22, 23, 24, 25, 26, 27, 28, 29],\n",
              "       [30, 31, 32, 33, 34, 35, 36, 37, 38, 39],\n",
              "       [40, 41, 42, 43, 44, 45, 46, 47, 48, 49],\n",
              "       [50, 51, 52, 53, 54, 55, 56, 57, 58, 59],\n",
              "       [60, 61, 62, 63, 64, 65, 66, 67, 68, 69],\n",
              "       [70, 71, 72, 73, 74, 75, 76, 77, 78, 79],\n",
              "       [80, 81, 82, 83, 84, 85, 86, 87, 88, 89],\n",
              "       [90, 91, 92, 93, 94, 95, 96, 97, 98, 99]])"
            ]
          },
          "metadata": {},
          "execution_count": 125
        }
      ]
    },
    {
      "cell_type": "code",
      "source": [],
      "metadata": {
        "id": "LE0bfwjty9H6"
      },
      "id": "LE0bfwjty9H6",
      "execution_count": null,
      "outputs": []
    },
    {
      "cell_type": "code",
      "source": [],
      "metadata": {
        "id": "Gcd35EkAy9Qx"
      },
      "id": "Gcd35EkAy9Qx",
      "execution_count": null,
      "outputs": []
    },
    {
      "cell_type": "markdown",
      "id": "6415f02e",
      "metadata": {
        "id": "6415f02e"
      },
      "source": [
        "#### 33. Ixtiyoriy kichik massivlar yarating, ular yeg'indisini np.sum funksiyasidanda tezroq hisoblovchi dastur tuzing.\n"
      ]
    },
    {
      "cell_type": "markdown",
      "source": [
        "`💡Ishora` np.add.reduce"
      ],
      "metadata": {
        "id": "129e785f"
      },
      "id": "129e785f"
    },
    {
      "cell_type": "code",
      "source": [],
      "metadata": {
        "id": "M0Xv2bB9VYQZ"
      },
      "id": "M0Xv2bB9VYQZ",
      "execution_count": null,
      "outputs": []
    },
    {
      "cell_type": "markdown",
      "id": "b7109c9f",
      "metadata": {
        "id": "b7109c9f"
      },
      "source": [
        "#### 34. Tasodifiy qiymatlardan tashkil topgan 5 o'lchovli vektor yarating, so'ng uning eng katta qiymatini 0 raqamiga almashtiring.\n"
      ]
    },
    {
      "cell_type": "markdown",
      "source": [
        "`💡Ishora` argmax"
      ],
      "metadata": {
        "id": "89b75e6d"
      },
      "id": "89b75e6d"
    },
    {
      "cell_type": "code",
      "source": [],
      "metadata": {
        "id": "rRz1oOQfXdg6"
      },
      "id": "rRz1oOQfXdg6",
      "execution_count": null,
      "outputs": []
    },
    {
      "cell_type": "markdown",
      "id": "58be9dd4",
      "metadata": {
        "id": "58be9dd4"
      },
      "source": [
        "#### 35. [1, 2, 3, 4, 5] vektor berilgan, har bir qiymat orasiga ketma-ket 3 ta nol raqamini yozuvchi dastur tuzing.\n"
      ]
    },
    {
      "cell_type": "markdown",
      "source": [
        "`💡Ishora` array[::4]"
      ],
      "metadata": {
        "id": "9cf9e134"
      },
      "id": "9cf9e134"
    },
    {
      "cell_type": "code",
      "source": [],
      "metadata": {
        "id": "04IuJ2jaZeYu"
      },
      "id": "04IuJ2jaZeYu",
      "execution_count": null,
      "outputs": []
    },
    {
      "cell_type": "markdown",
      "id": "781fa236",
      "metadata": {
        "id": "781fa236"
      },
      "source": [
        "#### 36. Quyidagi a massiv berilgan, a = [1,2,3,4,5,6,7,8,9,10,11,12,13,14] undan foydalangan holda siz quyidagi b massivni yarata olasizmi, b = [[1,2,3,4], [2,3,4,5], [3,4,5,6], ..., [11,12,13,14]]? \n"
      ]
    },
    {
      "cell_type": "markdown",
      "source": [
        "`💡Ishora` stride_tricks.as_strided"
      ],
      "metadata": {
        "id": "82e3d17e"
      },
      "id": "82e3d17e"
    },
    {
      "cell_type": "code",
      "source": [],
      "metadata": {
        "id": "S1H6ivCua3NZ"
      },
      "id": "S1H6ivCua3NZ",
      "execution_count": null,
      "outputs": []
    },
    {
      "cell_type": "markdown",
      "id": "7d8dc135",
      "metadata": {
        "id": "7d8dc135"
      },
      "source": [
        "#### 37. Ixtiyoriy sonlardan tashkil topgan massiv yarating, unga o'xshash qiymatlar kiriting. So'ng, o'xshash qiymatlarni topuvchi dastur tuzing.\n"
      ]
    },
    {
      "cell_type": "markdown",
      "source": [
        "`💡Ishora` np.bincount, argmax"
      ],
      "metadata": {
        "id": "81844e99"
      },
      "id": "81844e99"
    },
    {
      "cell_type": "code",
      "source": [],
      "metadata": {
        "id": "SiRaNwxjbaQN"
      },
      "id": "SiRaNwxjbaQN",
      "execution_count": null,
      "outputs": []
    },
    {
      "cell_type": "markdown",
      "source": [
        "#### BONUS!\n",
        "\n",
        "`💡O'zingiz javob berishni istagan savolni kiriting va unga javob bering!`"
      ],
      "metadata": {
        "id": "URzxwwODb0m_"
      },
      "id": "URzxwwODb0m_"
    },
    {
      "cell_type": "code",
      "source": [],
      "metadata": {
        "id": "9xpR0GVrbzuk"
      },
      "id": "9xpR0GVrbzuk",
      "execution_count": null,
      "outputs": []
    }
  ],
  "metadata": {
    "hide_input": false,
    "kernelspec": {
      "display_name": "Python 3",
      "language": "python",
      "name": "python3"
    },
    "language_info": {
      "codemirror_mode": {
        "name": "ipython",
        "version": 3
      },
      "file_extension": ".py",
      "mimetype": "text/x-python",
      "name": "python",
      "nbconvert_exporter": "python",
      "pygments_lexer": "ipython3",
      "version": "3.8.8"
    },
    "toc": {
      "base_numbering": 1,
      "nav_menu": {},
      "number_sections": true,
      "sideBar": true,
      "skip_h1_title": false,
      "title_cell": "Table of Contents",
      "title_sidebar": "Contents",
      "toc_cell": false,
      "toc_position": {},
      "toc_section_display": true,
      "toc_window_display": false
    },
    "varInspector": {
      "cols": {
        "lenName": 16,
        "lenType": 16,
        "lenVar": 40
      },
      "kernels_config": {
        "python": {
          "delete_cmd_postfix": "",
          "delete_cmd_prefix": "del ",
          "library": "var_list.py",
          "varRefreshCmd": "print(var_dic_list())"
        },
        "r": {
          "delete_cmd_postfix": ") ",
          "delete_cmd_prefix": "rm(",
          "library": "var_list.r",
          "varRefreshCmd": "cat(var_dic_list()) "
        }
      },
      "types_to_exclude": [
        "module",
        "function",
        "builtin_function_or_method",
        "instance",
        "_Feature"
      ],
      "window_display": false
    },
    "colab": {
      "provenance": [],
      "include_colab_link": true
    }
  },
  "nbformat": 4,
  "nbformat_minor": 5
}